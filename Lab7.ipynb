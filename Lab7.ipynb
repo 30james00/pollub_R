{
 "cells": [
  {
   "cell_type": "markdown",
   "metadata": {},
   "source": [
    "# PEiAR Laboratorium 7\n",
    "## TESTY ZGODNOŚCI – c. d. , FUNKCJA APPLY\n",
    "### Zad. 1\n",
    "Niech wektor a przechowuje próbkę 60 liczb wygenerowanych z rozkładu Cauchy’ego z\n",
    "parametrami 0 i 1 (parametry: przesunięcia i skali, odpowiednio) natomiast wektor b – próbkę 55\n",
    "liczb wygenerowanych z rozkładu normalnego z parametrami 0 i 1 (średnia i odchylenie\n",
    "standardowe). Którego testu możemy użyć by zweryfikować hipotezę H0, że próby te (pobrane\n",
    "niezależnie) pochodzą z populacji o jednakowych rozkładach? (ks)\n"
   ]
  },
  {
   "cell_type": "markdown",
   "metadata": {},
   "source": [
    "### Zad. 2\n",
    "Zweryfikuj hipotezę H0 że pewna cecha ma rozkład dwumianowy (binom(k, n, p) w pakiecie R) z\n",
    "parametrami n=10 i p=0.4 na podstawie próby: 7, 5, 4, 3, 3, 4, 2, 3, 3, 3, 6, 5, 2, 4, 1, 4, 5. Użyj testu\n",
    "Chi kwadrat Pearsona.\n",
    "### Zad. 3\n",
    "Przeprowadzono badania dotyczące pojemności płuc (w cm3) młodzieży szkolnej w pewnym\n",
    "mieście i sąsiedniej wsi. Wyniki które otrzymano znajdują się w pliku ‘pluca.txt’ – zaimportuj dane\n",
    "do zmiennej pluca_.\n",
    "Załóżmy, że pojemność płuc jest zmienną losową o ciągłej dystrybuancie. Zweryfikuj hipotezę H0,\n",
    "że pojemności płuc młodzieży ze wsi i miast mają taki sam rozkład (przy standardowym poziomie\n",
    "istotności α=0.05, czyli poziomie ufności 0.95) - zamiast podawać `p` podajemy drugą próbę `ks.test`.\n",
    "Jaką statystykę testową wykorzystuje użyty do weryfikacji hipotezy test?\n",
    "### Zad. 4 (Funkcja apply(...))\n",
    "Wygeneruj ramkę frame_ z 5 kolumnami: A, B, C, D, E zawierającymi odpowiednio wartości:\n",
    "w kolumnie A: 1, 4, 8,\n",
    "w kolumnie B: 2, 1, -6,\n",
    "w kolumnie C: -7, 0, -3,\n",
    "w kolumnie D: 3, -2, 4\n",
    "oraz w ostatniej: 5, -9, 1.\n",
    "Utworzymy nowe kolumny o nazwach: ‘Suma’ (zwracającą sumę elementów z pięciu kolumn dla\n",
    "danego wiersza), ‘Suma(A, C, E)’ (zwracającą sumę elementów z kolumny pierwszej, trzeciej i\n",
    "piątej), ‘Max’ (zwracającą element największy spośród pięciu pierwszych kolumn w danym\n",
    "wierszu) oraz ‘MaxAbsValue’ (zwracającą maximum z wartości bezwzględnych elementów).\n",
    "Zrobimy to szybciej niż zwykle – używając funkcji apply(...). Komenda ta, aby wygenerować\n",
    "zadaną kolumnę, jako pierwszy argument przyjmuje ramkę (bądź jej część) na której ma zostać\n",
    "wykonana operacja (pewna funkcja) f, jako drugi argument przyjmuje liczbę 1 lub liczbę 2\n",
    "(jedynkę - gdy chcemy aby operacja f wykonywana była na kolejnych kolumnach przy ustalonym\n",
    "wierszu; dwójkę – gdy chcemy aby operacja f wykonana była na wierszach przy ustalonej\n",
    "kolumnie); w końcu jako trzeci argument przyjmuje nazwę samej operacji f."
   ]
  }
 ],
 "metadata": {
  "kernelspec": {
   "display_name": "R",
   "language": "R",
   "name": "ir"
  },
  "language_info": {
   "name": "R"
  },
  "orig_nbformat": 4
 },
 "nbformat": 4,
 "nbformat_minor": 2
}
