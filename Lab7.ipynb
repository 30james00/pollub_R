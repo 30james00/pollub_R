{
 "cells": [
  {
   "cell_type": "markdown",
   "metadata": {},
   "source": [
    "# PEiAR Laboratorium 7\n",
    "## TESTY ZGODNOŚCI – c. d. , FUNKCJA APPLY\n",
    "### Zad. 1\n",
    "Niech wektor a przechowuje próbkę 60 liczb wygenerowanych z rozkładu Cauchy’ego z\n",
    "parametrami 0 i 1 (parametry: przesunięcia i skali, odpowiednio) natomiast wektor b – próbkę 55\n",
    "liczb wygenerowanych z rozkładu normalnego z parametrami 0 i 1 (średnia i odchylenie\n",
    "standardowe). Którego testu możemy użyć by zweryfikować hipotezę H0, że próby te (pobrane\n",
    "niezależnie) pochodzą z populacji o jednakowych rozkładach? (ks)\n"
   ]
  },
  {
   "cell_type": "code",
   "execution_count": 1,
   "metadata": {
    "vscode": {
     "languageId": "r"
    }
   },
   "outputs": [
    {
     "data": {
      "text/plain": [
       "\n",
       "\tTwo-sample Kolmogorov-Smirnov test\n",
       "\n",
       "data:  a and b\n",
       "D = 0.18182, p-value = 0.2585\n",
       "alternative hypothesis: two-sided\n"
      ]
     },
     "metadata": {},
     "output_type": "display_data"
    }
   ],
   "source": [
    "a <- rcauchy(60, 0, 1)\n",
    "b <- rnorm(55, 0, 1)\n",
    "ks.test(a, b)"
   ]
  },
  {
   "cell_type": "markdown",
   "metadata": {},
   "source": [
    "### Zad. 2\n",
    "Zweryfikuj hipotezę H0 że pewna cecha ma rozkład dwumianowy (binom(k, n, p) w pakiecie R) z\n",
    "parametrami n=10 i p=0.4 na podstawie próby: 7, 5, 4, 3, 3, 4, 2, 3, 3, 3, 6, 5, 2, 4, 1, 4, 5. Użyj testu\n",
    "Chi kwadrat Pearsona.\n"
   ]
  },
  {
   "cell_type": "code",
   "execution_count": 6,
   "metadata": {
    "vscode": {
     "languageId": "r"
    }
   },
   "outputs": [
    {
     "ename": "ERROR",
     "evalue": "Error in chisq.test(result, p = p): 'x' and 'p' must have the same number of elements\n",
     "output_type": "error",
     "traceback": [
      "Error in chisq.test(result, p = p): 'x' and 'p' must have the same number of elements\nTraceback:\n",
      "1. chisq.test(result, p = p)",
      "2. stop(\"'x' and 'p' must have the same number of elements\")"
     ]
    }
   ],
   "source": [
    "result <- c(7, 5, 4, 3, 3, 4, 2, 3, 3, 3, 6, 5, 2, 4, 1, 4, 5)\n",
    "p <- dbinom(17, 10, 0.4)\n",
    "chisq.test(result, p = p)"
   ]
  },
  {
   "cell_type": "markdown",
   "metadata": {},
   "source": [
    "### Zad. 3\n",
    "Przeprowadzono badania dotyczące pojemności płuc (w cm3) młodzieży szkolnej w pewnym\n",
    "mieście i sąsiedniej wsi. Wyniki które otrzymano znajdują się w pliku ‘pluca.txt’ – zaimportuj dane\n",
    "do zmiennej pluca_.\n",
    "Załóżmy, że pojemność płuc jest zmienną losową o ciągłej dystrybuancie. Zweryfikuj hipotezę H0,\n",
    "że pojemności płuc młodzieży ze wsi i miast mają taki sam rozkład (przy standardowym poziomie\n",
    "istotności α=0.05, czyli poziomie ufności 0.95) - zamiast podawać `p` podajemy drugą próbę `ks.test`.\n",
    "Jaką statystykę testową wykorzystuje użyty do weryfikacji hipotezy test?\n"
   ]
  },
  {
   "cell_type": "code",
   "execution_count": 15,
   "metadata": {
    "vscode": {
     "languageId": "r"
    }
   },
   "outputs": [
    {
     "name": "stderr",
     "output_type": "stream",
     "text": [
      "Warning message in ks.test(a, b):\n",
      "\"cannot compute exact p-value with ties\"\n"
     ]
    },
    {
     "data": {
      "text/plain": [
       "\n",
       "\tTwo-sample Kolmogorov-Smirnov test\n",
       "\n",
       "data:  a and b\n",
       "D = 0.25, p-value = 0.8475\n",
       "alternative hypothesis: two-sided\n"
      ]
     },
     "metadata": {},
     "output_type": "display_data"
    }
   ],
   "source": [
    "pluca_ <- read.table('pluca.txt', header = T)\n",
    "a <- pluca_$Wies[pluca_$Wies > 0]\n",
    "b <- pluca_$Miasto[pluca_$Miasto > 0]\n",
    "ks.test(a, b)"
   ]
  },
  {
   "cell_type": "markdown",
   "metadata": {},
   "source": [
    "### Zad. 4 (Funkcja apply(...))\n",
    "Wygeneruj ramkę frame_ z 5 kolumnami: A, B, C, D, E zawierającymi odpowiednio wartości:\n",
    "w kolumnie A: 1, 4, 8,\n",
    "w kolumnie B: 2, 1, -6,\n",
    "w kolumnie C: -7, 0, -3,\n",
    "w kolumnie D: 3, -2, 4\n",
    "oraz w ostatniej: 5, -9, 1.\n",
    "Utworzymy nowe kolumny o nazwach: ‘Suma’ (zwracającą sumę elementów z pięciu kolumn dla\n",
    "danego wiersza), ‘Suma(A, C, E)’ (zwracającą sumę elementów z kolumny pierwszej, trzeciej i\n",
    "piątej), ‘Max’ (zwracającą element największy spośród pięciu pierwszych kolumn w danym\n",
    "wierszu) oraz ‘MaxAbsValue’ (zwracającą maximum z wartości bezwzględnych elementów).\n",
    "Zrobimy to szybciej niż zwykle – używając funkcji apply(...). Komenda ta, aby wygenerować\n",
    "zadaną kolumnę, jako pierwszy argument przyjmuje ramkę (bądź jej część) na której ma zostać\n",
    "wykonana operacja (pewna funkcja) f, jako drugi argument przyjmuje liczbę 1 lub liczbę 2\n",
    "(jedynkę - gdy chcemy aby operacja f wykonywana była na kolejnych kolumnach przy ustalonym\n",
    "wierszu; dwójkę – gdy chcemy aby operacja f wykonana była na wierszach przy ustalonej\n",
    "kolumnie); w końcu jako trzeci argument przyjmuje nazwę samej operacji f."
   ]
  },
  {
   "cell_type": "code",
   "execution_count": 35,
   "metadata": {
    "vscode": {
     "languageId": "r"
    }
   },
   "outputs": [
    {
     "data": {
      "text/html": [
       "<table class=\"dataframe\">\n",
       "<caption>A data.frame: 3 × 9</caption>\n",
       "<thead>\n",
       "\t<tr><th scope=col>A</th><th scope=col>B</th><th scope=col>C</th><th scope=col>D</th><th scope=col>E</th><th scope=col>Suma</th><th scope=col>SumaACE</th><th scope=col>Max</th><th scope=col>MaxAbsValue</th></tr>\n",
       "\t<tr><th scope=col>&lt;dbl&gt;</th><th scope=col>&lt;dbl&gt;</th><th scope=col>&lt;dbl&gt;</th><th scope=col>&lt;dbl&gt;</th><th scope=col>&lt;dbl&gt;</th><th scope=col>&lt;dbl&gt;</th><th scope=col>&lt;dbl&gt;</th><th scope=col>&lt;dbl&gt;</th><th scope=col>&lt;dbl&gt;</th></tr>\n",
       "</thead>\n",
       "<tbody>\n",
       "\t<tr><td>1</td><td> 2</td><td> 7</td><td> 3</td><td> 5</td><td>18</td><td>13</td><td>7</td><td>7</td></tr>\n",
       "\t<tr><td>4</td><td>-1</td><td> 0</td><td>-2</td><td>-9</td><td>-8</td><td>-5</td><td>4</td><td>9</td></tr>\n",
       "\t<tr><td>8</td><td> 6</td><td>-3</td><td> 4</td><td> 1</td><td>16</td><td> 6</td><td>8</td><td>8</td></tr>\n",
       "</tbody>\n",
       "</table>\n"
      ],
      "text/latex": [
       "A data.frame: 3 × 9\n",
       "\\begin{tabular}{lllllllll}\n",
       " A & B & C & D & E & Suma & SumaACE & Max & MaxAbsValue\\\\\n",
       " <dbl> & <dbl> & <dbl> & <dbl> & <dbl> & <dbl> & <dbl> & <dbl> & <dbl>\\\\\n",
       "\\hline\n",
       "\t 1 &  2 &  7 &  3 &  5 & 18 & 13 & 7 & 7\\\\\n",
       "\t 4 & -1 &  0 & -2 & -9 & -8 & -5 & 4 & 9\\\\\n",
       "\t 8 &  6 & -3 &  4 &  1 & 16 &  6 & 8 & 8\\\\\n",
       "\\end{tabular}\n"
      ],
      "text/markdown": [
       "\n",
       "A data.frame: 3 × 9\n",
       "\n",
       "| A &lt;dbl&gt; | B &lt;dbl&gt; | C &lt;dbl&gt; | D &lt;dbl&gt; | E &lt;dbl&gt; | Suma &lt;dbl&gt; | SumaACE &lt;dbl&gt; | Max &lt;dbl&gt; | MaxAbsValue &lt;dbl&gt; |\n",
       "|---|---|---|---|---|---|---|---|---|\n",
       "| 1 |  2 |  7 |  3 |  5 | 18 | 13 | 7 | 7 |\n",
       "| 4 | -1 |  0 | -2 | -9 | -8 | -5 | 4 | 9 |\n",
       "| 8 |  6 | -3 |  4 |  1 | 16 |  6 | 8 | 8 |\n",
       "\n"
      ],
      "text/plain": [
       "  A B  C  D  E  Suma SumaACE Max MaxAbsValue\n",
       "1 1  2  7  3  5 18   13      7   7          \n",
       "2 4 -1  0 -2 -9 -8   -5      4   9          \n",
       "3 8  6 -3  4  1 16    6      8   8          "
      ]
     },
     "metadata": {},
     "output_type": "display_data"
    }
   ],
   "source": [
    "frame_ <- data.frame(\n",
    "  A = c(1, 4, 8),\n",
    "  B = c(2, -1, 6),\n",
    "  C = c(7, 0, -3),\n",
    "  D = c(3, -2, 4),\n",
    "  E = c(5, -9, 1)\n",
    ")\n",
    "frame_ <- data.frame(\n",
    "  frame_,\n",
    "  Suma = apply(frame_, 1, sum),\n",
    "  SumaACE = apply(frame_[, c(1, 3, 5)], 1, sum),\n",
    "  Max = apply(frame_, 1, max),\n",
    "  MaxAbsValue = apply(abs(frame_), 1, max)\n",
    ")\n",
    "frame_"
   ]
  }
 ],
 "metadata": {
  "kernelspec": {
   "display_name": "R",
   "language": "R",
   "name": "ir"
  },
  "language_info": {
   "codemirror_mode": "r",
   "file_extension": ".r",
   "mimetype": "text/x-r-source",
   "name": "R",
   "pygments_lexer": "r",
   "version": "4.1.2"
  },
  "orig_nbformat": 4
 },
 "nbformat": 4,
 "nbformat_minor": 2
}
