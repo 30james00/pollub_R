{
 "cells": [
  {
   "cell_type": "markdown",
   "metadata": {},
   "source": [
    "# PEiAR Laboratorium 13 6(7).06.2022\n",
    "### Zad.1 (Testy istotności dla wariancji i średniej – powtórka...)\n",
    "Igrzyska Olimpijskie, Londyn 2012, bieg na 100m kobiet i mężczyzn:\n",
    "men:\n",
    "9.88, 9.97, 10, 10.02, 10.04, 10.06, 10.07, 10.08, 10.09, 10.09, 10.11, 10.11, 10.12, 10.13,\n",
    "10.13, 10.14, 10.16, 10.16, 10.19, 10.20, 10.21, 10.22, 10.22, 10.69, 10.90;\n",
    "women:\n",
    "10.83, 10.93, 10.94, 10.96, 10.97, 10.97, 10.99, 11, 11.01, 11.04, 11.06, 11.07, 11.07, 11.08,\n",
    "11.12, 11.13, 11.14, 11.18, 11.41, 11.43, 11.46, 11.48, 11.52, 11.56, 11.48, 11.62, 11.70, 11.86,\n",
    "11.98, 12.06, 12.35\n",
    "Zweryfikuj hipotezę H0 o równości wariancji w obu populacjach."
   ]
  },
  {
   "cell_type": "code",
   "execution_count": 1,
   "metadata": {
    "vscode": {
     "languageId": "r"
    }
   },
   "outputs": [
    {
     "data": {
      "text/plain": [
       "\n",
       "\tShapiro-Wilk normality test\n",
       "\n",
       "data:  men\n",
       "W = 0.69897, p-value = 7.06e-06\n"
      ]
     },
     "metadata": {},
     "output_type": "display_data"
    },
    {
     "data": {
      "text/plain": [
       "\n",
       "\tShapiro-Wilk normality test\n",
       "\n",
       "data:  women\n",
       "W = 0.87847, p-value = 0.002181\n"
      ]
     },
     "metadata": {},
     "output_type": "display_data"
    },
    {
     "data": {
      "text/plain": [
       "\n",
       "\tModified robust Brown-Forsythe Levene-type test based on the absolute\n",
       "\tdeviations from the median\n",
       "\n",
       "data:  frame$Time\n",
       "Test Statistic = 7.3641, p-value = 0.008911\n"
      ]
     },
     "metadata": {},
     "output_type": "display_data"
    }
   ],
   "source": [
    "library(lawstat)\n",
    "\n",
    "men <- c(9.88, 9.97, 10, 10.02, 10.04, 10.06, 10.07, 10.08, 10.09, 10.09, 10.11,\n",
    "10.11, 10.12, 10.13, 10.13, 10.14, 10.16, 10.16, 10.19, 10.20, 10.21, 10.22,\n",
    "10.22, 10.69, 10.90)\n",
    "women <- c(10.83, 10.93, 10.94, 10.96, 10.97, 10.97, 10.99, 11, 11.01, 11.04,\n",
    "11.06, 11.07, 11.07, 11.08, 11.12, 11.13, 11.14, 11.18, 11.41, 11.43, 11.46,\n",
    "11.48, 11.52, 11.56, 11.48, 11.62, 11.70, 11.86,\n",
    "11.98, 12.06, 12.35)\n",
    "\n",
    "shapiro.test(men)\n",
    "shapiro.test(women)\n",
    "\n",
    "frame <- data.frame(\n",
    "'Time' = c(men, women),\n",
    "'Flags' = c(rep(1, length(men)), rep(2, length(women))))\n",
    "\n",
    "levene.test(frame$Time, frame$Flags)"
   ]
  },
  {
   "cell_type": "markdown",
   "metadata": {},
   "source": [
    "Sporządź wykres pudełkowy\n",
    "zestawiający rozłożenie danych z obu próbek.\n",
    "Przypomnijmy:\n",
    "`boxplot(men, women, boxwex= 0.6, horizontal = T, col = ‘green’, cex.axis = 0.8, names =\n",
    "c(‘men’, ‘women’), las = 1, main = ‘bieg na 100m, Londyn 2012’)`"
   ]
  },
  {
   "cell_type": "code",
   "execution_count": 2,
   "metadata": {
    "vscode": {
     "languageId": "r"
    }
   },
   "outputs": [
    {
     "data": {
      "image/png": "[encoded data removed]",
      "text/plain": [
       "Plot with title “bieg na 100m, Londyn 2012”"
      ]
     },
     "metadata": {
      "image/png": {
       "height": 420,
       "width": 420
      }
     },
     "output_type": "display_data"
    }
   ],
   "source": [
    "boxplot(men, women, boxwex= 0.6, horizontal = T,\n",
    "col = 'blue', cex.axis = 0.8, names =\n",
    "c('men', 'women'), las = 1, main = 'bieg na 100m, Londyn 2012')"
   ]
  },
  {
   "cell_type": "markdown",
   "metadata": {},
   "source": [
    "### Zad.2\n",
    "Wykonano 5 serii doświadczalnych pewnych wyrobów, każda seria o liczności 7 sztuk przy\n",
    "zastosowaniu innej technologii.\n",
    "Tech1: 63, 39, 66, 65, 60, 43, 37\n",
    "Tech2: 35, 54, 38, 25, 24, 22, 37\n",
    "Tech3: 75, 62, 42, 43, 27, 81, 66\n",
    "Tech4: 69, 58, 40, 68, 51, 25, 23\n",
    "Tech5: 38, 32, 32, 59, 25, 38, 32\n",
    "Zweryfikuj hipotezę H0 , że wariancje badanej w populacjach cechy przy każdej technologii są takie\n",
    "same wobec hipotezy alternatywnej H1 , że wariancje te nie są identyczne"
   ]
  },
  {
   "cell_type": "code",
   "execution_count": 3,
   "metadata": {
    "vscode": {
     "languageId": "r"
    }
   },
   "outputs": [
    {
     "name": "stdout",
     "output_type": "stream",
     "text": [
      "\n",
      "\tShapiro-Wilk normality test\n",
      "\n",
      "data:  i\n",
      "W = 0.81681, p-value = 0.05983\n",
      "\n",
      "\n",
      "\tShapiro-Wilk normality test\n",
      "\n",
      "data:  i\n",
      "W = 0.89304, p-value = 0.2909\n",
      "\n",
      "\n",
      "\tShapiro-Wilk normality test\n",
      "\n",
      "data:  i\n",
      "W = 0.94551, p-value = 0.6887\n",
      "\n",
      "\n",
      "\tShapiro-Wilk normality test\n",
      "\n",
      "data:  i\n",
      "W = 0.90271, p-value = 0.3477\n",
      "\n",
      "\n",
      "\tShapiro-Wilk normality test\n",
      "\n",
      "data:  i\n",
      "W = 0.80835, p-value = 0.04949\n",
      "\n"
     ]
    }
   ],
   "source": [
    "data_ <- list(\n",
    "  c(63, 39, 66, 65, 60, 43, 37),\n",
    "  c(35, 54, 38, 25, 24, 22, 37),\n",
    "  c(75, 62, 42, 43, 27, 81, 66),\n",
    "  c(69, 58, 40, 68, 51, 25, 23),\n",
    "  c(38, 32, 32, 59, 25, 38, 32)\n",
    ")\n",
    "for (i in data_) {\n",
    "  print(shapiro.test(i))\n",
    "}\n"
   ]
  },
  {
   "cell_type": "code",
   "execution_count": 4,
   "metadata": {
    "vscode": {
     "languageId": "r"
    }
   },
   "outputs": [
    {
     "data": {
      "text/plain": [
       "\n",
       "\tFligner-Killeen test of homogeneity of variances\n",
       "\n",
       "data:  data_\n",
       "Fligner-Killeen:med chi-squared = 4.4692, df = 4, p-value = 0.3462\n"
      ]
     },
     "metadata": {},
     "output_type": "display_data"
    }
   ],
   "source": [
    "fligner.test(data_)"
   ]
  },
  {
   "cell_type": "markdown",
   "metadata": {},
   "source": [
    "Nie ma podstaw by odrzucic hipoteze o rownosci wariancji."
   ]
  },
  {
   "cell_type": "markdown",
   "metadata": {},
   "source": [
    "### Zad.3\n",
    "Roczne koszty utrzymania w 15 losowo wybranych amerykańskich publicznych koledżach (w tys.\n",
    "dolarów) przedstawiają się następująco:\n",
    "4.2, 6.1, 4.9, 8.5, 4.6, 9.1, 7.7, 6.5, 6.2, 10.2, 11.6, 10.4, 5, 10.4, 8.1\n",
    "natomiast w 10 prywatnych koledżach:\n",
    "13, 18.8, 13.2, 14.4, 17.7, 17.7, 17.6, 19.8, 16.8, 16.1\n",
    "Zweryfikuj hipotezę H0 , że średni koszt utrzymania w prywatnym koledżu jest o 10 tys. dolarów\n",
    "większy od średniego rocznego kosztu utrzymania w publicznym koledżu wobec hipotezy\n",
    "alternatywnej H1, że różnica ta jest jeszcze większa. Zakładamy że rozkłady są normalne.\n",
    "\n",
    "H0: u1+10=u2\n",
    "H1: u1+10<u2\n",
    "\n",
    "H0:s1^2=s2^2\n",
    "H1:~H0"
   ]
  },
  {
   "cell_type": "code",
   "execution_count": 5,
   "metadata": {
    "vscode": {
     "languageId": "r"
    }
   },
   "outputs": [
    {
     "name": "stderr",
     "output_type": "stream",
     "text": [
      "Loading required package: lattice\n",
      "\n",
      "Loading required package: ggplot2\n",
      "\n"
     ]
    },
    {
     "data": {
      "text/plain": [
       "\n",
       "\tF test to compare two variances\n",
       "\n",
       "data:  pub and priv\n",
       "F = 1.0936, num df = 14, denom df = 9, p-value = 0.9203\n",
       "alternative hypothesis: true ratio of variances is not equal to 1\n",
       "95 percent confidence interval:\n",
       " 0.2879463 3.5097118\n",
       "sample estimates:\n",
       "ratio of variances \n",
       "          1.093607 \n"
      ]
     },
     "metadata": {},
     "output_type": "display_data"
    },
    {
     "data": {
      "text/plain": [
       "\n",
       "\tTwo Sample t-test\n",
       "\n",
       "data:  User input summarized values for x and y\n",
       "t = 1.0894, df = 23, p-value = 0.8564\n",
       "alternative hypothesis: true difference in means is less than -10\n",
       "95 percent confidence interval:\n",
       "     -Inf -7.28089\n",
       "sample estimates:\n",
       "mean of x mean of y \n",
       " 7.566667 16.510000 \n"
      ]
     },
     "metadata": {},
     "output_type": "display_data"
    }
   ],
   "source": [
    "library(PASWR2)\n",
    "\n",
    "pub <- c(4.2, 6.1, 4.9, 8.5, 4.6, 9.1, 7.7, 6.5, 6.2, 10.2, 11.6,\n",
    "10.4, 5, 10.4, 8.1)\n",
    "priv <- c(13, 18.8, 13.2, 14.4, 17.7, 17.7, 17.6, 19.8, 16.8, 16.1)\n",
    "\n",
    "var.test(pub, priv, alternative='two.side')\n",
    "tsum.test(mean.x = mean(pub), mean.y = mean(priv),\n",
    "s.x = sd(pub), s.y = sd(priv),\n",
    "n.x = length(pub), n.y = length(priv),\n",
    "mu = -10, var.equal = T, alternative = 'less')"
   ]
  },
  {
   "cell_type": "markdown",
   "metadata": {},
   "source": [
    "### Zad.4\n",
    "Dla 7 roślin chmielu wykonano doświadczenie: zapylono jedną połowę każdej rośliny, drugą\n",
    "połowę pozostawiono niezapyloną. Plony (w gramach) przedstawiono w tabeli:\n",
    "Nr rośliny 1 2 3 4 5 6 7\n",
    "Plony po\n",
    "zapyleniu\n",
    "0.78 0.76 0.43 0.92 0.86 0.59 0.68\n",
    "Plony bez\n",
    "zapylenia\n",
    "0.21 0.62 0.42 0.29 0.30 0.60 0.14\n",
    "Czy można uznać, że zapylona część rośliny daje średnio wyższy plon niż niezapylona?\n",
    "\n",
    "h0: u1 = u2 (zapylone)\n",
    "h1: u1 < u2"
   ]
  },
  {
   "cell_type": "code",
   "execution_count": 6,
   "metadata": {
    "vscode": {
     "languageId": "r"
    }
   },
   "outputs": [
    {
     "data": {
      "text/plain": [
       "\n",
       "\tPaired t-test\n",
       "\n",
       "data:  wo and wi\n",
       "t = -3.2066, df = 6, p-value = 0.009222\n",
       "alternative hypothesis: true mean difference is less than 0\n",
       "95 percent confidence interval:\n",
       "      -Inf -0.137342\n",
       "sample estimates:\n",
       "mean difference \n",
       "     -0.3485714 \n"
      ]
     },
     "metadata": {},
     "output_type": "display_data"
    }
   ],
   "source": [
    "wi <- c(0.78, 0.76, 0.43, 0.92, 0.86, 0.59, 0.68)\n",
    "wo <- c(0.21, 0.62, 0.42, 0.29, 0.30, 0.60, 0.14)\n",
    "\n",
    "t.test(wo, wi, mu = 0, alternative = 'less', paired = T)"
   ]
  },
  {
   "cell_type": "markdown",
   "metadata": {},
   "source": [
    "#### Zad.5 (Testy istotności dla wskaźnika struktury)\n",
    "36 razy rzucono monetą A, w wyniku czego otrzymano 21 orłów (interpretowanych jako sukcesy)\n",
    "oraz 45 razy rzucono monetą B, w wyniku czego zliczono 17 orłów. Zweryfikuj hipotezę H0 , że\n",
    "moneta A jest symetryczna natomiast moneta B jest wyważona tak, że jedynie w 40% przypadków\n",
    "wypada orzeł.\n",
    "\n",
    "Testy:\n",
    "* zgodnosci\n",
    "* niezaleznosc\n",
    "* istotnosci\n",
    "  * wariancji\n",
    "  * srednich\n",
    "  * wskaznika struktury\n",
    "\n",
    "  Zakladamy, ze populacje maja rozklad binarny\n",
    "\n",
    "  prop.test(wektor liczb sukcesow w seriach, wektor liczebnosci w seriach, wektor, pawdopodobienstwa sukcesu)\n",
    "\n",
    "  h0: O1=1/2 ^ O2=0.4\n",
    "  h1: ~h0"
   ]
  },
  {
   "cell_type": "code",
   "execution_count": 7,
   "metadata": {
    "vscode": {
     "languageId": "r"
    }
   },
   "outputs": [
    {
     "data": {
      "text/plain": [
       "\n",
       "\t2-sample test for given proportions with continuity correction\n",
       "\n",
       "data:  c(21, 17) out of c(36, 45), null probabilities c(0.5, 0.4)\n",
       "X-squared = 0.71759, df = 2, p-value = 0.6985\n",
       "alternative hypothesis: two.sided\n",
       "null values:\n",
       "prop 1 prop 2 \n",
       "   0.5    0.4 \n",
       "sample estimates:\n",
       "   prop 1    prop 2 \n",
       "0.5833333 0.3777778 \n"
      ]
     },
     "metadata": {},
     "output_type": "display_data"
    }
   ],
   "source": [
    "prop.test(c(21, 17), c(36, 45), p = c(0.5, 0.4))"
   ]
  },
  {
   "cell_type": "markdown",
   "metadata": {},
   "source": [
    "### Zad.6\n",
    "Rzucono czterema różnymi monetami (pięćdziesięciogroszówką, złotówką, dwuzłotówką i\n",
    "pięciozłotówką): pierwszą 28 razy, drugą 42 razy, trzecią 60 razy i czwartą 51 razy, w wyniku czego\n",
    "otrzymano kolejno: 16 orłów, 23 orły, 35 orłów i 27 orłów. Zweryfikuj hipotezę H0 , że\n",
    "prawdopodobieństwo wyrzucenia orła dla każdej monety jest takie samo."
   ]
  },
  {
   "cell_type": "code",
   "execution_count": 8,
   "metadata": {
    "vscode": {
     "languageId": "r"
    }
   },
   "outputs": [
    {
     "data": {
      "text/plain": [
       "\n",
       "\t4-sample test for equality of proportions without continuity correction\n",
       "\n",
       "data:  c(16, 23, 35, 27) out of c(28, 42, 60, 51)\n",
       "X-squared = 0.36395, df = 3, p-value = 0.9476\n",
       "alternative hypothesis: two.sided\n",
       "sample estimates:\n",
       "   prop 1    prop 2    prop 3    prop 4 \n",
       "0.5714286 0.5476190 0.5833333 0.5294118 \n"
      ]
     },
     "metadata": {},
     "output_type": "display_data"
    }
   ],
   "source": [
    "prop.test(c(16, 23, 35, 27), c(28, 42, 60, 51))"
   ]
  },
  {
   "cell_type": "markdown",
   "metadata": {},
   "source": [
    "### Zad.7 (Funkcje: margin.table(..), prop.table(..), sweep(..))\n",
    "Wygeneruj dowolną macierz m o 4 wierszach i 5 kolumnach.\n",
    "(a) Przy użyciu funkcji margin.table(...) wygeneruj z macierzy m:\n",
    "i) wektor, którego współrzędne są sumami elementów macierzy m w kolejnych wierszach\n"
   ]
  },
  {
   "cell_type": "code",
   "execution_count": 9,
   "metadata": {
    "vscode": {
     "languageId": "r"
    }
   },
   "outputs": [
    {
     "data": {
      "text/html": [
       "<style>\n",
       ".list-inline {list-style: none; margin:0; padding: 0}\n",
       ".list-inline>li {display: inline-block}\n",
       ".list-inline>li:not(:last-child)::after {content: \"\\00b7\"; padding: 0 .5ex}\n",
       "</style>\n",
       "<ol class=list-inline><li>45</li><li>50</li><li>55</li><li>60</li></ol>\n"
      ],
      "text/latex": [
       "\\begin{enumerate*}\n",
       "\\item 45\n",
       "\\item 50\n",
       "\\item 55\n",
       "\\item 60\n",
       "\\end{enumerate*}\n"
      ],
      "text/markdown": [
       "1. 45\n",
       "2. 50\n",
       "3. 55\n",
       "4. 60\n",
       "\n",
       "\n"
      ],
      "text/plain": [
       "[1] 45 50 55 60"
      ]
     },
     "metadata": {},
     "output_type": "display_data"
    }
   ],
   "source": [
    "m <- matrix(1:20, nrow = 4, ncol = 5)\n",
    "margin.table(m, 1)"
   ]
  },
  {
   "cell_type": "markdown",
   "metadata": {},
   "source": [
    "ii) wektor, którego współrzędne są sumami elementów macierzy m w kolejnych kolumnach\n"
   ]
  },
  {
   "cell_type": "code",
   "execution_count": 10,
   "metadata": {
    "vscode": {
     "languageId": "r"
    }
   },
   "outputs": [
    {
     "data": {
      "text/html": [
       "<style>\n",
       ".list-inline {list-style: none; margin:0; padding: 0}\n",
       ".list-inline>li {display: inline-block}\n",
       ".list-inline>li:not(:last-child)::after {content: \"\\00b7\"; padding: 0 .5ex}\n",
       "</style>\n",
       "<ol class=list-inline><li>10</li><li>26</li><li>42</li><li>58</li><li>74</li></ol>\n"
      ],
      "text/latex": [
       "\\begin{enumerate*}\n",
       "\\item 10\n",
       "\\item 26\n",
       "\\item 42\n",
       "\\item 58\n",
       "\\item 74\n",
       "\\end{enumerate*}\n"
      ],
      "text/markdown": [
       "1. 10\n",
       "2. 26\n",
       "3. 42\n",
       "4. 58\n",
       "5. 74\n",
       "\n",
       "\n"
      ],
      "text/plain": [
       "[1] 10 26 42 58 74"
      ]
     },
     "metadata": {},
     "output_type": "display_data"
    }
   ],
   "source": [
    "margin.table(m, 2)"
   ]
  },
  {
   "cell_type": "markdown",
   "metadata": {},
   "source": [
    "iii) liczbę będącą sumą wszystkich elementów macierzy m\n"
   ]
  },
  {
   "cell_type": "code",
   "execution_count": 11,
   "metadata": {
    "vscode": {
     "languageId": "r"
    }
   },
   "outputs": [
    {
     "data": {
      "text/html": [
       "210"
      ],
      "text/latex": [
       "210"
      ],
      "text/markdown": [
       "210"
      ],
      "text/plain": [
       "[1] 210"
      ]
     },
     "metadata": {},
     "output_type": "display_data"
    }
   ],
   "source": [
    "margin.table(m)"
   ]
  },
  {
   "cell_type": "markdown",
   "metadata": {},
   "source": [
    "(b) Wykonując analogiczne komendy, domyśl się co zwraca funkcja prop.table(...) //proportions of\n",
    "table//\n"
   ]
  },
  {
   "cell_type": "code",
   "execution_count": 12,
   "metadata": {
    "vscode": {
     "languageId": "r"
    }
   },
   "outputs": [
    {
     "data": {
      "text/html": [
       "<table class=\"dataframe\">\n",
       "<caption>A matrix: 4 × 5 of type dbl</caption>\n",
       "<tbody>\n",
       "\t<tr><td>0.004761905</td><td>0.02380952</td><td>0.04285714</td><td>0.06190476</td><td>0.08095238</td></tr>\n",
       "\t<tr><td>0.009523810</td><td>0.02857143</td><td>0.04761905</td><td>0.06666667</td><td>0.08571429</td></tr>\n",
       "\t<tr><td>0.014285714</td><td>0.03333333</td><td>0.05238095</td><td>0.07142857</td><td>0.09047619</td></tr>\n",
       "\t<tr><td>0.019047619</td><td>0.03809524</td><td>0.05714286</td><td>0.07619048</td><td>0.09523810</td></tr>\n",
       "</tbody>\n",
       "</table>\n"
      ],
      "text/latex": [
       "A matrix: 4 × 5 of type dbl\n",
       "\\begin{tabular}{lllll}\n",
       "\t 0.004761905 & 0.02380952 & 0.04285714 & 0.06190476 & 0.08095238\\\\\n",
       "\t 0.009523810 & 0.02857143 & 0.04761905 & 0.06666667 & 0.08571429\\\\\n",
       "\t 0.014285714 & 0.03333333 & 0.05238095 & 0.07142857 & 0.09047619\\\\\n",
       "\t 0.019047619 & 0.03809524 & 0.05714286 & 0.07619048 & 0.09523810\\\\\n",
       "\\end{tabular}\n"
      ],
      "text/markdown": [
       "\n",
       "A matrix: 4 × 5 of type dbl\n",
       "\n",
       "| 0.004761905 | 0.02380952 | 0.04285714 | 0.06190476 | 0.08095238 |\n",
       "| 0.009523810 | 0.02857143 | 0.04761905 | 0.06666667 | 0.08571429 |\n",
       "| 0.014285714 | 0.03333333 | 0.05238095 | 0.07142857 | 0.09047619 |\n",
       "| 0.019047619 | 0.03809524 | 0.05714286 | 0.07619048 | 0.09523810 |\n",
       "\n"
      ],
      "text/plain": [
       "     [,1]        [,2]       [,3]       [,4]       [,5]      \n",
       "[1,] 0.004761905 0.02380952 0.04285714 0.06190476 0.08095238\n",
       "[2,] 0.009523810 0.02857143 0.04761905 0.06666667 0.08571429\n",
       "[3,] 0.014285714 0.03333333 0.05238095 0.07142857 0.09047619\n",
       "[4,] 0.019047619 0.03809524 0.05714286 0.07619048 0.09523810"
      ]
     },
     "metadata": {},
     "output_type": "display_data"
    },
    {
     "data": {
      "text/html": [
       "<table class=\"dataframe\">\n",
       "<caption>A matrix: 4 × 5 of type dbl</caption>\n",
       "<tbody>\n",
       "\t<tr><td>0.02222222</td><td>0.1111111</td><td>0.2</td><td>0.2888889</td><td>0.3777778</td></tr>\n",
       "\t<tr><td>0.04000000</td><td>0.1200000</td><td>0.2</td><td>0.2800000</td><td>0.3600000</td></tr>\n",
       "\t<tr><td>0.05454545</td><td>0.1272727</td><td>0.2</td><td>0.2727273</td><td>0.3454545</td></tr>\n",
       "\t<tr><td>0.06666667</td><td>0.1333333</td><td>0.2</td><td>0.2666667</td><td>0.3333333</td></tr>\n",
       "</tbody>\n",
       "</table>\n"
      ],
      "text/latex": [
       "A matrix: 4 × 5 of type dbl\n",
       "\\begin{tabular}{lllll}\n",
       "\t 0.02222222 & 0.1111111 & 0.2 & 0.2888889 & 0.3777778\\\\\n",
       "\t 0.04000000 & 0.1200000 & 0.2 & 0.2800000 & 0.3600000\\\\\n",
       "\t 0.05454545 & 0.1272727 & 0.2 & 0.2727273 & 0.3454545\\\\\n",
       "\t 0.06666667 & 0.1333333 & 0.2 & 0.2666667 & 0.3333333\\\\\n",
       "\\end{tabular}\n"
      ],
      "text/markdown": [
       "\n",
       "A matrix: 4 × 5 of type dbl\n",
       "\n",
       "| 0.02222222 | 0.1111111 | 0.2 | 0.2888889 | 0.3777778 |\n",
       "| 0.04000000 | 0.1200000 | 0.2 | 0.2800000 | 0.3600000 |\n",
       "| 0.05454545 | 0.1272727 | 0.2 | 0.2727273 | 0.3454545 |\n",
       "| 0.06666667 | 0.1333333 | 0.2 | 0.2666667 | 0.3333333 |\n",
       "\n"
      ],
      "text/plain": [
       "     [,1]       [,2]      [,3] [,4]      [,5]     \n",
       "[1,] 0.02222222 0.1111111 0.2  0.2888889 0.3777778\n",
       "[2,] 0.04000000 0.1200000 0.2  0.2800000 0.3600000\n",
       "[3,] 0.05454545 0.1272727 0.2  0.2727273 0.3454545\n",
       "[4,] 0.06666667 0.1333333 0.2  0.2666667 0.3333333"
      ]
     },
     "metadata": {},
     "output_type": "display_data"
    },
    {
     "data": {
      "text/html": [
       "<table class=\"dataframe\">\n",
       "<caption>A matrix: 4 × 5 of type dbl</caption>\n",
       "<tbody>\n",
       "\t<tr><td>0.1</td><td>0.1923077</td><td>0.2142857</td><td>0.2241379</td><td>0.2297297</td></tr>\n",
       "\t<tr><td>0.2</td><td>0.2307692</td><td>0.2380952</td><td>0.2413793</td><td>0.2432432</td></tr>\n",
       "\t<tr><td>0.3</td><td>0.2692308</td><td>0.2619048</td><td>0.2586207</td><td>0.2567568</td></tr>\n",
       "\t<tr><td>0.4</td><td>0.3076923</td><td>0.2857143</td><td>0.2758621</td><td>0.2702703</td></tr>\n",
       "</tbody>\n",
       "</table>\n"
      ],
      "text/latex": [
       "A matrix: 4 × 5 of type dbl\n",
       "\\begin{tabular}{lllll}\n",
       "\t 0.1 & 0.1923077 & 0.2142857 & 0.2241379 & 0.2297297\\\\\n",
       "\t 0.2 & 0.2307692 & 0.2380952 & 0.2413793 & 0.2432432\\\\\n",
       "\t 0.3 & 0.2692308 & 0.2619048 & 0.2586207 & 0.2567568\\\\\n",
       "\t 0.4 & 0.3076923 & 0.2857143 & 0.2758621 & 0.2702703\\\\\n",
       "\\end{tabular}\n"
      ],
      "text/markdown": [
       "\n",
       "A matrix: 4 × 5 of type dbl\n",
       "\n",
       "| 0.1 | 0.1923077 | 0.2142857 | 0.2241379 | 0.2297297 |\n",
       "| 0.2 | 0.2307692 | 0.2380952 | 0.2413793 | 0.2432432 |\n",
       "| 0.3 | 0.2692308 | 0.2619048 | 0.2586207 | 0.2567568 |\n",
       "| 0.4 | 0.3076923 | 0.2857143 | 0.2758621 | 0.2702703 |\n",
       "\n"
      ],
      "text/plain": [
       "     [,1] [,2]      [,3]      [,4]      [,5]     \n",
       "[1,] 0.1  0.1923077 0.2142857 0.2241379 0.2297297\n",
       "[2,] 0.2  0.2307692 0.2380952 0.2413793 0.2432432\n",
       "[3,] 0.3  0.2692308 0.2619048 0.2586207 0.2567568\n",
       "[4,] 0.4  0.3076923 0.2857143 0.2758621 0.2702703"
      ]
     },
     "metadata": {},
     "output_type": "display_data"
    }
   ],
   "source": [
    "prop.table(m)\n",
    "prop.table(m, 1)\n",
    "prop.table(m, 2)"
   ]
  },
  {
   "cell_type": "markdown",
   "metadata": {},
   "source": [
    "(c) Przy użyciu funkcji sweep(...), od elementów pierwszego wiersza macierzy m odejmij liczbę 7,\n",
    "od elementów drugiego wiersza odejmij liczbę 3, od elementów trzeciego – liczbę 5, natomiast do\n",
    "elementów czwartego wiersza dodaj liczbę10\n"
   ]
  },
  {
   "cell_type": "code",
   "execution_count": 13,
   "metadata": {
    "vscode": {
     "languageId": "r"
    }
   },
   "outputs": [
    {
     "data": {
      "text/html": [
       "<table class=\"dataframe\">\n",
       "<caption>A matrix: 4 × 5 of type dbl</caption>\n",
       "<tbody>\n",
       "\t<tr><td>-6</td><td>-2</td><td> 2</td><td> 6</td><td>10</td></tr>\n",
       "\t<tr><td>-1</td><td> 3</td><td> 7</td><td>11</td><td>15</td></tr>\n",
       "\t<tr><td>-2</td><td> 2</td><td> 6</td><td>10</td><td>14</td></tr>\n",
       "\t<tr><td>14</td><td>18</td><td>22</td><td>26</td><td>30</td></tr>\n",
       "</tbody>\n",
       "</table>\n"
      ],
      "text/latex": [
       "A matrix: 4 × 5 of type dbl\n",
       "\\begin{tabular}{lllll}\n",
       "\t -6 & -2 &  2 &  6 & 10\\\\\n",
       "\t -1 &  3 &  7 & 11 & 15\\\\\n",
       "\t -2 &  2 &  6 & 10 & 14\\\\\n",
       "\t 14 & 18 & 22 & 26 & 30\\\\\n",
       "\\end{tabular}\n"
      ],
      "text/markdown": [
       "\n",
       "A matrix: 4 × 5 of type dbl\n",
       "\n",
       "| -6 | -2 |  2 |  6 | 10 |\n",
       "| -1 |  3 |  7 | 11 | 15 |\n",
       "| -2 |  2 |  6 | 10 | 14 |\n",
       "| 14 | 18 | 22 | 26 | 30 |\n",
       "\n"
      ],
      "text/plain": [
       "     [,1] [,2] [,3] [,4] [,5]\n",
       "[1,] -6   -2    2    6   10  \n",
       "[2,] -1    3    7   11   15  \n",
       "[3,] -2    2    6   10   14  \n",
       "[4,] 14   18   22   26   30  "
      ]
     },
     "metadata": {},
     "output_type": "display_data"
    }
   ],
   "source": [
    "sweep(m, 1, c(-7, -3, -5, 10), \"+\")"
   ]
  },
  {
   "cell_type": "markdown",
   "metadata": {},
   "source": [
    "(d) Przy użyciu sweep(...), elementy pierwszej kolumny macierzy m pozostaw bez zmian, elementy\n",
    "drugiej – przemnóż przez 2, elementy trzeciej przemnóż przez 5, elementy czwartej wyzeruj,\n",
    "natomiast elementy ostatniej kolumny podziel przez 100.\n"
   ]
  },
  {
   "cell_type": "code",
   "execution_count": 14,
   "metadata": {
    "vscode": {
     "languageId": "r"
    }
   },
   "outputs": [
    {
     "data": {
      "text/html": [
       "<table class=\"dataframe\">\n",
       "<caption>A matrix: 4 × 5 of type dbl</caption>\n",
       "<tbody>\n",
       "\t<tr><td>1</td><td>10</td><td>45</td><td>0</td><td>0.17</td></tr>\n",
       "\t<tr><td>2</td><td>12</td><td>50</td><td>0</td><td>0.18</td></tr>\n",
       "\t<tr><td>3</td><td>14</td><td>55</td><td>0</td><td>0.19</td></tr>\n",
       "\t<tr><td>4</td><td>16</td><td>60</td><td>0</td><td>0.20</td></tr>\n",
       "</tbody>\n",
       "</table>\n"
      ],
      "text/latex": [
       "A matrix: 4 × 5 of type dbl\n",
       "\\begin{tabular}{lllll}\n",
       "\t 1 & 10 & 45 & 0 & 0.17\\\\\n",
       "\t 2 & 12 & 50 & 0 & 0.18\\\\\n",
       "\t 3 & 14 & 55 & 0 & 0.19\\\\\n",
       "\t 4 & 16 & 60 & 0 & 0.20\\\\\n",
       "\\end{tabular}\n"
      ],
      "text/markdown": [
       "\n",
       "A matrix: 4 × 5 of type dbl\n",
       "\n",
       "| 1 | 10 | 45 | 0 | 0.17 |\n",
       "| 2 | 12 | 50 | 0 | 0.18 |\n",
       "| 3 | 14 | 55 | 0 | 0.19 |\n",
       "| 4 | 16 | 60 | 0 | 0.20 |\n",
       "\n"
      ],
      "text/plain": [
       "     [,1] [,2] [,3] [,4] [,5]\n",
       "[1,] 1    10   45   0    0.17\n",
       "[2,] 2    12   50   0    0.18\n",
       "[3,] 3    14   55   0    0.19\n",
       "[4,] 4    16   60   0    0.20"
      ]
     },
     "metadata": {},
     "output_type": "display_data"
    }
   ],
   "source": [
    "sweep(m, 2, c(1, 2, 5, 0, 0.01), \"*\")"
   ]
  },
  {
   "cell_type": "markdown",
   "metadata": {},
   "source": [
    "### Zad.8 (Przedziały ufności)\n",
    "Napisz funkcję puNorm(n, k, m, s), która dla zadanych parametrów generuje n próbek k -\n",
    "elementowych i rysuje przedziały ufności dla każdej próbki (chodzi o przedziały ufności dla\n",
    "nieznanego parametru wartości oczekiwanej).\n",
    "Liczby generowane są z rozkładu normalnego o średniej m i odchyleniu standardowym s.\n",
    "Sprawdź działanie funkcji dla n = 50, m = 100, s = 16 oraz\n",
    "(a) k = 9\n",
    "(b) k = 15\n",
    "(c) k = 30\n",
    "(d) k = 90.\n",
    "Wskazówka.: użyj dedykowanej do ilustrowania przedziałów ufności funkcji\n",
    "```\n",
    "plotCI(\n",
    "wektor od 1 do liczba_próbek,\n",
    "wektor obliczonych na podstawie prób wartości estymowanego parametru,\n",
    "ui = ..wektor górnych krańców przedziałów ufności..,\n",
    "li = ..wektor dolnych krańców przedziałów ufności..,\n",
    "las = 1,\n",
    "xlab =’...’,\n",
    "ylab =’...’,\n",
    "ylim =c(m – 2*s, m + 2*s),\n",
    "main = ‘...’,\n",
    "xaxt=’n’)\n",
    "```\n",
    "z paczki ‘gplots’.\n",
    "Co możemy regulować dodatkowym atrybutem sfrac przyjmującym ułamkowe wartości\n",
    "numeryczne?"
   ]
  }
 ],
 "metadata": {
  "kernelspec": {
   "display_name": "R",
   "language": "R",
   "name": "ir"
  },
  "language_info": {
   "codemirror_mode": "r",
   "file_extension": ".r",
   "mimetype": "text/x-r-source",
   "name": "R",
   "pygments_lexer": "r",
   "version": "4.2.0"
  },
  "orig_nbformat": 4
 },
 "nbformat": 4,
 "nbformat_minor": 2
}
