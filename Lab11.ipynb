{
 "cells": [
  {
   "cell_type": "markdown",
   "metadata": {},
   "source": [
    "# PEiAR Laboratorium 11\n",
    "## Zad.1 (Błądzenie losowe – c.d.)\n",
    "Zilustruj ścieżkę dla błądzenia losowego po 50 krokach. Ustaw typ ramki wykresu (atrybut pty) na\n",
    "kwadratowy. Typ samego wykresu (atrybut type) ustaw na ‘o’ tak by widoczna była łamana (ślad\n",
    "drogi partykuły) a nie same tylko punkty (jak w przypadku wykresu typu ‘p’).\n",
    "Zakres wartości dla obu osi ustaw na przedział od -10 do +10 natomiast parametrowi cex nadaj\n",
    "wartość 0.3.\n"
   ]
  },
  {
   "cell_type": "markdown",
   "metadata": {},
   "source": [
    "## Zad.2 (Trójwymiarowy wykres kołowy...)\n",
    "Wygeneruj ramkę Polska z kolumnami:\n",
    "Województwo (dolnośląskie, kujawsko-pomorskie, lubelskie, lubuskie, łódzkie, małopolskie,\n",
    "mazowieckie),\n",
    "Powierzchnia (19947, 17972, 25122, 13988, 18219, 15183, 35558) // tys. km2\n",
    "//,\n",
    "Ludność (2.9, 2.1, 2.1, 1.0, 2.5, 3.4, 5.4) // to w mln //,\n",
    "LiczbaMiast (91, 52, 48, 43, 46, 62, 89).\n",
    "Uwaga: używając polecenia summary(...nazwa ramki...) dostajemy zgrabne podsumowanie dla\n",
    "każdej z kolumn ramki danych.\n",
    "Do ramki Polska dodaj trzy kolumny: PowierzchniaProcentowo, LudnośćProcentowo oraz\n",
    "LiczbaMiastProcentowo. Możemy to zrobić w następujący sposób:\n",
    "> Polska$’PowierzchniaProcentowo’ = percent(round(Powierzchnia / sum(Powierzchnia), 2))\n",
    "Co określa ostatni parametr?\n",
    "Polecenie percent(..) ustawiające format procentowy jest możliwe jedynie po załadowaniu paczki\n",
    "‘scales’ (powinna być domyślnie zainstalowana ale nie załadowana).\n",
    "Analogicznie dołącz pozostałe dwie kolumny.\n",
    "Chcemy wygenerować trójwymiarowy wykres kołowy. Potrzebujemy paczki ‘plotrix’. Załącz\n",
    "ramkę Polska do bieżącej sesji i wygeneruj wykres kołowy:\n",
    "> pie3D(Powierzchnia, radius = 0.96, theta = 0.9, main = ‘Województwa, powierzchnia’,cex.main\n",
    "= 1.2, col = rainbow(length(Powierzchnia)), labels = PowierzchniaProcentowo, labelcex = 0.7,\n",
    "explode = 0.06, mar = c(4, 0, 4, 6))\n",
    "I dodaj jeszcze legendę:\n",
    "> legend(1.2 1.2+, Województwo, cex = 0.7, title = ‘województwo’,\n",
    "fill=rainbow(length(Powierzchnia)), xpd = T)\n",
    "Podobne wykresy wykonaj dla LudnościProcentowo i LiczbyMiastProcentowo.\n"
   ]
  },
  {
   "cell_type": "markdown",
   "metadata": {},
   "source": [
    "## Zad.3 (Testy istotności dla dwóch wariancji)\n",
    "Pobrano próbki stężenia trującego gazu w powietrzu w miastach dwóch województw i otrzymano\n",
    "następujące wyniki:\n",
    "dolnośląskie: 122, 98, 101, 74, 94, 130, 121, 128, 69, 92, 133, 105, 89, 93,\n",
    "mazowieckie: 99, 102, 84, 77, 84, 138, 112, 72, 67, 93, 100, 124, 120, 88, 75, 95, 109, 80, 114.\n",
    "Zweryfikuj:\n",
    "a) hipotezę H0, że poziomy stężeń szkodliwego gazu w obu województwach są jednakowo\n",
    "zróżnicowane wobec hipotezy alternatywnej H1 orzekającej, że zróżnicowanie poziomu\n",
    "szkodliwego gazu jest większe w woj. dolnośląskim, przyjmując poziom ufności 0.90\n",
    "b) hipotezę H0, że poziom stężenia szkodliwego gazu jest 4-krotnie większy w woj. dolnośląskim\n",
    "wobec hipotezy alternatywnej H1 orzekającej, że zróżnicowanie poziomu szkodliwego gazu nie jest\n",
    "4-krotnie większe w woj. dolnośląskim, na poziomie ufności 0.99.\n",
    "Jaką statystykę testową wykorzystuje test, którego użyjesz?"
   ]
  },
  {
   "cell_type": "code",
   "execution_count": 2,
   "metadata": {
    "vscode": {
     "languageId": "r"
    }
   },
   "outputs": [],
   "source": [
    "dolno_ <- c(122, 98, 101, 74, 94, 130, 121, 128, 69, 92, 133, 105, 89, 93)\n",
    "maz_ <- c(99, 102, 84, 77, 84, 138, 112, 72, 67, 93, 100, 124, 120, 88, 75,\n",
    " 95, 109, 80, 114)"
   ]
  },
  {
   "cell_type": "markdown",
   "metadata": {},
   "source": [
    "Zad.4\n",
    "Zmierzono (przy użyciu specjalnie przygotowanego algorytmu) poziom zadowolenia klientów\n",
    "dwóch salonów samochodowych z użytkowania aut dwóch luksusowych marek. Otrzymano wyniki\n",
    "(w ‘Wow’ach na tydzień):\n",
    "dla I marki: 47, 75, 98, 23, 19, 35, 64, 57, 86, 91, 47, 86, 46, 57, 38, 86, 59, 66, 75\n",
    "dla II marki: 83, 46, 33, 67, 46, 46, 11, 46, 87, 46, 46, 46, 33, 46, 23, 46.\n",
    "Zweryfikuj hipotezę, że poziom zadowolenia klientów obu marek samochodów jest jednakowo\n",
    "zróżnicowany wobec hipotezy alternatywnej, że tak nie jest. Jakiego testu użyjesz i dlaczego?\n"
   ]
  },
  {
   "cell_type": "markdown",
   "metadata": {},
   "source": [
    "## Zad.5 (Testy istotności dla wielu wariancji)\n",
    "Zmierzono poziom spalania benzyny (w litrach na 100 km) w pewnej grupie samochodów < 5 -\n",
    "letnich, 5 <...< 10-letnich, 10 <...< 20 - letnich i mających więcej niż 20 lat. Otrzymano wyniki\n",
    "odpowiednio:\n",
    "5.5, 4.8, 5.0, 4.7, 5.4, 6.2, 4.4, 6.1, 5.9, 6.0;\n",
    "6.7, 7.0, 6.4, 5.9, 6.8, 7.1, 7.0, 7.6, 6.8, 8.1, 6.8, 5.7;\n",
    "8.9, 9.3, 8.5, 9.0, 8.8, 10.0, 9.9, 10.2;\n",
    "12.4, 13.0, 10.5, 13.4, 12.6, 12.0, 14.0, 12.5, 13.1, 14.0, 10.8, 10.9, 11.0\n",
    "Zweryfikuj hipotezę H0 dotyczącą równości wariancji rozkładów spalania w grupach, z których\n",
    "pobrano próby. wobec hipotezy alternatywnej, że wariancje nie są jednakowe.\n",
    "W ostatniej próbce zmień ostatnią wartość spalania z11 litrów na 1 litr. Jakiego testu trzeba teraz\n",
    "użyć aby zweryfikować hipotezę H0 ? (Fligner-Killeen)\n",
    "\n",
    "proby poszczegolne przechodza test shapiro -> bartlett.test\n",
    "proby poszczegolne nie przechodz test shapiro -> flinger.test\n"
   ]
  },
  {
   "cell_type": "code",
   "execution_count": 8,
   "metadata": {
    "vscode": {
     "languageId": "r"
    }
   },
   "outputs": [
    {
     "data": {
      "text/plain": [
       "\n",
       "\tShapiro-Wilk normality test\n",
       "\n",
       "data:  a\n",
       "W = 0.92504, p-value = 0.4009\n"
      ]
     },
     "metadata": {},
     "output_type": "display_data"
    },
    {
     "data": {
      "text/plain": [
       "\n",
       "\tShapiro-Wilk normality test\n",
       "\n",
       "data:  b\n",
       "W = 0.95038, p-value = 0.6426\n"
      ]
     },
     "metadata": {},
     "output_type": "display_data"
    },
    {
     "data": {
      "text/plain": [
       "\n",
       "\tShapiro-Wilk normality test\n",
       "\n",
       "data:  c\n",
       "W = 0.91618, p-value = 0.3996\n"
      ]
     },
     "metadata": {},
     "output_type": "display_data"
    },
    {
     "data": {
      "text/plain": [
       "\n",
       "\tShapiro-Wilk normality test\n",
       "\n",
       "data:  d\n",
       "W = 0.92514, p-value = 0.294\n"
      ]
     },
     "metadata": {},
     "output_type": "display_data"
    },
    {
     "data": {
      "text/plain": [
       "\n",
       "\tBartlett test of homogeneity of variances\n",
       "\n",
       "data:  e\n",
       "Bartlett's K-squared = 6.9191, df = 3, p-value = 0.07452\n"
      ]
     },
     "metadata": {},
     "output_type": "display_data"
    }
   ],
   "source": [
    "a <- c(5.5, 4.8, 5.0, 4.7, 5.4, 6.2, 4.4, 6.1, 5.9, 6.0)\n",
    "b <- c(6.7, 7.0, 6.4, 5.9, 6.8, 7.1, 7.0, 7.6, 6.8, 8.1, 6.8, 5.7)\n",
    "c <- c(8.9, 9.3, 8.5, 9.0, 8.8, 10.0, 9.9, 10.2)\n",
    "d <- c(12.4, 13.0, 10.5, 13.4, 12.6, 12.0, 14.0, 12.5, 13.1, 14.0,\n",
    "  10.8, 10.9, 11.0)\n",
    "e <- list(a, b, c, d)\n",
    "\n",
    "shapiro.test(a)\n",
    "shapiro.test(b)\n",
    "shapiro.test(c)\n",
    "shapiro.test(d)\n",
    "\n",
    "bartlett.test(e)"
   ]
  }
 ],
 "metadata": {
  "kernelspec": {
   "display_name": "R",
   "language": "R",
   "name": "ir"
  },
  "language_info": {
   "codemirror_mode": "r",
   "file_extension": ".r",
   "mimetype": "text/x-r-source",
   "name": "R",
   "pygments_lexer": "r",
   "version": "4.2.0"
  },
  "orig_nbformat": 4
 },
 "nbformat": 4,
 "nbformat_minor": 2
}
