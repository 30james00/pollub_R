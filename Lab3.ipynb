{
 "cells": [
  {
   "cell_type": "markdown",
   "metadata": {},
   "source": [
    "# PEiAR - Laboratorium 3"
   ]
  },
  {
   "cell_type": "markdown",
   "metadata": {},
   "source": [
    "## RAMKA DANYCH ( = data_frame )"
   ]
  },
  {
   "cell_type": "markdown",
   "metadata": {},
   "source": [
    "### Zad.1"
   ]
  },
  {
   "cell_type": "markdown",
   "metadata": {},
   "source": [
    "Używając funkcji data.frame(...) - której argumentami są nazwy kolejnych kolumn przyrównane do wektora wartości jakie odpowiednia kolumna ma przyjmować - utwórz ramkę dane_ posiadającą\n",
    "kolumny:  \n",
    "‘Lp’ o zawartości 1, 2, 3, 4, 5, 6, 7, 8, 9, 10;  \n",
    "‘Wiek’ o zawartości 18, 27, 41, 19, 68, 33, 29, 20, 42, 40  \n",
    "oraz ‘Odpowiedź’ o zawartości ‘T’, ‘N’, ‘N’, ‘T’, ‘T’, ‘N’, ‘N’, ‘N’, ‘T’, ‘T’.  \n",
    "Wywołaj ramkę dane_."
   ]
  },
  {
   "cell_type": "code",
   "execution_count": 292,
   "metadata": {
    "vscode": {
     "languageId": "r"
    }
   },
   "outputs": [
    {
     "data": {
      "text/html": [
       "<table class=\"dataframe\">\n",
       "<caption>A data.frame: 10 × 3</caption>\n",
       "<thead>\n",
       "\t<tr><th scope=col>Lp</th><th scope=col>Wiek</th><th scope=col>Odpowiedz</th></tr>\n",
       "\t<tr><th scope=col>&lt;int&gt;</th><th scope=col>&lt;int&gt;</th><th scope=col>&lt;chr&gt;</th></tr>\n",
       "</thead>\n",
       "<tbody>\n",
       "\t<tr><td> 1</td><td>48</td><td>N</td></tr>\n",
       "\t<tr><td> 2</td><td>34</td><td>T</td></tr>\n",
       "\t<tr><td> 3</td><td>30</td><td>T</td></tr>\n",
       "\t<tr><td> 4</td><td>31</td><td>N</td></tr>\n",
       "\t<tr><td> 5</td><td>39</td><td>T</td></tr>\n",
       "\t<tr><td> 6</td><td>13</td><td>T</td></tr>\n",
       "\t<tr><td> 7</td><td>52</td><td>T</td></tr>\n",
       "\t<tr><td> 8</td><td>45</td><td>N</td></tr>\n",
       "\t<tr><td> 9</td><td>14</td><td>N</td></tr>\n",
       "\t<tr><td>10</td><td>53</td><td>T</td></tr>\n",
       "</tbody>\n",
       "</table>\n"
      ],
      "text/latex": [
       "A data.frame: 10 × 3\n",
       "\\begin{tabular}{lll}\n",
       " Lp & Wiek & Odpowiedz\\\\\n",
       " <int> & <int> & <chr>\\\\\n",
       "\\hline\n",
       "\t  1 & 48 & N\\\\\n",
       "\t  2 & 34 & T\\\\\n",
       "\t  3 & 30 & T\\\\\n",
       "\t  4 & 31 & N\\\\\n",
       "\t  5 & 39 & T\\\\\n",
       "\t  6 & 13 & T\\\\\n",
       "\t  7 & 52 & T\\\\\n",
       "\t  8 & 45 & N\\\\\n",
       "\t  9 & 14 & N\\\\\n",
       "\t 10 & 53 & T\\\\\n",
       "\\end{tabular}\n"
      ],
      "text/markdown": [
       "\n",
       "A data.frame: 10 × 3\n",
       "\n",
       "| Lp &lt;int&gt; | Wiek &lt;int&gt; | Odpowiedz &lt;chr&gt; |\n",
       "|---|---|---|\n",
       "|  1 | 48 | N |\n",
       "|  2 | 34 | T |\n",
       "|  3 | 30 | T |\n",
       "|  4 | 31 | N |\n",
       "|  5 | 39 | T |\n",
       "|  6 | 13 | T |\n",
       "|  7 | 52 | T |\n",
       "|  8 | 45 | N |\n",
       "|  9 | 14 | N |\n",
       "| 10 | 53 | T |\n",
       "\n"
      ],
      "text/plain": [
       "   Lp Wiek Odpowiedz\n",
       "1   1 48   N        \n",
       "2   2 34   T        \n",
       "3   3 30   T        \n",
       "4   4 31   N        \n",
       "5   5 39   T        \n",
       "6   6 13   T        \n",
       "7   7 52   T        \n",
       "8   8 45   N        \n",
       "9   9 14   N        \n",
       "10 10 53   T        "
      ]
     },
     "metadata": {},
     "output_type": "display_data"
    }
   ],
   "source": [
    "dane_ <- data.frame(\n",
    "'Lp' = 1:10,\n",
    "'Wiek' = sample(10:60, 10),\n",
    "'Odpowiedz' = sample(c('T', 'N'), 10, T))\n",
    "dane_"
   ]
  },
  {
   "cell_type": "markdown",
   "metadata": {},
   "source": [
    "Utwórz na dysku lokalnym nowy dokument tekstowy (plik z rozszerzeniem .txt) i wygeneruj w nim\n",
    "‘na piechotę’ (tj. używając spacji i enter’ów) tabelkę taką jak powyżej. Zaimportuj do R’a\n",
    "utworzony plik używając funkcji read.table(..nazwa pliku z rozszerzeniem.., header=TRUE).\n",
    "// np. imported_ = read.table(...)\n",
    "Wywołaj tą zmienną. Zwróć kolumnę Lp, potem kolumnę Wiek. W końcu zwróć dwa pierwsze\n",
    "wiersze tej tabelki.\n"
   ]
  },
  {
   "cell_type": "code",
   "execution_count": 4,
   "metadata": {
    "vscode": {
     "languageId": "r"
    }
   },
   "outputs": [
    {
     "name": "stderr",
     "output_type": "stream",
     "text": [
      "Warning message in read.table(\"test.txt\", header = T):\n",
      "\"niekompletna końcowa linia znaleziona przez 'readTableHeader' w 'test.txt'\"\n"
     ]
    },
    {
     "data": {
      "text/html": [
       "<table class=\"dataframe\">\n",
       "<caption>A data.frame: 4 × 3</caption>\n",
       "<thead>\n",
       "\t<tr><th scope=col>Lp</th><th scope=col>Wiek</th><th scope=col>Odpowiedz</th></tr>\n",
       "\t<tr><th scope=col>&lt;int&gt;</th><th scope=col>&lt;int&gt;</th><th scope=col>&lt;chr&gt;</th></tr>\n",
       "</thead>\n",
       "<tbody>\n",
       "\t<tr><td>1</td><td>10</td><td>N</td></tr>\n",
       "\t<tr><td>2</td><td>21</td><td>T</td></tr>\n",
       "\t<tr><td>3</td><td>12</td><td>N</td></tr>\n",
       "\t<tr><td>4</td><td>12</td><td>T</td></tr>\n",
       "</tbody>\n",
       "</table>\n"
      ],
      "text/latex": [
       "A data.frame: 4 × 3\n",
       "\\begin{tabular}{lll}\n",
       " Lp & Wiek & Odpowiedz\\\\\n",
       " <int> & <int> & <chr>\\\\\n",
       "\\hline\n",
       "\t 1 & 10 & N\\\\\n",
       "\t 2 & 21 & T\\\\\n",
       "\t 3 & 12 & N\\\\\n",
       "\t 4 & 12 & T\\\\\n",
       "\\end{tabular}\n"
      ],
      "text/markdown": [
       "\n",
       "A data.frame: 4 × 3\n",
       "\n",
       "| Lp &lt;int&gt; | Wiek &lt;int&gt; | Odpowiedz &lt;chr&gt; |\n",
       "|---|---|---|\n",
       "| 1 | 10 | N |\n",
       "| 2 | 21 | T |\n",
       "| 3 | 12 | N |\n",
       "| 4 | 12 | T |\n",
       "\n"
      ],
      "text/plain": [
       "  Lp Wiek Odpowiedz\n",
       "1 1  10   N        \n",
       "2 2  21   T        \n",
       "3 3  12   N        \n",
       "4 4  12   T        "
      ]
     },
     "metadata": {},
     "output_type": "display_data"
    },
    {
     "data": {
      "text/html": [
       "<style>\n",
       ".list-inline {list-style: none; margin:0; padding: 0}\n",
       ".list-inline>li {display: inline-block}\n",
       ".list-inline>li:not(:last-child)::after {content: \"\\00b7\"; padding: 0 .5ex}\n",
       "</style>\n",
       "<ol class=list-inline><li>1</li><li>2</li><li>3</li><li>4</li></ol>\n"
      ],
      "text/latex": [
       "\\begin{enumerate*}\n",
       "\\item 1\n",
       "\\item 2\n",
       "\\item 3\n",
       "\\item 4\n",
       "\\end{enumerate*}\n"
      ],
      "text/markdown": [
       "1. 1\n",
       "2. 2\n",
       "3. 3\n",
       "4. 4\n",
       "\n",
       "\n"
      ],
      "text/plain": [
       "[1] 1 2 3 4"
      ]
     },
     "metadata": {},
     "output_type": "display_data"
    },
    {
     "data": {
      "text/html": [
       "<style>\n",
       ".list-inline {list-style: none; margin:0; padding: 0}\n",
       ".list-inline>li {display: inline-block}\n",
       ".list-inline>li:not(:last-child)::after {content: \"\\00b7\"; padding: 0 .5ex}\n",
       "</style>\n",
       "<ol class=list-inline><li>10</li><li>21</li><li>12</li><li>12</li></ol>\n"
      ],
      "text/latex": [
       "\\begin{enumerate*}\n",
       "\\item 10\n",
       "\\item 21\n",
       "\\item 12\n",
       "\\item 12\n",
       "\\end{enumerate*}\n"
      ],
      "text/markdown": [
       "1. 10\n",
       "2. 21\n",
       "3. 12\n",
       "4. 12\n",
       "\n",
       "\n"
      ],
      "text/plain": [
       "[1] 10 21 12 12"
      ]
     },
     "metadata": {},
     "output_type": "display_data"
    }
   ],
   "source": [
    "imported_ <- read.table(\"test.txt\", header = T)\n",
    "imported_\n",
    "imported_$Lp\n",
    "imported_$Wiek"
   ]
  },
  {
   "cell_type": "markdown",
   "metadata": {},
   "source": [
    "### Zad.2\n",
    "Spróbuj wywołać bezpośrednio kolumny Lp, Wiek. Używając komendy attach(..data frame name..)\n",
    "dołącz do bieżącego środowiska tabelkę przechowywaną przez zmienną imported_. Spróbuj\n",
    "ponownie wywołać bezpośrednio kolumnę Lp, Wiek. Używając polecenia\n",
    "detach(..data frame name..) odłącz ze środowiska w/w tabelkę."
   ]
  },
  {
   "cell_type": "code",
   "execution_count": 5,
   "metadata": {
    "vscode": {
     "languageId": "r"
    }
   },
   "outputs": [
    {
     "data": {
      "text/html": [
       "<style>\n",
       ".list-inline {list-style: none; margin:0; padding: 0}\n",
       ".list-inline>li {display: inline-block}\n",
       ".list-inline>li:not(:last-child)::after {content: \"\\00b7\"; padding: 0 .5ex}\n",
       "</style>\n",
       "<ol class=list-inline><li>1</li><li>2</li><li>3</li><li>4</li></ol>\n"
      ],
      "text/latex": [
       "\\begin{enumerate*}\n",
       "\\item 1\n",
       "\\item 2\n",
       "\\item 3\n",
       "\\item 4\n",
       "\\end{enumerate*}\n"
      ],
      "text/markdown": [
       "1. 1\n",
       "2. 2\n",
       "3. 3\n",
       "4. 4\n",
       "\n",
       "\n"
      ],
      "text/plain": [
       "[1] 1 2 3 4"
      ]
     },
     "metadata": {},
     "output_type": "display_data"
    },
    {
     "data": {
      "text/html": [
       "<style>\n",
       ".list-inline {list-style: none; margin:0; padding: 0}\n",
       ".list-inline>li {display: inline-block}\n",
       ".list-inline>li:not(:last-child)::after {content: \"\\00b7\"; padding: 0 .5ex}\n",
       "</style>\n",
       "<ol class=list-inline><li>10</li><li>21</li><li>12</li><li>12</li></ol>\n"
      ],
      "text/latex": [
       "\\begin{enumerate*}\n",
       "\\item 10\n",
       "\\item 21\n",
       "\\item 12\n",
       "\\item 12\n",
       "\\end{enumerate*}\n"
      ],
      "text/markdown": [
       "1. 10\n",
       "2. 21\n",
       "3. 12\n",
       "4. 12\n",
       "\n",
       "\n"
      ],
      "text/plain": [
       "[1] 10 21 12 12"
      ]
     },
     "metadata": {},
     "output_type": "display_data"
    }
   ],
   "source": [
    "attach(imported_)\n",
    "Lp\n",
    "Wiek\n",
    "detach(imported_)"
   ]
  },
  {
   "cell_type": "markdown",
   "metadata": {},
   "source": [
    "## ROZKŁADY ZMIENNYCH LOSOWYCH\n",
    "Nazwy rozkładów: beta, binom, cauchy, chisq, exp, gamma, geom, norm, pois, t, wilcox, ....\n",
    "`// > ..distribution name..(..argument.., ..parameters..) //`\n",
    "Poprzedzając nazwę rozkładu literką:\n",
    "* d – uzyskamy funkcję gęstości o zadanym rozkładzie\n",
    "* p – uzyskamy dystrybuantę\n",
    "* q – uzyskamy funkcję kwantylową(*)\n",
    "* r – uzyskamy generator liczb losowych z zadanego rozkładu  \n",
    "*Przypomnijmy, że liczbę xα nazywamy kwantylem rzędu α zmiennej losowej X jeżeli spełnia\n",
    "warunki:\n",
    "i) P(X ≤ xα) ≥ α\n",
    "ii) P(X ≥ xα) ≥ 1 - α\n",
    "Np. >qnorm(0.5) zwróci kwantyl rzędu . rozkładu normalnego standardowego, tj. taką wartość x1/2,\n",
    "dla której P(N(0,1) ≤ x1/2) = ..\n",
    "### Zad. 3\n",
    "a) znajdź pr-stwo, że snajper skuteczny w 7 na 10 oddanych strzałów, strzelając 20 razy do jabłoni,\n",
    "strąci do koszyka dokładnie 11 jabłek.\n",
    "b) j.w. ale tym razem, że strąci co najmniej 11 jabłek\n",
    "c) znajdź pr-stwo, że zmienna losowa o rozkładzie Poissona z parametrem λ=0.1 przyjmie wartość\n",
    "2\n",
    "d) j.w. ale tym razem, że przyjmie wartość mniejszą niż 2\n",
    "e) policz kwantyl rzędu α=0.995 dla rozkładu t-Studenta z 5-ma stopniami swobody\n",
    "// ..q+distribution name..(..order value.., df = ...) //\n",
    "f) policz wartość funkcji gęstości oraz wartość dystrybuanty rozkładu normalnego standardowego w\n",
    "argumencie 0\n",
    "g) policz kwantyl rzędu alfa=0.95 dla rozkładu Chi kwadrat z 15-ma stopniami swobody"
   ]
  },
  {
   "cell_type": "code",
   "execution_count": 11,
   "metadata": {
    "vscode": {
     "languageId": "r"
    }
   },
   "outputs": [
    {
     "data": {
      "text/html": [
       "0.030817080900085"
      ],
      "text/latex": [
       "0.030817080900085"
      ],
      "text/markdown": [
       "0.030817080900085"
      ],
      "text/plain": [
       "[1] 0.03081708"
      ]
     },
     "metadata": {},
     "output_type": "display_data"
    },
    {
     "data": {
      "text/html": [
       "0.952038102668656"
      ],
      "text/latex": [
       "0.952038102668656"
      ],
      "text/markdown": [
       "0.952038102668656"
      ],
      "text/plain": [
       "[1] 0.9520381"
      ]
     },
     "metadata": {},
     "output_type": "display_data"
    },
    {
     "data": {
      "text/html": [
       "0.999845346929735"
      ],
      "text/latex": [
       "0.999845346929735"
      ],
      "text/markdown": [
       "0.999845346929735"
      ],
      "text/plain": [
       "[1] 0.9998453"
      ]
     },
     "metadata": {},
     "output_type": "display_data"
    },
    {
     "data": {
      "text/html": [
       "0.995321159839556"
      ],
      "text/latex": [
       "0.995321159839556"
      ],
      "text/markdown": [
       "0.995321159839556"
      ],
      "text/plain": [
       "[1] 0.9953212"
      ]
     },
     "metadata": {},
     "output_type": "display_data"
    },
    {
     "data": {
      "text/html": [
       "4.03214298355523"
      ],
      "text/latex": [
       "4.03214298355523"
      ],
      "text/markdown": [
       "4.03214298355523"
      ],
      "text/plain": [
       "[1] 4.032143"
      ]
     },
     "metadata": {},
     "output_type": "display_data"
    },
    {
     "data": {
      "text/html": [
       "0.398942280401433"
      ],
      "text/latex": [
       "0.398942280401433"
      ],
      "text/markdown": [
       "0.398942280401433"
      ],
      "text/plain": [
       "[1] 0.3989423"
      ]
     },
     "metadata": {},
     "output_type": "display_data"
    },
    {
     "data": {
      "text/html": [
       "0.5"
      ],
      "text/latex": [
       "0.5"
      ],
      "text/markdown": [
       "0.5"
      ],
      "text/plain": [
       "[1] 0.5"
      ]
     },
     "metadata": {},
     "output_type": "display_data"
    },
    {
     "data": {
      "text/html": [
       "24.9957901397286"
      ],
      "text/latex": [
       "24.9957901397286"
      ],
      "text/markdown": [
       "24.9957901397286"
      ],
      "text/plain": [
       "[1] 24.99579"
      ]
     },
     "metadata": {},
     "output_type": "display_data"
    }
   ],
   "source": [
    "dbinom(10, 20, 0.7)\n",
    "1 - pbinom(10, 20, 0.7)\n",
    "ppois(2, lambda = 0.1)\n",
    "ppois(1, lambda = 0.1)\n",
    "qt(0.995, df = 5)\n",
    "dnorm(0)\n",
    "pnorm(0)\n",
    "qchisq(0.95, df = 15)"
   ]
  },
  {
   "cell_type": "markdown",
   "metadata": {},
   "source": [
    "h) wygeneruj losowy zestaw 30 liczb o średniej 50 i odchyleniu standardowym 5 posiadających\n",
    "rozkład normalny"
   ]
  },
  {
   "cell_type": "code",
   "execution_count": 13,
   "metadata": {
    "vscode": {
     "languageId": "r"
    }
   },
   "outputs": [
    {
     "data": {
      "text/html": [
       "<style>\n",
       ".list-inline {list-style: none; margin:0; padding: 0}\n",
       ".list-inline>li {display: inline-block}\n",
       ".list-inline>li:not(:last-child)::after {content: \"\\00b7\"; padding: 0 .5ex}\n",
       "</style>\n",
       "<ol class=list-inline><li>44.1081378706077</li><li>46.3091745978852</li><li>48.6837504223284</li><li>45.85065990756</li><li>42.4516207032855</li><li>56.9850332272208</li><li>47.2952089914017</li><li>49.1262890003317</li><li>44.181602606482</li><li>51.478545165961</li><li>43.0466485223625</li><li>47.8404810973857</li><li>66.7019160356203</li><li>55.0664041534003</li><li>43.0408310104403</li><li>47.0832698887441</li><li>47.8359184004101</li><li>57.8899545046421</li><li>52.7015185636681</li><li>50.2897685249622</li><li>49.9672920021177</li><li>49.8967897969101</li><li>49.6515873561297</li><li>53.0591047706951</li><li>46.845312048026</li><li>42.6216078624047</li><li>48.6900142767197</li><li>39.7317034531539</li><li>44.2652457289778</li><li>49.8280101972633</li></ol>\n"
      ],
      "text/latex": [
       "\\begin{enumerate*}\n",
       "\\item 44.1081378706077\n",
       "\\item 46.3091745978852\n",
       "\\item 48.6837504223284\n",
       "\\item 45.85065990756\n",
       "\\item 42.4516207032855\n",
       "\\item 56.9850332272208\n",
       "\\item 47.2952089914017\n",
       "\\item 49.1262890003317\n",
       "\\item 44.181602606482\n",
       "\\item 51.478545165961\n",
       "\\item 43.0466485223625\n",
       "\\item 47.8404810973857\n",
       "\\item 66.7019160356203\n",
       "\\item 55.0664041534003\n",
       "\\item 43.0408310104403\n",
       "\\item 47.0832698887441\n",
       "\\item 47.8359184004101\n",
       "\\item 57.8899545046421\n",
       "\\item 52.7015185636681\n",
       "\\item 50.2897685249622\n",
       "\\item 49.9672920021177\n",
       "\\item 49.8967897969101\n",
       "\\item 49.6515873561297\n",
       "\\item 53.0591047706951\n",
       "\\item 46.845312048026\n",
       "\\item 42.6216078624047\n",
       "\\item 48.6900142767197\n",
       "\\item 39.7317034531539\n",
       "\\item 44.2652457289778\n",
       "\\item 49.8280101972633\n",
       "\\end{enumerate*}\n"
      ],
      "text/markdown": [
       "1. 44.1081378706077\n",
       "2. 46.3091745978852\n",
       "3. 48.6837504223284\n",
       "4. 45.85065990756\n",
       "5. 42.4516207032855\n",
       "6. 56.9850332272208\n",
       "7. 47.2952089914017\n",
       "8. 49.1262890003317\n",
       "9. 44.181602606482\n",
       "10. 51.478545165961\n",
       "11. 43.0466485223625\n",
       "12. 47.8404810973857\n",
       "13. 66.7019160356203\n",
       "14. 55.0664041534003\n",
       "15. 43.0408310104403\n",
       "16. 47.0832698887441\n",
       "17. 47.8359184004101\n",
       "18. 57.8899545046421\n",
       "19. 52.7015185636681\n",
       "20. 50.2897685249622\n",
       "21. 49.9672920021177\n",
       "22. 49.8967897969101\n",
       "23. 49.6515873561297\n",
       "24. 53.0591047706951\n",
       "25. 46.845312048026\n",
       "26. 42.6216078624047\n",
       "27. 48.6900142767197\n",
       "28. 39.7317034531539\n",
       "29. 44.2652457289778\n",
       "30. 49.8280101972633\n",
       "\n",
       "\n"
      ],
      "text/plain": [
       " [1] 44.10814 46.30917 48.68375 45.85066 42.45162 56.98503 47.29521 49.12629\n",
       " [9] 44.18160 51.47855 43.04665 47.84048 66.70192 55.06640 43.04083 47.08327\n",
       "[17] 47.83592 57.88995 52.70152 50.28977 49.96729 49.89679 49.65159 53.05910\n",
       "[25] 46.84531 42.62161 48.69001 39.73170 44.26525 49.82801"
      ]
     },
     "metadata": {},
     "output_type": "display_data"
    }
   ],
   "source": [
    "rnorm(30, mean = 50, sd = 5)"
   ]
  },
  {
   "cell_type": "markdown",
   "metadata": {},
   "source": [
    "i) wygeneruj pochodzący z rozkładu wykładniczego (z parametrem λ = 2) zestaw 100 liczb"
   ]
  },
  {
   "cell_type": "code",
   "execution_count": 14,
   "metadata": {
    "vscode": {
     "languageId": "r"
    }
   },
   "outputs": [
    {
     "data": {
      "text/html": [
       "<style>\n",
       ".list-inline {list-style: none; margin:0; padding: 0}\n",
       ".list-inline>li {display: inline-block}\n",
       ".list-inline>li:not(:last-child)::after {content: \"\\00b7\"; padding: 0 .5ex}\n",
       "</style>\n",
       "<ol class=list-inline><li>0.382706835379309</li><li>1.16912770730661</li><li>1.34139593032407</li><li>0.0744308433495462</li><li>0.27048083068803</li><li>0.39101298893158</li><li>0.367235923215416</li><li>0.386220273808965</li><li>0.360736513181226</li><li>0.217716982821003</li><li>0.686767122687256</li><li>0.0867681223899126</li><li>1.37484697525607</li><li>0.813512725645167</li><li>0.112957320349326</li><li>0.0326938875950873</li><li>0.475104598773128</li><li>0.00717677572356636</li><li>0.00607362778185804</li><li>0.787301061632943</li><li>0.0707848806058917</li><li>0.165560121801299</li><li>0.102690427796915</li><li>0.854867089497757</li><li>1.0665765317837</li><li>0.0564967314712703</li><li>0.955965661050354</li><li>0.280395933892578</li><li>0.892374107422206</li><li>0.031209157732738</li><li>0.0516764761414379</li><li>0.217123708687723</li><li>0.097213014960289</li><li>0.254486330409905</li><li>0.0902118071882705</li><li>0.00172916112052671</li><li>0.218482590746135</li><li>0.184103403240442</li><li>0.0396265534218401</li><li>0.0820534818340093</li><li>1.02335718642445</li><li>1.20614913751589</li><li>0.626282524296498</li><li>1.00377195883067</li><li>0.231250611366704</li><li>0.343841050984338</li><li>0.361189756055778</li><li>0.15724689187482</li><li>0.559875701998776</li><li>0.802197325001371</li><li>0.232412746176124</li><li>1.13162705134662</li><li>0.449095607849224</li><li>1.17550048213962</li><li>0.0976489617023617</li><li>0.00312997703440487</li><li>0.46172458862648</li><li>0.147061442257836</li><li>0.313308369188176</li><li>0.76512374275172</li><li>1.09418799442457</li><li>0.681472827193743</li><li>0.663031170491362</li><li>0.0362348209813462</li><li>0.252866665134206</li><li>0.949036396674697</li><li>0.462630800416178</li><li>0.0142089903820306</li><li>0.043508687056601</li><li>0.645011567955321</li><li>1.25964190386954</li><li>0.469442014561451</li><li>0.605578576659268</li><li>0.54513322580654</li><li>1.07437301513957</li><li>0.823648882056487</li><li>0.158192760543898</li><li>0.526455915607602</li><li>0.114450422348455</li><li>0.0912479786202312</li><li>0.188753807917237</li><li>0.212579841259867</li><li>2.2133372517905</li><li>0.635643654016262</li><li>0.974275061818671</li><li>0.163117710500956</li><li>1.56812648094239</li><li>0.0319014578126371</li><li>0.716775602515285</li><li>0.253356347791851</li><li>0.146065540956794</li><li>0.615138492991632</li><li>0.240613474976271</li><li>0.0324694782029837</li><li>0.296941674780101</li><li>0.254714332986623</li><li>0.0499867615246116</li><li>0.190536936623311</li><li>1.16719964681512</li><li>0.366729845271862</li></ol>\n"
      ],
      "text/latex": [
       "\\begin{enumerate*}\n",
       "\\item 0.382706835379309\n",
       "\\item 1.16912770730661\n",
       "\\item 1.34139593032407\n",
       "\\item 0.0744308433495462\n",
       "\\item 0.27048083068803\n",
       "\\item 0.39101298893158\n",
       "\\item 0.367235923215416\n",
       "\\item 0.386220273808965\n",
       "\\item 0.360736513181226\n",
       "\\item 0.217716982821003\n",
       "\\item 0.686767122687256\n",
       "\\item 0.0867681223899126\n",
       "\\item 1.37484697525607\n",
       "\\item 0.813512725645167\n",
       "\\item 0.112957320349326\n",
       "\\item 0.0326938875950873\n",
       "\\item 0.475104598773128\n",
       "\\item 0.00717677572356636\n",
       "\\item 0.00607362778185804\n",
       "\\item 0.787301061632943\n",
       "\\item 0.0707848806058917\n",
       "\\item 0.165560121801299\n",
       "\\item 0.102690427796915\n",
       "\\item 0.854867089497757\n",
       "\\item 1.0665765317837\n",
       "\\item 0.0564967314712703\n",
       "\\item 0.955965661050354\n",
       "\\item 0.280395933892578\n",
       "\\item 0.892374107422206\n",
       "\\item 0.031209157732738\n",
       "\\item 0.0516764761414379\n",
       "\\item 0.217123708687723\n",
       "\\item 0.097213014960289\n",
       "\\item 0.254486330409905\n",
       "\\item 0.0902118071882705\n",
       "\\item 0.00172916112052671\n",
       "\\item 0.218482590746135\n",
       "\\item 0.184103403240442\n",
       "\\item 0.0396265534218401\n",
       "\\item 0.0820534818340093\n",
       "\\item 1.02335718642445\n",
       "\\item 1.20614913751589\n",
       "\\item 0.626282524296498\n",
       "\\item 1.00377195883067\n",
       "\\item 0.231250611366704\n",
       "\\item 0.343841050984338\n",
       "\\item 0.361189756055778\n",
       "\\item 0.15724689187482\n",
       "\\item 0.559875701998776\n",
       "\\item 0.802197325001371\n",
       "\\item 0.232412746176124\n",
       "\\item 1.13162705134662\n",
       "\\item 0.449095607849224\n",
       "\\item 1.17550048213962\n",
       "\\item 0.0976489617023617\n",
       "\\item 0.00312997703440487\n",
       "\\item 0.46172458862648\n",
       "\\item 0.147061442257836\n",
       "\\item 0.313308369188176\n",
       "\\item 0.76512374275172\n",
       "\\item 1.09418799442457\n",
       "\\item 0.681472827193743\n",
       "\\item 0.663031170491362\n",
       "\\item 0.0362348209813462\n",
       "\\item 0.252866665134206\n",
       "\\item 0.949036396674697\n",
       "\\item 0.462630800416178\n",
       "\\item 0.0142089903820306\n",
       "\\item 0.043508687056601\n",
       "\\item 0.645011567955321\n",
       "\\item 1.25964190386954\n",
       "\\item 0.469442014561451\n",
       "\\item 0.605578576659268\n",
       "\\item 0.54513322580654\n",
       "\\item 1.07437301513957\n",
       "\\item 0.823648882056487\n",
       "\\item 0.158192760543898\n",
       "\\item 0.526455915607602\n",
       "\\item 0.114450422348455\n",
       "\\item 0.0912479786202312\n",
       "\\item 0.188753807917237\n",
       "\\item 0.212579841259867\n",
       "\\item 2.2133372517905\n",
       "\\item 0.635643654016262\n",
       "\\item 0.974275061818671\n",
       "\\item 0.163117710500956\n",
       "\\item 1.56812648094239\n",
       "\\item 0.0319014578126371\n",
       "\\item 0.716775602515285\n",
       "\\item 0.253356347791851\n",
       "\\item 0.146065540956794\n",
       "\\item 0.615138492991632\n",
       "\\item 0.240613474976271\n",
       "\\item 0.0324694782029837\n",
       "\\item 0.296941674780101\n",
       "\\item 0.254714332986623\n",
       "\\item 0.0499867615246116\n",
       "\\item 0.190536936623311\n",
       "\\item 1.16719964681512\n",
       "\\item 0.366729845271862\n",
       "\\end{enumerate*}\n"
      ],
      "text/markdown": [
       "1. 0.382706835379309\n",
       "2. 1.16912770730661\n",
       "3. 1.34139593032407\n",
       "4. 0.0744308433495462\n",
       "5. 0.27048083068803\n",
       "6. 0.39101298893158\n",
       "7. 0.367235923215416\n",
       "8. 0.386220273808965\n",
       "9. 0.360736513181226\n",
       "10. 0.217716982821003\n",
       "11. 0.686767122687256\n",
       "12. 0.0867681223899126\n",
       "13. 1.37484697525607\n",
       "14. 0.813512725645167\n",
       "15. 0.112957320349326\n",
       "16. 0.0326938875950873\n",
       "17. 0.475104598773128\n",
       "18. 0.00717677572356636\n",
       "19. 0.00607362778185804\n",
       "20. 0.787301061632943\n",
       "21. 0.0707848806058917\n",
       "22. 0.165560121801299\n",
       "23. 0.102690427796915\n",
       "24. 0.854867089497757\n",
       "25. 1.0665765317837\n",
       "26. 0.0564967314712703\n",
       "27. 0.955965661050354\n",
       "28. 0.280395933892578\n",
       "29. 0.892374107422206\n",
       "30. 0.031209157732738\n",
       "31. 0.0516764761414379\n",
       "32. 0.217123708687723\n",
       "33. 0.097213014960289\n",
       "34. 0.254486330409905\n",
       "35. 0.0902118071882705\n",
       "36. 0.00172916112052671\n",
       "37. 0.218482590746135\n",
       "38. 0.184103403240442\n",
       "39. 0.0396265534218401\n",
       "40. 0.0820534818340093\n",
       "41. 1.02335718642445\n",
       "42. 1.20614913751589\n",
       "43. 0.626282524296498\n",
       "44. 1.00377195883067\n",
       "45. 0.231250611366704\n",
       "46. 0.343841050984338\n",
       "47. 0.361189756055778\n",
       "48. 0.15724689187482\n",
       "49. 0.559875701998776\n",
       "50. 0.802197325001371\n",
       "51. 0.232412746176124\n",
       "52. 1.13162705134662\n",
       "53. 0.449095607849224\n",
       "54. 1.17550048213962\n",
       "55. 0.0976489617023617\n",
       "56. 0.00312997703440487\n",
       "57. 0.46172458862648\n",
       "58. 0.147061442257836\n",
       "59. 0.313308369188176\n",
       "60. 0.76512374275172\n",
       "61. 1.09418799442457\n",
       "62. 0.681472827193743\n",
       "63. 0.663031170491362\n",
       "64. 0.0362348209813462\n",
       "65. 0.252866665134206\n",
       "66. 0.949036396674697\n",
       "67. 0.462630800416178\n",
       "68. 0.0142089903820306\n",
       "69. 0.043508687056601\n",
       "70. 0.645011567955321\n",
       "71. 1.25964190386954\n",
       "72. 0.469442014561451\n",
       "73. 0.605578576659268\n",
       "74. 0.54513322580654\n",
       "75. 1.07437301513957\n",
       "76. 0.823648882056487\n",
       "77. 0.158192760543898\n",
       "78. 0.526455915607602\n",
       "79. 0.114450422348455\n",
       "80. 0.0912479786202312\n",
       "81. 0.188753807917237\n",
       "82. 0.212579841259867\n",
       "83. 2.2133372517905\n",
       "84. 0.635643654016262\n",
       "85. 0.974275061818671\n",
       "86. 0.163117710500956\n",
       "87. 1.56812648094239\n",
       "88. 0.0319014578126371\n",
       "89. 0.716775602515285\n",
       "90. 0.253356347791851\n",
       "91. 0.146065540956794\n",
       "92. 0.615138492991632\n",
       "93. 0.240613474976271\n",
       "94. 0.0324694782029837\n",
       "95. 0.296941674780101\n",
       "96. 0.254714332986623\n",
       "97. 0.0499867615246116\n",
       "98. 0.190536936623311\n",
       "99. 1.16719964681512\n",
       "100. 0.366729845271862\n",
       "\n",
       "\n"
      ],
      "text/plain": [
       "  [1] 0.382706835 1.169127707 1.341395930 0.074430843 0.270480831 0.391012989\n",
       "  [7] 0.367235923 0.386220274 0.360736513 0.217716983 0.686767123 0.086768122\n",
       " [13] 1.374846975 0.813512726 0.112957320 0.032693888 0.475104599 0.007176776\n",
       " [19] 0.006073628 0.787301062 0.070784881 0.165560122 0.102690428 0.854867089\n",
       " [25] 1.066576532 0.056496731 0.955965661 0.280395934 0.892374107 0.031209158\n",
       " [31] 0.051676476 0.217123709 0.097213015 0.254486330 0.090211807 0.001729161\n",
       " [37] 0.218482591 0.184103403 0.039626553 0.082053482 1.023357186 1.206149138\n",
       " [43] 0.626282524 1.003771959 0.231250611 0.343841051 0.361189756 0.157246892\n",
       " [49] 0.559875702 0.802197325 0.232412746 1.131627051 0.449095608 1.175500482\n",
       " [55] 0.097648962 0.003129977 0.461724589 0.147061442 0.313308369 0.765123743\n",
       " [61] 1.094187994 0.681472827 0.663031170 0.036234821 0.252866665 0.949036397\n",
       " [67] 0.462630800 0.014208990 0.043508687 0.645011568 1.259641904 0.469442015\n",
       " [73] 0.605578577 0.545133226 1.074373015 0.823648882 0.158192761 0.526455916\n",
       " [79] 0.114450422 0.091247979 0.188753808 0.212579841 2.213337252 0.635643654\n",
       " [85] 0.974275062 0.163117711 1.568126481 0.031901458 0.716775603 0.253356348\n",
       " [91] 0.146065541 0.615138493 0.240613475 0.032469478 0.296941675 0.254714333\n",
       " [97] 0.049986762 0.190536937 1.167199647 0.366729845"
      ]
     },
     "metadata": {},
     "output_type": "display_data"
    }
   ],
   "source": [
    "rexp(100, rate = 2)"
   ]
  },
  {
   "cell_type": "markdown",
   "metadata": {},
   "source": [
    "### Zad.4\n",
    "Używając funkcji sample(), która generuje wektor danych losowych z innego wektora, zasymuluj:\n",
    "a) 10 rzutów sześcienną kostką do gry (dane mogą – a w tym przypadku nawet muszą – się\n",
    "powtarzać).\n",
    "Jako pierwszy argument wstaw wektor możliwych rezultatów pojedynczego rzutu, jako drugi –\n",
    "liczbę rzutów, natomiast jako trzeci: atrybut replace=TRUE."
   ]
  },
  {
   "cell_type": "code",
   "execution_count": 15,
   "metadata": {
    "vscode": {
     "languageId": "r"
    }
   },
   "outputs": [
    {
     "data": {
      "text/html": [
       "<style>\n",
       ".list-inline {list-style: none; margin:0; padding: 0}\n",
       ".list-inline>li {display: inline-block}\n",
       ".list-inline>li:not(:last-child)::after {content: \"\\00b7\"; padding: 0 .5ex}\n",
       "</style>\n",
       "<ol class=list-inline><li>1</li><li>1</li><li>6</li><li>1</li><li>3</li><li>5</li><li>5</li><li>3</li><li>2</li><li>2</li></ol>\n"
      ],
      "text/latex": [
       "\\begin{enumerate*}\n",
       "\\item 1\n",
       "\\item 1\n",
       "\\item 6\n",
       "\\item 1\n",
       "\\item 3\n",
       "\\item 5\n",
       "\\item 5\n",
       "\\item 3\n",
       "\\item 2\n",
       "\\item 2\n",
       "\\end{enumerate*}\n"
      ],
      "text/markdown": [
       "1. 1\n",
       "2. 1\n",
       "3. 6\n",
       "4. 1\n",
       "5. 3\n",
       "6. 5\n",
       "7. 5\n",
       "8. 3\n",
       "9. 2\n",
       "10. 2\n",
       "\n",
       "\n"
      ],
      "text/plain": [
       " [1] 1 1 6 1 3 5 5 3 2 2"
      ]
     },
     "metadata": {},
     "output_type": "display_data"
    }
   ],
   "source": [
    "sample(1:6, 10, T)"
   ]
  },
  {
   "cell_type": "markdown",
   "metadata": {},
   "source": [
    "b) 8 dwukrotnych (jeden po drugim) rzutów monetą, gdzie orła interpretujemy jako sukces (‘1’)\n",
    "natomiast reszkę jako porażkę (‘0’) // np. ‘1_0’ niech oznacza że w konkretnym dwurzucie\n",
    "otrzymaliśmy najpierw orła a tuż po tym reszkę"
   ]
  },
  {
   "cell_type": "code",
   "execution_count": 16,
   "metadata": {
    "vscode": {
     "languageId": "r"
    }
   },
   "outputs": [
    {
     "data": {
      "text/html": [
       "<style>\n",
       ".list-inline {list-style: none; margin:0; padding: 0}\n",
       ".list-inline>li {display: inline-block}\n",
       ".list-inline>li:not(:last-child)::after {content: \"\\00b7\"; padding: 0 .5ex}\n",
       "</style>\n",
       "<ol class=list-inline><li>'00'</li><li>'11'</li><li>'01'</li><li>'00'</li><li>'11'</li><li>'00'</li><li>'01'</li><li>'11'</li></ol>\n"
      ],
      "text/latex": [
       "\\begin{enumerate*}\n",
       "\\item '00'\n",
       "\\item '11'\n",
       "\\item '01'\n",
       "\\item '00'\n",
       "\\item '11'\n",
       "\\item '00'\n",
       "\\item '01'\n",
       "\\item '11'\n",
       "\\end{enumerate*}\n"
      ],
      "text/markdown": [
       "1. '00'\n",
       "2. '11'\n",
       "3. '01'\n",
       "4. '00'\n",
       "5. '11'\n",
       "6. '00'\n",
       "7. '01'\n",
       "8. '11'\n",
       "\n",
       "\n"
      ],
      "text/plain": [
       "[1] \"00\" \"11\" \"01\" \"00\" \"11\" \"00\" \"01\" \"11\""
      ]
     },
     "metadata": {},
     "output_type": "display_data"
    }
   ],
   "source": [
    "sample(c('00', '01', '10', '11'), 8, T)"
   ]
  },
  {
   "cell_type": "markdown",
   "metadata": {},
   "source": [
    "### Zad.5\n",
    "Wygeneruj 14-wyrazową wariację  \n",
    "a) bez powtórzeń  \n",
    "b) z powtórzeniami  \n",
    "zbioru 19-elementowego {23, 29, 35, 41, ..., 125, 131}."
   ]
  },
  {
   "cell_type": "code",
   "execution_count": 19,
   "metadata": {
    "vscode": {
     "languageId": "r"
    }
   },
   "outputs": [
    {
     "data": {
      "text/html": [
       "<style>\n",
       ".list-inline {list-style: none; margin:0; padding: 0}\n",
       ".list-inline>li {display: inline-block}\n",
       ".list-inline>li:not(:last-child)::after {content: \"\\00b7\"; padding: 0 .5ex}\n",
       "</style>\n",
       "<ol class=list-inline><li>119</li><li>111</li><li>131</li><li>27</li><li>75</li><li>87</li><li>99</li><li>63</li><li>35</li><li>123</li><li>55</li><li>79</li><li>43</li><li>115</li></ol>\n"
      ],
      "text/latex": [
       "\\begin{enumerate*}\n",
       "\\item 119\n",
       "\\item 111\n",
       "\\item 131\n",
       "\\item 27\n",
       "\\item 75\n",
       "\\item 87\n",
       "\\item 99\n",
       "\\item 63\n",
       "\\item 35\n",
       "\\item 123\n",
       "\\item 55\n",
       "\\item 79\n",
       "\\item 43\n",
       "\\item 115\n",
       "\\end{enumerate*}\n"
      ],
      "text/markdown": [
       "1. 119\n",
       "2. 111\n",
       "3. 131\n",
       "4. 27\n",
       "5. 75\n",
       "6. 87\n",
       "7. 99\n",
       "8. 63\n",
       "9. 35\n",
       "10. 123\n",
       "11. 55\n",
       "12. 79\n",
       "13. 43\n",
       "14. 115\n",
       "\n",
       "\n"
      ],
      "text/plain": [
       " [1] 119 111 131  27  75  87  99  63  35 123  55  79  43 115"
      ]
     },
     "metadata": {},
     "output_type": "display_data"
    },
    {
     "data": {
      "text/html": [
       "<style>\n",
       ".list-inline {list-style: none; margin:0; padding: 0}\n",
       ".list-inline>li {display: inline-block}\n",
       ".list-inline>li:not(:last-child)::after {content: \"\\00b7\"; padding: 0 .5ex}\n",
       "</style>\n",
       "<ol class=list-inline><li>99</li><li>103</li><li>95</li><li>39</li><li>123</li><li>55</li><li>107</li><li>91</li><li>39</li><li>55</li><li>47</li><li>99</li><li>47</li><li>59</li></ol>\n"
      ],
      "text/latex": [
       "\\begin{enumerate*}\n",
       "\\item 99\n",
       "\\item 103\n",
       "\\item 95\n",
       "\\item 39\n",
       "\\item 123\n",
       "\\item 55\n",
       "\\item 107\n",
       "\\item 91\n",
       "\\item 39\n",
       "\\item 55\n",
       "\\item 47\n",
       "\\item 99\n",
       "\\item 47\n",
       "\\item 59\n",
       "\\end{enumerate*}\n"
      ],
      "text/markdown": [
       "1. 99\n",
       "2. 103\n",
       "3. 95\n",
       "4. 39\n",
       "5. 123\n",
       "6. 55\n",
       "7. 107\n",
       "8. 91\n",
       "9. 39\n",
       "10. 55\n",
       "11. 47\n",
       "12. 99\n",
       "13. 47\n",
       "14. 59\n",
       "\n",
       "\n"
      ],
      "text/plain": [
       " [1]  99 103  95  39 123  55 107  91  39  55  47  99  47  59"
      ]
     },
     "metadata": {},
     "output_type": "display_data"
    }
   ],
   "source": [
    "a <- seq(23, 131, by = 4)\n",
    "sample(a, 14)\n",
    "sample(a, 14, T)"
   ]
  },
  {
   "cell_type": "markdown",
   "metadata": {},
   "source": [
    "## WYKRESY SŁUPKOWE, KOŁOWE\n",
    "### Zad.6\n",
    "Używając funkcji round() oraz rnorm() ze średnią 4 i odchyleniem standardowym 1.5 wygeneruj\n",
    "wektor tv_ osiemdziesięciu liczb będących czasem spędzanym przez 80 respondentów przed\n",
    "telewizorem. Analogicznie wygeneruj wektor pc_ danych ze średnią 6 i odchyleniem 2, będących\n",
    "liczbami godzin spędzanych przed komputerem.\n",
    "a) użyj funkcji barplot() na każdym z wygenerowanych wektorów"
   ]
  },
  {
   "cell_type": "code",
   "execution_count": 22,
   "metadata": {
    "vscode": {
     "languageId": "r"
    }
   },
   "outputs": [
    {
     "data": {
      "image/png": "[encoded data removed]",
      "text/plain": [
       "plot without title"
      ]
     },
     "metadata": {
      "image/png": {
       "height": 420,
       "width": 420
      }
     },
     "output_type": "display_data"
    },
    {
     "data": {
      "image/png": "[encoded data removed]",
      "text/plain": [
       "plot without title"
      ]
     },
     "metadata": {
      "image/png": {
       "height": 420,
       "width": 420
      }
     },
     "output_type": "display_data"
    }
   ],
   "source": [
    "tv_ <- abs(round(rnorm(80, 4, 1.5)))\n",
    "pc_ <- round(rnorm(80, 6, 2))\n",
    "barplot(tv_)\n",
    "barplot(pc_)"
   ]
  },
  {
   "cell_type": "markdown",
   "metadata": {},
   "source": [
    "b) użyj funkcji barplot() złożonej z funkcją sort() na powyższych wektorach"
   ]
  },
  {
   "cell_type": "code",
   "execution_count": 23,
   "metadata": {
    "vscode": {
     "languageId": "r"
    }
   },
   "outputs": [
    {
     "data": {
      "image/png": "[encoded data removed]",
      "text/plain": [
       "plot without title"
      ]
     },
     "metadata": {
      "image/png": {
       "height": 420,
       "width": 420
      }
     },
     "output_type": "display_data"
    },
    {
     "data": {
      "image/png": "[encoded data removed]",
      "text/plain": [
       "plot without title"
      ]
     },
     "metadata": {
      "image/png": {
       "height": 420,
       "width": 420
      }
     },
     "output_type": "display_data"
    }
   ],
   "source": [
    "barplot(sort(tv_))\n",
    "barplot(sort(pc_))"
   ]
  },
  {
   "cell_type": "markdown",
   "metadata": {},
   "source": [
    "c) użyj funkcji barplot() na argumencie table(tv_, tv_) a potem na argumencie table(pc_, pc_),\n",
    "zinterpretuj wykresy."
   ]
  },
  {
   "cell_type": "code",
   "execution_count": 24,
   "metadata": {
    "vscode": {
     "languageId": "r"
    }
   },
   "outputs": [
    {
     "data": {
      "image/png": "[encoded data removed]",
      "text/plain": [
       "plot without title"
      ]
     },
     "metadata": {
      "image/png": {
       "height": 420,
       "width": 420
      }
     },
     "output_type": "display_data"
    },
    {
     "data": {
      "image/png": "[encoded data removed]",
      "text/plain": [
       "plot without title"
      ]
     },
     "metadata": {
      "image/png": {
       "height": 420,
       "width": 420
      }
     },
     "output_type": "display_data"
    }
   ],
   "source": [
    "barplot(table(tv_, tv_))\n",
    "barplot(table(pc_, pc_))"
   ]
  },
  {
   "cell_type": "markdown",
   "metadata": {},
   "source": [
    "d) użyj w końcu barplot() z trzema argumentami: table(pc_, tv_), legend.text=TRUE oraz\n",
    "col=rainbow(10);\n",
    "Następnie, przy użyciu atrybutu ylim=c(..., ...) ustaw żądane granice wartości dla osi y.\n",
    "e) wywołaj polecenie axis(2, at = seq(...)) aby zagęścić odpowiednio miarkę na osi pionowej\n",
    "f) poleceniem abline(h = seq(...)) nanieś na wykres poziome linie ułatwiające odczyt danych,\n",
    "zinterpretuj otrzymany wykres"
   ]
  },
  {
   "cell_type": "code",
   "execution_count": 37,
   "metadata": {
    "vscode": {
     "languageId": "r"
    }
   },
   "outputs": [
    {
     "data": {
      "image/png": "[encoded data removed]",
      "text/plain": [
       "plot without title"
      ]
     },
     "metadata": {
      "image/png": {
       "height": 420,
       "width": 420
      }
     },
     "output_type": "display_data"
    }
   ],
   "source": [
    "barplot(table(pc_, tv_), legend.text = T, col = rainbow(10), ylim = c(0, 25))\n",
    "axis(2, at = seq(1, 25))\n",
    "abline(h = seq(0, 25))"
   ]
  },
  {
   "cell_type": "markdown",
   "metadata": {},
   "source": [
    "### Zad.7\n",
    "a) Używając funkcji pie() z argumentem table(tv_) a następnie na argumencie table(pc_), utwórz wykresy kołowe ilości godzin spędzanych przed telewizorem i komputerem, odpowiednio."
   ]
  },
  {
   "cell_type": "code",
   "execution_count": 294,
   "metadata": {
    "vscode": {
     "languageId": "r"
    }
   },
   "outputs": [
    {
     "data": {
      "image/png": "[encoded data removed]",
      "text/plain": [
       "plot without title"
      ]
     },
     "metadata": {
      "image/png": {
       "height": 420,
       "width": 420
      }
     },
     "output_type": "display_data"
    },
    {
     "data": {
      "image/png": "[encoded data removed]",
      "text/plain": [
       "plot without title"
      ]
     },
     "metadata": {
      "image/png": {
       "height": 420,
       "width": 420
      }
     },
     "output_type": "display_data"
    }
   ],
   "source": [
    "pie(table(tv_))\n",
    "pie(table(pc_))"
   ]
  },
  {
   "cell_type": "markdown",
   "metadata": {},
   "source": [
    "b) Chcemy ulepszyć wykres kołowy z informacją dot. godzin spędzonych przed tv.\n",
    "i) utwórz faktor f_tv,\n"
   ]
  },
  {
   "cell_type": "code",
   "execution_count": 295,
   "metadata": {
    "vscode": {
     "languageId": "r"
    }
   },
   "outputs": [
    {
     "data": {
      "text/html": [
       "<style>\n",
       ".list-inline {list-style: none; margin:0; padding: 0}\n",
       ".list-inline>li {display: inline-block}\n",
       ".list-inline>li:not(:last-child)::after {content: \"\\00b7\"; padding: 0 .5ex}\n",
       "</style>\n",
       "<ol class=list-inline><li>3</li><li>3</li><li>6</li><li>4</li><li>6</li><li>2</li><li>6</li><li>6</li><li>3</li><li>4</li><li>3</li><li>2</li><li>5</li><li>3</li><li>4</li><li>5</li><li>7</li><li>4</li><li>2</li><li>4</li><li>3</li><li>4</li><li>5</li><li>4</li><li>5</li><li>6</li><li>3</li><li>5</li><li>6</li><li>3</li><li>3</li><li>5</li><li>3</li><li>3</li><li>3</li><li>7</li><li>4</li><li>4</li><li>4</li><li>4</li><li>3</li><li>2</li><li>3</li><li>4</li><li>4</li><li>6</li><li>5</li><li>5</li><li>4</li><li>2</li><li>7</li><li>4</li><li>3</li><li>6</li><li>2</li><li>6</li><li>3</li><li>4</li><li>3</li><li>4</li><li>1</li><li>4</li><li>1</li><li>4</li><li>5</li><li>5</li><li>3</li><li>3</li><li>4</li><li>1</li><li>6</li><li>3</li><li>3</li><li>5</li><li>4</li><li>6</li><li>5</li><li>5</li><li>2</li><li>4</li></ol>\n",
       "\n",
       "<details>\n",
       "\t<summary style=display:list-item;cursor:pointer>\n",
       "\t\t<strong>Levels</strong>:\n",
       "\t</summary>\n",
       "\t<style>\n",
       "\t.list-inline {list-style: none; margin:0; padding: 0}\n",
       "\t.list-inline>li {display: inline-block}\n",
       "\t.list-inline>li:not(:last-child)::after {content: \"\\00b7\"; padding: 0 .5ex}\n",
       "\t</style>\n",
       "\t<ol class=list-inline><li>'1'</li><li>'2'</li><li>'3'</li><li>'4'</li><li>'5'</li><li>'6'</li><li>'7'</li></ol>\n",
       "</details>"
      ],
      "text/latex": [
       "\\begin{enumerate*}\n",
       "\\item 3\n",
       "\\item 3\n",
       "\\item 6\n",
       "\\item 4\n",
       "\\item 6\n",
       "\\item 2\n",
       "\\item 6\n",
       "\\item 6\n",
       "\\item 3\n",
       "\\item 4\n",
       "\\item 3\n",
       "\\item 2\n",
       "\\item 5\n",
       "\\item 3\n",
       "\\item 4\n",
       "\\item 5\n",
       "\\item 7\n",
       "\\item 4\n",
       "\\item 2\n",
       "\\item 4\n",
       "\\item 3\n",
       "\\item 4\n",
       "\\item 5\n",
       "\\item 4\n",
       "\\item 5\n",
       "\\item 6\n",
       "\\item 3\n",
       "\\item 5\n",
       "\\item 6\n",
       "\\item 3\n",
       "\\item 3\n",
       "\\item 5\n",
       "\\item 3\n",
       "\\item 3\n",
       "\\item 3\n",
       "\\item 7\n",
       "\\item 4\n",
       "\\item 4\n",
       "\\item 4\n",
       "\\item 4\n",
       "\\item 3\n",
       "\\item 2\n",
       "\\item 3\n",
       "\\item 4\n",
       "\\item 4\n",
       "\\item 6\n",
       "\\item 5\n",
       "\\item 5\n",
       "\\item 4\n",
       "\\item 2\n",
       "\\item 7\n",
       "\\item 4\n",
       "\\item 3\n",
       "\\item 6\n",
       "\\item 2\n",
       "\\item 6\n",
       "\\item 3\n",
       "\\item 4\n",
       "\\item 3\n",
       "\\item 4\n",
       "\\item 1\n",
       "\\item 4\n",
       "\\item 1\n",
       "\\item 4\n",
       "\\item 5\n",
       "\\item 5\n",
       "\\item 3\n",
       "\\item 3\n",
       "\\item 4\n",
       "\\item 1\n",
       "\\item 6\n",
       "\\item 3\n",
       "\\item 3\n",
       "\\item 5\n",
       "\\item 4\n",
       "\\item 6\n",
       "\\item 5\n",
       "\\item 5\n",
       "\\item 2\n",
       "\\item 4\n",
       "\\end{enumerate*}\n",
       "\n",
       "\\emph{Levels}: \\begin{enumerate*}\n",
       "\\item '1'\n",
       "\\item '2'\n",
       "\\item '3'\n",
       "\\item '4'\n",
       "\\item '5'\n",
       "\\item '6'\n",
       "\\item '7'\n",
       "\\end{enumerate*}\n"
      ],
      "text/markdown": [
       "1. 3\n",
       "2. 3\n",
       "3. 6\n",
       "4. 4\n",
       "5. 6\n",
       "6. 2\n",
       "7. 6\n",
       "8. 6\n",
       "9. 3\n",
       "10. 4\n",
       "11. 3\n",
       "12. 2\n",
       "13. 5\n",
       "14. 3\n",
       "15. 4\n",
       "16. 5\n",
       "17. 7\n",
       "18. 4\n",
       "19. 2\n",
       "20. 4\n",
       "21. 3\n",
       "22. 4\n",
       "23. 5\n",
       "24. 4\n",
       "25. 5\n",
       "26. 6\n",
       "27. 3\n",
       "28. 5\n",
       "29. 6\n",
       "30. 3\n",
       "31. 3\n",
       "32. 5\n",
       "33. 3\n",
       "34. 3\n",
       "35. 3\n",
       "36. 7\n",
       "37. 4\n",
       "38. 4\n",
       "39. 4\n",
       "40. 4\n",
       "41. 3\n",
       "42. 2\n",
       "43. 3\n",
       "44. 4\n",
       "45. 4\n",
       "46. 6\n",
       "47. 5\n",
       "48. 5\n",
       "49. 4\n",
       "50. 2\n",
       "51. 7\n",
       "52. 4\n",
       "53. 3\n",
       "54. 6\n",
       "55. 2\n",
       "56. 6\n",
       "57. 3\n",
       "58. 4\n",
       "59. 3\n",
       "60. 4\n",
       "61. 1\n",
       "62. 4\n",
       "63. 1\n",
       "64. 4\n",
       "65. 5\n",
       "66. 5\n",
       "67. 3\n",
       "68. 3\n",
       "69. 4\n",
       "70. 1\n",
       "71. 6\n",
       "72. 3\n",
       "73. 3\n",
       "74. 5\n",
       "75. 4\n",
       "76. 6\n",
       "77. 5\n",
       "78. 5\n",
       "79. 2\n",
       "80. 4\n",
       "\n",
       "\n",
       "\n",
       "**Levels**: 1. '1'\n",
       "2. '2'\n",
       "3. '3'\n",
       "4. '4'\n",
       "5. '5'\n",
       "6. '6'\n",
       "7. '7'\n",
       "\n",
       "\n"
      ],
      "text/plain": [
       " [1] 3 3 6 4 6 2 6 6 3 4 3 2 5 3 4 5 7 4 2 4 3 4 5 4 5 6 3 5 6 3 3 5 3 3 3 7 4 4\n",
       "[39] 4 4 3 2 3 4 4 6 5 5 4 2 7 4 3 6 2 6 3 4 3 4 1 4 1 4 5 5 3 3 4 1 6 3 3 5 4 6\n",
       "[77] 5 5 2 4\n",
       "Levels: 1 2 3 4 5 6 7"
      ]
     },
     "metadata": {},
     "output_type": "display_data"
    }
   ],
   "source": [
    "f_tv <- factor(tv_)\n",
    "f_tv"
   ]
  },
  {
   "cell_type": "markdown",
   "metadata": {},
   "source": [
    "ii) pod zmienną labels_ zapisz wartości unikatowe faktora, natomiast pod zmienną weights_\n",
    "wagi odpowiadające poszczególnym wartościom unikatowym (wykorzystaj w tym celu funkcję\n",
    "table(...) oraz as.vector(...))\n"
   ]
  },
  {
   "cell_type": "code",
   "execution_count": 296,
   "metadata": {
    "vscode": {
     "languageId": "r"
    }
   },
   "outputs": [
    {
     "data": {
      "text/html": [
       "<style>\n",
       ".list-inline {list-style: none; margin:0; padding: 0}\n",
       ".list-inline>li {display: inline-block}\n",
       ".list-inline>li:not(:last-child)::after {content: \"\\00b7\"; padding: 0 .5ex}\n",
       "</style>\n",
       "<ol class=list-inline><li>'1'</li><li>'2'</li><li>'3'</li><li>'4'</li><li>'5'</li><li>'6'</li><li>'7'</li></ol>\n"
      ],
      "text/latex": [
       "\\begin{enumerate*}\n",
       "\\item '1'\n",
       "\\item '2'\n",
       "\\item '3'\n",
       "\\item '4'\n",
       "\\item '5'\n",
       "\\item '6'\n",
       "\\item '7'\n",
       "\\end{enumerate*}\n"
      ],
      "text/markdown": [
       "1. '1'\n",
       "2. '2'\n",
       "3. '3'\n",
       "4. '4'\n",
       "5. '5'\n",
       "6. '6'\n",
       "7. '7'\n",
       "\n",
       "\n"
      ],
      "text/plain": [
       "[1] \"1\" \"2\" \"3\" \"4\" \"5\" \"6\" \"7\""
      ]
     },
     "metadata": {},
     "output_type": "display_data"
    }
   ],
   "source": [
    "labels_ <- levels(f_tv)\n",
    "labels_"
   ]
  },
  {
   "cell_type": "code",
   "execution_count": 297,
   "metadata": {
    "vscode": {
     "languageId": "r"
    }
   },
   "outputs": [
    {
     "data": {
      "text/html": [
       "<style>\n",
       ".list-inline {list-style: none; margin:0; padding: 0}\n",
       ".list-inline>li {display: inline-block}\n",
       ".list-inline>li:not(:last-child)::after {content: \"\\00b7\"; padding: 0 .5ex}\n",
       "</style>\n",
       "<ol class=list-inline><li>3</li><li>7</li><li>21</li><li>22</li><li>13</li><li>11</li><li>3</li></ol>\n"
      ],
      "text/latex": [
       "\\begin{enumerate*}\n",
       "\\item 3\n",
       "\\item 7\n",
       "\\item 21\n",
       "\\item 22\n",
       "\\item 13\n",
       "\\item 11\n",
       "\\item 3\n",
       "\\end{enumerate*}\n"
      ],
      "text/markdown": [
       "1. 3\n",
       "2. 7\n",
       "3. 21\n",
       "4. 22\n",
       "5. 13\n",
       "6. 11\n",
       "7. 3\n",
       "\n",
       "\n"
      ],
      "text/plain": [
       "[1]  3  7 21 22 13 11  3"
      ]
     },
     "metadata": {},
     "output_type": "display_data"
    }
   ],
   "source": [
    "weights_ <- as.vector(table(f_tv))\n",
    "weights_"
   ]
  },
  {
   "cell_type": "markdown",
   "metadata": {},
   "source": [
    "iii) utwórz zmienną percentage_, która przechowuje procentowy udział wag poszczególnych unikatów\n"
   ]
  },
  {
   "cell_type": "code",
   "execution_count": 298,
   "metadata": {
    "vscode": {
     "languageId": "r"
    }
   },
   "outputs": [
    {
     "data": {
      "text/html": [
       "<style>\n",
       ".list-inline {list-style: none; margin:0; padding: 0}\n",
       ".list-inline>li {display: inline-block}\n",
       ".list-inline>li:not(:last-child)::after {content: \"\\00b7\"; padding: 0 .5ex}\n",
       "</style>\n",
       "<ol class=list-inline><li>3.75</li><li>8.75</li><li>26.25</li><li>27.5</li><li>16.25</li><li>13.75</li><li>3.75</li></ol>\n"
      ],
      "text/latex": [
       "\\begin{enumerate*}\n",
       "\\item 3.75\n",
       "\\item 8.75\n",
       "\\item 26.25\n",
       "\\item 27.5\n",
       "\\item 16.25\n",
       "\\item 13.75\n",
       "\\item 3.75\n",
       "\\end{enumerate*}\n"
      ],
      "text/markdown": [
       "1. 3.75\n",
       "2. 8.75\n",
       "3. 26.25\n",
       "4. 27.5\n",
       "5. 16.25\n",
       "6. 13.75\n",
       "7. 3.75\n",
       "\n",
       "\n"
      ],
      "text/plain": [
       "[1]  3.75  8.75 26.25 27.50 16.25 13.75  3.75"
      ]
     },
     "metadata": {},
     "output_type": "display_data"
    }
   ],
   "source": [
    "percentage_ <- weights_ / sum(weights_) * 100\n",
    "percentage_"
   ]
  },
  {
   "cell_type": "markdown",
   "metadata": {},
   "source": [
    "iv) nadpisz zmienną labels_ = paste(labels_ , ‘___’, percentage_)\n"
   ]
  },
  {
   "cell_type": "code",
   "execution_count": 299,
   "metadata": {
    "vscode": {
     "languageId": "r"
    }
   },
   "outputs": [
    {
     "data": {
      "text/html": [
       "<style>\n",
       ".list-inline {list-style: none; margin:0; padding: 0}\n",
       ".list-inline>li {display: inline-block}\n",
       ".list-inline>li:not(:last-child)::after {content: \"\\00b7\"; padding: 0 .5ex}\n",
       "</style>\n",
       "<ol class=list-inline><li>'1 --&gt; 3.75'</li><li>'2 --&gt; 8.75'</li><li>'3 --&gt; 26.25'</li><li>'4 --&gt; 27.5'</li><li>'5 --&gt; 16.25'</li><li>'6 --&gt; 13.75'</li><li>'7 --&gt; 3.75'</li></ol>\n"
      ],
      "text/latex": [
       "\\begin{enumerate*}\n",
       "\\item '1 --> 3.75'\n",
       "\\item '2 --> 8.75'\n",
       "\\item '3 --> 26.25'\n",
       "\\item '4 --> 27.5'\n",
       "\\item '5 --> 16.25'\n",
       "\\item '6 --> 13.75'\n",
       "\\item '7 --> 3.75'\n",
       "\\end{enumerate*}\n"
      ],
      "text/markdown": [
       "1. '1 --&gt; 3.75'\n",
       "2. '2 --&gt; 8.75'\n",
       "3. '3 --&gt; 26.25'\n",
       "4. '4 --&gt; 27.5'\n",
       "5. '5 --&gt; 16.25'\n",
       "6. '6 --&gt; 13.75'\n",
       "7. '7 --&gt; 3.75'\n",
       "\n",
       "\n"
      ],
      "text/plain": [
       "[1] \"1 --> 3.75\"  \"2 --> 8.75\"  \"3 --> 26.25\" \"4 --> 27.5\"  \"5 --> 16.25\"\n",
       "[6] \"6 --> 13.75\" \"7 --> 3.75\" "
      ]
     },
     "metadata": {},
     "output_type": "display_data"
    }
   ],
   "source": [
    "labels_ <- paste(labels_, '-->', percentage_)\n",
    "labels_"
   ]
  },
  {
   "cell_type": "markdown",
   "metadata": {},
   "source": [
    "v) nadpisz ponownie: labels_ = paste(labels_ , ‘%’, sep=’’)\n"
   ]
  },
  {
   "cell_type": "code",
   "execution_count": 300,
   "metadata": {
    "vscode": {
     "languageId": "r"
    }
   },
   "outputs": [
    {
     "data": {
      "text/html": [
       "<style>\n",
       ".list-inline {list-style: none; margin:0; padding: 0}\n",
       ".list-inline>li {display: inline-block}\n",
       ".list-inline>li:not(:last-child)::after {content: \"\\00b7\"; padding: 0 .5ex}\n",
       "</style>\n",
       "<ol class=list-inline><li>'1 --&gt; 3.75%'</li><li>'2 --&gt; 8.75%'</li><li>'3 --&gt; 26.25%'</li><li>'4 --&gt; 27.5%'</li><li>'5 --&gt; 16.25%'</li><li>'6 --&gt; 13.75%'</li><li>'7 --&gt; 3.75%'</li></ol>\n"
      ],
      "text/latex": [
       "\\begin{enumerate*}\n",
       "\\item '1 --> 3.75\\%'\n",
       "\\item '2 --> 8.75\\%'\n",
       "\\item '3 --> 26.25\\%'\n",
       "\\item '4 --> 27.5\\%'\n",
       "\\item '5 --> 16.25\\%'\n",
       "\\item '6 --> 13.75\\%'\n",
       "\\item '7 --> 3.75\\%'\n",
       "\\end{enumerate*}\n"
      ],
      "text/markdown": [
       "1. '1 --&gt; 3.75%'\n",
       "2. '2 --&gt; 8.75%'\n",
       "3. '3 --&gt; 26.25%'\n",
       "4. '4 --&gt; 27.5%'\n",
       "5. '5 --&gt; 16.25%'\n",
       "6. '6 --&gt; 13.75%'\n",
       "7. '7 --&gt; 3.75%'\n",
       "\n",
       "\n"
      ],
      "text/plain": [
       "[1] \"1 --> 3.75%\"  \"2 --> 8.75%\"  \"3 --> 26.25%\" \"4 --> 27.5%\"  \"5 --> 16.25%\"\n",
       "[6] \"6 --> 13.75%\" \"7 --> 3.75%\" "
      ]
     },
     "metadata": {},
     "output_type": "display_data"
    }
   ],
   "source": [
    "labels_ <- paste(labels_, '%', sep='')\n",
    "labels_"
   ]
  },
  {
   "cell_type": "markdown",
   "metadata": {},
   "source": [
    "Teraz ponownie utwórz wykres kołowy dla danych trzymanych w zmiennej weights_ i etykiet\n",
    "(labels) przechowywanych w wektorze labels_. Atrybutem col=rainbow(...) ustaw wybrany\n",
    "wachlarz kolorów natomiast atrybutem main=’...’ nadaj wykresowi tytuł."
   ]
  },
  {
   "cell_type": "code",
   "execution_count": 313,
   "metadata": {
    "vscode": {
     "languageId": "r"
    }
   },
   "outputs": [
    {
     "data": {
      "image/png": "[encoded data removed]",
      "text/plain": [
       "Plot with title “Czas spędzany przed TV”"
      ]
     },
     "metadata": {
      "image/png": {
       "height": 420,
       "width": 420
      }
     },
     "output_type": "display_data"
    }
   ],
   "source": [
    "pie(weights_, labels = labels_, col = rainbow(length(weights_)),\n",
    "main = 'Czas spędzany przed TV')"
   ]
  },
  {
   "cell_type": "markdown",
   "metadata": {},
   "source": [
    "## HISTOGRAMY"
   ]
  },
  {
   "cell_type": "markdown",
   "metadata": {},
   "source": [
    "### Zad.8"
   ]
  },
  {
   "cell_type": "markdown",
   "metadata": {},
   "source": [
    "Używając komendy data(rivers) załaduj dane dotyczące długości rzek w USA."
   ]
  },
  {
   "cell_type": "code",
   "execution_count": 302,
   "metadata": {
    "vscode": {
     "languageId": "r"
    }
   },
   "outputs": [],
   "source": [
    "data(rivers)"
   ]
  },
  {
   "cell_type": "markdown",
   "metadata": {},
   "source": [
    "Wywołaj zmienną rivers i histogram zestawu danych przy użyciu funkcji hist(...).\n"
   ]
  },
  {
   "cell_type": "code",
   "execution_count": 303,
   "metadata": {
    "vscode": {
     "languageId": "r"
    }
   },
   "outputs": [
    {
     "data": {
      "image/png": "[encoded data removed]",
      "text/plain": [
       "Plot with title “Histogram of rivers”"
      ]
     },
     "metadata": {
      "image/png": {
       "height": 420,
       "width": 420
      }
     },
     "output_type": "display_data"
    }
   ],
   "source": [
    "hist(rivers)"
   ]
  },
  {
   "cell_type": "markdown",
   "metadata": {},
   "source": [
    "Wygeneruj histogram ponownie wymuszając:\n",
    "a) żądaną liczbę przedziałów (klas) = 40 (wartość 40 jako drugi argument)\n"
   ]
  },
  {
   "cell_type": "code",
   "execution_count": 304,
   "metadata": {
    "vscode": {
     "languageId": "r"
    }
   },
   "outputs": [
    {
     "data": {
      "image/png": "[encoded data removed]",
      "text/plain": [
       "Plot with title “Histogram of rivers”"
      ]
     },
     "metadata": {
      "image/png": {
       "height": 420,
       "width": 420
      }
     },
     "output_type": "display_data"
    }
   ],
   "source": [
    "hist(rivers, 40)"
   ]
  },
  {
   "cell_type": "markdown",
   "metadata": {},
   "source": [
    "b) zadane z góry klasy, wstawiając tym razem w miejsce drugiego argumentu breaks=seq(0, 400,by=200)\n"
   ]
  },
  {
   "cell_type": "code",
   "execution_count": 305,
   "metadata": {
    "vscode": {
     "languageId": "r"
    }
   },
   "outputs": [
    {
     "data": {
      "image/png": "[encoded data removed]",
      "text/plain": [
       "Plot with title “Histogram of rivers”"
      ]
     },
     "metadata": {
      "image/png": {
       "height": 420,
       "width": 420
      }
     },
     "output_type": "display_data"
    }
   ],
   "source": [
    "hist(rivers, seq(0, 4000, by = 200))"
   ]
  },
  {
   "cell_type": "markdown",
   "metadata": {},
   "source": [
    "Popraw pionową oś tak, by jej wartości sięgały do 100 oraz zagęść miarkę aby zaznaczała co 10 jednostek.\n"
   ]
  },
  {
   "cell_type": "code",
   "execution_count": 317,
   "metadata": {
    "vscode": {
     "languageId": "r"
    }
   },
   "outputs": [
    {
     "data": {
      "image/png": "[encoded data removed]",
      "text/plain": [
       "Plot with title “Histogram of rivers”"
      ]
     },
     "metadata": {
      "image/png": {
       "height": 420,
       "width": 420
      }
     },
     "output_type": "display_data"
    }
   ],
   "source": [
    "hist(rivers, seq(0, 4000, by = 200), yaxt = 'n')\n",
    "axis(2, at = seq(0, 100, by = 10))"
   ]
  },
  {
   "cell_type": "markdown",
   "metadata": {},
   "source": [
    "Nanieś też poziome linie (np. co 5 jednostek)."
   ]
  },
  {
   "cell_type": "code",
   "execution_count": 307,
   "metadata": {
    "vscode": {
     "languageId": "r"
    }
   },
   "outputs": [
    {
     "data": {
      "image/png": "[encoded data removed]",
      "text/plain": [
       "Plot with title “Histogram of rivers”"
      ]
     },
     "metadata": {
      "image/png": {
       "height": 420,
       "width": 420
      }
     },
     "output_type": "display_data"
    }
   ],
   "source": [
    "hist(rivers, seq(0, 4000, by = 200))\n",
    "abline(h = seq(0, 100, by = 5))"
   ]
  },
  {
   "cell_type": "markdown",
   "metadata": {},
   "source": [
    "### Zad.9\n",
    "Sporządź wykres gęstości (uciąglony histogram) dla zestawu danych, składając funkcję plot() z funkcją density() wywołaną na argumencie rivers."
   ]
  },
  {
   "cell_type": "code",
   "execution_count": 308,
   "metadata": {
    "vscode": {
     "languageId": "r"
    }
   },
   "outputs": [
    {
     "data": {
      "image/png": "[encoded data removed]",
      "text/plain": [
       "Plot with title “density.default(x = rivers)”"
      ]
     },
     "metadata": {
      "image/png": {
       "height": 420,
       "width": 420
      }
     },
     "output_type": "display_data"
    }
   ],
   "source": [
    "plot(density(rivers))"
   ]
  }
 ],
 "metadata": {
  "kernelspec": {
   "display_name": "R",
   "language": "R",
   "name": "ir"
  },
  "language_info": {
   "codemirror_mode": "r",
   "file_extension": ".r",
   "mimetype": "text/x-r-source",
   "name": "R",
   "pygments_lexer": "r",
   "version": "4.1.2"
  }
 },
 "nbformat": 4,
 "nbformat_minor": 2
}
