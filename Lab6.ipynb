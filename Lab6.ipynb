{
 "cells": [
  {
   "cell_type": "markdown",
   "metadata": {},
   "source": [
    "# PEiAR Laboratorium 6\n",
    "## WIELOPRÓBKI, FILTROWANIE, WYKRESY PUDEŁKOWE\n",
    "### Zad. 1\n",
    "Ściągnij do katalogu Dokumenty plik Egz_1(csv).csv. Zaimportuj pod nazwą egzamin_ ramkę z\n",
    "jego danymi.\n"
   ]
  },
  {
   "cell_type": "code",
   "execution_count": 28,
   "metadata": {
    "vscode": {
     "languageId": "r"
    }
   },
   "outputs": [
    {
     "data": {
      "text/html": [
       "<table class=\"dataframe\">\n",
       "<caption>A data.frame: 141 × 4</caption>\n",
       "<thead>\n",
       "\t<tr><th scope=col>plec</th><th scope=col>grupa</th><th scope=col>punkty</th><th scope=col>X</th></tr>\n",
       "\t<tr><th scope=col>&lt;chr&gt;</th><th scope=col>&lt;chr&gt;</th><th scope=col>&lt;dbl&gt;</th><th scope=col>&lt;lgl&gt;</th></tr>\n",
       "</thead>\n",
       "<tbody>\n",
       "\t<tr><td>M</td><td>A</td><td> 0.0</td><td>NA</td></tr>\n",
       "\t<tr><td>M</td><td>A</td><td>11.0</td><td>NA</td></tr>\n",
       "\t<tr><td>M</td><td>A</td><td> 0.0</td><td>NA</td></tr>\n",
       "\t<tr><td>M</td><td>A</td><td>12.0</td><td>NA</td></tr>\n",
       "\t<tr><td>M</td><td>A</td><td>10.5</td><td>NA</td></tr>\n",
       "\t<tr><td>M</td><td>A</td><td> 9.0</td><td>NA</td></tr>\n",
       "\t<tr><td>M</td><td>A</td><td>11.5</td><td>NA</td></tr>\n",
       "\t<tr><td>K</td><td>A</td><td>12.0</td><td>NA</td></tr>\n",
       "\t<tr><td>K</td><td>A</td><td>11.5</td><td>NA</td></tr>\n",
       "\t<tr><td>M</td><td>A</td><td>10.0</td><td>NA</td></tr>\n",
       "\t<tr><td>M</td><td>A</td><td>11.0</td><td>NA</td></tr>\n",
       "\t<tr><td>M</td><td>A</td><td>10.0</td><td>NA</td></tr>\n",
       "\t<tr><td>M</td><td>A</td><td> 8.5</td><td>NA</td></tr>\n",
       "\t<tr><td>M</td><td>A</td><td> 3.0</td><td>NA</td></tr>\n",
       "\t<tr><td>M</td><td>A</td><td> 8.0</td><td>NA</td></tr>\n",
       "\t<tr><td>M</td><td>A</td><td> 8.0</td><td>NA</td></tr>\n",
       "\t<tr><td>M</td><td>A</td><td> 8.5</td><td>NA</td></tr>\n",
       "\t<tr><td>M</td><td>A</td><td> 9.0</td><td>NA</td></tr>\n",
       "\t<tr><td>M</td><td>A</td><td> 9.0</td><td>NA</td></tr>\n",
       "\t<tr><td>K</td><td>A</td><td>14.0</td><td>NA</td></tr>\n",
       "\t<tr><td>M</td><td>A</td><td>12.5</td><td>NA</td></tr>\n",
       "\t<tr><td>M</td><td>A</td><td>10.0</td><td>NA</td></tr>\n",
       "\t<tr><td>M</td><td>A</td><td> 9.5</td><td>NA</td></tr>\n",
       "\t<tr><td>M</td><td>B</td><td> 7.0</td><td>NA</td></tr>\n",
       "\t<tr><td>M</td><td>A</td><td> 5.0</td><td>NA</td></tr>\n",
       "\t<tr><td>M</td><td>D</td><td> 6.0</td><td>NA</td></tr>\n",
       "\t<tr><td>M</td><td>A</td><td> 7.0</td><td>NA</td></tr>\n",
       "\t<tr><td>M</td><td>A</td><td> 0.0</td><td>NA</td></tr>\n",
       "\t<tr><td>M</td><td>A</td><td> 9.0</td><td>NA</td></tr>\n",
       "\t<tr><td>M</td><td>A</td><td> 9.0</td><td>NA</td></tr>\n",
       "\t<tr><td>⋮</td><td>⋮</td><td>⋮</td><td>⋮</td></tr>\n",
       "\t<tr><td>M</td><td>E</td><td>13.0</td><td>NA</td></tr>\n",
       "\t<tr><td>M</td><td>D</td><td> 9.0</td><td>NA</td></tr>\n",
       "\t<tr><td>K</td><td>D</td><td>10.5</td><td>NA</td></tr>\n",
       "\t<tr><td>M</td><td>B</td><td> 7.5</td><td>NA</td></tr>\n",
       "\t<tr><td>M</td><td>D</td><td> 9.5</td><td>NA</td></tr>\n",
       "\t<tr><td>M</td><td>D</td><td> 7.0</td><td>NA</td></tr>\n",
       "\t<tr><td>K</td><td>A</td><td> 1.5</td><td>NA</td></tr>\n",
       "\t<tr><td>M</td><td>D</td><td> 1.0</td><td>NA</td></tr>\n",
       "\t<tr><td>M</td><td>D</td><td> 8.5</td><td>NA</td></tr>\n",
       "\t<tr><td>M</td><td>D</td><td>12.0</td><td>NA</td></tr>\n",
       "\t<tr><td>M</td><td>D</td><td> 7.0</td><td>NA</td></tr>\n",
       "\t<tr><td>M</td><td>E</td><td>13.0</td><td>NA</td></tr>\n",
       "\t<tr><td>M</td><td>D</td><td> 9.5</td><td>NA</td></tr>\n",
       "\t<tr><td>K</td><td>D</td><td>10.0</td><td>NA</td></tr>\n",
       "\t<tr><td>M</td><td>D</td><td> 6.5</td><td>NA</td></tr>\n",
       "\t<tr><td>K</td><td>D</td><td>13.0</td><td>NA</td></tr>\n",
       "\t<tr><td>M</td><td>D</td><td> 8.0</td><td>NA</td></tr>\n",
       "\t<tr><td>K</td><td>E</td><td>14.0</td><td>NA</td></tr>\n",
       "\t<tr><td>M</td><td>D</td><td> 9.0</td><td>NA</td></tr>\n",
       "\t<tr><td>M</td><td>D</td><td>13.0</td><td>NA</td></tr>\n",
       "\t<tr><td>M</td><td>D</td><td> 5.0</td><td>NA</td></tr>\n",
       "\t<tr><td>M</td><td>D</td><td> 8.5</td><td>NA</td></tr>\n",
       "\t<tr><td>M</td><td>D</td><td>11.0</td><td>NA</td></tr>\n",
       "\t<tr><td>M</td><td>E</td><td> 3.0</td><td>NA</td></tr>\n",
       "\t<tr><td>M</td><td>D</td><td> 6.0</td><td>NA</td></tr>\n",
       "\t<tr><td>M</td><td>E</td><td> 4.0</td><td>NA</td></tr>\n",
       "\t<tr><td>M</td><td>D</td><td> 7.5</td><td>NA</td></tr>\n",
       "\t<tr><td>K</td><td>D</td><td> 8.0</td><td>NA</td></tr>\n",
       "\t<tr><td>M</td><td>D</td><td>10.5</td><td>NA</td></tr>\n",
       "\t<tr><td>M</td><td>B</td><td> 1.0</td><td>NA</td></tr>\n",
       "</tbody>\n",
       "</table>\n"
      ],
      "text/latex": [
       "A data.frame: 141 × 4\n",
       "\\begin{tabular}{llll}\n",
       " plec & grupa & punkty & X\\\\\n",
       " <chr> & <chr> & <dbl> & <lgl>\\\\\n",
       "\\hline\n",
       "\t M & A &  0.0 & NA\\\\\n",
       "\t M & A & 11.0 & NA\\\\\n",
       "\t M & A &  0.0 & NA\\\\\n",
       "\t M & A & 12.0 & NA\\\\\n",
       "\t M & A & 10.5 & NA\\\\\n",
       "\t M & A &  9.0 & NA\\\\\n",
       "\t M & A & 11.5 & NA\\\\\n",
       "\t K & A & 12.0 & NA\\\\\n",
       "\t K & A & 11.5 & NA\\\\\n",
       "\t M & A & 10.0 & NA\\\\\n",
       "\t M & A & 11.0 & NA\\\\\n",
       "\t M & A & 10.0 & NA\\\\\n",
       "\t M & A &  8.5 & NA\\\\\n",
       "\t M & A &  3.0 & NA\\\\\n",
       "\t M & A &  8.0 & NA\\\\\n",
       "\t M & A &  8.0 & NA\\\\\n",
       "\t M & A &  8.5 & NA\\\\\n",
       "\t M & A &  9.0 & NA\\\\\n",
       "\t M & A &  9.0 & NA\\\\\n",
       "\t K & A & 14.0 & NA\\\\\n",
       "\t M & A & 12.5 & NA\\\\\n",
       "\t M & A & 10.0 & NA\\\\\n",
       "\t M & A &  9.5 & NA\\\\\n",
       "\t M & B &  7.0 & NA\\\\\n",
       "\t M & A &  5.0 & NA\\\\\n",
       "\t M & D &  6.0 & NA\\\\\n",
       "\t M & A &  7.0 & NA\\\\\n",
       "\t M & A &  0.0 & NA\\\\\n",
       "\t M & A &  9.0 & NA\\\\\n",
       "\t M & A &  9.0 & NA\\\\\n",
       "\t ⋮ & ⋮ & ⋮ & ⋮\\\\\n",
       "\t M & E & 13.0 & NA\\\\\n",
       "\t M & D &  9.0 & NA\\\\\n",
       "\t K & D & 10.5 & NA\\\\\n",
       "\t M & B &  7.5 & NA\\\\\n",
       "\t M & D &  9.5 & NA\\\\\n",
       "\t M & D &  7.0 & NA\\\\\n",
       "\t K & A &  1.5 & NA\\\\\n",
       "\t M & D &  1.0 & NA\\\\\n",
       "\t M & D &  8.5 & NA\\\\\n",
       "\t M & D & 12.0 & NA\\\\\n",
       "\t M & D &  7.0 & NA\\\\\n",
       "\t M & E & 13.0 & NA\\\\\n",
       "\t M & D &  9.5 & NA\\\\\n",
       "\t K & D & 10.0 & NA\\\\\n",
       "\t M & D &  6.5 & NA\\\\\n",
       "\t K & D & 13.0 & NA\\\\\n",
       "\t M & D &  8.0 & NA\\\\\n",
       "\t K & E & 14.0 & NA\\\\\n",
       "\t M & D &  9.0 & NA\\\\\n",
       "\t M & D & 13.0 & NA\\\\\n",
       "\t M & D &  5.0 & NA\\\\\n",
       "\t M & D &  8.5 & NA\\\\\n",
       "\t M & D & 11.0 & NA\\\\\n",
       "\t M & E &  3.0 & NA\\\\\n",
       "\t M & D &  6.0 & NA\\\\\n",
       "\t M & E &  4.0 & NA\\\\\n",
       "\t M & D &  7.5 & NA\\\\\n",
       "\t K & D &  8.0 & NA\\\\\n",
       "\t M & D & 10.5 & NA\\\\\n",
       "\t M & B &  1.0 & NA\\\\\n",
       "\\end{tabular}\n"
      ],
      "text/markdown": [
       "\n",
       "A data.frame: 141 × 4\n",
       "\n",
       "| plec &lt;chr&gt; | grupa &lt;chr&gt; | punkty &lt;dbl&gt; | X &lt;lgl&gt; |\n",
       "|---|---|---|---|\n",
       "| M | A |  0.0 | NA |\n",
       "| M | A | 11.0 | NA |\n",
       "| M | A |  0.0 | NA |\n",
       "| M | A | 12.0 | NA |\n",
       "| M | A | 10.5 | NA |\n",
       "| M | A |  9.0 | NA |\n",
       "| M | A | 11.5 | NA |\n",
       "| K | A | 12.0 | NA |\n",
       "| K | A | 11.5 | NA |\n",
       "| M | A | 10.0 | NA |\n",
       "| M | A | 11.0 | NA |\n",
       "| M | A | 10.0 | NA |\n",
       "| M | A |  8.5 | NA |\n",
       "| M | A |  3.0 | NA |\n",
       "| M | A |  8.0 | NA |\n",
       "| M | A |  8.0 | NA |\n",
       "| M | A |  8.5 | NA |\n",
       "| M | A |  9.0 | NA |\n",
       "| M | A |  9.0 | NA |\n",
       "| K | A | 14.0 | NA |\n",
       "| M | A | 12.5 | NA |\n",
       "| M | A | 10.0 | NA |\n",
       "| M | A |  9.5 | NA |\n",
       "| M | B |  7.0 | NA |\n",
       "| M | A |  5.0 | NA |\n",
       "| M | D |  6.0 | NA |\n",
       "| M | A |  7.0 | NA |\n",
       "| M | A |  0.0 | NA |\n",
       "| M | A |  9.0 | NA |\n",
       "| M | A |  9.0 | NA |\n",
       "| ⋮ | ⋮ | ⋮ | ⋮ |\n",
       "| M | E | 13.0 | NA |\n",
       "| M | D |  9.0 | NA |\n",
       "| K | D | 10.5 | NA |\n",
       "| M | B |  7.5 | NA |\n",
       "| M | D |  9.5 | NA |\n",
       "| M | D |  7.0 | NA |\n",
       "| K | A |  1.5 | NA |\n",
       "| M | D |  1.0 | NA |\n",
       "| M | D |  8.5 | NA |\n",
       "| M | D | 12.0 | NA |\n",
       "| M | D |  7.0 | NA |\n",
       "| M | E | 13.0 | NA |\n",
       "| M | D |  9.5 | NA |\n",
       "| K | D | 10.0 | NA |\n",
       "| M | D |  6.5 | NA |\n",
       "| K | D | 13.0 | NA |\n",
       "| M | D |  8.0 | NA |\n",
       "| K | E | 14.0 | NA |\n",
       "| M | D |  9.0 | NA |\n",
       "| M | D | 13.0 | NA |\n",
       "| M | D |  5.0 | NA |\n",
       "| M | D |  8.5 | NA |\n",
       "| M | D | 11.0 | NA |\n",
       "| M | E |  3.0 | NA |\n",
       "| M | D |  6.0 | NA |\n",
       "| M | E |  4.0 | NA |\n",
       "| M | D |  7.5 | NA |\n",
       "| K | D |  8.0 | NA |\n",
       "| M | D | 10.5 | NA |\n",
       "| M | B |  1.0 | NA |\n",
       "\n"
      ],
      "text/plain": [
       "    plec grupa punkty X \n",
       "1   M    A      0.0   NA\n",
       "2   M    A     11.0   NA\n",
       "3   M    A      0.0   NA\n",
       "4   M    A     12.0   NA\n",
       "5   M    A     10.5   NA\n",
       "6   M    A      9.0   NA\n",
       "7   M    A     11.5   NA\n",
       "8   K    A     12.0   NA\n",
       "9   K    A     11.5   NA\n",
       "10  M    A     10.0   NA\n",
       "11  M    A     11.0   NA\n",
       "12  M    A     10.0   NA\n",
       "13  M    A      8.5   NA\n",
       "14  M    A      3.0   NA\n",
       "15  M    A      8.0   NA\n",
       "16  M    A      8.0   NA\n",
       "17  M    A      8.5   NA\n",
       "18  M    A      9.0   NA\n",
       "19  M    A      9.0   NA\n",
       "20  K    A     14.0   NA\n",
       "21  M    A     12.5   NA\n",
       "22  M    A     10.0   NA\n",
       "23  M    A      9.5   NA\n",
       "24  M    B      7.0   NA\n",
       "25  M    A      5.0   NA\n",
       "26  M    D      6.0   NA\n",
       "27  M    A      7.0   NA\n",
       "28  M    A      0.0   NA\n",
       "29  M    A      9.0   NA\n",
       "30  M    A      9.0   NA\n",
       "⋮   ⋮    ⋮     ⋮      ⋮ \n",
       "112 M    E     13.0   NA\n",
       "113 M    D      9.0   NA\n",
       "114 K    D     10.5   NA\n",
       "115 M    B      7.5   NA\n",
       "116 M    D      9.5   NA\n",
       "117 M    D      7.0   NA\n",
       "118 K    A      1.5   NA\n",
       "119 M    D      1.0   NA\n",
       "120 M    D      8.5   NA\n",
       "121 M    D     12.0   NA\n",
       "122 M    D      7.0   NA\n",
       "123 M    E     13.0   NA\n",
       "124 M    D      9.5   NA\n",
       "125 K    D     10.0   NA\n",
       "126 M    D      6.5   NA\n",
       "127 K    D     13.0   NA\n",
       "128 M    D      8.0   NA\n",
       "129 K    E     14.0   NA\n",
       "130 M    D      9.0   NA\n",
       "131 M    D     13.0   NA\n",
       "132 M    D      5.0   NA\n",
       "133 M    D      8.5   NA\n",
       "134 M    D     11.0   NA\n",
       "135 M    E      3.0   NA\n",
       "136 M    D      6.0   NA\n",
       "137 M    E      4.0   NA\n",
       "138 M    D      7.5   NA\n",
       "139 K    D      8.0   NA\n",
       "140 M    D     10.5   NA\n",
       "141 M    B      1.0   NA"
      ]
     },
     "metadata": {},
     "output_type": "display_data"
    }
   ],
   "source": [
    "egzamin_ <- read.table('Egz_1.csv', header = T, sep = ';')\n",
    "egzamin_"
   ]
  },
  {
   "cell_type": "markdown",
   "metadata": {},
   "source": [
    "Pobierz z kolumny `punkty` trzydzieści próbek (każda 10-elementowa, pozwalamy na powtórzenia)\n",
    "i przechowaj pod zmienną multiSample_.\n",
    "// W celu jednoczesnego wygenerowania wielu próbek, użyj funkcji replicate(...), która jako I\n",
    "argument przyjmuje pożądaną liczbę próbek natomiast jako II argument – charakterystykę próbki tj.\n",
    "sample(..dane z których pobieramy próbkę.., ..liczebność próbki.., replace=T ).//"
   ]
  },
  {
   "cell_type": "code",
   "execution_count": 29,
   "metadata": {
    "vscode": {
     "languageId": "r"
    }
   },
   "outputs": [
    {
     "data": {
      "text/html": [
       "<table class=\"dataframe\">\n",
       "<caption>A matrix: 10 × 30 of type dbl</caption>\n",
       "<tbody>\n",
       "\t<tr><td>11.0</td><td> 9.0</td><td> 5.0</td><td> 8.0</td><td>10.0</td><td> 9.5</td><td> 9.0</td><td>12.0</td><td> 7.0</td><td> 5.5</td><td>⋯</td><td>10.5</td><td> 7.5</td><td>10.0</td><td> 5.0</td><td> 7.0</td><td> 9.0</td><td>12.0</td><td> 0.0</td><td> 9.0</td><td> 8.5</td></tr>\n",
       "\t<tr><td> 9.0</td><td> 5.0</td><td> 3.0</td><td> 4.0</td><td> 8.5</td><td> 7.0</td><td> 6.0</td><td> 7.5</td><td> 7.0</td><td> 8.0</td><td>⋯</td><td> 9.0</td><td> 1.5</td><td>11.0</td><td>10.5</td><td> 3.0</td><td>12.0</td><td>11.0</td><td>14.0</td><td>11.5</td><td> 8.0</td></tr>\n",
       "\t<tr><td> 9.5</td><td>10.5</td><td> 9.5</td><td>10.5</td><td> 3.5</td><td> 7.5</td><td>11.0</td><td> 6.0</td><td>10.5</td><td> 0.0</td><td>⋯</td><td> 5.0</td><td> 7.5</td><td> 9.0</td><td> 3.0</td><td>10.0</td><td> 7.0</td><td>12.5</td><td>12.0</td><td> 9.5</td><td>10.0</td></tr>\n",
       "\t<tr><td> 4.0</td><td> 9.0</td><td>12.0</td><td>13.0</td><td>11.5</td><td> 4.0</td><td>11.0</td><td> 6.5</td><td>11.0</td><td> 0.0</td><td>⋯</td><td> 7.0</td><td> 9.0</td><td> 7.5</td><td>11.5</td><td> 9.0</td><td> 3.0</td><td>11.0</td><td> 5.5</td><td> 9.0</td><td> 9.0</td></tr>\n",
       "\t<tr><td>11.0</td><td>12.0</td><td> 9.0</td><td> 3.0</td><td> 7.5</td><td> 8.0</td><td> 9.0</td><td>10.5</td><td> 0.0</td><td>10.0</td><td>⋯</td><td>11.0</td><td>10.5</td><td> 6.0</td><td>10.0</td><td> 9.0</td><td> 8.0</td><td>12.0</td><td> 5.5</td><td>11.0</td><td>10.0</td></tr>\n",
       "\t<tr><td>12.5</td><td> 7.0</td><td> 8.5</td><td> 0.0</td><td> 1.0</td><td> 8.5</td><td>11.0</td><td>11.0</td><td>13.0</td><td> 8.5</td><td>⋯</td><td> 3.5</td><td> 9.5</td><td> 6.0</td><td>12.5</td><td>11.5</td><td> 9.5</td><td> 9.5</td><td> 6.5</td><td> 1.0</td><td> 1.0</td></tr>\n",
       "\t<tr><td> 7.5</td><td> 4.0</td><td> 4.0</td><td>10.0</td><td>10.5</td><td>11.5</td><td>14.0</td><td> 8.0</td><td>10.0</td><td>12.0</td><td>⋯</td><td>12.0</td><td> 8.5</td><td> 7.0</td><td>11.0</td><td> 6.5</td><td> 0.0</td><td> 6.0</td><td> 3.5</td><td>11.0</td><td> 8.0</td></tr>\n",
       "\t<tr><td> 8.5</td><td>10.5</td><td>12.0</td><td> 7.0</td><td>11.5</td><td> 9.0</td><td>10.5</td><td>10.0</td><td>11.5</td><td> 7.5</td><td>⋯</td><td> 9.5</td><td> 0.0</td><td> 9.5</td><td> 7.0</td><td> 8.5</td><td>11.0</td><td> 9.0</td><td> 0.0</td><td> 8.5</td><td>12.0</td></tr>\n",
       "\t<tr><td> 0.0</td><td> 0.0</td><td>10.0</td><td>10.5</td><td> 5.0</td><td>12.0</td><td> 9.0</td><td> 6.5</td><td>12.0</td><td> 6.0</td><td>⋯</td><td>11.5</td><td>12.0</td><td> 7.0</td><td>10.5</td><td>10.0</td><td>11.5</td><td> 9.0</td><td>11.0</td><td>12.0</td><td> 5.0</td></tr>\n",
       "\t<tr><td> 9.0</td><td>11.5</td><td> 9.0</td><td> 6.5</td><td> 9.0</td><td> 9.0</td><td>11.5</td><td> 5.0</td><td> 9.5</td><td>10.5</td><td>⋯</td><td>11.5</td><td> 6.5</td><td>10.5</td><td>14.0</td><td>12.0</td><td>12.0</td><td>10.0</td><td>11.5</td><td> 8.0</td><td>10.0</td></tr>\n",
       "</tbody>\n",
       "</table>\n"
      ],
      "text/latex": [
       "A matrix: 10 × 30 of type dbl\n",
       "\\begin{tabular}{lllllllllllllllllllll}\n",
       "\t 11.0 &  9.0 &  5.0 &  8.0 & 10.0 &  9.5 &  9.0 & 12.0 &  7.0 &  5.5 & ⋯ & 10.5 &  7.5 & 10.0 &  5.0 &  7.0 &  9.0 & 12.0 &  0.0 &  9.0 &  8.5\\\\\n",
       "\t  9.0 &  5.0 &  3.0 &  4.0 &  8.5 &  7.0 &  6.0 &  7.5 &  7.0 &  8.0 & ⋯ &  9.0 &  1.5 & 11.0 & 10.5 &  3.0 & 12.0 & 11.0 & 14.0 & 11.5 &  8.0\\\\\n",
       "\t  9.5 & 10.5 &  9.5 & 10.5 &  3.5 &  7.5 & 11.0 &  6.0 & 10.5 &  0.0 & ⋯ &  5.0 &  7.5 &  9.0 &  3.0 & 10.0 &  7.0 & 12.5 & 12.0 &  9.5 & 10.0\\\\\n",
       "\t  4.0 &  9.0 & 12.0 & 13.0 & 11.5 &  4.0 & 11.0 &  6.5 & 11.0 &  0.0 & ⋯ &  7.0 &  9.0 &  7.5 & 11.5 &  9.0 &  3.0 & 11.0 &  5.5 &  9.0 &  9.0\\\\\n",
       "\t 11.0 & 12.0 &  9.0 &  3.0 &  7.5 &  8.0 &  9.0 & 10.5 &  0.0 & 10.0 & ⋯ & 11.0 & 10.5 &  6.0 & 10.0 &  9.0 &  8.0 & 12.0 &  5.5 & 11.0 & 10.0\\\\\n",
       "\t 12.5 &  7.0 &  8.5 &  0.0 &  1.0 &  8.5 & 11.0 & 11.0 & 13.0 &  8.5 & ⋯ &  3.5 &  9.5 &  6.0 & 12.5 & 11.5 &  9.5 &  9.5 &  6.5 &  1.0 &  1.0\\\\\n",
       "\t  7.5 &  4.0 &  4.0 & 10.0 & 10.5 & 11.5 & 14.0 &  8.0 & 10.0 & 12.0 & ⋯ & 12.0 &  8.5 &  7.0 & 11.0 &  6.5 &  0.0 &  6.0 &  3.5 & 11.0 &  8.0\\\\\n",
       "\t  8.5 & 10.5 & 12.0 &  7.0 & 11.5 &  9.0 & 10.5 & 10.0 & 11.5 &  7.5 & ⋯ &  9.5 &  0.0 &  9.5 &  7.0 &  8.5 & 11.0 &  9.0 &  0.0 &  8.5 & 12.0\\\\\n",
       "\t  0.0 &  0.0 & 10.0 & 10.5 &  5.0 & 12.0 &  9.0 &  6.5 & 12.0 &  6.0 & ⋯ & 11.5 & 12.0 &  7.0 & 10.5 & 10.0 & 11.5 &  9.0 & 11.0 & 12.0 &  5.0\\\\\n",
       "\t  9.0 & 11.5 &  9.0 &  6.5 &  9.0 &  9.0 & 11.5 &  5.0 &  9.5 & 10.5 & ⋯ & 11.5 &  6.5 & 10.5 & 14.0 & 12.0 & 12.0 & 10.0 & 11.5 &  8.0 & 10.0\\\\\n",
       "\\end{tabular}\n"
      ],
      "text/markdown": [
       "\n",
       "A matrix: 10 × 30 of type dbl\n",
       "\n",
       "| 11.0 |  9.0 |  5.0 |  8.0 | 10.0 |  9.5 |  9.0 | 12.0 |  7.0 |  5.5 | ⋯ | 10.5 |  7.5 | 10.0 |  5.0 |  7.0 |  9.0 | 12.0 |  0.0 |  9.0 |  8.5 |\n",
       "|  9.0 |  5.0 |  3.0 |  4.0 |  8.5 |  7.0 |  6.0 |  7.5 |  7.0 |  8.0 | ⋯ |  9.0 |  1.5 | 11.0 | 10.5 |  3.0 | 12.0 | 11.0 | 14.0 | 11.5 |  8.0 |\n",
       "|  9.5 | 10.5 |  9.5 | 10.5 |  3.5 |  7.5 | 11.0 |  6.0 | 10.5 |  0.0 | ⋯ |  5.0 |  7.5 |  9.0 |  3.0 | 10.0 |  7.0 | 12.5 | 12.0 |  9.5 | 10.0 |\n",
       "|  4.0 |  9.0 | 12.0 | 13.0 | 11.5 |  4.0 | 11.0 |  6.5 | 11.0 |  0.0 | ⋯ |  7.0 |  9.0 |  7.5 | 11.5 |  9.0 |  3.0 | 11.0 |  5.5 |  9.0 |  9.0 |\n",
       "| 11.0 | 12.0 |  9.0 |  3.0 |  7.5 |  8.0 |  9.0 | 10.5 |  0.0 | 10.0 | ⋯ | 11.0 | 10.5 |  6.0 | 10.0 |  9.0 |  8.0 | 12.0 |  5.5 | 11.0 | 10.0 |\n",
       "| 12.5 |  7.0 |  8.5 |  0.0 |  1.0 |  8.5 | 11.0 | 11.0 | 13.0 |  8.5 | ⋯ |  3.5 |  9.5 |  6.0 | 12.5 | 11.5 |  9.5 |  9.5 |  6.5 |  1.0 |  1.0 |\n",
       "|  7.5 |  4.0 |  4.0 | 10.0 | 10.5 | 11.5 | 14.0 |  8.0 | 10.0 | 12.0 | ⋯ | 12.0 |  8.5 |  7.0 | 11.0 |  6.5 |  0.0 |  6.0 |  3.5 | 11.0 |  8.0 |\n",
       "|  8.5 | 10.5 | 12.0 |  7.0 | 11.5 |  9.0 | 10.5 | 10.0 | 11.5 |  7.5 | ⋯ |  9.5 |  0.0 |  9.5 |  7.0 |  8.5 | 11.0 |  9.0 |  0.0 |  8.5 | 12.0 |\n",
       "|  0.0 |  0.0 | 10.0 | 10.5 |  5.0 | 12.0 |  9.0 |  6.5 | 12.0 |  6.0 | ⋯ | 11.5 | 12.0 |  7.0 | 10.5 | 10.0 | 11.5 |  9.0 | 11.0 | 12.0 |  5.0 |\n",
       "|  9.0 | 11.5 |  9.0 |  6.5 |  9.0 |  9.0 | 11.5 |  5.0 |  9.5 | 10.5 | ⋯ | 11.5 |  6.5 | 10.5 | 14.0 | 12.0 | 12.0 | 10.0 | 11.5 |  8.0 | 10.0 |\n",
       "\n"
      ],
      "text/plain": [
       "      [,1] [,2] [,3] [,4] [,5] [,6] [,7] [,8] [,9] [,10] [,11] [,12] [,13]\n",
       " [1,] 11.0  9.0  5.0  8.0 10.0  9.5  9.0 12.0  7.0  5.5  ⋯     10.5   7.5 \n",
       " [2,]  9.0  5.0  3.0  4.0  8.5  7.0  6.0  7.5  7.0  8.0  ⋯      9.0   1.5 \n",
       " [3,]  9.5 10.5  9.5 10.5  3.5  7.5 11.0  6.0 10.5  0.0  ⋯      5.0   7.5 \n",
       " [4,]  4.0  9.0 12.0 13.0 11.5  4.0 11.0  6.5 11.0  0.0  ⋯      7.0   9.0 \n",
       " [5,] 11.0 12.0  9.0  3.0  7.5  8.0  9.0 10.5  0.0 10.0  ⋯     11.0  10.5 \n",
       " [6,] 12.5  7.0  8.5  0.0  1.0  8.5 11.0 11.0 13.0  8.5  ⋯      3.5   9.5 \n",
       " [7,]  7.5  4.0  4.0 10.0 10.5 11.5 14.0  8.0 10.0 12.0  ⋯     12.0   8.5 \n",
       " [8,]  8.5 10.5 12.0  7.0 11.5  9.0 10.5 10.0 11.5  7.5  ⋯      9.5   0.0 \n",
       " [9,]  0.0  0.0 10.0 10.5  5.0 12.0  9.0  6.5 12.0  6.0  ⋯     11.5  12.0 \n",
       "[10,]  9.0 11.5  9.0  6.5  9.0  9.0 11.5  5.0  9.5 10.5  ⋯     11.5   6.5 \n",
       "      [,14] [,15] [,16] [,17] [,18] [,19] [,20] [,21]\n",
       " [1,] 10.0   5.0   7.0   9.0  12.0   0.0   9.0   8.5 \n",
       " [2,] 11.0  10.5   3.0  12.0  11.0  14.0  11.5   8.0 \n",
       " [3,]  9.0   3.0  10.0   7.0  12.5  12.0   9.5  10.0 \n",
       " [4,]  7.5  11.5   9.0   3.0  11.0   5.5   9.0   9.0 \n",
       " [5,]  6.0  10.0   9.0   8.0  12.0   5.5  11.0  10.0 \n",
       " [6,]  6.0  12.5  11.5   9.5   9.5   6.5   1.0   1.0 \n",
       " [7,]  7.0  11.0   6.5   0.0   6.0   3.5  11.0   8.0 \n",
       " [8,]  9.5   7.0   8.5  11.0   9.0   0.0   8.5  12.0 \n",
       " [9,]  7.0  10.5  10.0  11.5   9.0  11.0  12.0   5.0 \n",
       "[10,] 10.5  14.0  12.0  12.0  10.0  11.5   8.0  10.0 "
      ]
     },
     "metadata": {},
     "output_type": "display_data"
    }
   ],
   "source": [
    "multiSample_ <- replicate(30, sample(egzamin_$punkty, 10, replace = T))\n",
    "multiSample_"
   ]
  },
  {
   "cell_type": "markdown",
   "metadata": {},
   "source": [
    "\n",
    "Dla każdej z trzydziestu uzyskanych próbek policz średnią, odchylenie standardowe, medianę,\n",
    "wartość najmniejszą i największą. W tym celu, dla dogodniejszego odczytu danych w uzyskanej\n",
    "tablicy multiSample_, przetransponuj ją i zapisz pod nazwą transposed_.\n"
   ]
  },
  {
   "cell_type": "code",
   "execution_count": 30,
   "metadata": {
    "vscode": {
     "languageId": "r"
    }
   },
   "outputs": [
    {
     "data": {
      "text/html": [
       "<table class=\"dataframe\">\n",
       "<caption>A matrix: 30 × 10 of type dbl</caption>\n",
       "<tbody>\n",
       "\t<tr><td>11.0</td><td> 9.0</td><td> 9.5</td><td> 4.0</td><td>11.0</td><td>12.5</td><td> 7.5</td><td> 8.5</td><td> 0.0</td><td> 9.0</td></tr>\n",
       "\t<tr><td> 9.0</td><td> 5.0</td><td>10.5</td><td> 9.0</td><td>12.0</td><td> 7.0</td><td> 4.0</td><td>10.5</td><td> 0.0</td><td>11.5</td></tr>\n",
       "\t<tr><td> 5.0</td><td> 3.0</td><td> 9.5</td><td>12.0</td><td> 9.0</td><td> 8.5</td><td> 4.0</td><td>12.0</td><td>10.0</td><td> 9.0</td></tr>\n",
       "\t<tr><td> 8.0</td><td> 4.0</td><td>10.5</td><td>13.0</td><td> 3.0</td><td> 0.0</td><td>10.0</td><td> 7.0</td><td>10.5</td><td> 6.5</td></tr>\n",
       "\t<tr><td>10.0</td><td> 8.5</td><td> 3.5</td><td>11.5</td><td> 7.5</td><td> 1.0</td><td>10.5</td><td>11.5</td><td> 5.0</td><td> 9.0</td></tr>\n",
       "\t<tr><td> 9.5</td><td> 7.0</td><td> 7.5</td><td> 4.0</td><td> 8.0</td><td> 8.5</td><td>11.5</td><td> 9.0</td><td>12.0</td><td> 9.0</td></tr>\n",
       "\t<tr><td> 9.0</td><td> 6.0</td><td>11.0</td><td>11.0</td><td> 9.0</td><td>11.0</td><td>14.0</td><td>10.5</td><td> 9.0</td><td>11.5</td></tr>\n",
       "\t<tr><td>12.0</td><td> 7.5</td><td> 6.0</td><td> 6.5</td><td>10.5</td><td>11.0</td><td> 8.0</td><td>10.0</td><td> 6.5</td><td> 5.0</td></tr>\n",
       "\t<tr><td> 7.0</td><td> 7.0</td><td>10.5</td><td>11.0</td><td> 0.0</td><td>13.0</td><td>10.0</td><td>11.5</td><td>12.0</td><td> 9.5</td></tr>\n",
       "\t<tr><td> 5.5</td><td> 8.0</td><td> 0.0</td><td> 0.0</td><td>10.0</td><td> 8.5</td><td>12.0</td><td> 7.5</td><td> 6.0</td><td>10.5</td></tr>\n",
       "\t<tr><td> 6.0</td><td> 9.5</td><td>12.0</td><td> 7.0</td><td> 6.5</td><td> 5.0</td><td> 7.0</td><td> 9.0</td><td>10.0</td><td>10.0</td></tr>\n",
       "\t<tr><td> 0.0</td><td> 8.0</td><td> 7.0</td><td> 9.0</td><td> 3.0</td><td> 0.0</td><td>10.5</td><td>11.5</td><td> 8.0</td><td> 7.0</td></tr>\n",
       "\t<tr><td>12.5</td><td>12.0</td><td> 2.5</td><td> 9.5</td><td> 9.5</td><td>11.5</td><td> 4.0</td><td> 7.5</td><td>12.5</td><td> 9.5</td></tr>\n",
       "\t<tr><td>10.0</td><td> 9.5</td><td>11.5</td><td> 6.0</td><td>11.5</td><td>10.5</td><td> 9.0</td><td> 7.0</td><td> 7.5</td><td> 7.0</td></tr>\n",
       "\t<tr><td> 9.5</td><td> 7.0</td><td> 9.5</td><td>10.0</td><td> 7.0</td><td> 7.5</td><td> 6.5</td><td> 1.0</td><td>12.0</td><td> 7.5</td></tr>\n",
       "\t<tr><td> 8.0</td><td> 9.0</td><td>10.5</td><td> 4.0</td><td> 8.5</td><td>13.0</td><td> 4.0</td><td> 9.5</td><td>11.5</td><td>11.0</td></tr>\n",
       "\t<tr><td>10.5</td><td> 7.0</td><td>12.0</td><td> 0.0</td><td> 6.5</td><td>10.5</td><td> 1.0</td><td>11.0</td><td>10.5</td><td> 9.0</td></tr>\n",
       "\t<tr><td> 0.0</td><td> 0.0</td><td>11.5</td><td>11.5</td><td>12.0</td><td> 9.0</td><td> 8.0</td><td>10.5</td><td>13.0</td><td>10.5</td></tr>\n",
       "\t<tr><td> 9.0</td><td> 8.5</td><td> 9.0</td><td>12.5</td><td> 1.0</td><td> 8.0</td><td> 4.0</td><td> 7.5</td><td> 8.0</td><td>10.0</td></tr>\n",
       "\t<tr><td> 8.0</td><td>11.0</td><td> 9.0</td><td>10.5</td><td>10.0</td><td>12.0</td><td> 9.0</td><td> 2.5</td><td> 9.5</td><td>10.5</td></tr>\n",
       "\t<tr><td>10.5</td><td> 9.0</td><td> 5.0</td><td> 7.0</td><td>11.0</td><td> 3.5</td><td>12.0</td><td> 9.5</td><td>11.5</td><td>11.5</td></tr>\n",
       "\t<tr><td> 7.5</td><td> 1.5</td><td> 7.5</td><td> 9.0</td><td>10.5</td><td> 9.5</td><td> 8.5</td><td> 0.0</td><td>12.0</td><td> 6.5</td></tr>\n",
       "\t<tr><td>10.0</td><td>11.0</td><td> 9.0</td><td> 7.5</td><td> 6.0</td><td> 6.0</td><td> 7.0</td><td> 9.5</td><td> 7.0</td><td>10.5</td></tr>\n",
       "\t<tr><td> 5.0</td><td>10.5</td><td> 3.0</td><td>11.5</td><td>10.0</td><td>12.5</td><td>11.0</td><td> 7.0</td><td>10.5</td><td>14.0</td></tr>\n",
       "\t<tr><td> 7.0</td><td> 3.0</td><td>10.0</td><td> 9.0</td><td> 9.0</td><td>11.5</td><td> 6.5</td><td> 8.5</td><td>10.0</td><td>12.0</td></tr>\n",
       "\t<tr><td> 9.0</td><td>12.0</td><td> 7.0</td><td> 3.0</td><td> 8.0</td><td> 9.5</td><td> 0.0</td><td>11.0</td><td>11.5</td><td>12.0</td></tr>\n",
       "\t<tr><td>12.0</td><td>11.0</td><td>12.5</td><td>11.0</td><td>12.0</td><td> 9.5</td><td> 6.0</td><td> 9.0</td><td> 9.0</td><td>10.0</td></tr>\n",
       "\t<tr><td> 0.0</td><td>14.0</td><td>12.0</td><td> 5.5</td><td> 5.5</td><td> 6.5</td><td> 3.5</td><td> 0.0</td><td>11.0</td><td>11.5</td></tr>\n",
       "\t<tr><td> 9.0</td><td>11.5</td><td> 9.5</td><td> 9.0</td><td>11.0</td><td> 1.0</td><td>11.0</td><td> 8.5</td><td>12.0</td><td> 8.0</td></tr>\n",
       "\t<tr><td> 8.5</td><td> 8.0</td><td>10.0</td><td> 9.0</td><td>10.0</td><td> 1.0</td><td> 8.0</td><td>12.0</td><td> 5.0</td><td>10.0</td></tr>\n",
       "</tbody>\n",
       "</table>\n"
      ],
      "text/latex": [
       "A matrix: 30 × 10 of type dbl\n",
       "\\begin{tabular}{llllllllll}\n",
       "\t 11.0 &  9.0 &  9.5 &  4.0 & 11.0 & 12.5 &  7.5 &  8.5 &  0.0 &  9.0\\\\\n",
       "\t  9.0 &  5.0 & 10.5 &  9.0 & 12.0 &  7.0 &  4.0 & 10.5 &  0.0 & 11.5\\\\\n",
       "\t  5.0 &  3.0 &  9.5 & 12.0 &  9.0 &  8.5 &  4.0 & 12.0 & 10.0 &  9.0\\\\\n",
       "\t  8.0 &  4.0 & 10.5 & 13.0 &  3.0 &  0.0 & 10.0 &  7.0 & 10.5 &  6.5\\\\\n",
       "\t 10.0 &  8.5 &  3.5 & 11.5 &  7.5 &  1.0 & 10.5 & 11.5 &  5.0 &  9.0\\\\\n",
       "\t  9.5 &  7.0 &  7.5 &  4.0 &  8.0 &  8.5 & 11.5 &  9.0 & 12.0 &  9.0\\\\\n",
       "\t  9.0 &  6.0 & 11.0 & 11.0 &  9.0 & 11.0 & 14.0 & 10.5 &  9.0 & 11.5\\\\\n",
       "\t 12.0 &  7.5 &  6.0 &  6.5 & 10.5 & 11.0 &  8.0 & 10.0 &  6.5 &  5.0\\\\\n",
       "\t  7.0 &  7.0 & 10.5 & 11.0 &  0.0 & 13.0 & 10.0 & 11.5 & 12.0 &  9.5\\\\\n",
       "\t  5.5 &  8.0 &  0.0 &  0.0 & 10.0 &  8.5 & 12.0 &  7.5 &  6.0 & 10.5\\\\\n",
       "\t  6.0 &  9.5 & 12.0 &  7.0 &  6.5 &  5.0 &  7.0 &  9.0 & 10.0 & 10.0\\\\\n",
       "\t  0.0 &  8.0 &  7.0 &  9.0 &  3.0 &  0.0 & 10.5 & 11.5 &  8.0 &  7.0\\\\\n",
       "\t 12.5 & 12.0 &  2.5 &  9.5 &  9.5 & 11.5 &  4.0 &  7.5 & 12.5 &  9.5\\\\\n",
       "\t 10.0 &  9.5 & 11.5 &  6.0 & 11.5 & 10.5 &  9.0 &  7.0 &  7.5 &  7.0\\\\\n",
       "\t  9.5 &  7.0 &  9.5 & 10.0 &  7.0 &  7.5 &  6.5 &  1.0 & 12.0 &  7.5\\\\\n",
       "\t  8.0 &  9.0 & 10.5 &  4.0 &  8.5 & 13.0 &  4.0 &  9.5 & 11.5 & 11.0\\\\\n",
       "\t 10.5 &  7.0 & 12.0 &  0.0 &  6.5 & 10.5 &  1.0 & 11.0 & 10.5 &  9.0\\\\\n",
       "\t  0.0 &  0.0 & 11.5 & 11.5 & 12.0 &  9.0 &  8.0 & 10.5 & 13.0 & 10.5\\\\\n",
       "\t  9.0 &  8.5 &  9.0 & 12.5 &  1.0 &  8.0 &  4.0 &  7.5 &  8.0 & 10.0\\\\\n",
       "\t  8.0 & 11.0 &  9.0 & 10.5 & 10.0 & 12.0 &  9.0 &  2.5 &  9.5 & 10.5\\\\\n",
       "\t 10.5 &  9.0 &  5.0 &  7.0 & 11.0 &  3.5 & 12.0 &  9.5 & 11.5 & 11.5\\\\\n",
       "\t  7.5 &  1.5 &  7.5 &  9.0 & 10.5 &  9.5 &  8.5 &  0.0 & 12.0 &  6.5\\\\\n",
       "\t 10.0 & 11.0 &  9.0 &  7.5 &  6.0 &  6.0 &  7.0 &  9.5 &  7.0 & 10.5\\\\\n",
       "\t  5.0 & 10.5 &  3.0 & 11.5 & 10.0 & 12.5 & 11.0 &  7.0 & 10.5 & 14.0\\\\\n",
       "\t  7.0 &  3.0 & 10.0 &  9.0 &  9.0 & 11.5 &  6.5 &  8.5 & 10.0 & 12.0\\\\\n",
       "\t  9.0 & 12.0 &  7.0 &  3.0 &  8.0 &  9.5 &  0.0 & 11.0 & 11.5 & 12.0\\\\\n",
       "\t 12.0 & 11.0 & 12.5 & 11.0 & 12.0 &  9.5 &  6.0 &  9.0 &  9.0 & 10.0\\\\\n",
       "\t  0.0 & 14.0 & 12.0 &  5.5 &  5.5 &  6.5 &  3.5 &  0.0 & 11.0 & 11.5\\\\\n",
       "\t  9.0 & 11.5 &  9.5 &  9.0 & 11.0 &  1.0 & 11.0 &  8.5 & 12.0 &  8.0\\\\\n",
       "\t  8.5 &  8.0 & 10.0 &  9.0 & 10.0 &  1.0 &  8.0 & 12.0 &  5.0 & 10.0\\\\\n",
       "\\end{tabular}\n"
      ],
      "text/markdown": [
       "\n",
       "A matrix: 30 × 10 of type dbl\n",
       "\n",
       "| 11.0 |  9.0 |  9.5 |  4.0 | 11.0 | 12.5 |  7.5 |  8.5 |  0.0 |  9.0 |\n",
       "|  9.0 |  5.0 | 10.5 |  9.0 | 12.0 |  7.0 |  4.0 | 10.5 |  0.0 | 11.5 |\n",
       "|  5.0 |  3.0 |  9.5 | 12.0 |  9.0 |  8.5 |  4.0 | 12.0 | 10.0 |  9.0 |\n",
       "|  8.0 |  4.0 | 10.5 | 13.0 |  3.0 |  0.0 | 10.0 |  7.0 | 10.5 |  6.5 |\n",
       "| 10.0 |  8.5 |  3.5 | 11.5 |  7.5 |  1.0 | 10.5 | 11.5 |  5.0 |  9.0 |\n",
       "|  9.5 |  7.0 |  7.5 |  4.0 |  8.0 |  8.5 | 11.5 |  9.0 | 12.0 |  9.0 |\n",
       "|  9.0 |  6.0 | 11.0 | 11.0 |  9.0 | 11.0 | 14.0 | 10.5 |  9.0 | 11.5 |\n",
       "| 12.0 |  7.5 |  6.0 |  6.5 | 10.5 | 11.0 |  8.0 | 10.0 |  6.5 |  5.0 |\n",
       "|  7.0 |  7.0 | 10.5 | 11.0 |  0.0 | 13.0 | 10.0 | 11.5 | 12.0 |  9.5 |\n",
       "|  5.5 |  8.0 |  0.0 |  0.0 | 10.0 |  8.5 | 12.0 |  7.5 |  6.0 | 10.5 |\n",
       "|  6.0 |  9.5 | 12.0 |  7.0 |  6.5 |  5.0 |  7.0 |  9.0 | 10.0 | 10.0 |\n",
       "|  0.0 |  8.0 |  7.0 |  9.0 |  3.0 |  0.0 | 10.5 | 11.5 |  8.0 |  7.0 |\n",
       "| 12.5 | 12.0 |  2.5 |  9.5 |  9.5 | 11.5 |  4.0 |  7.5 | 12.5 |  9.5 |\n",
       "| 10.0 |  9.5 | 11.5 |  6.0 | 11.5 | 10.5 |  9.0 |  7.0 |  7.5 |  7.0 |\n",
       "|  9.5 |  7.0 |  9.5 | 10.0 |  7.0 |  7.5 |  6.5 |  1.0 | 12.0 |  7.5 |\n",
       "|  8.0 |  9.0 | 10.5 |  4.0 |  8.5 | 13.0 |  4.0 |  9.5 | 11.5 | 11.0 |\n",
       "| 10.5 |  7.0 | 12.0 |  0.0 |  6.5 | 10.5 |  1.0 | 11.0 | 10.5 |  9.0 |\n",
       "|  0.0 |  0.0 | 11.5 | 11.5 | 12.0 |  9.0 |  8.0 | 10.5 | 13.0 | 10.5 |\n",
       "|  9.0 |  8.5 |  9.0 | 12.5 |  1.0 |  8.0 |  4.0 |  7.5 |  8.0 | 10.0 |\n",
       "|  8.0 | 11.0 |  9.0 | 10.5 | 10.0 | 12.0 |  9.0 |  2.5 |  9.5 | 10.5 |\n",
       "| 10.5 |  9.0 |  5.0 |  7.0 | 11.0 |  3.5 | 12.0 |  9.5 | 11.5 | 11.5 |\n",
       "|  7.5 |  1.5 |  7.5 |  9.0 | 10.5 |  9.5 |  8.5 |  0.0 | 12.0 |  6.5 |\n",
       "| 10.0 | 11.0 |  9.0 |  7.5 |  6.0 |  6.0 |  7.0 |  9.5 |  7.0 | 10.5 |\n",
       "|  5.0 | 10.5 |  3.0 | 11.5 | 10.0 | 12.5 | 11.0 |  7.0 | 10.5 | 14.0 |\n",
       "|  7.0 |  3.0 | 10.0 |  9.0 |  9.0 | 11.5 |  6.5 |  8.5 | 10.0 | 12.0 |\n",
       "|  9.0 | 12.0 |  7.0 |  3.0 |  8.0 |  9.5 |  0.0 | 11.0 | 11.5 | 12.0 |\n",
       "| 12.0 | 11.0 | 12.5 | 11.0 | 12.0 |  9.5 |  6.0 |  9.0 |  9.0 | 10.0 |\n",
       "|  0.0 | 14.0 | 12.0 |  5.5 |  5.5 |  6.5 |  3.5 |  0.0 | 11.0 | 11.5 |\n",
       "|  9.0 | 11.5 |  9.5 |  9.0 | 11.0 |  1.0 | 11.0 |  8.5 | 12.0 |  8.0 |\n",
       "|  8.5 |  8.0 | 10.0 |  9.0 | 10.0 |  1.0 |  8.0 | 12.0 |  5.0 | 10.0 |\n",
       "\n"
      ],
      "text/plain": [
       "      [,1] [,2] [,3] [,4] [,5] [,6] [,7] [,8] [,9] [,10]\n",
       " [1,] 11.0  9.0  9.5  4.0 11.0 12.5  7.5  8.5  0.0  9.0 \n",
       " [2,]  9.0  5.0 10.5  9.0 12.0  7.0  4.0 10.5  0.0 11.5 \n",
       " [3,]  5.0  3.0  9.5 12.0  9.0  8.5  4.0 12.0 10.0  9.0 \n",
       " [4,]  8.0  4.0 10.5 13.0  3.0  0.0 10.0  7.0 10.5  6.5 \n",
       " [5,] 10.0  8.5  3.5 11.5  7.5  1.0 10.5 11.5  5.0  9.0 \n",
       " [6,]  9.5  7.0  7.5  4.0  8.0  8.5 11.5  9.0 12.0  9.0 \n",
       " [7,]  9.0  6.0 11.0 11.0  9.0 11.0 14.0 10.5  9.0 11.5 \n",
       " [8,] 12.0  7.5  6.0  6.5 10.5 11.0  8.0 10.0  6.5  5.0 \n",
       " [9,]  7.0  7.0 10.5 11.0  0.0 13.0 10.0 11.5 12.0  9.5 \n",
       "[10,]  5.5  8.0  0.0  0.0 10.0  8.5 12.0  7.5  6.0 10.5 \n",
       "[11,]  6.0  9.5 12.0  7.0  6.5  5.0  7.0  9.0 10.0 10.0 \n",
       "[12,]  0.0  8.0  7.0  9.0  3.0  0.0 10.5 11.5  8.0  7.0 \n",
       "[13,] 12.5 12.0  2.5  9.5  9.5 11.5  4.0  7.5 12.5  9.5 \n",
       "[14,] 10.0  9.5 11.5  6.0 11.5 10.5  9.0  7.0  7.5  7.0 \n",
       "[15,]  9.5  7.0  9.5 10.0  7.0  7.5  6.5  1.0 12.0  7.5 \n",
       "[16,]  8.0  9.0 10.5  4.0  8.5 13.0  4.0  9.5 11.5 11.0 \n",
       "[17,] 10.5  7.0 12.0  0.0  6.5 10.5  1.0 11.0 10.5  9.0 \n",
       "[18,]  0.0  0.0 11.5 11.5 12.0  9.0  8.0 10.5 13.0 10.5 \n",
       "[19,]  9.0  8.5  9.0 12.5  1.0  8.0  4.0  7.5  8.0 10.0 \n",
       "[20,]  8.0 11.0  9.0 10.5 10.0 12.0  9.0  2.5  9.5 10.5 \n",
       "[21,] 10.5  9.0  5.0  7.0 11.0  3.5 12.0  9.5 11.5 11.5 \n",
       "[22,]  7.5  1.5  7.5  9.0 10.5  9.5  8.5  0.0 12.0  6.5 \n",
       "[23,] 10.0 11.0  9.0  7.5  6.0  6.0  7.0  9.5  7.0 10.5 \n",
       "[24,]  5.0 10.5  3.0 11.5 10.0 12.5 11.0  7.0 10.5 14.0 \n",
       "[25,]  7.0  3.0 10.0  9.0  9.0 11.5  6.5  8.5 10.0 12.0 \n",
       "[26,]  9.0 12.0  7.0  3.0  8.0  9.5  0.0 11.0 11.5 12.0 \n",
       "[27,] 12.0 11.0 12.5 11.0 12.0  9.5  6.0  9.0  9.0 10.0 \n",
       "[28,]  0.0 14.0 12.0  5.5  5.5  6.5  3.5  0.0 11.0 11.5 \n",
       "[29,]  9.0 11.5  9.5  9.0 11.0  1.0 11.0  8.5 12.0  8.0 \n",
       "[30,]  8.5  8.0 10.0  9.0 10.0  1.0  8.0 12.0  5.0 10.0 "
      ]
     },
     "metadata": {},
     "output_type": "display_data"
    }
   ],
   "source": [
    "transposed_ <- t(multiSample_)\n",
    "transposed_"
   ]
  },
  {
   "cell_type": "markdown",
   "metadata": {},
   "source": [
    "Wygeneruj wektor mean_ przechowujący średnie z wierszy tablicy transposed_. Analogicznie\n",
    "wygeneruj wektory sd_ , median_, min_ oraz max_ i dołącz 5 kolumn ‘Mean’, ‘Sd’, ‘Median’,\n",
    "‘Min’, ‘Max’ do ramki danych transposed_.\n"
   ]
  },
  {
   "cell_type": "code",
   "execution_count": 31,
   "metadata": {
    "vscode": {
     "languageId": "r"
    }
   },
   "outputs": [
    {
     "data": {
      "text/html": [
       "<table class=\"dataframe\">\n",
       "<caption>A data.frame: 30 × 15</caption>\n",
       "<thead>\n",
       "\t<tr><th scope=col>X1</th><th scope=col>X2</th><th scope=col>X3</th><th scope=col>X4</th><th scope=col>X5</th><th scope=col>X6</th><th scope=col>X7</th><th scope=col>X8</th><th scope=col>X9</th><th scope=col>X10</th><th scope=col>Mean</th><th scope=col>Sd</th><th scope=col>Median</th><th scope=col>Min</th><th scope=col>Max</th></tr>\n",
       "\t<tr><th scope=col>&lt;dbl&gt;</th><th scope=col>&lt;dbl&gt;</th><th scope=col>&lt;dbl&gt;</th><th scope=col>&lt;dbl&gt;</th><th scope=col>&lt;dbl&gt;</th><th scope=col>&lt;dbl&gt;</th><th scope=col>&lt;dbl&gt;</th><th scope=col>&lt;dbl&gt;</th><th scope=col>&lt;dbl&gt;</th><th scope=col>&lt;dbl&gt;</th><th scope=col>&lt;dbl&gt;</th><th scope=col>&lt;dbl&gt;</th><th scope=col>&lt;dbl&gt;</th><th scope=col>&lt;dbl&gt;</th><th scope=col>&lt;dbl&gt;</th></tr>\n",
       "</thead>\n",
       "<tbody>\n",
       "\t<tr><td>11.0</td><td> 9.0</td><td> 9.5</td><td> 4.0</td><td>11.0</td><td>12.5</td><td> 7.5</td><td> 8.5</td><td> 0.0</td><td> 9.0</td><td> 8.20</td><td>3.690829</td><td> 9.00</td><td>0.0</td><td>12.5</td></tr>\n",
       "\t<tr><td> 9.0</td><td> 5.0</td><td>10.5</td><td> 9.0</td><td>12.0</td><td> 7.0</td><td> 4.0</td><td>10.5</td><td> 0.0</td><td>11.5</td><td> 7.85</td><td>3.837317</td><td> 9.00</td><td>0.0</td><td>12.0</td></tr>\n",
       "\t<tr><td> 5.0</td><td> 3.0</td><td> 9.5</td><td>12.0</td><td> 9.0</td><td> 8.5</td><td> 4.0</td><td>12.0</td><td>10.0</td><td> 9.0</td><td> 8.20</td><td>3.164034</td><td> 9.00</td><td>3.0</td><td>12.0</td></tr>\n",
       "\t<tr><td> 8.0</td><td> 4.0</td><td>10.5</td><td>13.0</td><td> 3.0</td><td> 0.0</td><td>10.0</td><td> 7.0</td><td>10.5</td><td> 6.5</td><td> 7.25</td><td>4.001736</td><td> 7.50</td><td>0.0</td><td>13.0</td></tr>\n",
       "\t<tr><td>10.0</td><td> 8.5</td><td> 3.5</td><td>11.5</td><td> 7.5</td><td> 1.0</td><td>10.5</td><td>11.5</td><td> 5.0</td><td> 9.0</td><td> 7.80</td><td>3.560587</td><td> 8.75</td><td>1.0</td><td>11.5</td></tr>\n",
       "\t<tr><td> 9.5</td><td> 7.0</td><td> 7.5</td><td> 4.0</td><td> 8.0</td><td> 8.5</td><td>11.5</td><td> 9.0</td><td>12.0</td><td> 9.0</td><td> 8.60</td><td>2.270585</td><td> 8.75</td><td>4.0</td><td>12.0</td></tr>\n",
       "\t<tr><td> 9.0</td><td> 6.0</td><td>11.0</td><td>11.0</td><td> 9.0</td><td>11.0</td><td>14.0</td><td>10.5</td><td> 9.0</td><td>11.5</td><td>10.20</td><td>2.110819</td><td>10.75</td><td>6.0</td><td>14.0</td></tr>\n",
       "\t<tr><td>12.0</td><td> 7.5</td><td> 6.0</td><td> 6.5</td><td>10.5</td><td>11.0</td><td> 8.0</td><td>10.0</td><td> 6.5</td><td> 5.0</td><td> 8.30</td><td>2.406011</td><td> 7.75</td><td>5.0</td><td>12.0</td></tr>\n",
       "\t<tr><td> 7.0</td><td> 7.0</td><td>10.5</td><td>11.0</td><td> 0.0</td><td>13.0</td><td>10.0</td><td>11.5</td><td>12.0</td><td> 9.5</td><td> 9.15</td><td>3.764232</td><td>10.25</td><td>0.0</td><td>13.0</td></tr>\n",
       "\t<tr><td> 5.5</td><td> 8.0</td><td> 0.0</td><td> 0.0</td><td>10.0</td><td> 8.5</td><td>12.0</td><td> 7.5</td><td> 6.0</td><td>10.5</td><td> 6.80</td><td>4.090640</td><td> 7.75</td><td>0.0</td><td>12.0</td></tr>\n",
       "\t<tr><td> 6.0</td><td> 9.5</td><td>12.0</td><td> 7.0</td><td> 6.5</td><td> 5.0</td><td> 7.0</td><td> 9.0</td><td>10.0</td><td>10.0</td><td> 8.20</td><td>2.213594</td><td> 8.00</td><td>5.0</td><td>12.0</td></tr>\n",
       "\t<tr><td> 0.0</td><td> 8.0</td><td> 7.0</td><td> 9.0</td><td> 3.0</td><td> 0.0</td><td>10.5</td><td>11.5</td><td> 8.0</td><td> 7.0</td><td> 6.40</td><td>4.067486</td><td> 7.50</td><td>0.0</td><td>11.5</td></tr>\n",
       "\t<tr><td>12.5</td><td>12.0</td><td> 2.5</td><td> 9.5</td><td> 9.5</td><td>11.5</td><td> 4.0</td><td> 7.5</td><td>12.5</td><td> 9.5</td><td> 9.10</td><td>3.494440</td><td> 9.50</td><td>2.5</td><td>12.5</td></tr>\n",
       "\t<tr><td>10.0</td><td> 9.5</td><td>11.5</td><td> 6.0</td><td>11.5</td><td>10.5</td><td> 9.0</td><td> 7.0</td><td> 7.5</td><td> 7.0</td><td> 8.95</td><td>1.978355</td><td> 9.25</td><td>6.0</td><td>11.5</td></tr>\n",
       "\t<tr><td> 9.5</td><td> 7.0</td><td> 9.5</td><td>10.0</td><td> 7.0</td><td> 7.5</td><td> 6.5</td><td> 1.0</td><td>12.0</td><td> 7.5</td><td> 7.75</td><td>2.936835</td><td> 7.50</td><td>1.0</td><td>12.0</td></tr>\n",
       "\t<tr><td> 8.0</td><td> 9.0</td><td>10.5</td><td> 4.0</td><td> 8.5</td><td>13.0</td><td> 4.0</td><td> 9.5</td><td>11.5</td><td>11.0</td><td> 8.90</td><td>2.979560</td><td> 9.25</td><td>4.0</td><td>13.0</td></tr>\n",
       "\t<tr><td>10.5</td><td> 7.0</td><td>12.0</td><td> 0.0</td><td> 6.5</td><td>10.5</td><td> 1.0</td><td>11.0</td><td>10.5</td><td> 9.0</td><td> 7.80</td><td>4.224269</td><td> 9.75</td><td>0.0</td><td>12.0</td></tr>\n",
       "\t<tr><td> 0.0</td><td> 0.0</td><td>11.5</td><td>11.5</td><td>12.0</td><td> 9.0</td><td> 8.0</td><td>10.5</td><td>13.0</td><td>10.5</td><td> 8.60</td><td>4.753946</td><td>10.50</td><td>0.0</td><td>13.0</td></tr>\n",
       "\t<tr><td> 9.0</td><td> 8.5</td><td> 9.0</td><td>12.5</td><td> 1.0</td><td> 8.0</td><td> 4.0</td><td> 7.5</td><td> 8.0</td><td>10.0</td><td> 7.75</td><td>3.181981</td><td> 8.25</td><td>1.0</td><td>12.5</td></tr>\n",
       "\t<tr><td> 8.0</td><td>11.0</td><td> 9.0</td><td>10.5</td><td>10.0</td><td>12.0</td><td> 9.0</td><td> 2.5</td><td> 9.5</td><td>10.5</td><td> 9.20</td><td>2.616189</td><td> 9.75</td><td>2.5</td><td>12.0</td></tr>\n",
       "\t<tr><td>10.5</td><td> 9.0</td><td> 5.0</td><td> 7.0</td><td>11.0</td><td> 3.5</td><td>12.0</td><td> 9.5</td><td>11.5</td><td>11.5</td><td> 9.05</td><td>2.948163</td><td>10.00</td><td>3.5</td><td>12.0</td></tr>\n",
       "\t<tr><td> 7.5</td><td> 1.5</td><td> 7.5</td><td> 9.0</td><td>10.5</td><td> 9.5</td><td> 8.5</td><td> 0.0</td><td>12.0</td><td> 6.5</td><td> 7.25</td><td>3.787773</td><td> 8.00</td><td>0.0</td><td>12.0</td></tr>\n",
       "\t<tr><td>10.0</td><td>11.0</td><td> 9.0</td><td> 7.5</td><td> 6.0</td><td> 6.0</td><td> 7.0</td><td> 9.5</td><td> 7.0</td><td>10.5</td><td> 8.35</td><td>1.871571</td><td> 8.25</td><td>6.0</td><td>11.0</td></tr>\n",
       "\t<tr><td> 5.0</td><td>10.5</td><td> 3.0</td><td>11.5</td><td>10.0</td><td>12.5</td><td>11.0</td><td> 7.0</td><td>10.5</td><td>14.0</td><td> 9.50</td><td>3.439961</td><td>10.50</td><td>3.0</td><td>14.0</td></tr>\n",
       "\t<tr><td> 7.0</td><td> 3.0</td><td>10.0</td><td> 9.0</td><td> 9.0</td><td>11.5</td><td> 6.5</td><td> 8.5</td><td>10.0</td><td>12.0</td><td> 8.65</td><td>2.635758</td><td> 9.00</td><td>3.0</td><td>12.0</td></tr>\n",
       "\t<tr><td> 9.0</td><td>12.0</td><td> 7.0</td><td> 3.0</td><td> 8.0</td><td> 9.5</td><td> 0.0</td><td>11.0</td><td>11.5</td><td>12.0</td><td> 8.30</td><td>4.022161</td><td> 9.25</td><td>0.0</td><td>12.0</td></tr>\n",
       "\t<tr><td>12.0</td><td>11.0</td><td>12.5</td><td>11.0</td><td>12.0</td><td> 9.5</td><td> 6.0</td><td> 9.0</td><td> 9.0</td><td>10.0</td><td>10.20</td><td>1.946507</td><td>10.50</td><td>6.0</td><td>12.5</td></tr>\n",
       "\t<tr><td> 0.0</td><td>14.0</td><td>12.0</td><td> 5.5</td><td> 5.5</td><td> 6.5</td><td> 3.5</td><td> 0.0</td><td>11.0</td><td>11.5</td><td> 6.95</td><td>5.002499</td><td> 6.00</td><td>0.0</td><td>14.0</td></tr>\n",
       "\t<tr><td> 9.0</td><td>11.5</td><td> 9.5</td><td> 9.0</td><td>11.0</td><td> 1.0</td><td>11.0</td><td> 8.5</td><td>12.0</td><td> 8.0</td><td> 9.05</td><td>3.139798</td><td> 9.25</td><td>1.0</td><td>12.0</td></tr>\n",
       "\t<tr><td> 8.5</td><td> 8.0</td><td>10.0</td><td> 9.0</td><td>10.0</td><td> 1.0</td><td> 8.0</td><td>12.0</td><td> 5.0</td><td>10.0</td><td> 8.15</td><td>3.109573</td><td> 8.75</td><td>1.0</td><td>12.0</td></tr>\n",
       "</tbody>\n",
       "</table>\n"
      ],
      "text/latex": [
       "A data.frame: 30 × 15\n",
       "\\begin{tabular}{lllllllllllllll}\n",
       " X1 & X2 & X3 & X4 & X5 & X6 & X7 & X8 & X9 & X10 & Mean & Sd & Median & Min & Max\\\\\n",
       " <dbl> & <dbl> & <dbl> & <dbl> & <dbl> & <dbl> & <dbl> & <dbl> & <dbl> & <dbl> & <dbl> & <dbl> & <dbl> & <dbl> & <dbl>\\\\\n",
       "\\hline\n",
       "\t 11.0 &  9.0 &  9.5 &  4.0 & 11.0 & 12.5 &  7.5 &  8.5 &  0.0 &  9.0 &  8.20 & 3.690829 &  9.00 & 0.0 & 12.5\\\\\n",
       "\t  9.0 &  5.0 & 10.5 &  9.0 & 12.0 &  7.0 &  4.0 & 10.5 &  0.0 & 11.5 &  7.85 & 3.837317 &  9.00 & 0.0 & 12.0\\\\\n",
       "\t  5.0 &  3.0 &  9.5 & 12.0 &  9.0 &  8.5 &  4.0 & 12.0 & 10.0 &  9.0 &  8.20 & 3.164034 &  9.00 & 3.0 & 12.0\\\\\n",
       "\t  8.0 &  4.0 & 10.5 & 13.0 &  3.0 &  0.0 & 10.0 &  7.0 & 10.5 &  6.5 &  7.25 & 4.001736 &  7.50 & 0.0 & 13.0\\\\\n",
       "\t 10.0 &  8.5 &  3.5 & 11.5 &  7.5 &  1.0 & 10.5 & 11.5 &  5.0 &  9.0 &  7.80 & 3.560587 &  8.75 & 1.0 & 11.5\\\\\n",
       "\t  9.5 &  7.0 &  7.5 &  4.0 &  8.0 &  8.5 & 11.5 &  9.0 & 12.0 &  9.0 &  8.60 & 2.270585 &  8.75 & 4.0 & 12.0\\\\\n",
       "\t  9.0 &  6.0 & 11.0 & 11.0 &  9.0 & 11.0 & 14.0 & 10.5 &  9.0 & 11.5 & 10.20 & 2.110819 & 10.75 & 6.0 & 14.0\\\\\n",
       "\t 12.0 &  7.5 &  6.0 &  6.5 & 10.5 & 11.0 &  8.0 & 10.0 &  6.5 &  5.0 &  8.30 & 2.406011 &  7.75 & 5.0 & 12.0\\\\\n",
       "\t  7.0 &  7.0 & 10.5 & 11.0 &  0.0 & 13.0 & 10.0 & 11.5 & 12.0 &  9.5 &  9.15 & 3.764232 & 10.25 & 0.0 & 13.0\\\\\n",
       "\t  5.5 &  8.0 &  0.0 &  0.0 & 10.0 &  8.5 & 12.0 &  7.5 &  6.0 & 10.5 &  6.80 & 4.090640 &  7.75 & 0.0 & 12.0\\\\\n",
       "\t  6.0 &  9.5 & 12.0 &  7.0 &  6.5 &  5.0 &  7.0 &  9.0 & 10.0 & 10.0 &  8.20 & 2.213594 &  8.00 & 5.0 & 12.0\\\\\n",
       "\t  0.0 &  8.0 &  7.0 &  9.0 &  3.0 &  0.0 & 10.5 & 11.5 &  8.0 &  7.0 &  6.40 & 4.067486 &  7.50 & 0.0 & 11.5\\\\\n",
       "\t 12.5 & 12.0 &  2.5 &  9.5 &  9.5 & 11.5 &  4.0 &  7.5 & 12.5 &  9.5 &  9.10 & 3.494440 &  9.50 & 2.5 & 12.5\\\\\n",
       "\t 10.0 &  9.5 & 11.5 &  6.0 & 11.5 & 10.5 &  9.0 &  7.0 &  7.5 &  7.0 &  8.95 & 1.978355 &  9.25 & 6.0 & 11.5\\\\\n",
       "\t  9.5 &  7.0 &  9.5 & 10.0 &  7.0 &  7.5 &  6.5 &  1.0 & 12.0 &  7.5 &  7.75 & 2.936835 &  7.50 & 1.0 & 12.0\\\\\n",
       "\t  8.0 &  9.0 & 10.5 &  4.0 &  8.5 & 13.0 &  4.0 &  9.5 & 11.5 & 11.0 &  8.90 & 2.979560 &  9.25 & 4.0 & 13.0\\\\\n",
       "\t 10.5 &  7.0 & 12.0 &  0.0 &  6.5 & 10.5 &  1.0 & 11.0 & 10.5 &  9.0 &  7.80 & 4.224269 &  9.75 & 0.0 & 12.0\\\\\n",
       "\t  0.0 &  0.0 & 11.5 & 11.5 & 12.0 &  9.0 &  8.0 & 10.5 & 13.0 & 10.5 &  8.60 & 4.753946 & 10.50 & 0.0 & 13.0\\\\\n",
       "\t  9.0 &  8.5 &  9.0 & 12.5 &  1.0 &  8.0 &  4.0 &  7.5 &  8.0 & 10.0 &  7.75 & 3.181981 &  8.25 & 1.0 & 12.5\\\\\n",
       "\t  8.0 & 11.0 &  9.0 & 10.5 & 10.0 & 12.0 &  9.0 &  2.5 &  9.5 & 10.5 &  9.20 & 2.616189 &  9.75 & 2.5 & 12.0\\\\\n",
       "\t 10.5 &  9.0 &  5.0 &  7.0 & 11.0 &  3.5 & 12.0 &  9.5 & 11.5 & 11.5 &  9.05 & 2.948163 & 10.00 & 3.5 & 12.0\\\\\n",
       "\t  7.5 &  1.5 &  7.5 &  9.0 & 10.5 &  9.5 &  8.5 &  0.0 & 12.0 &  6.5 &  7.25 & 3.787773 &  8.00 & 0.0 & 12.0\\\\\n",
       "\t 10.0 & 11.0 &  9.0 &  7.5 &  6.0 &  6.0 &  7.0 &  9.5 &  7.0 & 10.5 &  8.35 & 1.871571 &  8.25 & 6.0 & 11.0\\\\\n",
       "\t  5.0 & 10.5 &  3.0 & 11.5 & 10.0 & 12.5 & 11.0 &  7.0 & 10.5 & 14.0 &  9.50 & 3.439961 & 10.50 & 3.0 & 14.0\\\\\n",
       "\t  7.0 &  3.0 & 10.0 &  9.0 &  9.0 & 11.5 &  6.5 &  8.5 & 10.0 & 12.0 &  8.65 & 2.635758 &  9.00 & 3.0 & 12.0\\\\\n",
       "\t  9.0 & 12.0 &  7.0 &  3.0 &  8.0 &  9.5 &  0.0 & 11.0 & 11.5 & 12.0 &  8.30 & 4.022161 &  9.25 & 0.0 & 12.0\\\\\n",
       "\t 12.0 & 11.0 & 12.5 & 11.0 & 12.0 &  9.5 &  6.0 &  9.0 &  9.0 & 10.0 & 10.20 & 1.946507 & 10.50 & 6.0 & 12.5\\\\\n",
       "\t  0.0 & 14.0 & 12.0 &  5.5 &  5.5 &  6.5 &  3.5 &  0.0 & 11.0 & 11.5 &  6.95 & 5.002499 &  6.00 & 0.0 & 14.0\\\\\n",
       "\t  9.0 & 11.5 &  9.5 &  9.0 & 11.0 &  1.0 & 11.0 &  8.5 & 12.0 &  8.0 &  9.05 & 3.139798 &  9.25 & 1.0 & 12.0\\\\\n",
       "\t  8.5 &  8.0 & 10.0 &  9.0 & 10.0 &  1.0 &  8.0 & 12.0 &  5.0 & 10.0 &  8.15 & 3.109573 &  8.75 & 1.0 & 12.0\\\\\n",
       "\\end{tabular}\n"
      ],
      "text/markdown": [
       "\n",
       "A data.frame: 30 × 15\n",
       "\n",
       "| X1 &lt;dbl&gt; | X2 &lt;dbl&gt; | X3 &lt;dbl&gt; | X4 &lt;dbl&gt; | X5 &lt;dbl&gt; | X6 &lt;dbl&gt; | X7 &lt;dbl&gt; | X8 &lt;dbl&gt; | X9 &lt;dbl&gt; | X10 &lt;dbl&gt; | Mean &lt;dbl&gt; | Sd &lt;dbl&gt; | Median &lt;dbl&gt; | Min &lt;dbl&gt; | Max &lt;dbl&gt; |\n",
       "|---|---|---|---|---|---|---|---|---|---|---|---|---|---|---|\n",
       "| 11.0 |  9.0 |  9.5 |  4.0 | 11.0 | 12.5 |  7.5 |  8.5 |  0.0 |  9.0 |  8.20 | 3.690829 |  9.00 | 0.0 | 12.5 |\n",
       "|  9.0 |  5.0 | 10.5 |  9.0 | 12.0 |  7.0 |  4.0 | 10.5 |  0.0 | 11.5 |  7.85 | 3.837317 |  9.00 | 0.0 | 12.0 |\n",
       "|  5.0 |  3.0 |  9.5 | 12.0 |  9.0 |  8.5 |  4.0 | 12.0 | 10.0 |  9.0 |  8.20 | 3.164034 |  9.00 | 3.0 | 12.0 |\n",
       "|  8.0 |  4.0 | 10.5 | 13.0 |  3.0 |  0.0 | 10.0 |  7.0 | 10.5 |  6.5 |  7.25 | 4.001736 |  7.50 | 0.0 | 13.0 |\n",
       "| 10.0 |  8.5 |  3.5 | 11.5 |  7.5 |  1.0 | 10.5 | 11.5 |  5.0 |  9.0 |  7.80 | 3.560587 |  8.75 | 1.0 | 11.5 |\n",
       "|  9.5 |  7.0 |  7.5 |  4.0 |  8.0 |  8.5 | 11.5 |  9.0 | 12.0 |  9.0 |  8.60 | 2.270585 |  8.75 | 4.0 | 12.0 |\n",
       "|  9.0 |  6.0 | 11.0 | 11.0 |  9.0 | 11.0 | 14.0 | 10.5 |  9.0 | 11.5 | 10.20 | 2.110819 | 10.75 | 6.0 | 14.0 |\n",
       "| 12.0 |  7.5 |  6.0 |  6.5 | 10.5 | 11.0 |  8.0 | 10.0 |  6.5 |  5.0 |  8.30 | 2.406011 |  7.75 | 5.0 | 12.0 |\n",
       "|  7.0 |  7.0 | 10.5 | 11.0 |  0.0 | 13.0 | 10.0 | 11.5 | 12.0 |  9.5 |  9.15 | 3.764232 | 10.25 | 0.0 | 13.0 |\n",
       "|  5.5 |  8.0 |  0.0 |  0.0 | 10.0 |  8.5 | 12.0 |  7.5 |  6.0 | 10.5 |  6.80 | 4.090640 |  7.75 | 0.0 | 12.0 |\n",
       "|  6.0 |  9.5 | 12.0 |  7.0 |  6.5 |  5.0 |  7.0 |  9.0 | 10.0 | 10.0 |  8.20 | 2.213594 |  8.00 | 5.0 | 12.0 |\n",
       "|  0.0 |  8.0 |  7.0 |  9.0 |  3.0 |  0.0 | 10.5 | 11.5 |  8.0 |  7.0 |  6.40 | 4.067486 |  7.50 | 0.0 | 11.5 |\n",
       "| 12.5 | 12.0 |  2.5 |  9.5 |  9.5 | 11.5 |  4.0 |  7.5 | 12.5 |  9.5 |  9.10 | 3.494440 |  9.50 | 2.5 | 12.5 |\n",
       "| 10.0 |  9.5 | 11.5 |  6.0 | 11.5 | 10.5 |  9.0 |  7.0 |  7.5 |  7.0 |  8.95 | 1.978355 |  9.25 | 6.0 | 11.5 |\n",
       "|  9.5 |  7.0 |  9.5 | 10.0 |  7.0 |  7.5 |  6.5 |  1.0 | 12.0 |  7.5 |  7.75 | 2.936835 |  7.50 | 1.0 | 12.0 |\n",
       "|  8.0 |  9.0 | 10.5 |  4.0 |  8.5 | 13.0 |  4.0 |  9.5 | 11.5 | 11.0 |  8.90 | 2.979560 |  9.25 | 4.0 | 13.0 |\n",
       "| 10.5 |  7.0 | 12.0 |  0.0 |  6.5 | 10.5 |  1.0 | 11.0 | 10.5 |  9.0 |  7.80 | 4.224269 |  9.75 | 0.0 | 12.0 |\n",
       "|  0.0 |  0.0 | 11.5 | 11.5 | 12.0 |  9.0 |  8.0 | 10.5 | 13.0 | 10.5 |  8.60 | 4.753946 | 10.50 | 0.0 | 13.0 |\n",
       "|  9.0 |  8.5 |  9.0 | 12.5 |  1.0 |  8.0 |  4.0 |  7.5 |  8.0 | 10.0 |  7.75 | 3.181981 |  8.25 | 1.0 | 12.5 |\n",
       "|  8.0 | 11.0 |  9.0 | 10.5 | 10.0 | 12.0 |  9.0 |  2.5 |  9.5 | 10.5 |  9.20 | 2.616189 |  9.75 | 2.5 | 12.0 |\n",
       "| 10.5 |  9.0 |  5.0 |  7.0 | 11.0 |  3.5 | 12.0 |  9.5 | 11.5 | 11.5 |  9.05 | 2.948163 | 10.00 | 3.5 | 12.0 |\n",
       "|  7.5 |  1.5 |  7.5 |  9.0 | 10.5 |  9.5 |  8.5 |  0.0 | 12.0 |  6.5 |  7.25 | 3.787773 |  8.00 | 0.0 | 12.0 |\n",
       "| 10.0 | 11.0 |  9.0 |  7.5 |  6.0 |  6.0 |  7.0 |  9.5 |  7.0 | 10.5 |  8.35 | 1.871571 |  8.25 | 6.0 | 11.0 |\n",
       "|  5.0 | 10.5 |  3.0 | 11.5 | 10.0 | 12.5 | 11.0 |  7.0 | 10.5 | 14.0 |  9.50 | 3.439961 | 10.50 | 3.0 | 14.0 |\n",
       "|  7.0 |  3.0 | 10.0 |  9.0 |  9.0 | 11.5 |  6.5 |  8.5 | 10.0 | 12.0 |  8.65 | 2.635758 |  9.00 | 3.0 | 12.0 |\n",
       "|  9.0 | 12.0 |  7.0 |  3.0 |  8.0 |  9.5 |  0.0 | 11.0 | 11.5 | 12.0 |  8.30 | 4.022161 |  9.25 | 0.0 | 12.0 |\n",
       "| 12.0 | 11.0 | 12.5 | 11.0 | 12.0 |  9.5 |  6.0 |  9.0 |  9.0 | 10.0 | 10.20 | 1.946507 | 10.50 | 6.0 | 12.5 |\n",
       "|  0.0 | 14.0 | 12.0 |  5.5 |  5.5 |  6.5 |  3.5 |  0.0 | 11.0 | 11.5 |  6.95 | 5.002499 |  6.00 | 0.0 | 14.0 |\n",
       "|  9.0 | 11.5 |  9.5 |  9.0 | 11.0 |  1.0 | 11.0 |  8.5 | 12.0 |  8.0 |  9.05 | 3.139798 |  9.25 | 1.0 | 12.0 |\n",
       "|  8.5 |  8.0 | 10.0 |  9.0 | 10.0 |  1.0 |  8.0 | 12.0 |  5.0 | 10.0 |  8.15 | 3.109573 |  8.75 | 1.0 | 12.0 |\n",
       "\n"
      ],
      "text/plain": [
       "   X1   X2   X3   X4   X5   X6   X7   X8   X9   X10  Mean  Sd       Median Min\n",
       "1  11.0  9.0  9.5  4.0 11.0 12.5  7.5  8.5  0.0  9.0  8.20 3.690829  9.00  0.0\n",
       "2   9.0  5.0 10.5  9.0 12.0  7.0  4.0 10.5  0.0 11.5  7.85 3.837317  9.00  0.0\n",
       "3   5.0  3.0  9.5 12.0  9.0  8.5  4.0 12.0 10.0  9.0  8.20 3.164034  9.00  3.0\n",
       "4   8.0  4.0 10.5 13.0  3.0  0.0 10.0  7.0 10.5  6.5  7.25 4.001736  7.50  0.0\n",
       "5  10.0  8.5  3.5 11.5  7.5  1.0 10.5 11.5  5.0  9.0  7.80 3.560587  8.75  1.0\n",
       "6   9.5  7.0  7.5  4.0  8.0  8.5 11.5  9.0 12.0  9.0  8.60 2.270585  8.75  4.0\n",
       "7   9.0  6.0 11.0 11.0  9.0 11.0 14.0 10.5  9.0 11.5 10.20 2.110819 10.75  6.0\n",
       "8  12.0  7.5  6.0  6.5 10.5 11.0  8.0 10.0  6.5  5.0  8.30 2.406011  7.75  5.0\n",
       "9   7.0  7.0 10.5 11.0  0.0 13.0 10.0 11.5 12.0  9.5  9.15 3.764232 10.25  0.0\n",
       "10  5.5  8.0  0.0  0.0 10.0  8.5 12.0  7.5  6.0 10.5  6.80 4.090640  7.75  0.0\n",
       "11  6.0  9.5 12.0  7.0  6.5  5.0  7.0  9.0 10.0 10.0  8.20 2.213594  8.00  5.0\n",
       "12  0.0  8.0  7.0  9.0  3.0  0.0 10.5 11.5  8.0  7.0  6.40 4.067486  7.50  0.0\n",
       "13 12.5 12.0  2.5  9.5  9.5 11.5  4.0  7.5 12.5  9.5  9.10 3.494440  9.50  2.5\n",
       "14 10.0  9.5 11.5  6.0 11.5 10.5  9.0  7.0  7.5  7.0  8.95 1.978355  9.25  6.0\n",
       "15  9.5  7.0  9.5 10.0  7.0  7.5  6.5  1.0 12.0  7.5  7.75 2.936835  7.50  1.0\n",
       "16  8.0  9.0 10.5  4.0  8.5 13.0  4.0  9.5 11.5 11.0  8.90 2.979560  9.25  4.0\n",
       "17 10.5  7.0 12.0  0.0  6.5 10.5  1.0 11.0 10.5  9.0  7.80 4.224269  9.75  0.0\n",
       "18  0.0  0.0 11.5 11.5 12.0  9.0  8.0 10.5 13.0 10.5  8.60 4.753946 10.50  0.0\n",
       "19  9.0  8.5  9.0 12.5  1.0  8.0  4.0  7.5  8.0 10.0  7.75 3.181981  8.25  1.0\n",
       "20  8.0 11.0  9.0 10.5 10.0 12.0  9.0  2.5  9.5 10.5  9.20 2.616189  9.75  2.5\n",
       "21 10.5  9.0  5.0  7.0 11.0  3.5 12.0  9.5 11.5 11.5  9.05 2.948163 10.00  3.5\n",
       "22  7.5  1.5  7.5  9.0 10.5  9.5  8.5  0.0 12.0  6.5  7.25 3.787773  8.00  0.0\n",
       "23 10.0 11.0  9.0  7.5  6.0  6.0  7.0  9.5  7.0 10.5  8.35 1.871571  8.25  6.0\n",
       "24  5.0 10.5  3.0 11.5 10.0 12.5 11.0  7.0 10.5 14.0  9.50 3.439961 10.50  3.0\n",
       "25  7.0  3.0 10.0  9.0  9.0 11.5  6.5  8.5 10.0 12.0  8.65 2.635758  9.00  3.0\n",
       "26  9.0 12.0  7.0  3.0  8.0  9.5  0.0 11.0 11.5 12.0  8.30 4.022161  9.25  0.0\n",
       "27 12.0 11.0 12.5 11.0 12.0  9.5  6.0  9.0  9.0 10.0 10.20 1.946507 10.50  6.0\n",
       "28  0.0 14.0 12.0  5.5  5.5  6.5  3.5  0.0 11.0 11.5  6.95 5.002499  6.00  0.0\n",
       "29  9.0 11.5  9.5  9.0 11.0  1.0 11.0  8.5 12.0  8.0  9.05 3.139798  9.25  1.0\n",
       "30  8.5  8.0 10.0  9.0 10.0  1.0  8.0 12.0  5.0 10.0  8.15 3.109573  8.75  1.0\n",
       "   Max \n",
       "1  12.5\n",
       "2  12.0\n",
       "3  12.0\n",
       "4  13.0\n",
       "5  11.5\n",
       "6  12.0\n",
       "7  14.0\n",
       "8  12.0\n",
       "9  13.0\n",
       "10 12.0\n",
       "11 12.0\n",
       "12 11.5\n",
       "13 12.5\n",
       "14 11.5\n",
       "15 12.0\n",
       "16 13.0\n",
       "17 12.0\n",
       "18 13.0\n",
       "19 12.5\n",
       "20 12.0\n",
       "21 12.0\n",
       "22 12.0\n",
       "23 11.0\n",
       "24 14.0\n",
       "25 12.0\n",
       "26 12.0\n",
       "27 12.5\n",
       "28 14.0\n",
       "29 12.0\n",
       "30 12.0"
      ]
     },
     "metadata": {},
     "output_type": "display_data"
    }
   ],
   "source": [
    "each_row <- function(v, fun, h) {\n",
    "  row_v <- c()\n",
    "  for (i in 1:h) {\n",
    "    row_v <- c(row_v, fun(v[i, ]))\n",
    "  }\n",
    "  return(row_v)\n",
    "}\n",
    "\n",
    "h <- dim(transposed_)[1]\n",
    "\n",
    "transposed_ <- data.frame(transposed_,\n",
    "'Mean' = each_row(transposed_, mean, h),\n",
    "'Sd' = each_row(transposed_, sd, h),\n",
    "'Median' = each_row(transposed_, median, h),\n",
    "'Min' = each_row(transposed_, min, h),\n",
    "'Max' = each_row(transposed_, max, h)\n",
    ")\n",
    "transposed_"
   ]
  },
  {
   "cell_type": "markdown",
   "metadata": {},
   "source": [
    "Narysuj pięć wykresów: 30 średnich, 30 odchyleń, 30 uzyskanych median, 30 wartości\n",
    "minimalnych i 30 wartości maksymalnych wg schematu:\n",
    "1\n",
    "2\n",
    "3\n",
    "4\n",
    "5\n",
    "Kolejne wykresy twórz np. przy użyciu polecenia plot(1:30, ...dane..., type=’l’ / ‘h’ / ‘o’).\n"
   ]
  },
  {
   "cell_type": "code",
   "execution_count": 32,
   "metadata": {
    "vscode": {
     "languageId": "r"
    }
   },
   "outputs": [
    {
     "data": {
      "image/png": "[encoded data removed]",
      "text/plain": [
       "plot without title"
      ]
     },
     "metadata": {
      "image/png": {
       "height": 420,
       "width": 420
      }
     },
     "output_type": "display_data"
    }
   ],
   "source": [
    "par(pty = 'm')\n",
    "layout(matrix(c(1, 2, 3, 3, 4, 5), 2, 3))\n",
    "plot(1:30, transposed_$Mean, type = 'l')\n",
    "plot(1:30, transposed_$Sd, type = 'l')\n",
    "plot(1:30, transposed_$Median, type = 'l')\n",
    "plot(1:30, transposed_$Min, type = 'l')\n",
    "plot(1:30, transposed_$Max, type = 'l')"
   ]
  },
  {
   "cell_type": "markdown",
   "metadata": {},
   "source": [
    "## Zad. 2\n",
    "a) Dla danych z ramki egzamin_ z poprzedniego zadania, oblicz średnią z uzyskanych punktów dla:\n",
    "kobiet, mężczyzn, potem dla każdej z grup A, B, C, D, E.\n",
    "Użyj do tego funkcji filtrującej elementy ramki\n",
    "subset(..nazwa ramki.., ..narzucony filtr.., select = ..nazwa kol. której wartości chcemy zwrócić..).\n",
    "Zatem\n",
    "```\n",
    "womenScores = subset(egzamin_, plec == ‘K’, select = ‘punkty’)\n",
    "menScores = ...\n",
    "groupAScores = ...\n",
    "...\n",
    "groupEScores = ...\n",
    "```\n",
    "Przedstaw na jednym wykresie słupkowym średnie dla analizowanych podgrup danych podpisując\n",
    "słupki na poziomej osi: ‘women’, ‘men’, ‘A’, ‘B’, ‘C’, ‘D’, ‘E’. // atrybut names //\n"
   ]
  },
  {
   "cell_type": "code",
   "execution_count": 33,
   "metadata": {
    "vscode": {
     "languageId": "r"
    }
   },
   "outputs": [
    {
     "data": {
      "image/png": "[encoded data removed]",
      "text/plain": [
       "plot without title"
      ]
     },
     "metadata": {
      "image/png": {
       "height": 420,
       "width": 420
      }
     },
     "output_type": "display_data"
    }
   ],
   "source": [
    "women_scores <- subset(egzamin_, plec == 'K', select = 'punkty')\n",
    "man_scores <- subset(egzamin_, plec == 'M', select = 'punkty')\n",
    "group_a_scores <- subset(egzamin_, grupa = 'A', select = 'punkty')\n",
    "group_b_scores <- subset(egzamin_, grupa = 'B', select = 'punkty')\n",
    "group_c_scores <- subset(egzamin_, grupa = 'C', select = 'punkty')\n",
    "group_d_scores <- subset(egzamin_, grupa = 'D', select = 'punkty')\n",
    "group_e_scores <- subset(egzamin_, grupa = 'E', select = 'punkty')\n",
    "\n",
    "barplot(c(mean(women_scores$punkty), mean(man_scores$punkty),\n",
    "mean(group_a_scores$punkty),\n",
    "mean(group_b_scores$punkty),\n",
    "mean(group_c_scores$punkty),\n",
    "mean(group_d_scores$punkty),\n",
    "mean(group_e_scores$punkty)),\n",
    "names = c('women', 'men', 'A', 'B', 'C', 'D', 'E'),\n",
    "col = rainbow(12))"
   ]
  },
  {
   "cell_type": "markdown",
   "metadata": {},
   "source": [
    "b) Porównamy wyniki egzaminu dla zestawienia: kobiety / mężczyźni oraz dla zestawienia grup: A /\n",
    "B / C / D / E przy użyciu wykresów pudełkowych (boxplots).\n",
    "Zainstaluj pakiet ‘ggplot2’ (grammar of graphics package) i użyj funkcji qplot().\n",
    "Jako pierwszy jej parametr (dane na osi poziomej) wstaw nazwę kolumny: płeć ;\n",
    "jako drugi (dane na osi pionowej) - nazwę kolumny: punkty;\n",
    "jako trzeci: data = ..nazwa ramki z której bierzemy kolumny..;\n",
    "jako czwarty: geom = c(‘boxplot’) // określamy typ wykresu//;\n",
    "i jako piąty: fill = płeć //wypełnimy wykresy kolorami rozróżniającymi od siebie obie płcie//\n",
    "Zinterpretuj uzyskane wykresy pudełkowe - odpowiedz na pytania:\n",
    "- co oznaczają dziwne kropki na dole lub górze wykresów?\n",
    "- co oznacza pozioma kreska przecinająca pudełko?\n",
    "- co oznacza dolna krawędź pudełka?\n",
    "- co oznacza górna krawędź pudełka?\n"
   ]
  },
  {
   "cell_type": "code",
   "execution_count": 34,
   "metadata": {
    "vscode": {
     "languageId": "r"
    }
   },
   "outputs": [
    {
     "data": {
      "image/png": "[encoded data removed]",
      "text/plain": [
       "plot without title"
      ]
     },
     "metadata": {
      "image/png": {
       "height": 420,
       "width": 420
      }
     },
     "output_type": "display_data"
    }
   ],
   "source": [
    "library('ggplot2')\n",
    "qplot(plec, punkty, data = egzamin_, geom = c('boxplot'), fill = plec)"
   ]
  },
  {
   "cell_type": "markdown",
   "metadata": {},
   "source": [
    "## TESTY ZGODNOŚCI\n",
    "### Zad. 3\n",
    "(Test χ2 Pearsona – na czym polega? Dla jakich hipotez go wykorzystujemy? Jaki jest zbiór\n",
    "krytyczny?)\n",
    "Rzucono 90 razy kostką do gry i otrzymano ‘jedynkę’ 19 razy, ‘dwójkę’ 13 razy, ‘trójkę’ 21 razy,\n",
    "‘czwórkę’ 12 razy, ‘piątkę’ 12 razy oraz ‘szóstkę’ 13 razy.\n",
    "Stawiamy hipotezę H0 : kostka jest uczciwa.\n",
    "Używając gotowego w pakiecie R testu χ2 zweryfikuj postawioną hipotezę na poziomie istotności\n",
    "α = 0,05 wobec hipotezy alternatywnej H1 , że używana do gry kostka jest asymetryczna.\n",
    "`chisq.test(..wektor wyników doświadczenia.., p = ..wektor pr-stw w podejrzewanym rozkładzie..)`\n",
    "Uwaga: jeżeli w wyniku testu p-value > 0,05 to wnioskujemy, że nie ma podstaw do odrzucenia\n",
    "hipotezy H0 (czyli uzyskane doświadczalnie dane nie odbiegają zbyt daleko od ‘uczciwych’ tj.\n",
    "teoretycznych).\n",
    "\n",
    "* Test X2 Pearsona - rozkłady ciągłe i dyskretne\n",
    "* Testy Kołomogowa-Smirnowa, Shapirowa - rozkłady ciągłe\n",
    "\n",
    "Hipoteza - rozkład wypadających ścianek jest jednostajny\n",
    "Hipoteza alternatywna - nie jest parwdą że jest to rozkład jednostajny\n",
    "\n",
    "Nie ma podstaw, aby na poziomie istotności standardowym odrzucić h0"
   ]
  },
  {
   "cell_type": "code",
   "execution_count": 3,
   "metadata": {
    "vscode": {
     "languageId": "r"
    }
   },
   "outputs": [
    {
     "data": {
      "text/plain": [
       "\n",
       "\tChi-squared test for given probabilities\n",
       "\n",
       "data:  result\n",
       "X-squared = 5.2, df = 5, p-value = 0.392\n"
      ]
     },
     "metadata": {},
     "output_type": "display_data"
    }
   ],
   "source": [
    "result <- c(19, 13, 21, 12, 12, 13)\n",
    "p <- rep(1/6, 6)\n",
    "chisq.test(result, p = p)"
   ]
  },
  {
   "cell_type": "markdown",
   "metadata": {},
   "source": [
    "### Zad. 4\n",
    "Niech X będzie zmienną losową zwracającą pierwszą cyfrę liczby mieszkańców miast w Polsce w\n",
    "2017r.\n",
    "Zweryfikuj hipotezę H0 , że X ma faktycznie rozkład Benforda. Użyj testu χ2.\n",
    "Najpierw pod zmienną population_ przechowaj ponownie dane z pliku ‘2017_lundosc.csv’.\n",
    "Potrzebujemy z niej wektora liczebności wystąpień cyfr 1, 2, ..., 9 na pierwszej pozycji.\n",
    "Możemy tym razem użyć np. funkcji filtrującej i wyznaczyć liczbę wierszy w ramce, którą zwróci.\n",
    "Następnie generujemy wektor prawdopodobieństw w rozkładzie Benforda. Pozostaje nam już tylko\n",
    "użyć testu chi kwadrat z dwoma wygenerowanymi wcześniej argumentami.\n"
   ]
  },
  {
   "cell_type": "code",
   "execution_count": 18,
   "metadata": {
    "vscode": {
     "languageId": "r"
    }
   },
   "outputs": [
    {
     "data": {
      "text/plain": [
       "\n",
       "\tChi-squared test for given probabilities\n",
       "\n",
       "data:  quantites_\n",
       "X-squared = 24.418, df = 8, p-value = 0.00195\n"
      ]
     },
     "metadata": {},
     "output_type": "display_data"
    }
   ],
   "source": [
    "library(stringr)\n",
    "population_ <- read.csv('2017_ludnosc.csv', header = T, sep = ';')\n",
    "population_$fc <- str_sub(population_$Ludnosc, 1, 1)\n",
    "qF <- function() {\n",
    "  v <- c()\n",
    "  for (i in 1:9) {\n",
    "    a <- subset(population_, fc == i)\n",
    "    v <- c(v, dim(a)[1])\n",
    "  }\n",
    "  return(v)\n",
    "}\n",
    "quantites_ <- qF()\n",
    "benford_probs <- function() {\n",
    "  v <- c()\n",
    "  for(k in 1:9) {\n",
    "    h <- log10((k + 1) / k)\n",
    "    v <- c(v, h)\n",
    "  }\n",
    "  return(v)\n",
    "}\n",
    "probs <- benford_probs()\n",
    "chisq.test(quantites_, p = probs)"
   ]
  },
  {
   "cell_type": "markdown",
   "metadata": {},
   "source": [
    "### Zad. 5\n",
    "W ciągu 100 dni notowano liczby awarii sieci wodociągowej w Świdniku i uzyskano dane: liczba k\n",
    "awarii: 0, 1, 2, 3, 4, 5 - i odpowiednio - liczba dni nk : 10, 27, 29, 16, 11, 7.\n",
    "Czyli np. dni bez awarii było 10, dni z 1 awarią było 27 itd...\n",
    "Zweryfikuj hipotezę H0 , że rozkład liczby dni awarii jest rozkładem Poissona przy standardowym\n",
    "poziomie istotności α = 0,05. Użyj testu χ2.\n",
    "Parametr rozkładu λ oszacuj na podstawie próbki. Najpierw wygenerujmy wektor liczebności\n",
    "`quantities_ = c(10, 27, ..., 7)`\n",
    "Następnie, ponieważ w rozkładzie Poissona parametr λ jest równy wartości oczekiwanej, w celu\n",
    "oszacowania go - policzmy średnią z naszego zestawu danych (tj. liczby awarii). Jako że dane się\n",
    "powtarzają (mają swoje wagi) to policzmy średnią ważoną.\n",
    "Generujemy wektor prawdopodobieństw Poissona z oszacowanym parametrem λ dla argumentów\n",
    "0, 1, 2, 3, 4, 5 i stosujemy test.\n"
   ]
  },
  {
   "cell_type": "code",
   "execution_count": 37,
   "metadata": {
    "vscode": {
     "languageId": "r"
    }
   },
   "outputs": [
    {
     "name": "stderr",
     "output_type": "stream",
     "text": [
      "Warning message in chisq.test(quantites_, p = poisson_):\n",
      "“Chi-squared approximation may be incorrect”\n"
     ]
    },
    {
     "data": {
      "text/plain": [
       "\n",
       "\tChi-squared test for given probabilities\n",
       "\n",
       "data:  quantites_\n",
       "X-squared = 2.769, df = 5, p-value = 0.7355\n"
      ]
     },
     "metadata": {},
     "output_type": "display_data"
    }
   ],
   "source": [
    "quantites_ <- c(10, 27, 29, 16, 11, 7)\n",
    "lambda_ <- weighted.mean(0:5, quantites_)\n",
    "poisson_probs <- function() {\n",
    "  v <- c()\n",
    "  for (k in 0:5) {\n",
    "    h <- dpois(k, lambda_)\n",
    "    v <- c(v, h)\n",
    "  }\n",
    "  return(v)\n",
    "}\n",
    "poisson_ <- poisson_probs()\n",
    "poisson_ <- poisson_ / sum(poisson_)\n",
    "chisq.test(quantites_, p = poisson_)"
   ]
  },
  {
   "cell_type": "markdown",
   "metadata": {},
   "source": [
    "### Zad. 6 (Test Kołmogorowa / Kołmogorowa-Smirnowa i test Shapiro-Wilka – dla jakich rozkładów je stosujemy? Jakich hipotez dotyczą?)\n",
    "Zbadano pojemność partii kondensatorów (w jednostkach pikoFaradach) i otrzymano wyniki:\n",
    "62, 57, 70, 58, 59, 67, 65, 69, 55, 57, 60, 54, 72, 66, 74.\n",
    "Zweryfikuj hipotezę H0 , że rozkład pojemności jest normalny. Parametry rozkładu oszacuj na\n",
    "podstawie próbki. Użyj testu Kołmogorowa oraz testu Shapiro-Wilka.\n",
    "`H0: X ~ N(n=m, ds=s)`"
   ]
  },
  {
   "cell_type": "code",
   "execution_count": 44,
   "metadata": {
    "vscode": {
     "languageId": "r"
    }
   },
   "outputs": [
    {
     "name": "stderr",
     "output_type": "stream",
     "text": [
      "Warning message in ks.test(cap_, pnorm, m, s):\n",
      "“ties should not be present for the Kolmogorov-Smirnov test”\n"
     ]
    },
    {
     "data": {
      "text/plain": [
       "\n",
       "\tOne-sample Kolmogorov-Smirnov test\n",
       "\n",
       "data:  cap_\n",
       "D = 0.14552, p-value = 0.9085\n",
       "alternative hypothesis: two-sided\n"
      ]
     },
     "metadata": {},
     "output_type": "display_data"
    },
    {
     "data": {
      "text/plain": [
       "\n",
       "\tShapiro-Wilk normality test\n",
       "\n",
       "data:  cap_\n",
       "W = 0.94322, p-value = 0.4246\n"
      ]
     },
     "metadata": {},
     "output_type": "display_data"
    }
   ],
   "source": [
    "cap_ <- c(62, 57, 70, 58, 59, 67, 65, 69, 55, 57, 60, 54, 72, 66, 74)\n",
    "m <- mean(cap_)\n",
    "s <- sd(cap_)\n",
    "ks.test(cap_, pnorm, m, s)\n",
    "shapiro.test(cap_)"
   ]
  }
 ],
 "metadata": {
  "kernelspec": {
   "display_name": "R",
   "language": "R",
   "name": "ir"
  },
  "language_info": {
   "codemirror_mode": "r",
   "file_extension": ".r",
   "mimetype": "text/x-r-source",
   "name": "R",
   "pygments_lexer": "r",
   "version": "4.1.3"
  },
  "orig_nbformat": 4
 },
 "nbformat": 4,
 "nbformat_minor": 2
}
