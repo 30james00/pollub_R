{
 "cells": [
  {
   "cell_type": "markdown",
   "metadata": {},
   "source": [
    "# PEiAR - Laboratorium 2\n",
    "## FAKTOR c.d. (= typ czynnikowy / kategoryczny / wyliczeniowy)\n",
    "### Zad. 1\n",
    "Zapytano 20 ludzi o markę samochodu.\n",
    "`cars = c('VW', 'Toyota', 'Renault', 'VW', 'Audi', 'Citroen', 'Fiat', 'Mazda', 'Toyota',\n",
    "'Renault','Renault', 'Audi', 'VW', 'VW', 'Audi', 'Mazda', 'Skoda', 'VW', 'Skoda')`.\n",
    "Zwróć zestaw danych cars wraz z unikatowymi jego wartościami\n",
    "// factor( ... )\n",
    "Zwróć same wartości unikatowe\n",
    "// levels(factor( ... ))\n",
    "Zwróć zestawienie wartości unikatowych wraz z ich wagami\n",
    "// table(factor( ... ))\n"
   ]
  },
  {
   "cell_type": "code",
   "execution_count": 25,
   "metadata": {
    "vscode": {
     "languageId": "r"
    }
   },
   "outputs": [
    {
     "data": {
      "text/html": [
       "<style>\n",
       ".list-inline {list-style: none; margin:0; padding: 0}\n",
       ".list-inline>li {display: inline-block}\n",
       ".list-inline>li:not(:last-child)::after {content: \"\\00b7\"; padding: 0 .5ex}\n",
       "</style>\n",
       "<ol class=list-inline><li>VW</li><li>Toyota</li><li>Renault</li><li>VW</li><li>Audi</li><li>Citroen</li><li>Fiat</li><li>Mazda</li><li>Toyota</li><li>Renault</li><li>Renault</li><li>Audi</li><li>VW</li><li>VW</li><li>Audi</li><li>Mazda</li><li>Skoda</li><li>VW</li><li>Skoda</li><li>Renault</li></ol>\n",
       "\n",
       "<details>\n",
       "\t<summary style=display:list-item;cursor:pointer>\n",
       "\t\t<strong>Levels</strong>:\n",
       "\t</summary>\n",
       "\t<style>\n",
       "\t.list-inline {list-style: none; margin:0; padding: 0}\n",
       "\t.list-inline>li {display: inline-block}\n",
       "\t.list-inline>li:not(:last-child)::after {content: \"\\00b7\"; padding: 0 .5ex}\n",
       "\t</style>\n",
       "\t<ol class=list-inline><li>'Audi'</li><li>'Citroen'</li><li>'Fiat'</li><li>'Mazda'</li><li>'Renault'</li><li>'Skoda'</li><li>'Toyota'</li><li>'VW'</li></ol>\n",
       "</details>"
      ],
      "text/latex": [
       "\\begin{enumerate*}\n",
       "\\item VW\n",
       "\\item Toyota\n",
       "\\item Renault\n",
       "\\item VW\n",
       "\\item Audi\n",
       "\\item Citroen\n",
       "\\item Fiat\n",
       "\\item Mazda\n",
       "\\item Toyota\n",
       "\\item Renault\n",
       "\\item Renault\n",
       "\\item Audi\n",
       "\\item VW\n",
       "\\item VW\n",
       "\\item Audi\n",
       "\\item Mazda\n",
       "\\item Skoda\n",
       "\\item VW\n",
       "\\item Skoda\n",
       "\\item Renault\n",
       "\\end{enumerate*}\n",
       "\n",
       "\\emph{Levels}: \\begin{enumerate*}\n",
       "\\item 'Audi'\n",
       "\\item 'Citroen'\n",
       "\\item 'Fiat'\n",
       "\\item 'Mazda'\n",
       "\\item 'Renault'\n",
       "\\item 'Skoda'\n",
       "\\item 'Toyota'\n",
       "\\item 'VW'\n",
       "\\end{enumerate*}\n"
      ],
      "text/markdown": [
       "1. VW\n",
       "2. Toyota\n",
       "3. Renault\n",
       "4. VW\n",
       "5. Audi\n",
       "6. Citroen\n",
       "7. Fiat\n",
       "8. Mazda\n",
       "9. Toyota\n",
       "10. Renault\n",
       "11. Renault\n",
       "12. Audi\n",
       "13. VW\n",
       "14. VW\n",
       "15. Audi\n",
       "16. Mazda\n",
       "17. Skoda\n",
       "18. VW\n",
       "19. Skoda\n",
       "20. Renault\n",
       "\n",
       "\n",
       "\n",
       "**Levels**: 1. 'Audi'\n",
       "2. 'Citroen'\n",
       "3. 'Fiat'\n",
       "4. 'Mazda'\n",
       "5. 'Renault'\n",
       "6. 'Skoda'\n",
       "7. 'Toyota'\n",
       "8. 'VW'\n",
       "\n",
       "\n"
      ],
      "text/plain": [
       " [1] VW      Toyota  Renault VW      Audi    Citroen Fiat    Mazda   Toyota \n",
       "[10] Renault Renault Audi    VW      VW      Audi    Mazda   Skoda   VW     \n",
       "[19] Skoda   Renault\n",
       "Levels: Audi Citroen Fiat Mazda Renault Skoda Toyota VW"
      ]
     },
     "metadata": {},
     "output_type": "display_data"
    },
    {
     "data": {
      "text/html": [
       "<style>\n",
       ".list-inline {list-style: none; margin:0; padding: 0}\n",
       ".list-inline>li {display: inline-block}\n",
       ".list-inline>li:not(:last-child)::after {content: \"\\00b7\"; padding: 0 .5ex}\n",
       "</style>\n",
       "<ol class=list-inline><li>'Audi'</li><li>'Citroen'</li><li>'Fiat'</li><li>'Mazda'</li><li>'Renault'</li><li>'Skoda'</li><li>'Toyota'</li><li>'VW'</li></ol>\n"
      ],
      "text/latex": [
       "\\begin{enumerate*}\n",
       "\\item 'Audi'\n",
       "\\item 'Citroen'\n",
       "\\item 'Fiat'\n",
       "\\item 'Mazda'\n",
       "\\item 'Renault'\n",
       "\\item 'Skoda'\n",
       "\\item 'Toyota'\n",
       "\\item 'VW'\n",
       "\\end{enumerate*}\n"
      ],
      "text/markdown": [
       "1. 'Audi'\n",
       "2. 'Citroen'\n",
       "3. 'Fiat'\n",
       "4. 'Mazda'\n",
       "5. 'Renault'\n",
       "6. 'Skoda'\n",
       "7. 'Toyota'\n",
       "8. 'VW'\n",
       "\n",
       "\n"
      ],
      "text/plain": [
       "[1] \"Audi\"    \"Citroen\" \"Fiat\"    \"Mazda\"   \"Renault\" \"Skoda\"   \"Toyota\" \n",
       "[8] \"VW\"     "
      ]
     },
     "metadata": {},
     "output_type": "display_data"
    },
    {
     "data": {
      "text/plain": [
       "\n",
       "   Audi Citroen    Fiat   Mazda Renault   Skoda  Toyota      VW \n",
       "      3       1       1       2       4       2       2       5 "
      ]
     },
     "metadata": {},
     "output_type": "display_data"
    }
   ],
   "source": [
    "cars <- c('VW', 'Toyota', 'Renault', 'VW', 'Audi', 'Citroen', 'Fiat', 'Mazda', 'Toyota',\n",
    "'Renault','Renault', 'Audi', 'VW', 'VW', 'Audi', 'Mazda', 'Skoda', 'VW', 'Skoda', 'Renault')\n",
    "factor(cars)\n",
    "levels(factor(cars))\n",
    "table(factor(cars))"
   ]
  },
  {
   "cell_type": "markdown",
   "metadata": {},
   "source": [
    "### Zad.2\n",
    "Dziesięciu osobom zadano po dwa pytania, na które mogli odpowiedzieć tak('T’), nie ('N’) lub nie\n",
    "wiem ('X’).\n",
    "i) Wygeneruj przykładowy wektor a_ z 10 odpowiedziami na I pytanie i przykładowy wektor b_ z\n",
    "odpowiedziami na pytanie II.\n",
    "ii) Zestaw te dane używając funkcji table().\n",
    "iii) Ile było osób które na oba pytania odpowiedziały ‘nie wiem’, ile osób odpowiedziało na I ‘nie’ a\n",
    "na drugie ‘tak’?\n"
   ]
  },
  {
   "cell_type": "code",
   "execution_count": 10,
   "metadata": {
    "vscode": {
     "languageId": "r"
    }
   },
   "outputs": [
    {
     "data": {
      "text/plain": [
       "   b_\n",
       "a_  N T X\n",
       "  N 1 0 1\n",
       "  T 3 1 1\n",
       "  X 0 1 2"
      ]
     },
     "metadata": {},
     "output_type": "display_data"
    }
   ],
   "source": [
    "a_ <- sample(c('T', 'N', 'X'), 10, T)\n",
    "b_ <- sample(c('T', 'N', 'X'), 10, T)\n",
    "table(a_, b_)"
   ]
  },
  {
   "cell_type": "markdown",
   "metadata": {},
   "source": [
    "### Zad.3\n",
    "Osoby z poprzedniego zadania zapytano o wiek. Wygeneruj przykładowy wektor odpowiedzi age_\n",
    "Używając funkcji tapply(..vector1., ..correlated vector2.., ..function applied for vector1..)\n",
    "//‘apply for table’//\n",
    "znajdź:\n",
    "i) średnią wieku tych, którzy na I pytanie odpowiedzieli ‘tak’\n",
    "ii) odchylenie standardowe wieku osób które na II pytanie odpowiedziały ‘nie’\n"
   ]
  },
  {
   "cell_type": "code",
   "execution_count": 14,
   "metadata": {
    "vscode": {
     "languageId": "r"
    }
   },
   "outputs": [
    {
     "data": {
      "text/html": [
       "<style>\n",
       ".dl-inline {width: auto; margin:0; padding: 0}\n",
       ".dl-inline>dt, .dl-inline>dd {float: none; width: auto; display: inline-block}\n",
       ".dl-inline>dt::after {content: \":\\0020\"; padding-right: .5ex}\n",
       ".dl-inline>dt:not(:first-of-type) {padding-left: .5ex}\n",
       "</style><dl class=dl-inline><dt>N</dt><dd>54.5</dd><dt>T</dt><dd>69.6</dd><dt>X</dt><dd>53</dd></dl>\n"
      ],
      "text/latex": [
       "\\begin{description*}\n",
       "\\item[N] 54.5\n",
       "\\item[T] 69.6\n",
       "\\item[X] 53\n",
       "\\end{description*}\n"
      ],
      "text/markdown": [
       "N\n",
       ":   54.5T\n",
       ":   69.6X\n",
       ":   53\n",
       "\n"
      ],
      "text/plain": [
       "   N    T    X \n",
       "54.5 69.6 53.0 "
      ]
     },
     "metadata": {},
     "output_type": "display_data"
    },
    {
     "data": {
      "text/html": [
       "<style>\n",
       ".dl-inline {width: auto; margin:0; padding: 0}\n",
       ".dl-inline>dt, .dl-inline>dd {float: none; width: auto; display: inline-block}\n",
       ".dl-inline>dt::after {content: \":\\0020\"; padding-right: .5ex}\n",
       ".dl-inline>dt:not(:first-of-type) {padding-left: .5ex}\n",
       "</style><dl class=dl-inline><dt>N</dt><dd>33.2340187157677</dd><dt>T</dt><dd>34.9113162169518</dd><dt>X</dt><dd>36.3868107973205</dd></dl>\n"
      ],
      "text/latex": [
       "\\begin{description*}\n",
       "\\item[N] 33.2340187157677\n",
       "\\item[T] 34.9113162169518\n",
       "\\item[X] 36.3868107973205\n",
       "\\end{description*}\n"
      ],
      "text/markdown": [
       "N\n",
       ":   33.2340187157677T\n",
       ":   34.9113162169518X\n",
       ":   36.3868107973205\n",
       "\n"
      ],
      "text/plain": [
       "       N        T        X \n",
       "33.23402 34.91132 36.38681 "
      ]
     },
     "metadata": {},
     "output_type": "display_data"
    }
   ],
   "source": [
    "age_ <- sample(5:100, 10, T)\n",
    "tapply(age_, a_, mean)\n",
    "tapply(age_, a_, sd)"
   ]
  },
  {
   "cell_type": "markdown",
   "metadata": {},
   "source": [
    "### Zad.4\n",
    "Pozostając w kontekście zad.1, użyj funkcji cut(..data vector.., vector of intervals edges..) aby\n",
    "wygenerować wektor (a właściwie faktor) ageIntervals_ przedziałów: (0, 20], (20, 30], (30, 50] i\n",
    "(50, 75] odpowiadających wiekowi poszczególnych respondentów.\n",
    "Przy użyciu funkcji table(...) wygeneruj zestawienie ilustrujące ile osób - w poszczególnych\n",
    "przedziałach wiekowych - udzielało odpowiedzi.\n"
   ]
  },
  {
   "cell_type": "code",
   "execution_count": 26,
   "metadata": {
    "vscode": {
     "languageId": "r"
    }
   },
   "outputs": [
    {
     "data": {
      "text/html": [
       "<style>\n",
       ".list-inline {list-style: none; margin:0; padding: 0}\n",
       ".list-inline>li {display: inline-block}\n",
       ".list-inline>li:not(:last-child)::after {content: \"\\00b7\"; padding: 0 .5ex}\n",
       "</style>\n",
       "<ol class=list-inline><li>(20,30]</li><li>(50,75]</li><li>(30,50]</li><li>(50,75]</li><li>(30,50]</li><li>(0,20]</li><li>(30,50]</li><li>(50,75]</li><li>(20,30]</li><li>(30,50]</li><li>(0,20]</li><li>(20,30]</li><li>(30,50]</li><li>(0,20]</li><li>(0,20]</li><li>(50,75]</li><li>(50,75]</li><li>(20,30]</li><li>(0,20]</li><li>(30,50]</li></ol>\n",
       "\n",
       "<details>\n",
       "\t<summary style=display:list-item;cursor:pointer>\n",
       "\t\t<strong>Levels</strong>:\n",
       "\t</summary>\n",
       "\t<style>\n",
       "\t.list-inline {list-style: none; margin:0; padding: 0}\n",
       "\t.list-inline>li {display: inline-block}\n",
       "\t.list-inline>li:not(:last-child)::after {content: \"\\00b7\"; padding: 0 .5ex}\n",
       "\t</style>\n",
       "\t<ol class=list-inline><li>'(0,20]'</li><li>'(20,30]'</li><li>'(30,50]'</li><li>'(50,75]'</li></ol>\n",
       "</details>"
      ],
      "text/latex": [
       "\\begin{enumerate*}\n",
       "\\item (20,30{]}\n",
       "\\item (50,75{]}\n",
       "\\item (30,50{]}\n",
       "\\item (50,75{]}\n",
       "\\item (30,50{]}\n",
       "\\item (0,20{]}\n",
       "\\item (30,50{]}\n",
       "\\item (50,75{]}\n",
       "\\item (20,30{]}\n",
       "\\item (30,50{]}\n",
       "\\item (0,20{]}\n",
       "\\item (20,30{]}\n",
       "\\item (30,50{]}\n",
       "\\item (0,20{]}\n",
       "\\item (0,20{]}\n",
       "\\item (50,75{]}\n",
       "\\item (50,75{]}\n",
       "\\item (20,30{]}\n",
       "\\item (0,20{]}\n",
       "\\item (30,50{]}\n",
       "\\end{enumerate*}\n",
       "\n",
       "\\emph{Levels}: \\begin{enumerate*}\n",
       "\\item '(0,20{]}'\n",
       "\\item '(20,30{]}'\n",
       "\\item '(30,50{]}'\n",
       "\\item '(50,75{]}'\n",
       "\\end{enumerate*}\n"
      ],
      "text/markdown": [
       "1. (20,30]\n",
       "2. (50,75]\n",
       "3. (30,50]\n",
       "4. (50,75]\n",
       "5. (30,50]\n",
       "6. (0,20]\n",
       "7. (30,50]\n",
       "8. (50,75]\n",
       "9. (20,30]\n",
       "10. (30,50]\n",
       "11. (0,20]\n",
       "12. (20,30]\n",
       "13. (30,50]\n",
       "14. (0,20]\n",
       "15. (0,20]\n",
       "16. (50,75]\n",
       "17. (50,75]\n",
       "18. (20,30]\n",
       "19. (0,20]\n",
       "20. (30,50]\n",
       "\n",
       "\n",
       "\n",
       "**Levels**: 1. '(0,20]'\n",
       "2. '(20,30]'\n",
       "3. '(30,50]'\n",
       "4. '(50,75]'\n",
       "\n",
       "\n"
      ],
      "text/plain": [
       " [1] (20,30] (50,75] (30,50] (50,75] (30,50] (0,20]  (30,50] (50,75] (20,30]\n",
       "[10] (30,50] (0,20]  (20,30] (30,50] (0,20]  (0,20]  (50,75] (50,75] (20,30]\n",
       "[19] (0,20]  (30,50]\n",
       "Levels: (0,20] (20,30] (30,50] (50,75]"
      ]
     },
     "metadata": {},
     "output_type": "display_data"
    },
    {
     "data": {
      "text/plain": [
       "         ageIntervals_\n",
       "          (0,20] (20,30] (30,50] (50,75]\n",
       "  Audi         1       1       1       0\n",
       "  Citroen      1       0       0       0\n",
       "  Fiat         0       0       1       0\n",
       "  Mazda        0       0       0       2\n",
       "  Renault      1       0       3       0\n",
       "  Skoda        1       0       0       1\n",
       "  Toyota       0       1       0       1\n",
       "  VW           1       2       1       1"
      ]
     },
     "metadata": {},
     "output_type": "display_data"
    }
   ],
   "source": [
    "age_ <- sample(5:75, 20, T)\n",
    "ageIntervals_ <- cut(age_, c(0, 20, 30, 50, 75))\n",
    "ageIntervals_\n",
    "table(factor(cars), ageIntervals_)"
   ]
  },
  {
   "cell_type": "markdown",
   "metadata": {},
   "source": [
    "## MACIERZ (= typ tablicowy)\n",
    "### Zad.5\n",
    "Wygeneruj wektor x_ kolejnych liczb naturalnych od 12 do 41. Używając funkcji dim(..vector..)\n",
    "wygeneruj z wektora x_ macierz o wymiarach 3x10, potem zmień jej wymiary na 5x6, w końcu\n",
    "10x3.\n",
    "Zwróć siódmą współrzędną wektora. Następnie zwróć komórkę z szóstego wiersza i drugiej\n",
    "kolumny. Zwróć dane z trzeciej kolumny macierzy. Zwróć piąty wiersz macierzy.\n",
    "Przy użyciu polecenia dim(), wyświetl aktualne wymiary macierzy.\n"
   ]
  },
  {
   "cell_type": "code",
   "execution_count": 41,
   "metadata": {
    "vscode": {
     "languageId": "r"
    }
   },
   "outputs": [
    {
     "data": {
      "text/html": [
       "<table class=\"dataframe\">\n",
       "<caption>A matrix: 10 × 3 of type int</caption>\n",
       "<tbody>\n",
       "\t<tr><td>12</td><td>22</td><td>32</td></tr>\n",
       "\t<tr><td>13</td><td>23</td><td>33</td></tr>\n",
       "\t<tr><td>14</td><td>24</td><td>34</td></tr>\n",
       "\t<tr><td>15</td><td>25</td><td>35</td></tr>\n",
       "\t<tr><td>16</td><td>26</td><td>36</td></tr>\n",
       "\t<tr><td>17</td><td>27</td><td>37</td></tr>\n",
       "\t<tr><td>18</td><td>28</td><td>38</td></tr>\n",
       "\t<tr><td>19</td><td>29</td><td>39</td></tr>\n",
       "\t<tr><td>20</td><td>30</td><td>40</td></tr>\n",
       "\t<tr><td>21</td><td>31</td><td>41</td></tr>\n",
       "</tbody>\n",
       "</table>\n"
      ],
      "text/latex": [
       "A matrix: 10 × 3 of type int\n",
       "\\begin{tabular}{lll}\n",
       "\t 12 & 22 & 32\\\\\n",
       "\t 13 & 23 & 33\\\\\n",
       "\t 14 & 24 & 34\\\\\n",
       "\t 15 & 25 & 35\\\\\n",
       "\t 16 & 26 & 36\\\\\n",
       "\t 17 & 27 & 37\\\\\n",
       "\t 18 & 28 & 38\\\\\n",
       "\t 19 & 29 & 39\\\\\n",
       "\t 20 & 30 & 40\\\\\n",
       "\t 21 & 31 & 41\\\\\n",
       "\\end{tabular}\n"
      ],
      "text/markdown": [
       "\n",
       "A matrix: 10 × 3 of type int\n",
       "\n",
       "| 12 | 22 | 32 |\n",
       "| 13 | 23 | 33 |\n",
       "| 14 | 24 | 34 |\n",
       "| 15 | 25 | 35 |\n",
       "| 16 | 26 | 36 |\n",
       "| 17 | 27 | 37 |\n",
       "| 18 | 28 | 38 |\n",
       "| 19 | 29 | 39 |\n",
       "| 20 | 30 | 40 |\n",
       "| 21 | 31 | 41 |\n",
       "\n"
      ],
      "text/plain": [
       "      [,1] [,2] [,3]\n",
       " [1,] 12   22   32  \n",
       " [2,] 13   23   33  \n",
       " [3,] 14   24   34  \n",
       " [4,] 15   25   35  \n",
       " [5,] 16   26   36  \n",
       " [6,] 17   27   37  \n",
       " [7,] 18   28   38  \n",
       " [8,] 19   29   39  \n",
       " [9,] 20   30   40  \n",
       "[10,] 21   31   41  "
      ]
     },
     "metadata": {},
     "output_type": "display_data"
    },
    {
     "data": {
      "text/html": [
       "18"
      ],
      "text/latex": [
       "18"
      ],
      "text/markdown": [
       "18"
      ],
      "text/plain": [
       "[1] 18"
      ]
     },
     "metadata": {},
     "output_type": "display_data"
    },
    {
     "data": {
      "text/html": [
       "27"
      ],
      "text/latex": [
       "27"
      ],
      "text/markdown": [
       "27"
      ],
      "text/plain": [
       "[1] 27"
      ]
     },
     "metadata": {},
     "output_type": "display_data"
    },
    {
     "data": {
      "text/html": [
       "<style>\n",
       ".list-inline {list-style: none; margin:0; padding: 0}\n",
       ".list-inline>li {display: inline-block}\n",
       ".list-inline>li:not(:last-child)::after {content: \"\\00b7\"; padding: 0 .5ex}\n",
       "</style>\n",
       "<ol class=list-inline><li>32</li><li>33</li><li>34</li><li>35</li><li>36</li><li>37</li><li>38</li><li>39</li><li>40</li><li>41</li></ol>\n"
      ],
      "text/latex": [
       "\\begin{enumerate*}\n",
       "\\item 32\n",
       "\\item 33\n",
       "\\item 34\n",
       "\\item 35\n",
       "\\item 36\n",
       "\\item 37\n",
       "\\item 38\n",
       "\\item 39\n",
       "\\item 40\n",
       "\\item 41\n",
       "\\end{enumerate*}\n"
      ],
      "text/markdown": [
       "1. 32\n",
       "2. 33\n",
       "3. 34\n",
       "4. 35\n",
       "5. 36\n",
       "6. 37\n",
       "7. 38\n",
       "8. 39\n",
       "9. 40\n",
       "10. 41\n",
       "\n",
       "\n"
      ],
      "text/plain": [
       " [1] 32 33 34 35 36 37 38 39 40 41"
      ]
     },
     "metadata": {},
     "output_type": "display_data"
    },
    {
     "data": {
      "text/html": [
       "<style>\n",
       ".list-inline {list-style: none; margin:0; padding: 0}\n",
       ".list-inline>li {display: inline-block}\n",
       ".list-inline>li:not(:last-child)::after {content: \"\\00b7\"; padding: 0 .5ex}\n",
       "</style>\n",
       "<ol class=list-inline><li>16</li><li>26</li><li>36</li></ol>\n"
      ],
      "text/latex": [
       "\\begin{enumerate*}\n",
       "\\item 16\n",
       "\\item 26\n",
       "\\item 36\n",
       "\\end{enumerate*}\n"
      ],
      "text/markdown": [
       "1. 16\n",
       "2. 26\n",
       "3. 36\n",
       "\n",
       "\n"
      ],
      "text/plain": [
       "[1] 16 26 36"
      ]
     },
     "metadata": {},
     "output_type": "display_data"
    },
    {
     "data": {
      "text/html": [
       "<style>\n",
       ".list-inline {list-style: none; margin:0; padding: 0}\n",
       ".list-inline>li {display: inline-block}\n",
       ".list-inline>li:not(:last-child)::after {content: \"\\00b7\"; padding: 0 .5ex}\n",
       "</style>\n",
       "<ol class=list-inline><li>10</li><li>3</li></ol>\n"
      ],
      "text/latex": [
       "\\begin{enumerate*}\n",
       "\\item 10\n",
       "\\item 3\n",
       "\\end{enumerate*}\n"
      ],
      "text/markdown": [
       "1. 10\n",
       "2. 3\n",
       "\n",
       "\n"
      ],
      "text/plain": [
       "[1] 10  3"
      ]
     },
     "metadata": {},
     "output_type": "display_data"
    }
   ],
   "source": [
    "x_ <- 12:41\n",
    "dim(x_) <- c(3,10)\n",
    "dim(x_) <- c(5, 6)\n",
    "dim(x_) <- c(10, 3)\n",
    "x_\n",
    "x_[7]\n",
    "x_[6, 2]\n",
    "x_[, 3]\n",
    "x_[5,]\n",
    "dim(x_)"
   ]
  },
  {
   "cell_type": "markdown",
   "metadata": {},
   "source": [
    "### Zad.6\n",
    "Powróć w macierzy x_ (zad.5) do wymiarów 5x6. Chcemy móc operować jednocześnie na jej\n",
    "komórkach o adresach: [1,2], [1,6], [4,3], [4,5], [5,1], [5,2]. W tym celu, używając:\n",
    "i) poznanego wcześniej sposobu generowania macierzy (z zadanego wektora)\n",
    "ii) funkcji array(..data vector.., dim = c(..., …))\n",
    "wygeneruj najpierw macierz y_ o wymiarach 6x2, która w kolejnych wierszach ma współrzędne\n",
    "każdego z w/w punktów.\n",
    "Następnie wyświetl dane z tablicy x_ o adresach jw. Nadpisz te dane tak by miały wartość 0 i\n",
    "wywołaj nadpisaną tablicę x_.\n"
   ]
  },
  {
   "cell_type": "code",
   "execution_count": 42,
   "metadata": {
    "vscode": {
     "languageId": "r"
    }
   },
   "outputs": [],
   "source": [
    "dim(x_) <- c(5, 6)\n",
    "y_ <- array(x_, dim = c(6, 2))"
   ]
  },
  {
   "cell_type": "markdown",
   "metadata": {},
   "source": [
    "### Zad.7\n",
    "Wygeneruj wektor a_ kolejnych liczb naturalnych od 1 do 12 i utwórz macierz trójwymiarową o\n",
    "wymiarach 3x2x2. Wywołaj ją i zinterpretuj wynik.\n"
   ]
  },
  {
   "cell_type": "code",
   "execution_count": 47,
   "metadata": {
    "vscode": {
     "languageId": "r"
    }
   },
   "outputs": [
    {
     "data": {
      "text/html": [
       "<style>\n",
       ".list-inline {list-style: none; margin:0; padding: 0}\n",
       ".list-inline>li {display: inline-block}\n",
       ".list-inline>li:not(:last-child)::after {content: \"\\00b7\"; padding: 0 .5ex}\n",
       "</style>\n",
       "<ol class=list-inline><li>1</li><li>2</li><li>3</li><li>4</li><li>5</li><li>6</li><li>7</li><li>8</li><li>9</li><li>10</li><li>11</li><li>12</li></ol>\n"
      ],
      "text/latex": [
       "\\begin{enumerate*}\n",
       "\\item 1\n",
       "\\item 2\n",
       "\\item 3\n",
       "\\item 4\n",
       "\\item 5\n",
       "\\item 6\n",
       "\\item 7\n",
       "\\item 8\n",
       "\\item 9\n",
       "\\item 10\n",
       "\\item 11\n",
       "\\item 12\n",
       "\\end{enumerate*}\n"
      ],
      "text/markdown": [
       "1. 1\n",
       "2. 2\n",
       "3. 3\n",
       "4. 4\n",
       "5. 5\n",
       "6. 6\n",
       "7. 7\n",
       "8. 8\n",
       "9. 9\n",
       "10. 10\n",
       "11. 11\n",
       "12. 12\n",
       "\n",
       "\n"
      ],
      "text/plain": [
       ", , 1\n",
       "\n",
       "     [,1] [,2]\n",
       "[1,]    1    4\n",
       "[2,]    2    5\n",
       "[3,]    3    6\n",
       "\n",
       ", , 2\n",
       "\n",
       "     [,1] [,2]\n",
       "[1,]    7   10\n",
       "[2,]    8   11\n",
       "[3,]    9   12\n"
      ]
     },
     "metadata": {},
     "output_type": "display_data"
    }
   ],
   "source": [
    "a_ <- 1:12\n",
    "dim(a_) <- c(3, 2, 2)\n",
    "a_"
   ]
  },
  {
   "cell_type": "markdown",
   "metadata": {},
   "source": [
    "## OPERACJA NA TABLICACH\n",
    "### Zad.8\n",
    "Używając funkcji\n",
    "outer(..vertical data vector.., horizontal data vector.., ‘operation’ //multiplication by default//)\n",
    "wygeneruj:\n",
    "i) tabliczkę mnożenia (dla liczb od 1 do 10)\n",
    "ii) tabliczkę dzielenia\n",
    "iii) tabliczkę reszt z dzielenia\n",
    "iv) tabliczkę części całkowitych z dzielenia.\n"
   ]
  },
  {
   "cell_type": "markdown",
   "metadata": {},
   "source": [
    "### Zad.9\n",
    "Przy użyciu funkcji array(), wygeneruj dowolną macierz dwuwymiarową i przy użyciu funkcji\n",
    "aperm(..matrix..) //permutującej wymiary macierzy//\n",
    "dokonaj transpozycji macierzy. Jak inaczej uzyskać transpozycję macierzy?\n"
   ]
  },
  {
   "cell_type": "markdown",
   "metadata": {},
   "source": [
    "### Zad.10\n",
    "Wygeneruj 3 wektory a, b i c o równej długości. Przy użyciu funkcji\n",
    "rbind(..row1.., ..row2, ...) oraz cbind(..column1.., ..column2..)\n",
    "wygeneruj z nich:\n",
    "i) macierz o zadanych wierszach\n",
    "ii) macierz o zadanych kolumnach.\n",
    "Używając funkcji as.vector(...matrix...) zrób z otrzymanej macierzy wektor o współrzędnych z\n",
    "kolejnych kolumn.\n"
   ]
  },
  {
   "cell_type": "markdown",
   "metadata": {},
   "source": [
    "### Zad.11\n",
    "Wygeneruj dwie macierze: m_1 o wymiarach 3x2 i m_2 o wymiarach 2x4. Przemnóż je przez siebie\n",
    "używając operatora %*% mnożenia macierzy. Sprawdź pisemnie uzyskany wynik.\n"
   ]
  },
  {
   "cell_type": "markdown",
   "metadata": {},
   "source": [
    "### Zad.12\n",
    "Przy użyciu funkcji solve(...) znajdź macierz odwrotną do macierzy m = rbind(c(3, 1), c(1, 1)). Jak\n",
    "sprawdzić poprawność otrzymanego wyniku?\n"
   ]
  },
  {
   "cell_type": "markdown",
   "metadata": {},
   "source": [
    "### Zad.13\n",
    "Rozwiąż układ równań: 3x – 2y + z = 1; x - z = 4; 2y + 2z = 7.\n"
   ]
  },
  {
   "cell_type": "markdown",
   "metadata": {},
   "source": [
    "## LISTA (= uporządkowany zbiór elementów różnego typu)\n",
    "### Zad.14\n",
    "Utwórz kilka różnych typów danych, np. wektor liczbowy a= [1, pi, 4], wektor wartości logicznych\n",
    "b =[TRUE, FALSE, FALSE, FALSE], faktor c z danymi: 7, pi, ‘hello’, ‘world’, pi, 6, ‘hello’ oraz\n",
    "macierz d o dowolnych wymiarach…\n",
    "Przy użyciu funkcji list(..first data portion, second data portion, ..., last data portion), utwórz listę\n",
    "zawierającą powyższe porcje z danymi. Zwróć drugi element listy, zwróć zawartość drugiego\n",
    "elementu listy.\n"
   ]
  },
  {
   "cell_type": "markdown",
   "metadata": {},
   "source": [
    "### Zad.15\n",
    "Utwórz listę z następujących danych: wektora v =[1, 2, 3], zmiennej u=2 oraz macierzy m o\n",
    "wymiarach3x4 z wartościami: 1 : 12 (pierwsza kolumna: 1, 2, 3, 4, druga: 5, 6, 7, 8 itd...). Wywołaj\n",
    "listę, po czym łańcuchując nazwy coraz głębszych elementów przy użyciu znaku $, wywołaj tylko\n",
    "wektor v, potem drugą współrzędną wektora v, potem elementy z pierwszego wiersza tablicy m."
   ]
  }
 ],
 "metadata": {
  "kernelspec": {
   "display_name": "R",
   "language": "R",
   "name": "ir"
  },
  "language_info": {
   "codemirror_mode": "r",
   "file_extension": ".r",
   "mimetype": "text/x-r-source",
   "name": "R",
   "pygments_lexer": "r",
   "version": "4.2.0"
  },
  "orig_nbformat": 4
 },
 "nbformat": 4,
 "nbformat_minor": 2
}
