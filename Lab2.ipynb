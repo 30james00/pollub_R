{
 "cells": [
  {
   "cell_type": "markdown",
   "metadata": {},
   "source": [
    "# PEiAR - Laboratorium 2\n",
    "## FAKTOR c.d. (= typ czynnikowy / kategoryczny / wyliczeniowy)\n",
    "### Zad. 1\n",
    "Zapytano 20 ludzi o markę samochodu.\n",
    "`cars = c(‘VW’, ‘Toyota’, ‘Renault’, ‘VW’, ‘Audi’, ‘Citroen’, ‘Fiat’, ‘Mazda’, ‘Toyota’,\n",
    "‘Renault’,‘Renault’, ‘Audi’, ‘VW’, ‘VW’, ‘Audi’, ‘Mazda’, ‘Skoda’, ‘VW’, ‘Skoda’)`.\n",
    "Zwróć zestaw danych cars wraz z unikatowymi jego wartościami\n",
    "// factor( ... )\n",
    "Zwróć same wartości unikatowe\n",
    "// levels(factor( ... ))\n",
    "Zwróć zestawienie wartości unikatowych wraz z ich wagami\n",
    "// table(factor( ... ))\n"
   ]
  },
  {
   "cell_type": "markdown",
   "metadata": {},
   "source": [
    "### Zad.2\n",
    "Dziesięciu osobom zadano po dwa pytania, na które mogli odpowiedzieć tak(‘T’), nie (‘N’) lub nie\n",
    "wiem (‘X’).\n",
    "i) Wygeneruj przykładowy wektor a_ z 10 odpowiedziami na I pytanie i przykładowy wektor b_ z\n",
    "odpowiedziami na pytanie II.\n",
    "ii) Zestaw te dane używając funkcji table().\n",
    "iii) Ile było osób które na oba pytania odpowiedziały ‘nie wiem’, ile osób odpowiedziało na I ‘nie’ a\n",
    "na drugie ‘tak’?\n"
   ]
  },
  {
   "cell_type": "markdown",
   "metadata": {},
   "source": [
    "### Zad.3\n",
    "Osoby z poprzedniego zadania zapytano o wiek. Wygeneruj przykładowy wektor odpowiedzi age_\n",
    "Używając funkcji tapply(..vector1., ..correlated vector2.., ..function applied for vector1..)\n",
    "//‘apply for table’//\n",
    "znajdź:\n",
    "i) średnią wieku tych, którzy na I pytanie odpowiedzieli ‘tak’\n",
    "ii) odchylenie standardowe wieku osób które na II pytanie odpowiedziały ‘nie’\n"
   ]
  },
  {
   "cell_type": "markdown",
   "metadata": {},
   "source": [
    "### Zad.4\n",
    "Pozostając w kontekście zad.1, użyj funkcji cut(..data vector.., vector of intervals edges..) aby\n",
    "wygenerować wektor (a właściwie faktor) ageIntervals_ przedziałów: (0, 20], (20, 30], (30, 50] i\n",
    "(50, 75] odpowiadających wiekowi poszczególnych respondentów.\n",
    "Przy użyciu funkcji table(...) wygeneruj zestawienie ilustrujące ile osób - w poszczególnych\n",
    "przedziałach wiekowych - udzielało odpowiedzi.\n"
   ]
  },
  {
   "cell_type": "markdown",
   "metadata": {},
   "source": [
    "## MACIERZ (= typ tablicowy)\n",
    "### Zad.5\n",
    "Wygeneruj wektor x_ kolejnych liczb naturalnych od 12 do 41. Używając funkcji dim(..vector..)\n",
    "wygeneruj z wektora x_ macierz o wymiarach 3x10, potem zmień jej wymiary na 5x6, w końcu\n",
    "10x3.\n",
    "Zwróć siódmą współrzędną wektora. Następnie zwróć komórkę z szóstego wiersza i drugiej\n",
    "kolumny. Zwróć dane z trzeciej kolumny macierzy. Zwróć piąty wiersz macierzy.\n",
    "Przy użyciu polecenia dim(), wyświetl aktualne wymiary macierzy.\n"
   ]
  },
  {
   "cell_type": "markdown",
   "metadata": {},
   "source": [
    "### Zad.6\n",
    "Powróć w macierzy x_ (zad.5) do wymiarów 5x6. Chcemy móc operować jednocześnie na jej\n",
    "komórkach o adresach: [1,2], [1,6], [4,3], [4,5], [5,1], [5,2]. W tym celu, używając:\n",
    "i) poznanego wcześniej sposobu generowania macierzy (z zadanego wektora)\n",
    "ii) funkcji array(..data vector.., dim = c(..., …))\n",
    "wygeneruj najpierw macierz y_ o wymiarach 6x2, która w kolejnych wierszach ma współrzędne\n",
    "każdego z w/w punktów.\n",
    "Następnie wyświetl dane z tablicy x_ o adresach jw. Nadpisz te dane tak by miały wartość 0 i\n",
    "wywołaj nadpisaną tablicę x_.\n"
   ]
  },
  {
   "cell_type": "markdown",
   "metadata": {},
   "source": [
    "### Zad.7\n",
    "Wygeneruj wektor a_ kolejnych liczb naturalnych od 1 do 12 i utwórz macierz trójwymiarową o\n",
    "wymiarach 3x2x2. Wywołaj ją i zinterpretuj wynik.\n"
   ]
  },
  {
   "cell_type": "markdown",
   "metadata": {},
   "source": [
    "## OPERACJA NA TABLICACH\n",
    "### Zad.8\n",
    "Używając funkcji\n",
    "outer(..vertical data vector.., horizontal data vector.., ‘operation’ //multiplication by default//)\n",
    "wygeneruj:\n",
    "i) tabliczkę mnożenia (dla liczb od 1 do 10)\n",
    "ii) tabliczkę dzielenia\n",
    "iii) tabliczkę reszt z dzielenia\n",
    "iv) tabliczkę części całkowitych z dzielenia.\n"
   ]
  },
  {
   "cell_type": "markdown",
   "metadata": {},
   "source": [
    "### Zad.9\n",
    "Przy użyciu funkcji array(), wygeneruj dowolną macierz dwuwymiarową i przy użyciu funkcji\n",
    "aperm(..matrix..) //permutującej wymiary macierzy//\n",
    "dokonaj transpozycji macierzy. Jak inaczej uzyskać transpozycję macierzy?\n"
   ]
  },
  {
   "cell_type": "markdown",
   "metadata": {},
   "source": [
    "### Zad.10\n",
    "Wygeneruj 3 wektory a, b i c o równej długości. Przy użyciu funkcji\n",
    "rbind(..row1.., ..row2, ...) oraz cbind(..column1.., ..column2..)\n",
    "wygeneruj z nich:\n",
    "i) macierz o zadanych wierszach\n",
    "ii) macierz o zadanych kolumnach.\n",
    "Używając funkcji as.vector(...matrix...) zrób z otrzymanej macierzy wektor o współrzędnych z\n",
    "kolejnych kolumn.\n"
   ]
  },
  {
   "cell_type": "markdown",
   "metadata": {},
   "source": [
    "### Zad.11\n",
    "Wygeneruj dwie macierze: m_1 o wymiarach 3x2 i m_2 o wymiarach 2x4. Przemnóż je przez siebie\n",
    "używając operatora %*% mnożenia macierzy. Sprawdź pisemnie uzyskany wynik.\n"
   ]
  },
  {
   "cell_type": "markdown",
   "metadata": {},
   "source": [
    "### Zad.12\n",
    "Przy użyciu funkcji solve(...) znajdź macierz odwrotną do macierzy m = rbind(c(3, 1), c(1, 1)). Jak\n",
    "sprawdzić poprawność otrzymanego wyniku?\n"
   ]
  },
  {
   "cell_type": "markdown",
   "metadata": {},
   "source": [
    "### Zad.13\n",
    "Rozwiąż układ równań: 3x – 2y + z = 1; x - z = 4; 2y + 2z = 7.\n"
   ]
  },
  {
   "cell_type": "markdown",
   "metadata": {},
   "source": [
    "## LISTA (= uporządkowany zbiór elementów różnego typu)\n",
    "### Zad.14\n",
    "Utwórz kilka różnych typów danych, np. wektor liczbowy a= [1, pi, 4], wektor wartości logicznych\n",
    "b =[TRUE, FALSE, FALSE, FALSE], faktor c z danymi: 7, pi, ‘hello’, ‘world’, pi, 6, ‘hello’ oraz\n",
    "macierz d o dowolnych wymiarach…\n",
    "Przy użyciu funkcji list(..first data portion, second data portion, ..., last data portion), utwórz listę\n",
    "zawierającą powyższe porcje z danymi. Zwróć drugi element listy, zwróć zawartość drugiego\n",
    "elementu listy.\n"
   ]
  },
  {
   "cell_type": "markdown",
   "metadata": {},
   "source": [
    "### Zad.15\n",
    "Utwórz listę z następujących danych: wektora v =[1, 2, 3], zmiennej u=2 oraz macierzy m o\n",
    "wymiarach3x4 z wartościami: 1 : 12 (pierwsza kolumna: 1, 2, 3, 4, druga: 5, 6, 7, 8 itd...). Wywołaj\n",
    "listę, po czym łańcuchując nazwy coraz głębszych elementów przy użyciu znaku $, wywołaj tylko\n",
    "wektor v, potem drugą współrzędną wektora v, potem elementy z pierwszego wiersza tablicy m."
   ]
  }
 ],
 "metadata": {
  "kernelspec": {
   "display_name": "R",
   "language": "R",
   "name": "ir"
  },
  "language_info": {
   "name": "R"
  },
  "orig_nbformat": 4
 },
 "nbformat": 4,
 "nbformat_minor": 2
}
