{
 "cells": [
  {
   "cell_type": "markdown",
   "metadata": {},
   "source": [
    "# PEiAR Laboratorium 12\n",
    "## Zad.1 (Testy istotności dla wielu wariancji – c. d.)\n",
    "W trzech różnych grupach wiekowych zapytano ludzi o kwotę wydawaną miesięcznie (w\n",
    "złotówkach) na używki (alkohol, papierosy...) i otrzymano próby:\n",
    "18-25 lat:\n",
    " 285, 290, 311, 296, 240, 245, 283, 256, 270, 285, 230\n",
    "26 – 30 lat:\n",
    " 295, 307, 301, 280, 275, 280, 285, 285, 305, 275, 308, 300, 310, 282, 315, 300, 304, 293, 296\n",
    "31 – 40 lat:\n",
    " x\n",
    "Zweryfikuj hipotezę H0 , że zróżnicowanie wydawanych kwot na używki jest w tych grupach\n",
    "wiekowych takie samo.\n"
   ]
  },
  {
   "cell_type": "code",
   "execution_count": 2,
   "metadata": {
    "vscode": {
     "languageId": "r"
    }
   },
   "outputs": [
    {
     "data": {
      "text/plain": [
       "\n",
       "\tShapiro-Wilk normality test\n",
       "\n",
       "data:  a\n",
       "W = 0.94462, p-value = 0.5762\n"
      ]
     },
     "metadata": {},
     "output_type": "display_data"
    },
    {
     "data": {
      "text/plain": [
       "\n",
       "\tShapiro-Wilk normality test\n",
       "\n",
       "data:  b\n",
       "W = 0.94019, p-value = 0.2658\n"
      ]
     },
     "metadata": {},
     "output_type": "display_data"
    },
    {
     "data": {
      "text/plain": [
       "\n",
       "\tShapiro-Wilk normality test\n",
       "\n",
       "data:  c\n",
       "W = 0.60302, p-value = 2.772e-05\n"
      ]
     },
     "metadata": {},
     "output_type": "display_data"
    },
    {
     "data": {
      "text/plain": [
       "\n",
       "\tFligner-Killeen test of homogeneity of variances\n",
       "\n",
       "data:  d\n",
       "Fligner-Killeen:med chi-squared = 3.4179, df = 2, p-value = 0.1811\n"
      ]
     },
     "metadata": {},
     "output_type": "display_data"
    }
   ],
   "source": [
    "a <- c(285, 290, 311, 296, 240, 245, 283, 256, 270, 285, 230)\n",
    "b <- c(295, 307, 301, 280, 275, 280, 285, 285, 305, 275, 308,\n",
    "  300, 310, 282, 315, 300, 304, 293, 296)\n",
    "c <- c(285, 290, 311, 296, 2, 245, 283, 256, 270, 285, 230)\n",
    "\n",
    "shapiro.test(a)\n",
    "shapiro.test(b)\n",
    "shapiro.test(c)\n",
    "\n",
    "d <- list(a, b, c)\n",
    "fligner.test(d)"
   ]
  },
  {
   "cell_type": "markdown",
   "metadata": {},
   "source": [
    "## Zad.2 (Testy istotności dla dwóch wartości oczekiwanych)\n",
    "Pobrano próby wzrostu u młodzieży szkolnej z dwóch niezależnych populacji ludzi\n",
    "zamieszkujących wybrzeża Ameryki Południowej.\n",
    "Pierwsza:\n",
    " 176, 168, 181, 157, 180, 172, 176, 169, 190, 183, 170, 182, 173, 175, 182, 166\n",
    "pochodzi z populacji, w której badana cecha ma rozkład normalny z wariancją równą 10.6 (cm2\n",
    "),\n",
    "natomiast druga:\n",
    " 164, 182, 170, 171, 181, 191, 173, 169, 184, 181, 175, 177, 169, 178\n",
    "pochodzi z populacji, w której badana cecha ma o rozkład normalny z wariancją równą 8.2 (cm2\n",
    ").\n",
    "Na poziomie ufności 0.99, zweryfikuj hipotezę H0, że wartości oczekiwane wzrostu młodzieży w\n",
    "obu powyższych populacjach różnią się o 3 (cm) / kolejność prób/ wobec hipotezy alternatywnej\n",
    "H1, że różnica ta jest jednak większa.\n",
    "\n",
    "package: PASWR2\n",
    "\n",
    "zakladamy ze normalne roklady\n",
    "musza byc niezalezne od siebie\n",
    "modele:\n",
    "1. wariancje znane -> zsum.test\n",
    "2. wariancje sa rowne -> tsum.test\n",
    "3. nie iwemy nic o wariancjach (nie zachodzi 1. ani 2.) -> tsum.test\n",
    "\n",
    "h0(hipoteza podstawowa) u1 = u2 + 3\n",
    "h1(hipoteza alternatywna) u1 > u2 + 3\n",
    "\n",
    "jezeli alternatywna malo prawdopodobna, to zawsze duze p-value"
   ]
  },
  {
   "cell_type": "code",
   "execution_count": 8,
   "metadata": {
    "vscode": {
     "languageId": "r"
    }
   },
   "outputs": [
    {
     "data": {
      "text/plain": [
       "\n",
       "\tTwo Sample z-test\n",
       "\n",
       "data:  User input summarized values for x and y\n",
       "z = -3.6442, p-value = 0.9999\n",
       "alternative hypothesis: true difference in means is greater than 3\n",
       "99 percent confidence interval:\n",
       " -3.670506       Inf\n",
       "sample estimates:\n",
       "mean of x mean of y \n",
       " 175.0000  176.0714 \n"
      ]
     },
     "metadata": {},
     "output_type": "display_data"
    }
   ],
   "source": [
    "library(PASWR2)\n",
    "a <- c(176, 168, 181, 157, 180, 172, 176, 169, 190, 183, 170, 182, 173, 175,\n",
    "  182, 166)\n",
    "b <- c(164, 182, 170, 171, 181, 191, 173, 169, 184, 181, 175, 177, 169, 178)\n",
    "zsum.test(mean.x = mean(a), sigma.x = sqrt(10.6), n.x = length(a),\n",
    "  mean.y = mean(b), sigma.y = sqrt(8.2), n.y = length(b), mu = 3,\n",
    "  alternative = 'greater', conf.level = 0.99)\n"
   ]
  },
  {
   "cell_type": "markdown",
   "metadata": {},
   "source": [
    "## Zad.3\n",
    "Załóżmy, że w Zad.2 zróżnicowanie wzrostu w obu populacjach nie jest znane ale poinformowano\n",
    "nas, że jest identyczne. Stosując test tsum t-Studenta (również z paczki PASWR2), na poziomie\n",
    "ufności 0.95 zweryfikuj tym razem hipotezę H0, że wartości oczekiwane są takie same wobec\n",
    "hipotezy alternatywnej H1, że średni wzrost w drugiej populacji jest większy niż w pierwszej.\n",
    "(zastąp sigma.x oraz sigma.y atrybutami: s.x oraz s.y odpowiednio, ponadto nadaj wartość TRUE\n",
    "parametrowi var.equal).\n"
   ]
  },
  {
   "cell_type": "code",
   "execution_count": 11,
   "metadata": {
    "vscode": {
     "languageId": "r"
    }
   },
   "outputs": [
    {
     "data": {
      "text/plain": [
       "\n",
       "\tF test to compare two variances\n",
       "\n",
       "data:  a and b\n",
       "F = 1.2232, num df = 15, denom df = 13, p-value = 0.7224\n",
       "alternative hypothesis: true ratio of variances is not equal to 1\n",
       "95 percent confidence interval:\n",
       " 0.4006973 3.5777843\n",
       "sample estimates:\n",
       "ratio of variances \n",
       "          1.223214 \n"
      ]
     },
     "metadata": {},
     "output_type": "display_data"
    },
    {
     "data": {
      "text/plain": [
       "\n",
       "\tTwo Sample t-test\n",
       "\n",
       "data:  User input summarized values for x and y\n",
       "t = -0.37899, df = 28, p-value = 0.3538\n",
       "alternative hypothesis: true difference in means is less than 0\n",
       "95 percent confidence interval:\n",
       "     -Inf 3.737787\n",
       "sample estimates:\n",
       "mean of x mean of y \n",
       " 175.0000  176.0714 \n"
      ]
     },
     "metadata": {},
     "output_type": "display_data"
    }
   ],
   "source": [
    "var.test(a, b, alternative = 'two.sided')\n",
    "tsum.test(mean.x = mean(a), s.x = sd(a), n.x = length(a),\n",
    "  mean.y = mean(b), s.y = sd(b), n.y = length(b), mu = 0,\n",
    "  var.equal = T, alternative = 'less', conf.level = 0.95)"
   ]
  },
  {
   "cell_type": "markdown",
   "metadata": {},
   "source": [
    "## Zad.4\n",
    "Zmierzono czas przechodzenia pewnej choroby przez pacjentów którzy zostali wcześniej\n",
    "zaszczepieni i przez tych, którzy nie szczepili się. Otrzymano wyniki (w liczbach dni):\n",
    "niezaszczepieni:\n",
    " 4, 6, 8, 7, 7, 6, 5, 7, 4, 6, 9, 9, 10, 12, 11, 10, 12, 9, 9, 7, 8, 9, 6, 6, 8, 8, 7, 9, 11\n",
    "zaszczepieni:\n",
    " 4, 7, 5, 3, 1, 4, 8, 7, 5, 7, 4, 3, 2, 1, 5, 3, 10, 12, 10, 3, 5, 4, 8, 9, 5, 6, 4\n",
    "Zweryfikuj hipotezę H0, że średnia długość chorowania przez niezaszczepionych jest o 1.5 dnia\n",
    "dłuższa niż wśród pacjentów zaszczepionych (na poziomie ufności 0.99) wobec hipotezy\n",
    "alternatywnej H1, że średnia wśród niezaszczepionych jeszcze bardziej przewyższa przeciętny czas\n",
    "chorowania u zaszczepionych.\n",
    "\n",
    "h0: u1 = u2 + 1.5\n",
    "h1: u1 > u2 + 1.5\n"
   ]
  },
  {
   "cell_type": "code",
   "execution_count": 15,
   "metadata": {
    "vscode": {
     "languageId": "r"
    }
   },
   "outputs": [
    {
     "data": {
      "text/plain": [
       "\n",
       "\tShapiro-Wilk normality test\n",
       "\n",
       "data:  niezaszczepieni_\n",
       "W = 0.96479, p-value = 0.4286\n"
      ]
     },
     "metadata": {},
     "output_type": "display_data"
    },
    {
     "data": {
      "text/plain": [
       "\n",
       "\tShapiro-Wilk normality test\n",
       "\n",
       "data:  zaszczepieni_\n",
       "W = 0.95144, p-value = 0.2323\n"
      ]
     },
     "metadata": {},
     "output_type": "display_data"
    },
    {
     "data": {
      "text/plain": [
       "\n",
       "\tF test to compare two variances\n",
       "\n",
       "data:  niezaszczepieni_ and zaszczepieni_\n",
       "F = 0.59025, num df = 28, denom df = 26, p-value = 0.1746\n",
       "alternative hypothesis: true ratio of variances is not equal to 1\n",
       "99 percent confidence interval:\n",
       " 0.2106176 1.6269764\n",
       "sample estimates:\n",
       "ratio of variances \n",
       "         0.5902516 \n"
      ]
     },
     "metadata": {},
     "output_type": "display_data"
    }
   ],
   "source": [
    "niezaszczepieni_ <- c(4, 6, 8, 7, 7, 6, 5, 7, 4, 6, 9, 9, 10,\n",
    "  12, 11, 10, 12, 9, 9, 7, 8, 9, 6, 6, 8, 8, 7, 9, 11)\n",
    "zaszczepieni_ <- c(4, 7, 5, 3, 1, 4, 8, 7, 5, 7, 4, 3, 2, 1,\n",
    "5, 3, 10, 12, 10, 3, 5, 4, 8, 9, 5, 6, 4)\n",
    "\n",
    "shapiro.test(niezaszczepieni_)\n",
    "shapiro.test(zaszczepieni_)\n",
    "\n",
    "var.test(niezaszczepieni_, zaszczepieni_,\n",
    "  alternative = 'two.sided', conf.level = 0.99)\n"
   ]
  },
  {
   "cell_type": "markdown",
   "metadata": {},
   "source": [
    "## Zad.5\n",
    "Pewnej grupie ludzi przeprowadzono podstawowe badanie krwi w celu zmierzenia poziomu\n",
    "leukocytów (białych płytek krwi odpowiedzialnych m.in. za prawidłowe działanie układu\n",
    "odpornościowego). Otrzymano wyniki:\n",
    " 23, 45, 34, 35, 24, 44, 65, 45, 29, 63, 40, 28, 30, 19, 21.\n",
    "Tym samym ludziom (dane w tej samej kolejności) podano pewien suplement diety mający na celu\n",
    "zwiększenie poziomu leukocytów we krwi. Po miesiącu przeprowadzono ponownie badanie:\n",
    " 34, 50, 24, 33, 22, 67, 51, 49, 48, 51, 18, 17, 30, 28, 20.\n",
    "Zweryfikuj hipotezę H0, że podany suplement diety nie zmienia analizowanych średnich wyników\n",
    "morfologii krwi wobec hipotezy alternatywnej H1, że jednak je polepsza.\n",
    "\n",
    "Populacja jest ta sama"
   ]
  },
  {
   "cell_type": "code",
   "execution_count": 16,
   "metadata": {
    "vscode": {
     "languageId": "r"
    }
   },
   "outputs": [
    {
     "data": {
      "text/plain": [
       "\n",
       "\tPaired t-test\n",
       "\n",
       "data:  a and b\n",
       "t = 0.061983, df = 14, p-value = 0.5243\n",
       "alternative hypothesis: true mean difference is less than 0\n",
       "95 percent confidence interval:\n",
       "     -Inf 5.883175\n",
       "sample estimates:\n",
       "mean difference \n",
       "            0.2 \n"
      ]
     },
     "metadata": {},
     "output_type": "display_data"
    }
   ],
   "source": [
    "a <- c(23, 45, 34, 35, 24, 44, 65, 45, 29, 63, 40, 28, 30, 19, 21)\n",
    "b <- c(34, 50, 24, 33, 22, 67, 51, 49, 48, 51, 18, 17, 30, 28, 20)\n",
    "\n",
    "t.test(a, b, mu = 0, alternative = 'less', paired = T)"
   ]
  },
  {
   "cell_type": "markdown",
   "metadata": {},
   "source": [
    "## Zad.6 (Operator which())\n",
    "Niech dane będą dwa wektory liczbowe o tej samej długości x = c(x1, ..., xn) oraz y = c(y1, ..., yn)\n",
    "oraz liczby rzeczywiste a, b, c, d spełniające warunki a ≤ b oraz c ≤ d. Wektory x i y można\n",
    "traktować jako odpowiednio: wektor pierwszych i wektor drugich współrzędnych punktów\n",
    " P1(x1, y1), ..., Pn(xn, yn). Napisz funkcję o nazwie licz(x, a, b, y, c, d) która zwróci liczbę punktów\n",
    "należących do prostokąta [a, b] x [c, d], tzn. obliczy, ile jest par (xi yi) spełniających warunek a ≤\n",
    "xi≤ b oraz c ≤ yi≤ d. Wykorzystaj operator which(). "
   ]
  },
  {
   "cell_type": "code",
   "execution_count": 19,
   "metadata": {
    "vscode": {
     "languageId": "r"
    }
   },
   "outputs": [
    {
     "data": {
      "text/html": [
       "<style>\n",
       ".list-inline {list-style: none; margin:0; padding: 0}\n",
       ".list-inline>li {display: inline-block}\n",
       ".list-inline>li:not(:last-child)::after {content: \"\\00b7\"; padding: 0 .5ex}\n",
       "</style>\n",
       "<ol class=list-inline><li>1</li><li>4</li><li>7</li><li>10</li><li>13</li><li>16</li><li>19</li></ol>\n"
      ],
      "text/latex": [
       "\\begin{enumerate*}\n",
       "\\item 1\n",
       "\\item 4\n",
       "\\item 7\n",
       "\\item 10\n",
       "\\item 13\n",
       "\\item 16\n",
       "\\item 19\n",
       "\\end{enumerate*}\n"
      ],
      "text/markdown": [
       "1. 1\n",
       "2. 4\n",
       "3. 7\n",
       "4. 10\n",
       "5. 13\n",
       "6. 16\n",
       "7. 19\n",
       "\n",
       "\n"
      ],
      "text/plain": [
       "[1]  1  4  7 10 13 16 19"
      ]
     },
     "metadata": {},
     "output_type": "display_data"
    },
    {
     "data": {
      "text/html": [
       "TRUE"
      ],
      "text/latex": [
       "TRUE"
      ],
      "text/markdown": [
       "TRUE"
      ],
      "text/plain": [
       "[1] TRUE"
      ]
     },
     "metadata": {},
     "output_type": "display_data"
    }
   ],
   "source": [
    "x <- -7:11\n",
    "y <- 11:-7\n",
    "which(x %% 3 > 1)\n",
    "0 %in% x"
   ]
  }
 ],
 "metadata": {
  "kernelspec": {
   "display_name": "R",
   "language": "R",
   "name": "ir"
  },
  "language_info": {
   "codemirror_mode": "r",
   "file_extension": ".r",
   "mimetype": "text/x-r-source",
   "name": "R",
   "pygments_lexer": "r",
   "version": "4.2.0"
  },
  "orig_nbformat": 4
 },
 "nbformat": 4,
 "nbformat_minor": 2
}
