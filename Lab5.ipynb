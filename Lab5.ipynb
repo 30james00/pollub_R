{
 "cells": [
  {
   "cell_type": "markdown",
   "metadata": {},
   "source": [
    "# PEiAR - Laboratorium 5 28(29).03 2022\n",
    "## PRAWO WIELKICH LICZB\n",
    "### Zad. 1 (Ilustracja Prawa Wielkich Liczb)\n",
    "Wygeneruj zmienną coins500_ przechowującą wynik 500 rzutów monetą, gdzie przyjmijmy, że 1 oznacza orła, natomiast 0 – reszkę.\n"
   ]
  },
  {
   "cell_type": "code",
   "execution_count": 19,
   "metadata": {
    "vscode": {
     "languageId": "r"
    }
   },
   "outputs": [
    {
     "data": {
      "text/html": [
       "<style>\n",
       ".list-inline {list-style: none; margin:0; padding: 0}\n",
       ".list-inline>li {display: inline-block}\n",
       ".list-inline>li:not(:last-child)::after {content: \"\\00b7\"; padding: 0 .5ex}\n",
       "</style>\n",
       "<ol class=list-inline><li>0</li><li>1</li><li>0</li><li>0</li><li>0</li><li>0</li></ol>\n"
      ],
      "text/latex": [
       "\\begin{enumerate*}\n",
       "\\item 0\n",
       "\\item 1\n",
       "\\item 0\n",
       "\\item 0\n",
       "\\item 0\n",
       "\\item 0\n",
       "\\end{enumerate*}\n"
      ],
      "text/markdown": [
       "1. 0\n",
       "2. 1\n",
       "3. 0\n",
       "4. 0\n",
       "5. 0\n",
       "6. 0\n",
       "\n",
       "\n"
      ],
      "text/plain": [
       "[1] 0 1 0 0 0 0"
      ]
     },
     "metadata": {},
     "output_type": "display_data"
    }
   ],
   "source": [
    "coins500_ <- sample(0:1, 500, T)\n",
    "head(coins500_)"
   ]
  },
  {
   "cell_type": "markdown",
   "metadata": {},
   "source": [
    "Zbuduj ramkę coinsFrame_ z kolumnami ‘Lp’ i ‘Wynik’."
   ]
  },
  {
   "cell_type": "code",
   "execution_count": 20,
   "metadata": {
    "vscode": {
     "languageId": "r"
    }
   },
   "outputs": [
    {
     "data": {
      "text/html": [
       "<table class=\"dataframe\">\n",
       "<caption>A data.frame: 500 × 2</caption>\n",
       "<thead>\n",
       "\t<tr><th scope=col>Lp</th><th scope=col>Wynik</th></tr>\n",
       "\t<tr><th scope=col>&lt;int&gt;</th><th scope=col>&lt;int&gt;</th></tr>\n",
       "</thead>\n",
       "<tbody>\n",
       "\t<tr><td> 1</td><td>0</td></tr>\n",
       "\t<tr><td> 2</td><td>1</td></tr>\n",
       "\t<tr><td> 3</td><td>0</td></tr>\n",
       "\t<tr><td> 4</td><td>0</td></tr>\n",
       "\t<tr><td> 5</td><td>0</td></tr>\n",
       "\t<tr><td> 6</td><td>0</td></tr>\n",
       "\t<tr><td> 7</td><td>0</td></tr>\n",
       "\t<tr><td> 8</td><td>0</td></tr>\n",
       "\t<tr><td> 9</td><td>0</td></tr>\n",
       "\t<tr><td>10</td><td>1</td></tr>\n",
       "\t<tr><td>11</td><td>0</td></tr>\n",
       "\t<tr><td>12</td><td>0</td></tr>\n",
       "\t<tr><td>13</td><td>1</td></tr>\n",
       "\t<tr><td>14</td><td>1</td></tr>\n",
       "\t<tr><td>15</td><td>0</td></tr>\n",
       "\t<tr><td>16</td><td>0</td></tr>\n",
       "\t<tr><td>17</td><td>0</td></tr>\n",
       "\t<tr><td>18</td><td>0</td></tr>\n",
       "\t<tr><td>19</td><td>1</td></tr>\n",
       "\t<tr><td>20</td><td>0</td></tr>\n",
       "\t<tr><td>21</td><td>0</td></tr>\n",
       "\t<tr><td>22</td><td>1</td></tr>\n",
       "\t<tr><td>23</td><td>0</td></tr>\n",
       "\t<tr><td>24</td><td>0</td></tr>\n",
       "\t<tr><td>25</td><td>1</td></tr>\n",
       "\t<tr><td>26</td><td>1</td></tr>\n",
       "\t<tr><td>27</td><td>1</td></tr>\n",
       "\t<tr><td>28</td><td>0</td></tr>\n",
       "\t<tr><td>29</td><td>0</td></tr>\n",
       "\t<tr><td>30</td><td>1</td></tr>\n",
       "\t<tr><td>...</td><td>...</td></tr>\n",
       "\t<tr><td>471</td><td>0</td></tr>\n",
       "\t<tr><td>472</td><td>0</td></tr>\n",
       "\t<tr><td>473</td><td>0</td></tr>\n",
       "\t<tr><td>474</td><td>1</td></tr>\n",
       "\t<tr><td>475</td><td>1</td></tr>\n",
       "\t<tr><td>476</td><td>1</td></tr>\n",
       "\t<tr><td>477</td><td>1</td></tr>\n",
       "\t<tr><td>478</td><td>1</td></tr>\n",
       "\t<tr><td>479</td><td>1</td></tr>\n",
       "\t<tr><td>480</td><td>1</td></tr>\n",
       "\t<tr><td>481</td><td>0</td></tr>\n",
       "\t<tr><td>482</td><td>0</td></tr>\n",
       "\t<tr><td>483</td><td>0</td></tr>\n",
       "\t<tr><td>484</td><td>1</td></tr>\n",
       "\t<tr><td>485</td><td>0</td></tr>\n",
       "\t<tr><td>486</td><td>0</td></tr>\n",
       "\t<tr><td>487</td><td>0</td></tr>\n",
       "\t<tr><td>488</td><td>0</td></tr>\n",
       "\t<tr><td>489</td><td>0</td></tr>\n",
       "\t<tr><td>490</td><td>0</td></tr>\n",
       "\t<tr><td>491</td><td>1</td></tr>\n",
       "\t<tr><td>492</td><td>1</td></tr>\n",
       "\t<tr><td>493</td><td>1</td></tr>\n",
       "\t<tr><td>494</td><td>0</td></tr>\n",
       "\t<tr><td>495</td><td>0</td></tr>\n",
       "\t<tr><td>496</td><td>1</td></tr>\n",
       "\t<tr><td>497</td><td>0</td></tr>\n",
       "\t<tr><td>498</td><td>1</td></tr>\n",
       "\t<tr><td>499</td><td>0</td></tr>\n",
       "\t<tr><td>500</td><td>0</td></tr>\n",
       "</tbody>\n",
       "</table>\n"
      ],
      "text/latex": [
       "A data.frame: 500 × 2\n",
       "\\begin{tabular}{ll}\n",
       " Lp & Wynik\\\\\n",
       " <int> & <int>\\\\\n",
       "\\hline\n",
       "\t  1 & 0\\\\\n",
       "\t  2 & 1\\\\\n",
       "\t  3 & 0\\\\\n",
       "\t  4 & 0\\\\\n",
       "\t  5 & 0\\\\\n",
       "\t  6 & 0\\\\\n",
       "\t  7 & 0\\\\\n",
       "\t  8 & 0\\\\\n",
       "\t  9 & 0\\\\\n",
       "\t 10 & 1\\\\\n",
       "\t 11 & 0\\\\\n",
       "\t 12 & 0\\\\\n",
       "\t 13 & 1\\\\\n",
       "\t 14 & 1\\\\\n",
       "\t 15 & 0\\\\\n",
       "\t 16 & 0\\\\\n",
       "\t 17 & 0\\\\\n",
       "\t 18 & 0\\\\\n",
       "\t 19 & 1\\\\\n",
       "\t 20 & 0\\\\\n",
       "\t 21 & 0\\\\\n",
       "\t 22 & 1\\\\\n",
       "\t 23 & 0\\\\\n",
       "\t 24 & 0\\\\\n",
       "\t 25 & 1\\\\\n",
       "\t 26 & 1\\\\\n",
       "\t 27 & 1\\\\\n",
       "\t 28 & 0\\\\\n",
       "\t 29 & 0\\\\\n",
       "\t 30 & 1\\\\\n",
       "\t ... & ...\\\\\n",
       "\t 471 & 0\\\\\n",
       "\t 472 & 0\\\\\n",
       "\t 473 & 0\\\\\n",
       "\t 474 & 1\\\\\n",
       "\t 475 & 1\\\\\n",
       "\t 476 & 1\\\\\n",
       "\t 477 & 1\\\\\n",
       "\t 478 & 1\\\\\n",
       "\t 479 & 1\\\\\n",
       "\t 480 & 1\\\\\n",
       "\t 481 & 0\\\\\n",
       "\t 482 & 0\\\\\n",
       "\t 483 & 0\\\\\n",
       "\t 484 & 1\\\\\n",
       "\t 485 & 0\\\\\n",
       "\t 486 & 0\\\\\n",
       "\t 487 & 0\\\\\n",
       "\t 488 & 0\\\\\n",
       "\t 489 & 0\\\\\n",
       "\t 490 & 0\\\\\n",
       "\t 491 & 1\\\\\n",
       "\t 492 & 1\\\\\n",
       "\t 493 & 1\\\\\n",
       "\t 494 & 0\\\\\n",
       "\t 495 & 0\\\\\n",
       "\t 496 & 1\\\\\n",
       "\t 497 & 0\\\\\n",
       "\t 498 & 1\\\\\n",
       "\t 499 & 0\\\\\n",
       "\t 500 & 0\\\\\n",
       "\\end{tabular}\n"
      ],
      "text/markdown": [
       "\n",
       "A data.frame: 500 × 2\n",
       "\n",
       "| Lp &lt;int&gt; | Wynik &lt;int&gt; |\n",
       "|---|---|\n",
       "|  1 | 0 |\n",
       "|  2 | 1 |\n",
       "|  3 | 0 |\n",
       "|  4 | 0 |\n",
       "|  5 | 0 |\n",
       "|  6 | 0 |\n",
       "|  7 | 0 |\n",
       "|  8 | 0 |\n",
       "|  9 | 0 |\n",
       "| 10 | 1 |\n",
       "| 11 | 0 |\n",
       "| 12 | 0 |\n",
       "| 13 | 1 |\n",
       "| 14 | 1 |\n",
       "| 15 | 0 |\n",
       "| 16 | 0 |\n",
       "| 17 | 0 |\n",
       "| 18 | 0 |\n",
       "| 19 | 1 |\n",
       "| 20 | 0 |\n",
       "| 21 | 0 |\n",
       "| 22 | 1 |\n",
       "| 23 | 0 |\n",
       "| 24 | 0 |\n",
       "| 25 | 1 |\n",
       "| 26 | 1 |\n",
       "| 27 | 1 |\n",
       "| 28 | 0 |\n",
       "| 29 | 0 |\n",
       "| 30 | 1 |\n",
       "| ... | ... |\n",
       "| 471 | 0 |\n",
       "| 472 | 0 |\n",
       "| 473 | 0 |\n",
       "| 474 | 1 |\n",
       "| 475 | 1 |\n",
       "| 476 | 1 |\n",
       "| 477 | 1 |\n",
       "| 478 | 1 |\n",
       "| 479 | 1 |\n",
       "| 480 | 1 |\n",
       "| 481 | 0 |\n",
       "| 482 | 0 |\n",
       "| 483 | 0 |\n",
       "| 484 | 1 |\n",
       "| 485 | 0 |\n",
       "| 486 | 0 |\n",
       "| 487 | 0 |\n",
       "| 488 | 0 |\n",
       "| 489 | 0 |\n",
       "| 490 | 0 |\n",
       "| 491 | 1 |\n",
       "| 492 | 1 |\n",
       "| 493 | 1 |\n",
       "| 494 | 0 |\n",
       "| 495 | 0 |\n",
       "| 496 | 1 |\n",
       "| 497 | 0 |\n",
       "| 498 | 1 |\n",
       "| 499 | 0 |\n",
       "| 500 | 0 |\n",
       "\n"
      ],
      "text/plain": [
       "    Lp  Wynik\n",
       "1    1  0    \n",
       "2    2  1    \n",
       "3    3  0    \n",
       "4    4  0    \n",
       "5    5  0    \n",
       "6    6  0    \n",
       "7    7  0    \n",
       "8    8  0    \n",
       "9    9  0    \n",
       "10  10  1    \n",
       "11  11  0    \n",
       "12  12  0    \n",
       "13  13  1    \n",
       "14  14  1    \n",
       "15  15  0    \n",
       "16  16  0    \n",
       "17  17  0    \n",
       "18  18  0    \n",
       "19  19  1    \n",
       "20  20  0    \n",
       "21  21  0    \n",
       "22  22  1    \n",
       "23  23  0    \n",
       "24  24  0    \n",
       "25  25  1    \n",
       "26  26  1    \n",
       "27  27  1    \n",
       "28  28  0    \n",
       "29  29  0    \n",
       "30  30  1    \n",
       "... ... ...  \n",
       "471 471 0    \n",
       "472 472 0    \n",
       "473 473 0    \n",
       "474 474 1    \n",
       "475 475 1    \n",
       "476 476 1    \n",
       "477 477 1    \n",
       "478 478 1    \n",
       "479 479 1    \n",
       "480 480 1    \n",
       "481 481 0    \n",
       "482 482 0    \n",
       "483 483 0    \n",
       "484 484 1    \n",
       "485 485 0    \n",
       "486 486 0    \n",
       "487 487 0    \n",
       "488 488 0    \n",
       "489 489 0    \n",
       "490 490 0    \n",
       "491 491 1    \n",
       "492 492 1    \n",
       "493 493 1    \n",
       "494 494 0    \n",
       "495 495 0    \n",
       "496 496 1    \n",
       "497 497 0    \n",
       "498 498 1    \n",
       "499 499 0    \n",
       "500 500 0    "
      ]
     },
     "metadata": {},
     "output_type": "display_data"
    }
   ],
   "source": [
    "coins_frame_ <- data.frame('Lp' = seq(1, length(coins500_)),\n",
    "'Wynik' = coins500_)\n",
    "coins_frame_"
   ]
  },
  {
   "cell_type": "markdown",
   "metadata": {},
   "source": [
    "Poszerz ramkę o kolejną kolumnę ‘Suma częściowa’ z narastającymi sumami częściowymi uzyskiwanych wyników. Do powstałej ramki dodaj również kolumnę ‘Częstość’, tj. iloraz sumy częściowej i liczby\n",
    "dotychczasowo oddanych rzutów."
   ]
  },
  {
   "cell_type": "code",
   "execution_count": 21,
   "metadata": {
    "vscode": {
     "languageId": "r"
    }
   },
   "outputs": [
    {
     "data": {
      "text/html": [
       "<table class=\"dataframe\">\n",
       "<caption>A data.frame: 500 × 4</caption>\n",
       "<thead>\n",
       "\t<tr><th scope=col>Lp</th><th scope=col>Wynik</th><th scope=col>Suma_czesciowa</th><th scope=col>Czestosc</th></tr>\n",
       "\t<tr><th scope=col>&lt;int&gt;</th><th scope=col>&lt;int&gt;</th><th scope=col>&lt;dbl&gt;</th><th scope=col>&lt;dbl&gt;</th></tr>\n",
       "</thead>\n",
       "<tbody>\n",
       "\t<tr><td> 1</td><td>0</td><td> 0</td><td>0.0000000</td></tr>\n",
       "\t<tr><td> 2</td><td>1</td><td> 1</td><td>0.5000000</td></tr>\n",
       "\t<tr><td> 3</td><td>0</td><td> 1</td><td>0.3333333</td></tr>\n",
       "\t<tr><td> 4</td><td>0</td><td> 1</td><td>0.2500000</td></tr>\n",
       "\t<tr><td> 5</td><td>0</td><td> 1</td><td>0.2000000</td></tr>\n",
       "\t<tr><td> 6</td><td>0</td><td> 1</td><td>0.1666667</td></tr>\n",
       "\t<tr><td> 7</td><td>0</td><td> 1</td><td>0.1428571</td></tr>\n",
       "\t<tr><td> 8</td><td>0</td><td> 1</td><td>0.1250000</td></tr>\n",
       "\t<tr><td> 9</td><td>0</td><td> 1</td><td>0.1111111</td></tr>\n",
       "\t<tr><td>10</td><td>1</td><td> 2</td><td>0.2000000</td></tr>\n",
       "\t<tr><td>11</td><td>0</td><td> 2</td><td>0.1818182</td></tr>\n",
       "\t<tr><td>12</td><td>0</td><td> 2</td><td>0.1666667</td></tr>\n",
       "\t<tr><td>13</td><td>1</td><td> 3</td><td>0.2307692</td></tr>\n",
       "\t<tr><td>14</td><td>1</td><td> 4</td><td>0.2857143</td></tr>\n",
       "\t<tr><td>15</td><td>0</td><td> 4</td><td>0.2666667</td></tr>\n",
       "\t<tr><td>16</td><td>0</td><td> 4</td><td>0.2500000</td></tr>\n",
       "\t<tr><td>17</td><td>0</td><td> 4</td><td>0.2352941</td></tr>\n",
       "\t<tr><td>18</td><td>0</td><td> 4</td><td>0.2222222</td></tr>\n",
       "\t<tr><td>19</td><td>1</td><td> 5</td><td>0.2631579</td></tr>\n",
       "\t<tr><td>20</td><td>0</td><td> 5</td><td>0.2500000</td></tr>\n",
       "\t<tr><td>21</td><td>0</td><td> 5</td><td>0.2380952</td></tr>\n",
       "\t<tr><td>22</td><td>1</td><td> 6</td><td>0.2727273</td></tr>\n",
       "\t<tr><td>23</td><td>0</td><td> 6</td><td>0.2608696</td></tr>\n",
       "\t<tr><td>24</td><td>0</td><td> 6</td><td>0.2500000</td></tr>\n",
       "\t<tr><td>25</td><td>1</td><td> 7</td><td>0.2800000</td></tr>\n",
       "\t<tr><td>26</td><td>1</td><td> 8</td><td>0.3076923</td></tr>\n",
       "\t<tr><td>27</td><td>1</td><td> 9</td><td>0.3333333</td></tr>\n",
       "\t<tr><td>28</td><td>0</td><td> 9</td><td>0.3214286</td></tr>\n",
       "\t<tr><td>29</td><td>0</td><td> 9</td><td>0.3103448</td></tr>\n",
       "\t<tr><td>30</td><td>1</td><td>10</td><td>0.3333333</td></tr>\n",
       "\t<tr><td>...</td><td>...</td><td>...</td><td>...</td></tr>\n",
       "\t<tr><td>471</td><td>0</td><td>232</td><td>0.4925690</td></tr>\n",
       "\t<tr><td>472</td><td>0</td><td>232</td><td>0.4915254</td></tr>\n",
       "\t<tr><td>473</td><td>0</td><td>232</td><td>0.4904863</td></tr>\n",
       "\t<tr><td>474</td><td>1</td><td>233</td><td>0.4915612</td></tr>\n",
       "\t<tr><td>475</td><td>1</td><td>234</td><td>0.4926316</td></tr>\n",
       "\t<tr><td>476</td><td>1</td><td>235</td><td>0.4936975</td></tr>\n",
       "\t<tr><td>477</td><td>1</td><td>236</td><td>0.4947589</td></tr>\n",
       "\t<tr><td>478</td><td>1</td><td>237</td><td>0.4958159</td></tr>\n",
       "\t<tr><td>479</td><td>1</td><td>238</td><td>0.4968685</td></tr>\n",
       "\t<tr><td>480</td><td>1</td><td>239</td><td>0.4979167</td></tr>\n",
       "\t<tr><td>481</td><td>0</td><td>239</td><td>0.4968815</td></tr>\n",
       "\t<tr><td>482</td><td>0</td><td>239</td><td>0.4958506</td></tr>\n",
       "\t<tr><td>483</td><td>0</td><td>239</td><td>0.4948240</td></tr>\n",
       "\t<tr><td>484</td><td>1</td><td>240</td><td>0.4958678</td></tr>\n",
       "\t<tr><td>485</td><td>0</td><td>240</td><td>0.4948454</td></tr>\n",
       "\t<tr><td>486</td><td>0</td><td>240</td><td>0.4938272</td></tr>\n",
       "\t<tr><td>487</td><td>0</td><td>240</td><td>0.4928131</td></tr>\n",
       "\t<tr><td>488</td><td>0</td><td>240</td><td>0.4918033</td></tr>\n",
       "\t<tr><td>489</td><td>0</td><td>240</td><td>0.4907975</td></tr>\n",
       "\t<tr><td>490</td><td>0</td><td>240</td><td>0.4897959</td></tr>\n",
       "\t<tr><td>491</td><td>1</td><td>241</td><td>0.4908350</td></tr>\n",
       "\t<tr><td>492</td><td>1</td><td>242</td><td>0.4918699</td></tr>\n",
       "\t<tr><td>493</td><td>1</td><td>243</td><td>0.4929006</td></tr>\n",
       "\t<tr><td>494</td><td>0</td><td>243</td><td>0.4919028</td></tr>\n",
       "\t<tr><td>495</td><td>0</td><td>243</td><td>0.4909091</td></tr>\n",
       "\t<tr><td>496</td><td>1</td><td>244</td><td>0.4919355</td></tr>\n",
       "\t<tr><td>497</td><td>0</td><td>244</td><td>0.4909457</td></tr>\n",
       "\t<tr><td>498</td><td>1</td><td>245</td><td>0.4919679</td></tr>\n",
       "\t<tr><td>499</td><td>0</td><td>245</td><td>0.4909820</td></tr>\n",
       "\t<tr><td>500</td><td>0</td><td>245</td><td>0.4900000</td></tr>\n",
       "</tbody>\n",
       "</table>\n"
      ],
      "text/latex": [
       "A data.frame: 500 × 4\n",
       "\\begin{tabular}{llll}\n",
       " Lp & Wynik & Suma\\_czesciowa & Czestosc\\\\\n",
       " <int> & <int> & <dbl> & <dbl>\\\\\n",
       "\\hline\n",
       "\t  1 & 0 &  0 & 0.0000000\\\\\n",
       "\t  2 & 1 &  1 & 0.5000000\\\\\n",
       "\t  3 & 0 &  1 & 0.3333333\\\\\n",
       "\t  4 & 0 &  1 & 0.2500000\\\\\n",
       "\t  5 & 0 &  1 & 0.2000000\\\\\n",
       "\t  6 & 0 &  1 & 0.1666667\\\\\n",
       "\t  7 & 0 &  1 & 0.1428571\\\\\n",
       "\t  8 & 0 &  1 & 0.1250000\\\\\n",
       "\t  9 & 0 &  1 & 0.1111111\\\\\n",
       "\t 10 & 1 &  2 & 0.2000000\\\\\n",
       "\t 11 & 0 &  2 & 0.1818182\\\\\n",
       "\t 12 & 0 &  2 & 0.1666667\\\\\n",
       "\t 13 & 1 &  3 & 0.2307692\\\\\n",
       "\t 14 & 1 &  4 & 0.2857143\\\\\n",
       "\t 15 & 0 &  4 & 0.2666667\\\\\n",
       "\t 16 & 0 &  4 & 0.2500000\\\\\n",
       "\t 17 & 0 &  4 & 0.2352941\\\\\n",
       "\t 18 & 0 &  4 & 0.2222222\\\\\n",
       "\t 19 & 1 &  5 & 0.2631579\\\\\n",
       "\t 20 & 0 &  5 & 0.2500000\\\\\n",
       "\t 21 & 0 &  5 & 0.2380952\\\\\n",
       "\t 22 & 1 &  6 & 0.2727273\\\\\n",
       "\t 23 & 0 &  6 & 0.2608696\\\\\n",
       "\t 24 & 0 &  6 & 0.2500000\\\\\n",
       "\t 25 & 1 &  7 & 0.2800000\\\\\n",
       "\t 26 & 1 &  8 & 0.3076923\\\\\n",
       "\t 27 & 1 &  9 & 0.3333333\\\\\n",
       "\t 28 & 0 &  9 & 0.3214286\\\\\n",
       "\t 29 & 0 &  9 & 0.3103448\\\\\n",
       "\t 30 & 1 & 10 & 0.3333333\\\\\n",
       "\t ... & ... & ... & ...\\\\\n",
       "\t 471 & 0 & 232 & 0.4925690\\\\\n",
       "\t 472 & 0 & 232 & 0.4915254\\\\\n",
       "\t 473 & 0 & 232 & 0.4904863\\\\\n",
       "\t 474 & 1 & 233 & 0.4915612\\\\\n",
       "\t 475 & 1 & 234 & 0.4926316\\\\\n",
       "\t 476 & 1 & 235 & 0.4936975\\\\\n",
       "\t 477 & 1 & 236 & 0.4947589\\\\\n",
       "\t 478 & 1 & 237 & 0.4958159\\\\\n",
       "\t 479 & 1 & 238 & 0.4968685\\\\\n",
       "\t 480 & 1 & 239 & 0.4979167\\\\\n",
       "\t 481 & 0 & 239 & 0.4968815\\\\\n",
       "\t 482 & 0 & 239 & 0.4958506\\\\\n",
       "\t 483 & 0 & 239 & 0.4948240\\\\\n",
       "\t 484 & 1 & 240 & 0.4958678\\\\\n",
       "\t 485 & 0 & 240 & 0.4948454\\\\\n",
       "\t 486 & 0 & 240 & 0.4938272\\\\\n",
       "\t 487 & 0 & 240 & 0.4928131\\\\\n",
       "\t 488 & 0 & 240 & 0.4918033\\\\\n",
       "\t 489 & 0 & 240 & 0.4907975\\\\\n",
       "\t 490 & 0 & 240 & 0.4897959\\\\\n",
       "\t 491 & 1 & 241 & 0.4908350\\\\\n",
       "\t 492 & 1 & 242 & 0.4918699\\\\\n",
       "\t 493 & 1 & 243 & 0.4929006\\\\\n",
       "\t 494 & 0 & 243 & 0.4919028\\\\\n",
       "\t 495 & 0 & 243 & 0.4909091\\\\\n",
       "\t 496 & 1 & 244 & 0.4919355\\\\\n",
       "\t 497 & 0 & 244 & 0.4909457\\\\\n",
       "\t 498 & 1 & 245 & 0.4919679\\\\\n",
       "\t 499 & 0 & 245 & 0.4909820\\\\\n",
       "\t 500 & 0 & 245 & 0.4900000\\\\\n",
       "\\end{tabular}\n"
      ],
      "text/markdown": [
       "\n",
       "A data.frame: 500 × 4\n",
       "\n",
       "| Lp &lt;int&gt; | Wynik &lt;int&gt; | Suma_czesciowa &lt;dbl&gt; | Czestosc &lt;dbl&gt; |\n",
       "|---|---|---|---|\n",
       "|  1 | 0 |  0 | 0.0000000 |\n",
       "|  2 | 1 |  1 | 0.5000000 |\n",
       "|  3 | 0 |  1 | 0.3333333 |\n",
       "|  4 | 0 |  1 | 0.2500000 |\n",
       "|  5 | 0 |  1 | 0.2000000 |\n",
       "|  6 | 0 |  1 | 0.1666667 |\n",
       "|  7 | 0 |  1 | 0.1428571 |\n",
       "|  8 | 0 |  1 | 0.1250000 |\n",
       "|  9 | 0 |  1 | 0.1111111 |\n",
       "| 10 | 1 |  2 | 0.2000000 |\n",
       "| 11 | 0 |  2 | 0.1818182 |\n",
       "| 12 | 0 |  2 | 0.1666667 |\n",
       "| 13 | 1 |  3 | 0.2307692 |\n",
       "| 14 | 1 |  4 | 0.2857143 |\n",
       "| 15 | 0 |  4 | 0.2666667 |\n",
       "| 16 | 0 |  4 | 0.2500000 |\n",
       "| 17 | 0 |  4 | 0.2352941 |\n",
       "| 18 | 0 |  4 | 0.2222222 |\n",
       "| 19 | 1 |  5 | 0.2631579 |\n",
       "| 20 | 0 |  5 | 0.2500000 |\n",
       "| 21 | 0 |  5 | 0.2380952 |\n",
       "| 22 | 1 |  6 | 0.2727273 |\n",
       "| 23 | 0 |  6 | 0.2608696 |\n",
       "| 24 | 0 |  6 | 0.2500000 |\n",
       "| 25 | 1 |  7 | 0.2800000 |\n",
       "| 26 | 1 |  8 | 0.3076923 |\n",
       "| 27 | 1 |  9 | 0.3333333 |\n",
       "| 28 | 0 |  9 | 0.3214286 |\n",
       "| 29 | 0 |  9 | 0.3103448 |\n",
       "| 30 | 1 | 10 | 0.3333333 |\n",
       "| ... | ... | ... | ... |\n",
       "| 471 | 0 | 232 | 0.4925690 |\n",
       "| 472 | 0 | 232 | 0.4915254 |\n",
       "| 473 | 0 | 232 | 0.4904863 |\n",
       "| 474 | 1 | 233 | 0.4915612 |\n",
       "| 475 | 1 | 234 | 0.4926316 |\n",
       "| 476 | 1 | 235 | 0.4936975 |\n",
       "| 477 | 1 | 236 | 0.4947589 |\n",
       "| 478 | 1 | 237 | 0.4958159 |\n",
       "| 479 | 1 | 238 | 0.4968685 |\n",
       "| 480 | 1 | 239 | 0.4979167 |\n",
       "| 481 | 0 | 239 | 0.4968815 |\n",
       "| 482 | 0 | 239 | 0.4958506 |\n",
       "| 483 | 0 | 239 | 0.4948240 |\n",
       "| 484 | 1 | 240 | 0.4958678 |\n",
       "| 485 | 0 | 240 | 0.4948454 |\n",
       "| 486 | 0 | 240 | 0.4938272 |\n",
       "| 487 | 0 | 240 | 0.4928131 |\n",
       "| 488 | 0 | 240 | 0.4918033 |\n",
       "| 489 | 0 | 240 | 0.4907975 |\n",
       "| 490 | 0 | 240 | 0.4897959 |\n",
       "| 491 | 1 | 241 | 0.4908350 |\n",
       "| 492 | 1 | 242 | 0.4918699 |\n",
       "| 493 | 1 | 243 | 0.4929006 |\n",
       "| 494 | 0 | 243 | 0.4919028 |\n",
       "| 495 | 0 | 243 | 0.4909091 |\n",
       "| 496 | 1 | 244 | 0.4919355 |\n",
       "| 497 | 0 | 244 | 0.4909457 |\n",
       "| 498 | 1 | 245 | 0.4919679 |\n",
       "| 499 | 0 | 245 | 0.4909820 |\n",
       "| 500 | 0 | 245 | 0.4900000 |\n",
       "\n"
      ],
      "text/plain": [
       "    Lp  Wynik Suma_czesciowa Czestosc \n",
       "1    1  0      0             0.0000000\n",
       "2    2  1      1             0.5000000\n",
       "3    3  0      1             0.3333333\n",
       "4    4  0      1             0.2500000\n",
       "5    5  0      1             0.2000000\n",
       "6    6  0      1             0.1666667\n",
       "7    7  0      1             0.1428571\n",
       "8    8  0      1             0.1250000\n",
       "9    9  0      1             0.1111111\n",
       "10  10  1      2             0.2000000\n",
       "11  11  0      2             0.1818182\n",
       "12  12  0      2             0.1666667\n",
       "13  13  1      3             0.2307692\n",
       "14  14  1      4             0.2857143\n",
       "15  15  0      4             0.2666667\n",
       "16  16  0      4             0.2500000\n",
       "17  17  0      4             0.2352941\n",
       "18  18  0      4             0.2222222\n",
       "19  19  1      5             0.2631579\n",
       "20  20  0      5             0.2500000\n",
       "21  21  0      5             0.2380952\n",
       "22  22  1      6             0.2727273\n",
       "23  23  0      6             0.2608696\n",
       "24  24  0      6             0.2500000\n",
       "25  25  1      7             0.2800000\n",
       "26  26  1      8             0.3076923\n",
       "27  27  1      9             0.3333333\n",
       "28  28  0      9             0.3214286\n",
       "29  29  0      9             0.3103448\n",
       "30  30  1     10             0.3333333\n",
       "... ... ...   ...            ...      \n",
       "471 471 0     232            0.4925690\n",
       "472 472 0     232            0.4915254\n",
       "473 473 0     232            0.4904863\n",
       "474 474 1     233            0.4915612\n",
       "475 475 1     234            0.4926316\n",
       "476 476 1     235            0.4936975\n",
       "477 477 1     236            0.4947589\n",
       "478 478 1     237            0.4958159\n",
       "479 479 1     238            0.4968685\n",
       "480 480 1     239            0.4979167\n",
       "481 481 0     239            0.4968815\n",
       "482 482 0     239            0.4958506\n",
       "483 483 0     239            0.4948240\n",
       "484 484 1     240            0.4958678\n",
       "485 485 0     240            0.4948454\n",
       "486 486 0     240            0.4938272\n",
       "487 487 0     240            0.4928131\n",
       "488 488 0     240            0.4918033\n",
       "489 489 0     240            0.4907975\n",
       "490 490 0     240            0.4897959\n",
       "491 491 1     241            0.4908350\n",
       "492 492 1     242            0.4918699\n",
       "493 493 1     243            0.4929006\n",
       "494 494 0     243            0.4919028\n",
       "495 495 0     243            0.4909091\n",
       "496 496 1     244            0.4919355\n",
       "497 497 0     244            0.4909457\n",
       "498 498 1     245            0.4919679\n",
       "499 499 0     245            0.4909820\n",
       "500 500 0     245            0.4900000"
      ]
     },
     "metadata": {},
     "output_type": "display_data"
    }
   ],
   "source": [
    "suma_czesciowa <- function(v) {\n",
    "  sum <- 0\n",
    "  sv <- c()\n",
    "  for (i in v) {\n",
    "     sum <- sum + i\n",
    "     sv <- c(sv, sum)\n",
    "  }\n",
    "  return(sv)\n",
    "}\n",
    "\n",
    "sc <- suma_czesciowa(coins_frame_$Wynik)\n",
    "\n",
    "coins_frame_ <- data.frame(coins_frame_,\n",
    "'Suma_czesciowa' = sc,\n",
    "'Czestosc' = sc / coins_frame_$Lp)\n",
    "coins_frame_"
   ]
  },
  {
   "cell_type": "markdown",
   "metadata": {},
   "source": [
    "W końcu, wygeneruj wykres ilustrujący częstość zmieniającą się wraz z narastającą liczbą oddanych rzutów monetą. Użyj w tym celu polecenia plot(...) z argumentami Lp, Częstość oraz zzakresem danych na osi poziomej od 1 do 500. Ustaw kolor wykresu na ciemno czerwony (‘darkred’) i sprawdź jak zmienia się typ wykresu gdy atrybutowi type nadasz wartości ‘p’, ‘l’, ‘b’, ‘c’, ‘o’, ‘h’, ‘s’, natomiast atrybutowi lwd (line width) wartości liczbowe większe lub równe 1….\n",
    "Uwaga: co robi wbudowana w R funkcja cumsum(...vector...)?"
   ]
  },
  {
   "cell_type": "code",
   "execution_count": 22,
   "metadata": {
    "vscode": {
     "languageId": "r"
    }
   },
   "outputs": [
    {
     "data": {
      "image/png": "[encoded data removed]",
      "text/plain": [
       "plot without title"
      ]
     },
     "metadata": {
      "image/png": {
       "height": 420,
       "width": 420
      }
     },
     "output_type": "display_data"
    }
   ],
   "source": [
    "attach(coins_frame_)\n",
    "plot(Lp, Czestosc, xlim = c(1, 500), col = 'darkred',\n",
    "type = 's', lwd = 2)\n",
    "detach(coins_frame_)"
   ]
  },
  {
   "cell_type": "markdown",
   "metadata": {},
   "source": [
    "\n",
    "## PRAWDOPODOBIEŃSTWA ZDARZEŃ\n",
    "### Zad. 2\n",
    "Zainstaluj paczkę ‘prob’ i uruchom ją (install.packages(‘...’) + library(...)).\n",
    "Użyj poleceń: tosscoin(2, makespace = TRUE), tosscoin(3) i zinterpretuj otrzymane ramki.\n"
   ]
  },
  {
   "cell_type": "code",
   "execution_count": 23,
   "metadata": {
    "vscode": {
     "languageId": "r"
    }
   },
   "outputs": [
    {
     "data": {
      "text/html": [
       "<table class=\"dataframe\">\n",
       "<caption>A data.frame: 4 × 3</caption>\n",
       "<thead>\n",
       "\t<tr><th scope=col>toss1</th><th scope=col>toss2</th><th scope=col>probs</th></tr>\n",
       "\t<tr><th scope=col>&lt;fct&gt;</th><th scope=col>&lt;fct&gt;</th><th scope=col>&lt;dbl&gt;</th></tr>\n",
       "</thead>\n",
       "<tbody>\n",
       "\t<tr><td>H</td><td>H</td><td>0.25</td></tr>\n",
       "\t<tr><td>T</td><td>H</td><td>0.25</td></tr>\n",
       "\t<tr><td>H</td><td>T</td><td>0.25</td></tr>\n",
       "\t<tr><td>T</td><td>T</td><td>0.25</td></tr>\n",
       "</tbody>\n",
       "</table>\n"
      ],
      "text/latex": [
       "A data.frame: 4 × 3\n",
       "\\begin{tabular}{lll}\n",
       " toss1 & toss2 & probs\\\\\n",
       " <fct> & <fct> & <dbl>\\\\\n",
       "\\hline\n",
       "\t H & H & 0.25\\\\\n",
       "\t T & H & 0.25\\\\\n",
       "\t H & T & 0.25\\\\\n",
       "\t T & T & 0.25\\\\\n",
       "\\end{tabular}\n"
      ],
      "text/markdown": [
       "\n",
       "A data.frame: 4 × 3\n",
       "\n",
       "| toss1 &lt;fct&gt; | toss2 &lt;fct&gt; | probs &lt;dbl&gt; |\n",
       "|---|---|---|\n",
       "| H | H | 0.25 |\n",
       "| T | H | 0.25 |\n",
       "| H | T | 0.25 |\n",
       "| T | T | 0.25 |\n",
       "\n"
      ],
      "text/plain": [
       "  toss1 toss2 probs\n",
       "1 H     H     0.25 \n",
       "2 T     H     0.25 \n",
       "3 H     T     0.25 \n",
       "4 T     T     0.25 "
      ]
     },
     "metadata": {},
     "output_type": "display_data"
    },
    {
     "data": {
      "text/html": [
       "<table class=\"dataframe\">\n",
       "<caption>A data.frame: 8 × 3</caption>\n",
       "<thead>\n",
       "\t<tr><th scope=col>toss1</th><th scope=col>toss2</th><th scope=col>toss3</th></tr>\n",
       "\t<tr><th scope=col>&lt;fct&gt;</th><th scope=col>&lt;fct&gt;</th><th scope=col>&lt;fct&gt;</th></tr>\n",
       "</thead>\n",
       "<tbody>\n",
       "\t<tr><td>H</td><td>H</td><td>H</td></tr>\n",
       "\t<tr><td>T</td><td>H</td><td>H</td></tr>\n",
       "\t<tr><td>H</td><td>T</td><td>H</td></tr>\n",
       "\t<tr><td>T</td><td>T</td><td>H</td></tr>\n",
       "\t<tr><td>H</td><td>H</td><td>T</td></tr>\n",
       "\t<tr><td>T</td><td>H</td><td>T</td></tr>\n",
       "\t<tr><td>H</td><td>T</td><td>T</td></tr>\n",
       "\t<tr><td>T</td><td>T</td><td>T</td></tr>\n",
       "</tbody>\n",
       "</table>\n"
      ],
      "text/latex": [
       "A data.frame: 8 × 3\n",
       "\\begin{tabular}{lll}\n",
       " toss1 & toss2 & toss3\\\\\n",
       " <fct> & <fct> & <fct>\\\\\n",
       "\\hline\n",
       "\t H & H & H\\\\\n",
       "\t T & H & H\\\\\n",
       "\t H & T & H\\\\\n",
       "\t T & T & H\\\\\n",
       "\t H & H & T\\\\\n",
       "\t T & H & T\\\\\n",
       "\t H & T & T\\\\\n",
       "\t T & T & T\\\\\n",
       "\\end{tabular}\n"
      ],
      "text/markdown": [
       "\n",
       "A data.frame: 8 × 3\n",
       "\n",
       "| toss1 &lt;fct&gt; | toss2 &lt;fct&gt; | toss3 &lt;fct&gt; |\n",
       "|---|---|---|\n",
       "| H | H | H |\n",
       "| T | H | H |\n",
       "| H | T | H |\n",
       "| T | T | H |\n",
       "| H | H | T |\n",
       "| T | H | T |\n",
       "| H | T | T |\n",
       "| T | T | T |\n",
       "\n"
      ],
      "text/plain": [
       "  toss1 toss2 toss3\n",
       "1 H     H     H    \n",
       "2 T     H     H    \n",
       "3 H     T     H    \n",
       "4 T     T     H    \n",
       "5 H     H     T    \n",
       "6 T     H     T    \n",
       "7 H     T     T    \n",
       "8 T     T     T    "
      ]
     },
     "metadata": {},
     "output_type": "display_data"
    }
   ],
   "source": [
    "library('prob')\n",
    "tosscoin(2, makespace = T)\n",
    "tosscoin(3)"
   ]
  },
  {
   "cell_type": "markdown",
   "metadata": {},
   "source": [
    "Użyj poleceń rolldie(2), rolldie(2, nsides=4, makespace=TRUE) i zinterpretuj wyniki.\n"
   ]
  },
  {
   "cell_type": "code",
   "execution_count": 24,
   "metadata": {
    "vscode": {
     "languageId": "r"
    }
   },
   "outputs": [
    {
     "data": {
      "text/html": [
       "<table class=\"dataframe\">\n",
       "<caption>A data.frame: 36 × 2</caption>\n",
       "<thead>\n",
       "\t<tr><th scope=col>X1</th><th scope=col>X2</th></tr>\n",
       "\t<tr><th scope=col>&lt;int&gt;</th><th scope=col>&lt;int&gt;</th></tr>\n",
       "</thead>\n",
       "<tbody>\n",
       "\t<tr><td>1</td><td>1</td></tr>\n",
       "\t<tr><td>2</td><td>1</td></tr>\n",
       "\t<tr><td>3</td><td>1</td></tr>\n",
       "\t<tr><td>4</td><td>1</td></tr>\n",
       "\t<tr><td>5</td><td>1</td></tr>\n",
       "\t<tr><td>6</td><td>1</td></tr>\n",
       "\t<tr><td>1</td><td>2</td></tr>\n",
       "\t<tr><td>2</td><td>2</td></tr>\n",
       "\t<tr><td>3</td><td>2</td></tr>\n",
       "\t<tr><td>4</td><td>2</td></tr>\n",
       "\t<tr><td>5</td><td>2</td></tr>\n",
       "\t<tr><td>6</td><td>2</td></tr>\n",
       "\t<tr><td>1</td><td>3</td></tr>\n",
       "\t<tr><td>2</td><td>3</td></tr>\n",
       "\t<tr><td>3</td><td>3</td></tr>\n",
       "\t<tr><td>4</td><td>3</td></tr>\n",
       "\t<tr><td>5</td><td>3</td></tr>\n",
       "\t<tr><td>6</td><td>3</td></tr>\n",
       "\t<tr><td>1</td><td>4</td></tr>\n",
       "\t<tr><td>2</td><td>4</td></tr>\n",
       "\t<tr><td>3</td><td>4</td></tr>\n",
       "\t<tr><td>4</td><td>4</td></tr>\n",
       "\t<tr><td>5</td><td>4</td></tr>\n",
       "\t<tr><td>6</td><td>4</td></tr>\n",
       "\t<tr><td>1</td><td>5</td></tr>\n",
       "\t<tr><td>2</td><td>5</td></tr>\n",
       "\t<tr><td>3</td><td>5</td></tr>\n",
       "\t<tr><td>4</td><td>5</td></tr>\n",
       "\t<tr><td>5</td><td>5</td></tr>\n",
       "\t<tr><td>6</td><td>5</td></tr>\n",
       "\t<tr><td>1</td><td>6</td></tr>\n",
       "\t<tr><td>2</td><td>6</td></tr>\n",
       "\t<tr><td>3</td><td>6</td></tr>\n",
       "\t<tr><td>4</td><td>6</td></tr>\n",
       "\t<tr><td>5</td><td>6</td></tr>\n",
       "\t<tr><td>6</td><td>6</td></tr>\n",
       "</tbody>\n",
       "</table>\n"
      ],
      "text/latex": [
       "A data.frame: 36 × 2\n",
       "\\begin{tabular}{ll}\n",
       " X1 & X2\\\\\n",
       " <int> & <int>\\\\\n",
       "\\hline\n",
       "\t 1 & 1\\\\\n",
       "\t 2 & 1\\\\\n",
       "\t 3 & 1\\\\\n",
       "\t 4 & 1\\\\\n",
       "\t 5 & 1\\\\\n",
       "\t 6 & 1\\\\\n",
       "\t 1 & 2\\\\\n",
       "\t 2 & 2\\\\\n",
       "\t 3 & 2\\\\\n",
       "\t 4 & 2\\\\\n",
       "\t 5 & 2\\\\\n",
       "\t 6 & 2\\\\\n",
       "\t 1 & 3\\\\\n",
       "\t 2 & 3\\\\\n",
       "\t 3 & 3\\\\\n",
       "\t 4 & 3\\\\\n",
       "\t 5 & 3\\\\\n",
       "\t 6 & 3\\\\\n",
       "\t 1 & 4\\\\\n",
       "\t 2 & 4\\\\\n",
       "\t 3 & 4\\\\\n",
       "\t 4 & 4\\\\\n",
       "\t 5 & 4\\\\\n",
       "\t 6 & 4\\\\\n",
       "\t 1 & 5\\\\\n",
       "\t 2 & 5\\\\\n",
       "\t 3 & 5\\\\\n",
       "\t 4 & 5\\\\\n",
       "\t 5 & 5\\\\\n",
       "\t 6 & 5\\\\\n",
       "\t 1 & 6\\\\\n",
       "\t 2 & 6\\\\\n",
       "\t 3 & 6\\\\\n",
       "\t 4 & 6\\\\\n",
       "\t 5 & 6\\\\\n",
       "\t 6 & 6\\\\\n",
       "\\end{tabular}\n"
      ],
      "text/markdown": [
       "\n",
       "A data.frame: 36 × 2\n",
       "\n",
       "| X1 &lt;int&gt; | X2 &lt;int&gt; |\n",
       "|---|---|\n",
       "| 1 | 1 |\n",
       "| 2 | 1 |\n",
       "| 3 | 1 |\n",
       "| 4 | 1 |\n",
       "| 5 | 1 |\n",
       "| 6 | 1 |\n",
       "| 1 | 2 |\n",
       "| 2 | 2 |\n",
       "| 3 | 2 |\n",
       "| 4 | 2 |\n",
       "| 5 | 2 |\n",
       "| 6 | 2 |\n",
       "| 1 | 3 |\n",
       "| 2 | 3 |\n",
       "| 3 | 3 |\n",
       "| 4 | 3 |\n",
       "| 5 | 3 |\n",
       "| 6 | 3 |\n",
       "| 1 | 4 |\n",
       "| 2 | 4 |\n",
       "| 3 | 4 |\n",
       "| 4 | 4 |\n",
       "| 5 | 4 |\n",
       "| 6 | 4 |\n",
       "| 1 | 5 |\n",
       "| 2 | 5 |\n",
       "| 3 | 5 |\n",
       "| 4 | 5 |\n",
       "| 5 | 5 |\n",
       "| 6 | 5 |\n",
       "| 1 | 6 |\n",
       "| 2 | 6 |\n",
       "| 3 | 6 |\n",
       "| 4 | 6 |\n",
       "| 5 | 6 |\n",
       "| 6 | 6 |\n",
       "\n"
      ],
      "text/plain": [
       "   X1 X2\n",
       "1  1  1 \n",
       "2  2  1 \n",
       "3  3  1 \n",
       "4  4  1 \n",
       "5  5  1 \n",
       "6  6  1 \n",
       "7  1  2 \n",
       "8  2  2 \n",
       "9  3  2 \n",
       "10 4  2 \n",
       "11 5  2 \n",
       "12 6  2 \n",
       "13 1  3 \n",
       "14 2  3 \n",
       "15 3  3 \n",
       "16 4  3 \n",
       "17 5  3 \n",
       "18 6  3 \n",
       "19 1  4 \n",
       "20 2  4 \n",
       "21 3  4 \n",
       "22 4  4 \n",
       "23 5  4 \n",
       "24 6  4 \n",
       "25 1  5 \n",
       "26 2  5 \n",
       "27 3  5 \n",
       "28 4  5 \n",
       "29 5  5 \n",
       "30 6  5 \n",
       "31 1  6 \n",
       "32 2  6 \n",
       "33 3  6 \n",
       "34 4  6 \n",
       "35 5  6 \n",
       "36 6  6 "
      ]
     },
     "metadata": {},
     "output_type": "display_data"
    },
    {
     "data": {
      "text/html": [
       "<table class=\"dataframe\">\n",
       "<caption>A data.frame: 16 × 3</caption>\n",
       "<thead>\n",
       "\t<tr><th scope=col>X1</th><th scope=col>X2</th><th scope=col>probs</th></tr>\n",
       "\t<tr><th scope=col>&lt;int&gt;</th><th scope=col>&lt;int&gt;</th><th scope=col>&lt;dbl&gt;</th></tr>\n",
       "</thead>\n",
       "<tbody>\n",
       "\t<tr><td>1</td><td>1</td><td>0.0625</td></tr>\n",
       "\t<tr><td>2</td><td>1</td><td>0.0625</td></tr>\n",
       "\t<tr><td>3</td><td>1</td><td>0.0625</td></tr>\n",
       "\t<tr><td>4</td><td>1</td><td>0.0625</td></tr>\n",
       "\t<tr><td>1</td><td>2</td><td>0.0625</td></tr>\n",
       "\t<tr><td>2</td><td>2</td><td>0.0625</td></tr>\n",
       "\t<tr><td>3</td><td>2</td><td>0.0625</td></tr>\n",
       "\t<tr><td>4</td><td>2</td><td>0.0625</td></tr>\n",
       "\t<tr><td>1</td><td>3</td><td>0.0625</td></tr>\n",
       "\t<tr><td>2</td><td>3</td><td>0.0625</td></tr>\n",
       "\t<tr><td>3</td><td>3</td><td>0.0625</td></tr>\n",
       "\t<tr><td>4</td><td>3</td><td>0.0625</td></tr>\n",
       "\t<tr><td>1</td><td>4</td><td>0.0625</td></tr>\n",
       "\t<tr><td>2</td><td>4</td><td>0.0625</td></tr>\n",
       "\t<tr><td>3</td><td>4</td><td>0.0625</td></tr>\n",
       "\t<tr><td>4</td><td>4</td><td>0.0625</td></tr>\n",
       "</tbody>\n",
       "</table>\n"
      ],
      "text/latex": [
       "A data.frame: 16 × 3\n",
       "\\begin{tabular}{lll}\n",
       " X1 & X2 & probs\\\\\n",
       " <int> & <int> & <dbl>\\\\\n",
       "\\hline\n",
       "\t 1 & 1 & 0.0625\\\\\n",
       "\t 2 & 1 & 0.0625\\\\\n",
       "\t 3 & 1 & 0.0625\\\\\n",
       "\t 4 & 1 & 0.0625\\\\\n",
       "\t 1 & 2 & 0.0625\\\\\n",
       "\t 2 & 2 & 0.0625\\\\\n",
       "\t 3 & 2 & 0.0625\\\\\n",
       "\t 4 & 2 & 0.0625\\\\\n",
       "\t 1 & 3 & 0.0625\\\\\n",
       "\t 2 & 3 & 0.0625\\\\\n",
       "\t 3 & 3 & 0.0625\\\\\n",
       "\t 4 & 3 & 0.0625\\\\\n",
       "\t 1 & 4 & 0.0625\\\\\n",
       "\t 2 & 4 & 0.0625\\\\\n",
       "\t 3 & 4 & 0.0625\\\\\n",
       "\t 4 & 4 & 0.0625\\\\\n",
       "\\end{tabular}\n"
      ],
      "text/markdown": [
       "\n",
       "A data.frame: 16 × 3\n",
       "\n",
       "| X1 &lt;int&gt; | X2 &lt;int&gt; | probs &lt;dbl&gt; |\n",
       "|---|---|---|\n",
       "| 1 | 1 | 0.0625 |\n",
       "| 2 | 1 | 0.0625 |\n",
       "| 3 | 1 | 0.0625 |\n",
       "| 4 | 1 | 0.0625 |\n",
       "| 1 | 2 | 0.0625 |\n",
       "| 2 | 2 | 0.0625 |\n",
       "| 3 | 2 | 0.0625 |\n",
       "| 4 | 2 | 0.0625 |\n",
       "| 1 | 3 | 0.0625 |\n",
       "| 2 | 3 | 0.0625 |\n",
       "| 3 | 3 | 0.0625 |\n",
       "| 4 | 3 | 0.0625 |\n",
       "| 1 | 4 | 0.0625 |\n",
       "| 2 | 4 | 0.0625 |\n",
       "| 3 | 4 | 0.0625 |\n",
       "| 4 | 4 | 0.0625 |\n",
       "\n"
      ],
      "text/plain": [
       "   X1 X2 probs \n",
       "1  1  1  0.0625\n",
       "2  2  1  0.0625\n",
       "3  3  1  0.0625\n",
       "4  4  1  0.0625\n",
       "5  1  2  0.0625\n",
       "6  2  2  0.0625\n",
       "7  3  2  0.0625\n",
       "8  4  2  0.0625\n",
       "9  1  3  0.0625\n",
       "10 2  3  0.0625\n",
       "11 3  3  0.0625\n",
       "12 4  3  0.0625\n",
       "13 1  4  0.0625\n",
       "14 2  4  0.0625\n",
       "15 3  4  0.0625\n",
       "16 4  4  0.0625"
      ]
     },
     "metadata": {},
     "output_type": "display_data"
    }
   ],
   "source": [
    "rolldie(2)\n",
    "rolldie(2, nsides = 4, makespace = T)"
   ]
  },
  {
   "cell_type": "markdown",
   "metadata": {},
   "source": [
    "Użyj poleceń cards(), cards(jokers=TRUE, makespace=TRUE) i zinterpretuj wyniki.\n"
   ]
  },
  {
   "cell_type": "code",
   "execution_count": 25,
   "metadata": {
    "vscode": {
     "languageId": "r"
    }
   },
   "outputs": [
    {
     "data": {
      "text/html": [
       "<table class=\"dataframe\">\n",
       "<caption>A data.frame: 52 × 2</caption>\n",
       "<thead>\n",
       "\t<tr><th scope=col>rank</th><th scope=col>suit</th></tr>\n",
       "\t<tr><th scope=col>&lt;fct&gt;</th><th scope=col>&lt;fct&gt;</th></tr>\n",
       "</thead>\n",
       "<tbody>\n",
       "\t<tr><td>2 </td><td>Club   </td></tr>\n",
       "\t<tr><td>3 </td><td>Club   </td></tr>\n",
       "\t<tr><td>4 </td><td>Club   </td></tr>\n",
       "\t<tr><td>5 </td><td>Club   </td></tr>\n",
       "\t<tr><td>6 </td><td>Club   </td></tr>\n",
       "\t<tr><td>7 </td><td>Club   </td></tr>\n",
       "\t<tr><td>8 </td><td>Club   </td></tr>\n",
       "\t<tr><td>9 </td><td>Club   </td></tr>\n",
       "\t<tr><td>10</td><td>Club   </td></tr>\n",
       "\t<tr><td>J </td><td>Club   </td></tr>\n",
       "\t<tr><td>Q </td><td>Club   </td></tr>\n",
       "\t<tr><td>K </td><td>Club   </td></tr>\n",
       "\t<tr><td>A </td><td>Club   </td></tr>\n",
       "\t<tr><td>2 </td><td>Diamond</td></tr>\n",
       "\t<tr><td>3 </td><td>Diamond</td></tr>\n",
       "\t<tr><td>4 </td><td>Diamond</td></tr>\n",
       "\t<tr><td>5 </td><td>Diamond</td></tr>\n",
       "\t<tr><td>6 </td><td>Diamond</td></tr>\n",
       "\t<tr><td>7 </td><td>Diamond</td></tr>\n",
       "\t<tr><td>8 </td><td>Diamond</td></tr>\n",
       "\t<tr><td>9 </td><td>Diamond</td></tr>\n",
       "\t<tr><td>10</td><td>Diamond</td></tr>\n",
       "\t<tr><td>J </td><td>Diamond</td></tr>\n",
       "\t<tr><td>Q </td><td>Diamond</td></tr>\n",
       "\t<tr><td>K </td><td>Diamond</td></tr>\n",
       "\t<tr><td>A </td><td>Diamond</td></tr>\n",
       "\t<tr><td>2 </td><td>Heart  </td></tr>\n",
       "\t<tr><td>3 </td><td>Heart  </td></tr>\n",
       "\t<tr><td>4 </td><td>Heart  </td></tr>\n",
       "\t<tr><td>5 </td><td>Heart  </td></tr>\n",
       "\t<tr><td>6 </td><td>Heart  </td></tr>\n",
       "\t<tr><td>7 </td><td>Heart  </td></tr>\n",
       "\t<tr><td>8 </td><td>Heart  </td></tr>\n",
       "\t<tr><td>9 </td><td>Heart  </td></tr>\n",
       "\t<tr><td>10</td><td>Heart  </td></tr>\n",
       "\t<tr><td>J </td><td>Heart  </td></tr>\n",
       "\t<tr><td>Q </td><td>Heart  </td></tr>\n",
       "\t<tr><td>K </td><td>Heart  </td></tr>\n",
       "\t<tr><td>A </td><td>Heart  </td></tr>\n",
       "\t<tr><td>2 </td><td>Spade  </td></tr>\n",
       "\t<tr><td>3 </td><td>Spade  </td></tr>\n",
       "\t<tr><td>4 </td><td>Spade  </td></tr>\n",
       "\t<tr><td>5 </td><td>Spade  </td></tr>\n",
       "\t<tr><td>6 </td><td>Spade  </td></tr>\n",
       "\t<tr><td>7 </td><td>Spade  </td></tr>\n",
       "\t<tr><td>8 </td><td>Spade  </td></tr>\n",
       "\t<tr><td>9 </td><td>Spade  </td></tr>\n",
       "\t<tr><td>10</td><td>Spade  </td></tr>\n",
       "\t<tr><td>J </td><td>Spade  </td></tr>\n",
       "\t<tr><td>Q </td><td>Spade  </td></tr>\n",
       "\t<tr><td>K </td><td>Spade  </td></tr>\n",
       "\t<tr><td>A </td><td>Spade  </td></tr>\n",
       "</tbody>\n",
       "</table>\n"
      ],
      "text/latex": [
       "A data.frame: 52 × 2\n",
       "\\begin{tabular}{ll}\n",
       " rank & suit\\\\\n",
       " <fct> & <fct>\\\\\n",
       "\\hline\n",
       "\t 2  & Club   \\\\\n",
       "\t 3  & Club   \\\\\n",
       "\t 4  & Club   \\\\\n",
       "\t 5  & Club   \\\\\n",
       "\t 6  & Club   \\\\\n",
       "\t 7  & Club   \\\\\n",
       "\t 8  & Club   \\\\\n",
       "\t 9  & Club   \\\\\n",
       "\t 10 & Club   \\\\\n",
       "\t J  & Club   \\\\\n",
       "\t Q  & Club   \\\\\n",
       "\t K  & Club   \\\\\n",
       "\t A  & Club   \\\\\n",
       "\t 2  & Diamond\\\\\n",
       "\t 3  & Diamond\\\\\n",
       "\t 4  & Diamond\\\\\n",
       "\t 5  & Diamond\\\\\n",
       "\t 6  & Diamond\\\\\n",
       "\t 7  & Diamond\\\\\n",
       "\t 8  & Diamond\\\\\n",
       "\t 9  & Diamond\\\\\n",
       "\t 10 & Diamond\\\\\n",
       "\t J  & Diamond\\\\\n",
       "\t Q  & Diamond\\\\\n",
       "\t K  & Diamond\\\\\n",
       "\t A  & Diamond\\\\\n",
       "\t 2  & Heart  \\\\\n",
       "\t 3  & Heart  \\\\\n",
       "\t 4  & Heart  \\\\\n",
       "\t 5  & Heart  \\\\\n",
       "\t 6  & Heart  \\\\\n",
       "\t 7  & Heart  \\\\\n",
       "\t 8  & Heart  \\\\\n",
       "\t 9  & Heart  \\\\\n",
       "\t 10 & Heart  \\\\\n",
       "\t J  & Heart  \\\\\n",
       "\t Q  & Heart  \\\\\n",
       "\t K  & Heart  \\\\\n",
       "\t A  & Heart  \\\\\n",
       "\t 2  & Spade  \\\\\n",
       "\t 3  & Spade  \\\\\n",
       "\t 4  & Spade  \\\\\n",
       "\t 5  & Spade  \\\\\n",
       "\t 6  & Spade  \\\\\n",
       "\t 7  & Spade  \\\\\n",
       "\t 8  & Spade  \\\\\n",
       "\t 9  & Spade  \\\\\n",
       "\t 10 & Spade  \\\\\n",
       "\t J  & Spade  \\\\\n",
       "\t Q  & Spade  \\\\\n",
       "\t K  & Spade  \\\\\n",
       "\t A  & Spade  \\\\\n",
       "\\end{tabular}\n"
      ],
      "text/markdown": [
       "\n",
       "A data.frame: 52 × 2\n",
       "\n",
       "| rank &lt;fct&gt; | suit &lt;fct&gt; |\n",
       "|---|---|\n",
       "| 2  | Club    |\n",
       "| 3  | Club    |\n",
       "| 4  | Club    |\n",
       "| 5  | Club    |\n",
       "| 6  | Club    |\n",
       "| 7  | Club    |\n",
       "| 8  | Club    |\n",
       "| 9  | Club    |\n",
       "| 10 | Club    |\n",
       "| J  | Club    |\n",
       "| Q  | Club    |\n",
       "| K  | Club    |\n",
       "| A  | Club    |\n",
       "| 2  | Diamond |\n",
       "| 3  | Diamond |\n",
       "| 4  | Diamond |\n",
       "| 5  | Diamond |\n",
       "| 6  | Diamond |\n",
       "| 7  | Diamond |\n",
       "| 8  | Diamond |\n",
       "| 9  | Diamond |\n",
       "| 10 | Diamond |\n",
       "| J  | Diamond |\n",
       "| Q  | Diamond |\n",
       "| K  | Diamond |\n",
       "| A  | Diamond |\n",
       "| 2  | Heart   |\n",
       "| 3  | Heart   |\n",
       "| 4  | Heart   |\n",
       "| 5  | Heart   |\n",
       "| 6  | Heart   |\n",
       "| 7  | Heart   |\n",
       "| 8  | Heart   |\n",
       "| 9  | Heart   |\n",
       "| 10 | Heart   |\n",
       "| J  | Heart   |\n",
       "| Q  | Heart   |\n",
       "| K  | Heart   |\n",
       "| A  | Heart   |\n",
       "| 2  | Spade   |\n",
       "| 3  | Spade   |\n",
       "| 4  | Spade   |\n",
       "| 5  | Spade   |\n",
       "| 6  | Spade   |\n",
       "| 7  | Spade   |\n",
       "| 8  | Spade   |\n",
       "| 9  | Spade   |\n",
       "| 10 | Spade   |\n",
       "| J  | Spade   |\n",
       "| Q  | Spade   |\n",
       "| K  | Spade   |\n",
       "| A  | Spade   |\n",
       "\n"
      ],
      "text/plain": [
       "   rank suit   \n",
       "1  2    Club   \n",
       "2  3    Club   \n",
       "3  4    Club   \n",
       "4  5    Club   \n",
       "5  6    Club   \n",
       "6  7    Club   \n",
       "7  8    Club   \n",
       "8  9    Club   \n",
       "9  10   Club   \n",
       "10 J    Club   \n",
       "11 Q    Club   \n",
       "12 K    Club   \n",
       "13 A    Club   \n",
       "14 2    Diamond\n",
       "15 3    Diamond\n",
       "16 4    Diamond\n",
       "17 5    Diamond\n",
       "18 6    Diamond\n",
       "19 7    Diamond\n",
       "20 8    Diamond\n",
       "21 9    Diamond\n",
       "22 10   Diamond\n",
       "23 J    Diamond\n",
       "24 Q    Diamond\n",
       "25 K    Diamond\n",
       "26 A    Diamond\n",
       "27 2    Heart  \n",
       "28 3    Heart  \n",
       "29 4    Heart  \n",
       "30 5    Heart  \n",
       "31 6    Heart  \n",
       "32 7    Heart  \n",
       "33 8    Heart  \n",
       "34 9    Heart  \n",
       "35 10   Heart  \n",
       "36 J    Heart  \n",
       "37 Q    Heart  \n",
       "38 K    Heart  \n",
       "39 A    Heart  \n",
       "40 2    Spade  \n",
       "41 3    Spade  \n",
       "42 4    Spade  \n",
       "43 5    Spade  \n",
       "44 6    Spade  \n",
       "45 7    Spade  \n",
       "46 8    Spade  \n",
       "47 9    Spade  \n",
       "48 10   Spade  \n",
       "49 J    Spade  \n",
       "50 Q    Spade  \n",
       "51 K    Spade  \n",
       "52 A    Spade  "
      ]
     },
     "metadata": {},
     "output_type": "display_data"
    },
    {
     "data": {
      "text/html": [
       "<table class=\"dataframe\">\n",
       "<caption>A data.frame: 54 × 3</caption>\n",
       "<thead>\n",
       "\t<tr><th scope=col>rank</th><th scope=col>suit</th><th scope=col>probs</th></tr>\n",
       "\t<tr><th scope=col>&lt;fct&gt;</th><th scope=col>&lt;fct&gt;</th><th scope=col>&lt;dbl&gt;</th></tr>\n",
       "</thead>\n",
       "<tbody>\n",
       "\t<tr><td>2    </td><td>Club   </td><td>0.01851852</td></tr>\n",
       "\t<tr><td>3    </td><td>Club   </td><td>0.01851852</td></tr>\n",
       "\t<tr><td>4    </td><td>Club   </td><td>0.01851852</td></tr>\n",
       "\t<tr><td>5    </td><td>Club   </td><td>0.01851852</td></tr>\n",
       "\t<tr><td>6    </td><td>Club   </td><td>0.01851852</td></tr>\n",
       "\t<tr><td>7    </td><td>Club   </td><td>0.01851852</td></tr>\n",
       "\t<tr><td>8    </td><td>Club   </td><td>0.01851852</td></tr>\n",
       "\t<tr><td>9    </td><td>Club   </td><td>0.01851852</td></tr>\n",
       "\t<tr><td>10   </td><td>Club   </td><td>0.01851852</td></tr>\n",
       "\t<tr><td>J    </td><td>Club   </td><td>0.01851852</td></tr>\n",
       "\t<tr><td>Q    </td><td>Club   </td><td>0.01851852</td></tr>\n",
       "\t<tr><td>K    </td><td>Club   </td><td>0.01851852</td></tr>\n",
       "\t<tr><td>A    </td><td>Club   </td><td>0.01851852</td></tr>\n",
       "\t<tr><td>2    </td><td>Diamond</td><td>0.01851852</td></tr>\n",
       "\t<tr><td>3    </td><td>Diamond</td><td>0.01851852</td></tr>\n",
       "\t<tr><td>4    </td><td>Diamond</td><td>0.01851852</td></tr>\n",
       "\t<tr><td>5    </td><td>Diamond</td><td>0.01851852</td></tr>\n",
       "\t<tr><td>6    </td><td>Diamond</td><td>0.01851852</td></tr>\n",
       "\t<tr><td>7    </td><td>Diamond</td><td>0.01851852</td></tr>\n",
       "\t<tr><td>8    </td><td>Diamond</td><td>0.01851852</td></tr>\n",
       "\t<tr><td>9    </td><td>Diamond</td><td>0.01851852</td></tr>\n",
       "\t<tr><td>10   </td><td>Diamond</td><td>0.01851852</td></tr>\n",
       "\t<tr><td>J    </td><td>Diamond</td><td>0.01851852</td></tr>\n",
       "\t<tr><td>Q    </td><td>Diamond</td><td>0.01851852</td></tr>\n",
       "\t<tr><td>K    </td><td>Diamond</td><td>0.01851852</td></tr>\n",
       "\t<tr><td>A    </td><td>Diamond</td><td>0.01851852</td></tr>\n",
       "\t<tr><td>2    </td><td>Heart  </td><td>0.01851852</td></tr>\n",
       "\t<tr><td>3    </td><td>Heart  </td><td>0.01851852</td></tr>\n",
       "\t<tr><td>4    </td><td>Heart  </td><td>0.01851852</td></tr>\n",
       "\t<tr><td>5    </td><td>Heart  </td><td>0.01851852</td></tr>\n",
       "\t<tr><td>6    </td><td>Heart  </td><td>0.01851852</td></tr>\n",
       "\t<tr><td>7    </td><td>Heart  </td><td>0.01851852</td></tr>\n",
       "\t<tr><td>8    </td><td>Heart  </td><td>0.01851852</td></tr>\n",
       "\t<tr><td>9    </td><td>Heart  </td><td>0.01851852</td></tr>\n",
       "\t<tr><td>10   </td><td>Heart  </td><td>0.01851852</td></tr>\n",
       "\t<tr><td>J    </td><td>Heart  </td><td>0.01851852</td></tr>\n",
       "\t<tr><td>Q    </td><td>Heart  </td><td>0.01851852</td></tr>\n",
       "\t<tr><td>K    </td><td>Heart  </td><td>0.01851852</td></tr>\n",
       "\t<tr><td>A    </td><td>Heart  </td><td>0.01851852</td></tr>\n",
       "\t<tr><td>2    </td><td>Spade  </td><td>0.01851852</td></tr>\n",
       "\t<tr><td>3    </td><td>Spade  </td><td>0.01851852</td></tr>\n",
       "\t<tr><td>4    </td><td>Spade  </td><td>0.01851852</td></tr>\n",
       "\t<tr><td>5    </td><td>Spade  </td><td>0.01851852</td></tr>\n",
       "\t<tr><td>6    </td><td>Spade  </td><td>0.01851852</td></tr>\n",
       "\t<tr><td>7    </td><td>Spade  </td><td>0.01851852</td></tr>\n",
       "\t<tr><td>8    </td><td>Spade  </td><td>0.01851852</td></tr>\n",
       "\t<tr><td>9    </td><td>Spade  </td><td>0.01851852</td></tr>\n",
       "\t<tr><td>10   </td><td>Spade  </td><td>0.01851852</td></tr>\n",
       "\t<tr><td>J    </td><td>Spade  </td><td>0.01851852</td></tr>\n",
       "\t<tr><td>Q    </td><td>Spade  </td><td>0.01851852</td></tr>\n",
       "\t<tr><td>K    </td><td>Spade  </td><td>0.01851852</td></tr>\n",
       "\t<tr><td>A    </td><td>Spade  </td><td>0.01851852</td></tr>\n",
       "\t<tr><td>Joker</td><td>NA     </td><td>0.01851852</td></tr>\n",
       "\t<tr><td>Joker</td><td>NA     </td><td>0.01851852</td></tr>\n",
       "</tbody>\n",
       "</table>\n"
      ],
      "text/latex": [
       "A data.frame: 54 × 3\n",
       "\\begin{tabular}{lll}\n",
       " rank & suit & probs\\\\\n",
       " <fct> & <fct> & <dbl>\\\\\n",
       "\\hline\n",
       "\t 2     & Club    & 0.01851852\\\\\n",
       "\t 3     & Club    & 0.01851852\\\\\n",
       "\t 4     & Club    & 0.01851852\\\\\n",
       "\t 5     & Club    & 0.01851852\\\\\n",
       "\t 6     & Club    & 0.01851852\\\\\n",
       "\t 7     & Club    & 0.01851852\\\\\n",
       "\t 8     & Club    & 0.01851852\\\\\n",
       "\t 9     & Club    & 0.01851852\\\\\n",
       "\t 10    & Club    & 0.01851852\\\\\n",
       "\t J     & Club    & 0.01851852\\\\\n",
       "\t Q     & Club    & 0.01851852\\\\\n",
       "\t K     & Club    & 0.01851852\\\\\n",
       "\t A     & Club    & 0.01851852\\\\\n",
       "\t 2     & Diamond & 0.01851852\\\\\n",
       "\t 3     & Diamond & 0.01851852\\\\\n",
       "\t 4     & Diamond & 0.01851852\\\\\n",
       "\t 5     & Diamond & 0.01851852\\\\\n",
       "\t 6     & Diamond & 0.01851852\\\\\n",
       "\t 7     & Diamond & 0.01851852\\\\\n",
       "\t 8     & Diamond & 0.01851852\\\\\n",
       "\t 9     & Diamond & 0.01851852\\\\\n",
       "\t 10    & Diamond & 0.01851852\\\\\n",
       "\t J     & Diamond & 0.01851852\\\\\n",
       "\t Q     & Diamond & 0.01851852\\\\\n",
       "\t K     & Diamond & 0.01851852\\\\\n",
       "\t A     & Diamond & 0.01851852\\\\\n",
       "\t 2     & Heart   & 0.01851852\\\\\n",
       "\t 3     & Heart   & 0.01851852\\\\\n",
       "\t 4     & Heart   & 0.01851852\\\\\n",
       "\t 5     & Heart   & 0.01851852\\\\\n",
       "\t 6     & Heart   & 0.01851852\\\\\n",
       "\t 7     & Heart   & 0.01851852\\\\\n",
       "\t 8     & Heart   & 0.01851852\\\\\n",
       "\t 9     & Heart   & 0.01851852\\\\\n",
       "\t 10    & Heart   & 0.01851852\\\\\n",
       "\t J     & Heart   & 0.01851852\\\\\n",
       "\t Q     & Heart   & 0.01851852\\\\\n",
       "\t K     & Heart   & 0.01851852\\\\\n",
       "\t A     & Heart   & 0.01851852\\\\\n",
       "\t 2     & Spade   & 0.01851852\\\\\n",
       "\t 3     & Spade   & 0.01851852\\\\\n",
       "\t 4     & Spade   & 0.01851852\\\\\n",
       "\t 5     & Spade   & 0.01851852\\\\\n",
       "\t 6     & Spade   & 0.01851852\\\\\n",
       "\t 7     & Spade   & 0.01851852\\\\\n",
       "\t 8     & Spade   & 0.01851852\\\\\n",
       "\t 9     & Spade   & 0.01851852\\\\\n",
       "\t 10    & Spade   & 0.01851852\\\\\n",
       "\t J     & Spade   & 0.01851852\\\\\n",
       "\t Q     & Spade   & 0.01851852\\\\\n",
       "\t K     & Spade   & 0.01851852\\\\\n",
       "\t A     & Spade   & 0.01851852\\\\\n",
       "\t Joker & NA      & 0.01851852\\\\\n",
       "\t Joker & NA      & 0.01851852\\\\\n",
       "\\end{tabular}\n"
      ],
      "text/markdown": [
       "\n",
       "A data.frame: 54 × 3\n",
       "\n",
       "| rank &lt;fct&gt; | suit &lt;fct&gt; | probs &lt;dbl&gt; |\n",
       "|---|---|---|\n",
       "| 2     | Club    | 0.01851852 |\n",
       "| 3     | Club    | 0.01851852 |\n",
       "| 4     | Club    | 0.01851852 |\n",
       "| 5     | Club    | 0.01851852 |\n",
       "| 6     | Club    | 0.01851852 |\n",
       "| 7     | Club    | 0.01851852 |\n",
       "| 8     | Club    | 0.01851852 |\n",
       "| 9     | Club    | 0.01851852 |\n",
       "| 10    | Club    | 0.01851852 |\n",
       "| J     | Club    | 0.01851852 |\n",
       "| Q     | Club    | 0.01851852 |\n",
       "| K     | Club    | 0.01851852 |\n",
       "| A     | Club    | 0.01851852 |\n",
       "| 2     | Diamond | 0.01851852 |\n",
       "| 3     | Diamond | 0.01851852 |\n",
       "| 4     | Diamond | 0.01851852 |\n",
       "| 5     | Diamond | 0.01851852 |\n",
       "| 6     | Diamond | 0.01851852 |\n",
       "| 7     | Diamond | 0.01851852 |\n",
       "| 8     | Diamond | 0.01851852 |\n",
       "| 9     | Diamond | 0.01851852 |\n",
       "| 10    | Diamond | 0.01851852 |\n",
       "| J     | Diamond | 0.01851852 |\n",
       "| Q     | Diamond | 0.01851852 |\n",
       "| K     | Diamond | 0.01851852 |\n",
       "| A     | Diamond | 0.01851852 |\n",
       "| 2     | Heart   | 0.01851852 |\n",
       "| 3     | Heart   | 0.01851852 |\n",
       "| 4     | Heart   | 0.01851852 |\n",
       "| 5     | Heart   | 0.01851852 |\n",
       "| 6     | Heart   | 0.01851852 |\n",
       "| 7     | Heart   | 0.01851852 |\n",
       "| 8     | Heart   | 0.01851852 |\n",
       "| 9     | Heart   | 0.01851852 |\n",
       "| 10    | Heart   | 0.01851852 |\n",
       "| J     | Heart   | 0.01851852 |\n",
       "| Q     | Heart   | 0.01851852 |\n",
       "| K     | Heart   | 0.01851852 |\n",
       "| A     | Heart   | 0.01851852 |\n",
       "| 2     | Spade   | 0.01851852 |\n",
       "| 3     | Spade   | 0.01851852 |\n",
       "| 4     | Spade   | 0.01851852 |\n",
       "| 5     | Spade   | 0.01851852 |\n",
       "| 6     | Spade   | 0.01851852 |\n",
       "| 7     | Spade   | 0.01851852 |\n",
       "| 8     | Spade   | 0.01851852 |\n",
       "| 9     | Spade   | 0.01851852 |\n",
       "| 10    | Spade   | 0.01851852 |\n",
       "| J     | Spade   | 0.01851852 |\n",
       "| Q     | Spade   | 0.01851852 |\n",
       "| K     | Spade   | 0.01851852 |\n",
       "| A     | Spade   | 0.01851852 |\n",
       "| Joker | NA      | 0.01851852 |\n",
       "| Joker | NA      | 0.01851852 |\n",
       "\n"
      ],
      "text/plain": [
       "   rank  suit    probs     \n",
       "1  2     Club    0.01851852\n",
       "2  3     Club    0.01851852\n",
       "3  4     Club    0.01851852\n",
       "4  5     Club    0.01851852\n",
       "5  6     Club    0.01851852\n",
       "6  7     Club    0.01851852\n",
       "7  8     Club    0.01851852\n",
       "8  9     Club    0.01851852\n",
       "9  10    Club    0.01851852\n",
       "10 J     Club    0.01851852\n",
       "11 Q     Club    0.01851852\n",
       "12 K     Club    0.01851852\n",
       "13 A     Club    0.01851852\n",
       "14 2     Diamond 0.01851852\n",
       "15 3     Diamond 0.01851852\n",
       "16 4     Diamond 0.01851852\n",
       "17 5     Diamond 0.01851852\n",
       "18 6     Diamond 0.01851852\n",
       "19 7     Diamond 0.01851852\n",
       "20 8     Diamond 0.01851852\n",
       "21 9     Diamond 0.01851852\n",
       "22 10    Diamond 0.01851852\n",
       "23 J     Diamond 0.01851852\n",
       "24 Q     Diamond 0.01851852\n",
       "25 K     Diamond 0.01851852\n",
       "26 A     Diamond 0.01851852\n",
       "27 2     Heart   0.01851852\n",
       "28 3     Heart   0.01851852\n",
       "29 4     Heart   0.01851852\n",
       "30 5     Heart   0.01851852\n",
       "31 6     Heart   0.01851852\n",
       "32 7     Heart   0.01851852\n",
       "33 8     Heart   0.01851852\n",
       "34 9     Heart   0.01851852\n",
       "35 10    Heart   0.01851852\n",
       "36 J     Heart   0.01851852\n",
       "37 Q     Heart   0.01851852\n",
       "38 K     Heart   0.01851852\n",
       "39 A     Heart   0.01851852\n",
       "40 2     Spade   0.01851852\n",
       "41 3     Spade   0.01851852\n",
       "42 4     Spade   0.01851852\n",
       "43 5     Spade   0.01851852\n",
       "44 6     Spade   0.01851852\n",
       "45 7     Spade   0.01851852\n",
       "46 8     Spade   0.01851852\n",
       "47 9     Spade   0.01851852\n",
       "48 10    Spade   0.01851852\n",
       "49 J     Spade   0.01851852\n",
       "50 Q     Spade   0.01851852\n",
       "51 K     Spade   0.01851852\n",
       "52 A     Spade   0.01851852\n",
       "53 Joker NA      0.01851852\n",
       "54 Joker NA      0.01851852"
      ]
     },
     "metadata": {},
     "output_type": "display_data"
    }
   ],
   "source": [
    "cards()\n",
    "cards(jokers = T, makespace = T)"
   ]
  },
  {
   "cell_type": "markdown",
   "metadata": {},
   "source": [
    "Użyj polecenia iidspace(c(1, 5, 7), ntrials=2) a później iidpspace(c(1, 5, 7), nrials=2, probs=c(1,\n",
    "1,3)) – co wnosi parametr probs?\n"
   ]
  },
  {
   "cell_type": "code",
   "execution_count": 26,
   "metadata": {
    "vscode": {
     "languageId": "r"
    }
   },
   "outputs": [
    {
     "data": {
      "text/html": [
       "<table class=\"dataframe\">\n",
       "<caption>A data.frame: 9 × 3</caption>\n",
       "<thead>\n",
       "\t<tr><th scope=col>X1</th><th scope=col>X2</th><th scope=col>probs</th></tr>\n",
       "\t<tr><th scope=col>&lt;dbl&gt;</th><th scope=col>&lt;dbl&gt;</th><th scope=col>&lt;dbl&gt;</th></tr>\n",
       "</thead>\n",
       "<tbody>\n",
       "\t<tr><td>1</td><td>1</td><td>0.1111111</td></tr>\n",
       "\t<tr><td>5</td><td>1</td><td>0.1111111</td></tr>\n",
       "\t<tr><td>7</td><td>1</td><td>0.1111111</td></tr>\n",
       "\t<tr><td>1</td><td>5</td><td>0.1111111</td></tr>\n",
       "\t<tr><td>5</td><td>5</td><td>0.1111111</td></tr>\n",
       "\t<tr><td>7</td><td>5</td><td>0.1111111</td></tr>\n",
       "\t<tr><td>1</td><td>7</td><td>0.1111111</td></tr>\n",
       "\t<tr><td>5</td><td>7</td><td>0.1111111</td></tr>\n",
       "\t<tr><td>7</td><td>7</td><td>0.1111111</td></tr>\n",
       "</tbody>\n",
       "</table>\n"
      ],
      "text/latex": [
       "A data.frame: 9 × 3\n",
       "\\begin{tabular}{lll}\n",
       " X1 & X2 & probs\\\\\n",
       " <dbl> & <dbl> & <dbl>\\\\\n",
       "\\hline\n",
       "\t 1 & 1 & 0.1111111\\\\\n",
       "\t 5 & 1 & 0.1111111\\\\\n",
       "\t 7 & 1 & 0.1111111\\\\\n",
       "\t 1 & 5 & 0.1111111\\\\\n",
       "\t 5 & 5 & 0.1111111\\\\\n",
       "\t 7 & 5 & 0.1111111\\\\\n",
       "\t 1 & 7 & 0.1111111\\\\\n",
       "\t 5 & 7 & 0.1111111\\\\\n",
       "\t 7 & 7 & 0.1111111\\\\\n",
       "\\end{tabular}\n"
      ],
      "text/markdown": [
       "\n",
       "A data.frame: 9 × 3\n",
       "\n",
       "| X1 &lt;dbl&gt; | X2 &lt;dbl&gt; | probs &lt;dbl&gt; |\n",
       "|---|---|---|\n",
       "| 1 | 1 | 0.1111111 |\n",
       "| 5 | 1 | 0.1111111 |\n",
       "| 7 | 1 | 0.1111111 |\n",
       "| 1 | 5 | 0.1111111 |\n",
       "| 5 | 5 | 0.1111111 |\n",
       "| 7 | 5 | 0.1111111 |\n",
       "| 1 | 7 | 0.1111111 |\n",
       "| 5 | 7 | 0.1111111 |\n",
       "| 7 | 7 | 0.1111111 |\n",
       "\n"
      ],
      "text/plain": [
       "  X1 X2 probs    \n",
       "1 1  1  0.1111111\n",
       "2 5  1  0.1111111\n",
       "3 7  1  0.1111111\n",
       "4 1  5  0.1111111\n",
       "5 5  5  0.1111111\n",
       "6 7  5  0.1111111\n",
       "7 1  7  0.1111111\n",
       "8 5  7  0.1111111\n",
       "9 7  7  0.1111111"
      ]
     },
     "metadata": {},
     "output_type": "display_data"
    },
    {
     "data": {
      "text/html": [
       "<table class=\"dataframe\">\n",
       "<caption>A data.frame: 9 × 3</caption>\n",
       "<thead>\n",
       "\t<tr><th scope=col>X1</th><th scope=col>X2</th><th scope=col>probs</th></tr>\n",
       "\t<tr><th scope=col>&lt;dbl&gt;</th><th scope=col>&lt;dbl&gt;</th><th scope=col>&lt;dbl&gt;</th></tr>\n",
       "</thead>\n",
       "<tbody>\n",
       "\t<tr><td>1</td><td>1</td><td>0.04</td></tr>\n",
       "\t<tr><td>3</td><td>1</td><td>0.04</td></tr>\n",
       "\t<tr><td>7</td><td>1</td><td>0.12</td></tr>\n",
       "\t<tr><td>1</td><td>3</td><td>0.04</td></tr>\n",
       "\t<tr><td>3</td><td>3</td><td>0.04</td></tr>\n",
       "\t<tr><td>7</td><td>3</td><td>0.12</td></tr>\n",
       "\t<tr><td>1</td><td>7</td><td>0.12</td></tr>\n",
       "\t<tr><td>3</td><td>7</td><td>0.12</td></tr>\n",
       "\t<tr><td>7</td><td>7</td><td>0.36</td></tr>\n",
       "</tbody>\n",
       "</table>\n"
      ],
      "text/latex": [
       "A data.frame: 9 × 3\n",
       "\\begin{tabular}{lll}\n",
       " X1 & X2 & probs\\\\\n",
       " <dbl> & <dbl> & <dbl>\\\\\n",
       "\\hline\n",
       "\t 1 & 1 & 0.04\\\\\n",
       "\t 3 & 1 & 0.04\\\\\n",
       "\t 7 & 1 & 0.12\\\\\n",
       "\t 1 & 3 & 0.04\\\\\n",
       "\t 3 & 3 & 0.04\\\\\n",
       "\t 7 & 3 & 0.12\\\\\n",
       "\t 1 & 7 & 0.12\\\\\n",
       "\t 3 & 7 & 0.12\\\\\n",
       "\t 7 & 7 & 0.36\\\\\n",
       "\\end{tabular}\n"
      ],
      "text/markdown": [
       "\n",
       "A data.frame: 9 × 3\n",
       "\n",
       "| X1 &lt;dbl&gt; | X2 &lt;dbl&gt; | probs &lt;dbl&gt; |\n",
       "|---|---|---|\n",
       "| 1 | 1 | 0.04 |\n",
       "| 3 | 1 | 0.04 |\n",
       "| 7 | 1 | 0.12 |\n",
       "| 1 | 3 | 0.04 |\n",
       "| 3 | 3 | 0.04 |\n",
       "| 7 | 3 | 0.12 |\n",
       "| 1 | 7 | 0.12 |\n",
       "| 3 | 7 | 0.12 |\n",
       "| 7 | 7 | 0.36 |\n",
       "\n"
      ],
      "text/plain": [
       "  X1 X2 probs\n",
       "1 1  1  0.04 \n",
       "2 3  1  0.04 \n",
       "3 7  1  0.12 \n",
       "4 1  3  0.04 \n",
       "5 3  3  0.04 \n",
       "6 7  3  0.12 \n",
       "7 1  7  0.12 \n",
       "8 3  7  0.12 \n",
       "9 7  7  0.36 "
      ]
     },
     "metadata": {},
     "output_type": "display_data"
    }
   ],
   "source": [
    "iidspace(c(1, 5, 7), ntrials = 2)\n",
    "iidspace(c(1, 3, 7), ntrials = 2, probs = c(1, 1, 3))"
   ]
  },
  {
   "cell_type": "markdown",
   "metadata": {},
   "source": [
    "a) Policzymy pr-stwo zdarzenia, że w wyniku trzykrotnego rzutu sześcienną kostką do gry, suma\n",
    "wyrzuconych oczek jest mniejsza niż 10.\n",
    "Najpierw musimy zdefiniować przestrzeń S możliwych zdarzeń elementarnych dla opisanego\n",
    "doświadczenia:\n",
    "`S = rolldie(3, makespace = TRUE) // parametr makespace ustawiony na TRUE jest konieczny by móc później obliczać pr-stwa //`\n"
   ]
  },
  {
   "cell_type": "code",
   "execution_count": 27,
   "metadata": {
    "vscode": {
     "languageId": "r"
    }
   },
   "outputs": [
    {
     "data": {
      "text/html": [
       "<table class=\"dataframe\">\n",
       "<caption>A data.frame: 216 × 4</caption>\n",
       "<thead>\n",
       "\t<tr><th scope=col>X1</th><th scope=col>X2</th><th scope=col>X3</th><th scope=col>probs</th></tr>\n",
       "\t<tr><th scope=col>&lt;int&gt;</th><th scope=col>&lt;int&gt;</th><th scope=col>&lt;int&gt;</th><th scope=col>&lt;dbl&gt;</th></tr>\n",
       "</thead>\n",
       "<tbody>\n",
       "\t<tr><td>1</td><td>1</td><td>1</td><td>0.00462963</td></tr>\n",
       "\t<tr><td>2</td><td>1</td><td>1</td><td>0.00462963</td></tr>\n",
       "\t<tr><td>3</td><td>1</td><td>1</td><td>0.00462963</td></tr>\n",
       "\t<tr><td>4</td><td>1</td><td>1</td><td>0.00462963</td></tr>\n",
       "\t<tr><td>5</td><td>1</td><td>1</td><td>0.00462963</td></tr>\n",
       "\t<tr><td>6</td><td>1</td><td>1</td><td>0.00462963</td></tr>\n",
       "\t<tr><td>1</td><td>2</td><td>1</td><td>0.00462963</td></tr>\n",
       "\t<tr><td>2</td><td>2</td><td>1</td><td>0.00462963</td></tr>\n",
       "\t<tr><td>3</td><td>2</td><td>1</td><td>0.00462963</td></tr>\n",
       "\t<tr><td>4</td><td>2</td><td>1</td><td>0.00462963</td></tr>\n",
       "\t<tr><td>5</td><td>2</td><td>1</td><td>0.00462963</td></tr>\n",
       "\t<tr><td>6</td><td>2</td><td>1</td><td>0.00462963</td></tr>\n",
       "\t<tr><td>1</td><td>3</td><td>1</td><td>0.00462963</td></tr>\n",
       "\t<tr><td>2</td><td>3</td><td>1</td><td>0.00462963</td></tr>\n",
       "\t<tr><td>3</td><td>3</td><td>1</td><td>0.00462963</td></tr>\n",
       "\t<tr><td>4</td><td>3</td><td>1</td><td>0.00462963</td></tr>\n",
       "\t<tr><td>5</td><td>3</td><td>1</td><td>0.00462963</td></tr>\n",
       "\t<tr><td>6</td><td>3</td><td>1</td><td>0.00462963</td></tr>\n",
       "\t<tr><td>1</td><td>4</td><td>1</td><td>0.00462963</td></tr>\n",
       "\t<tr><td>2</td><td>4</td><td>1</td><td>0.00462963</td></tr>\n",
       "\t<tr><td>3</td><td>4</td><td>1</td><td>0.00462963</td></tr>\n",
       "\t<tr><td>4</td><td>4</td><td>1</td><td>0.00462963</td></tr>\n",
       "\t<tr><td>5</td><td>4</td><td>1</td><td>0.00462963</td></tr>\n",
       "\t<tr><td>6</td><td>4</td><td>1</td><td>0.00462963</td></tr>\n",
       "\t<tr><td>1</td><td>5</td><td>1</td><td>0.00462963</td></tr>\n",
       "\t<tr><td>2</td><td>5</td><td>1</td><td>0.00462963</td></tr>\n",
       "\t<tr><td>3</td><td>5</td><td>1</td><td>0.00462963</td></tr>\n",
       "\t<tr><td>4</td><td>5</td><td>1</td><td>0.00462963</td></tr>\n",
       "\t<tr><td>5</td><td>5</td><td>1</td><td>0.00462963</td></tr>\n",
       "\t<tr><td>6</td><td>5</td><td>1</td><td>0.00462963</td></tr>\n",
       "\t<tr><td>...</td><td>...</td><td>...</td><td>...</td></tr>\n",
       "\t<tr><td>1</td><td>2</td><td>6</td><td>0.00462963</td></tr>\n",
       "\t<tr><td>2</td><td>2</td><td>6</td><td>0.00462963</td></tr>\n",
       "\t<tr><td>3</td><td>2</td><td>6</td><td>0.00462963</td></tr>\n",
       "\t<tr><td>4</td><td>2</td><td>6</td><td>0.00462963</td></tr>\n",
       "\t<tr><td>5</td><td>2</td><td>6</td><td>0.00462963</td></tr>\n",
       "\t<tr><td>6</td><td>2</td><td>6</td><td>0.00462963</td></tr>\n",
       "\t<tr><td>1</td><td>3</td><td>6</td><td>0.00462963</td></tr>\n",
       "\t<tr><td>2</td><td>3</td><td>6</td><td>0.00462963</td></tr>\n",
       "\t<tr><td>3</td><td>3</td><td>6</td><td>0.00462963</td></tr>\n",
       "\t<tr><td>4</td><td>3</td><td>6</td><td>0.00462963</td></tr>\n",
       "\t<tr><td>5</td><td>3</td><td>6</td><td>0.00462963</td></tr>\n",
       "\t<tr><td>6</td><td>3</td><td>6</td><td>0.00462963</td></tr>\n",
       "\t<tr><td>1</td><td>4</td><td>6</td><td>0.00462963</td></tr>\n",
       "\t<tr><td>2</td><td>4</td><td>6</td><td>0.00462963</td></tr>\n",
       "\t<tr><td>3</td><td>4</td><td>6</td><td>0.00462963</td></tr>\n",
       "\t<tr><td>4</td><td>4</td><td>6</td><td>0.00462963</td></tr>\n",
       "\t<tr><td>5</td><td>4</td><td>6</td><td>0.00462963</td></tr>\n",
       "\t<tr><td>6</td><td>4</td><td>6</td><td>0.00462963</td></tr>\n",
       "\t<tr><td>1</td><td>5</td><td>6</td><td>0.00462963</td></tr>\n",
       "\t<tr><td>2</td><td>5</td><td>6</td><td>0.00462963</td></tr>\n",
       "\t<tr><td>3</td><td>5</td><td>6</td><td>0.00462963</td></tr>\n",
       "\t<tr><td>4</td><td>5</td><td>6</td><td>0.00462963</td></tr>\n",
       "\t<tr><td>5</td><td>5</td><td>6</td><td>0.00462963</td></tr>\n",
       "\t<tr><td>6</td><td>5</td><td>6</td><td>0.00462963</td></tr>\n",
       "\t<tr><td>1</td><td>6</td><td>6</td><td>0.00462963</td></tr>\n",
       "\t<tr><td>2</td><td>6</td><td>6</td><td>0.00462963</td></tr>\n",
       "\t<tr><td>3</td><td>6</td><td>6</td><td>0.00462963</td></tr>\n",
       "\t<tr><td>4</td><td>6</td><td>6</td><td>0.00462963</td></tr>\n",
       "\t<tr><td>5</td><td>6</td><td>6</td><td>0.00462963</td></tr>\n",
       "\t<tr><td>6</td><td>6</td><td>6</td><td>0.00462963</td></tr>\n",
       "</tbody>\n",
       "</table>\n"
      ],
      "text/latex": [
       "A data.frame: 216 × 4\n",
       "\\begin{tabular}{llll}\n",
       " X1 & X2 & X3 & probs\\\\\n",
       " <int> & <int> & <int> & <dbl>\\\\\n",
       "\\hline\n",
       "\t 1 & 1 & 1 & 0.00462963\\\\\n",
       "\t 2 & 1 & 1 & 0.00462963\\\\\n",
       "\t 3 & 1 & 1 & 0.00462963\\\\\n",
       "\t 4 & 1 & 1 & 0.00462963\\\\\n",
       "\t 5 & 1 & 1 & 0.00462963\\\\\n",
       "\t 6 & 1 & 1 & 0.00462963\\\\\n",
       "\t 1 & 2 & 1 & 0.00462963\\\\\n",
       "\t 2 & 2 & 1 & 0.00462963\\\\\n",
       "\t 3 & 2 & 1 & 0.00462963\\\\\n",
       "\t 4 & 2 & 1 & 0.00462963\\\\\n",
       "\t 5 & 2 & 1 & 0.00462963\\\\\n",
       "\t 6 & 2 & 1 & 0.00462963\\\\\n",
       "\t 1 & 3 & 1 & 0.00462963\\\\\n",
       "\t 2 & 3 & 1 & 0.00462963\\\\\n",
       "\t 3 & 3 & 1 & 0.00462963\\\\\n",
       "\t 4 & 3 & 1 & 0.00462963\\\\\n",
       "\t 5 & 3 & 1 & 0.00462963\\\\\n",
       "\t 6 & 3 & 1 & 0.00462963\\\\\n",
       "\t 1 & 4 & 1 & 0.00462963\\\\\n",
       "\t 2 & 4 & 1 & 0.00462963\\\\\n",
       "\t 3 & 4 & 1 & 0.00462963\\\\\n",
       "\t 4 & 4 & 1 & 0.00462963\\\\\n",
       "\t 5 & 4 & 1 & 0.00462963\\\\\n",
       "\t 6 & 4 & 1 & 0.00462963\\\\\n",
       "\t 1 & 5 & 1 & 0.00462963\\\\\n",
       "\t 2 & 5 & 1 & 0.00462963\\\\\n",
       "\t 3 & 5 & 1 & 0.00462963\\\\\n",
       "\t 4 & 5 & 1 & 0.00462963\\\\\n",
       "\t 5 & 5 & 1 & 0.00462963\\\\\n",
       "\t 6 & 5 & 1 & 0.00462963\\\\\n",
       "\t ... & ... & ... & ...\\\\\n",
       "\t 1 & 2 & 6 & 0.00462963\\\\\n",
       "\t 2 & 2 & 6 & 0.00462963\\\\\n",
       "\t 3 & 2 & 6 & 0.00462963\\\\\n",
       "\t 4 & 2 & 6 & 0.00462963\\\\\n",
       "\t 5 & 2 & 6 & 0.00462963\\\\\n",
       "\t 6 & 2 & 6 & 0.00462963\\\\\n",
       "\t 1 & 3 & 6 & 0.00462963\\\\\n",
       "\t 2 & 3 & 6 & 0.00462963\\\\\n",
       "\t 3 & 3 & 6 & 0.00462963\\\\\n",
       "\t 4 & 3 & 6 & 0.00462963\\\\\n",
       "\t 5 & 3 & 6 & 0.00462963\\\\\n",
       "\t 6 & 3 & 6 & 0.00462963\\\\\n",
       "\t 1 & 4 & 6 & 0.00462963\\\\\n",
       "\t 2 & 4 & 6 & 0.00462963\\\\\n",
       "\t 3 & 4 & 6 & 0.00462963\\\\\n",
       "\t 4 & 4 & 6 & 0.00462963\\\\\n",
       "\t 5 & 4 & 6 & 0.00462963\\\\\n",
       "\t 6 & 4 & 6 & 0.00462963\\\\\n",
       "\t 1 & 5 & 6 & 0.00462963\\\\\n",
       "\t 2 & 5 & 6 & 0.00462963\\\\\n",
       "\t 3 & 5 & 6 & 0.00462963\\\\\n",
       "\t 4 & 5 & 6 & 0.00462963\\\\\n",
       "\t 5 & 5 & 6 & 0.00462963\\\\\n",
       "\t 6 & 5 & 6 & 0.00462963\\\\\n",
       "\t 1 & 6 & 6 & 0.00462963\\\\\n",
       "\t 2 & 6 & 6 & 0.00462963\\\\\n",
       "\t 3 & 6 & 6 & 0.00462963\\\\\n",
       "\t 4 & 6 & 6 & 0.00462963\\\\\n",
       "\t 5 & 6 & 6 & 0.00462963\\\\\n",
       "\t 6 & 6 & 6 & 0.00462963\\\\\n",
       "\\end{tabular}\n"
      ],
      "text/markdown": [
       "\n",
       "A data.frame: 216 × 4\n",
       "\n",
       "| X1 &lt;int&gt; | X2 &lt;int&gt; | X3 &lt;int&gt; | probs &lt;dbl&gt; |\n",
       "|---|---|---|---|\n",
       "| 1 | 1 | 1 | 0.00462963 |\n",
       "| 2 | 1 | 1 | 0.00462963 |\n",
       "| 3 | 1 | 1 | 0.00462963 |\n",
       "| 4 | 1 | 1 | 0.00462963 |\n",
       "| 5 | 1 | 1 | 0.00462963 |\n",
       "| 6 | 1 | 1 | 0.00462963 |\n",
       "| 1 | 2 | 1 | 0.00462963 |\n",
       "| 2 | 2 | 1 | 0.00462963 |\n",
       "| 3 | 2 | 1 | 0.00462963 |\n",
       "| 4 | 2 | 1 | 0.00462963 |\n",
       "| 5 | 2 | 1 | 0.00462963 |\n",
       "| 6 | 2 | 1 | 0.00462963 |\n",
       "| 1 | 3 | 1 | 0.00462963 |\n",
       "| 2 | 3 | 1 | 0.00462963 |\n",
       "| 3 | 3 | 1 | 0.00462963 |\n",
       "| 4 | 3 | 1 | 0.00462963 |\n",
       "| 5 | 3 | 1 | 0.00462963 |\n",
       "| 6 | 3 | 1 | 0.00462963 |\n",
       "| 1 | 4 | 1 | 0.00462963 |\n",
       "| 2 | 4 | 1 | 0.00462963 |\n",
       "| 3 | 4 | 1 | 0.00462963 |\n",
       "| 4 | 4 | 1 | 0.00462963 |\n",
       "| 5 | 4 | 1 | 0.00462963 |\n",
       "| 6 | 4 | 1 | 0.00462963 |\n",
       "| 1 | 5 | 1 | 0.00462963 |\n",
       "| 2 | 5 | 1 | 0.00462963 |\n",
       "| 3 | 5 | 1 | 0.00462963 |\n",
       "| 4 | 5 | 1 | 0.00462963 |\n",
       "| 5 | 5 | 1 | 0.00462963 |\n",
       "| 6 | 5 | 1 | 0.00462963 |\n",
       "| ... | ... | ... | ... |\n",
       "| 1 | 2 | 6 | 0.00462963 |\n",
       "| 2 | 2 | 6 | 0.00462963 |\n",
       "| 3 | 2 | 6 | 0.00462963 |\n",
       "| 4 | 2 | 6 | 0.00462963 |\n",
       "| 5 | 2 | 6 | 0.00462963 |\n",
       "| 6 | 2 | 6 | 0.00462963 |\n",
       "| 1 | 3 | 6 | 0.00462963 |\n",
       "| 2 | 3 | 6 | 0.00462963 |\n",
       "| 3 | 3 | 6 | 0.00462963 |\n",
       "| 4 | 3 | 6 | 0.00462963 |\n",
       "| 5 | 3 | 6 | 0.00462963 |\n",
       "| 6 | 3 | 6 | 0.00462963 |\n",
       "| 1 | 4 | 6 | 0.00462963 |\n",
       "| 2 | 4 | 6 | 0.00462963 |\n",
       "| 3 | 4 | 6 | 0.00462963 |\n",
       "| 4 | 4 | 6 | 0.00462963 |\n",
       "| 5 | 4 | 6 | 0.00462963 |\n",
       "| 6 | 4 | 6 | 0.00462963 |\n",
       "| 1 | 5 | 6 | 0.00462963 |\n",
       "| 2 | 5 | 6 | 0.00462963 |\n",
       "| 3 | 5 | 6 | 0.00462963 |\n",
       "| 4 | 5 | 6 | 0.00462963 |\n",
       "| 5 | 5 | 6 | 0.00462963 |\n",
       "| 6 | 5 | 6 | 0.00462963 |\n",
       "| 1 | 6 | 6 | 0.00462963 |\n",
       "| 2 | 6 | 6 | 0.00462963 |\n",
       "| 3 | 6 | 6 | 0.00462963 |\n",
       "| 4 | 6 | 6 | 0.00462963 |\n",
       "| 5 | 6 | 6 | 0.00462963 |\n",
       "| 6 | 6 | 6 | 0.00462963 |\n",
       "\n"
      ],
      "text/plain": [
       "    X1  X2  X3  probs     \n",
       "1   1   1   1   0.00462963\n",
       "2   2   1   1   0.00462963\n",
       "3   3   1   1   0.00462963\n",
       "4   4   1   1   0.00462963\n",
       "5   5   1   1   0.00462963\n",
       "6   6   1   1   0.00462963\n",
       "7   1   2   1   0.00462963\n",
       "8   2   2   1   0.00462963\n",
       "9   3   2   1   0.00462963\n",
       "10  4   2   1   0.00462963\n",
       "11  5   2   1   0.00462963\n",
       "12  6   2   1   0.00462963\n",
       "13  1   3   1   0.00462963\n",
       "14  2   3   1   0.00462963\n",
       "15  3   3   1   0.00462963\n",
       "16  4   3   1   0.00462963\n",
       "17  5   3   1   0.00462963\n",
       "18  6   3   1   0.00462963\n",
       "19  1   4   1   0.00462963\n",
       "20  2   4   1   0.00462963\n",
       "21  3   4   1   0.00462963\n",
       "22  4   4   1   0.00462963\n",
       "23  5   4   1   0.00462963\n",
       "24  6   4   1   0.00462963\n",
       "25  1   5   1   0.00462963\n",
       "26  2   5   1   0.00462963\n",
       "27  3   5   1   0.00462963\n",
       "28  4   5   1   0.00462963\n",
       "29  5   5   1   0.00462963\n",
       "30  6   5   1   0.00462963\n",
       "... ... ... ... ...       \n",
       "187 1   2   6   0.00462963\n",
       "188 2   2   6   0.00462963\n",
       "189 3   2   6   0.00462963\n",
       "190 4   2   6   0.00462963\n",
       "191 5   2   6   0.00462963\n",
       "192 6   2   6   0.00462963\n",
       "193 1   3   6   0.00462963\n",
       "194 2   3   6   0.00462963\n",
       "195 3   3   6   0.00462963\n",
       "196 4   3   6   0.00462963\n",
       "197 5   3   6   0.00462963\n",
       "198 6   3   6   0.00462963\n",
       "199 1   4   6   0.00462963\n",
       "200 2   4   6   0.00462963\n",
       "201 3   4   6   0.00462963\n",
       "202 4   4   6   0.00462963\n",
       "203 5   4   6   0.00462963\n",
       "204 6   4   6   0.00462963\n",
       "205 1   5   6   0.00462963\n",
       "206 2   5   6   0.00462963\n",
       "207 3   5   6   0.00462963\n",
       "208 4   5   6   0.00462963\n",
       "209 5   5   6   0.00462963\n",
       "210 6   5   6   0.00462963\n",
       "211 1   6   6   0.00462963\n",
       "212 2   6   6   0.00462963\n",
       "213 3   6   6   0.00462963\n",
       "214 4   6   6   0.00462963\n",
       "215 5   6   6   0.00462963\n",
       "216 6   6   6   0.00462963"
      ]
     },
     "metadata": {},
     "output_type": "display_data"
    }
   ],
   "source": [
    "S <- rolldie(3, makespace = T)\n",
    "S"
   ]
  },
  {
   "cell_type": "markdown",
   "metadata": {},
   "source": [
    "Następnie definiujemy zbiór A zdarzeń sprzyjających naszemu doświadczeniu jako podzbiór\n",
    "przestrzeni zdarzeń elementarnych:\n",
    "`A = subset(S, X1 + X2 +X3 < 10)`\n",
    "i obliczamy pr-stwo zdefiniowanego zdarzenia przy użyciu polecenia Prob(…).\n"
   ]
  },
  {
   "cell_type": "code",
   "execution_count": 28,
   "metadata": {
    "vscode": {
     "languageId": "r"
    }
   },
   "outputs": [
    {
     "data": {
      "text/html": [
       "0.375"
      ],
      "text/latex": [
       "0.375"
      ],
      "text/markdown": [
       "0.375"
      ],
      "text/plain": [
       "[1] 0.375"
      ]
     },
     "metadata": {},
     "output_type": "display_data"
    }
   ],
   "source": [
    "A <- subset(S, X1 + X2 + X3 < 10)\n",
    "Prob(A)"
   ]
  },
  {
   "cell_type": "markdown",
   "metadata": {},
   "source": [
    "b) Oblicz pr-stwo zdarzenia B, że w wyniku pięciokrotnego rzutu czworościenną kostką do gry,\n",
    "wynik otrzymany w II rzucie jest mniejszy niż w III rzucie, i jednocześnie w wyniku co najmniej\n",
    "jednego rzutu otrzymano ‘czwórkę’.\n"
   ]
  },
  {
   "cell_type": "code",
   "execution_count": 29,
   "metadata": {
    "vscode": {
     "languageId": "r"
    }
   },
   "outputs": [
    {
     "data": {
      "text/html": [
       "0.2958984375"
      ],
      "text/latex": [
       "0.2958984375"
      ],
      "text/markdown": [
       "0.2958984375"
      ],
      "text/plain": [
       "[1] 0.2958984"
      ]
     },
     "metadata": {},
     "output_type": "display_data"
    }
   ],
   "source": [
    "S <- rolldie(5, nsides = 4, makespace = T)\n",
    "B <- subset(S, X2 < X3 & (X1 == 4 | X2 == 4 | X3 == 4 | X4 == 4 | X5 == 4))\n",
    "Prob(B)\n"
   ]
  },
  {
   "cell_type": "markdown",
   "metadata": {},
   "source": [
    "Dalej zdefiniuj zbiór zdarzeń elementarnych C sprzyjających zdarzeniu, że w żadnym rzucie nie\n",
    "wypadły mnieje niż dwa oczka.\n"
   ]
  },
  {
   "cell_type": "code",
   "execution_count": 30,
   "metadata": {
    "vscode": {
     "languageId": "r"
    }
   },
   "outputs": [],
   "source": [
    "C <- subset(S, X1 > 1 & X2 > 1 & X3 > 1 & X4 > 1 & X5 > 1)"
   ]
  },
  {
   "cell_type": "markdown",
   "metadata": {},
   "source": [
    "Teraz, policz pr-stwo warunkowe zdarzenia B pod warunkiem zdarzenia C:\n",
    "`Prob(B, given=C)`\n"
   ]
  },
  {
   "cell_type": "code",
   "execution_count": 31,
   "metadata": {
    "vscode": {
     "languageId": "r"
    }
   },
   "outputs": [
    {
     "data": {
      "text/html": [
       "0.2958984375"
      ],
      "text/latex": [
       "0.2958984375"
      ],
      "text/markdown": [
       "0.2958984375"
      ],
      "text/plain": [
       "[1] 0.2958984"
      ]
     },
     "metadata": {},
     "output_type": "display_data"
    }
   ],
   "source": [
    "Prob(B, prob = C)"
   ]
  },
  {
   "cell_type": "markdown",
   "metadata": {},
   "source": [
    "oraz pr-stwa sumy zdarzeń B i C:\n",
    "`Prob(union(B, C))`\n"
   ]
  },
  {
   "cell_type": "code",
   "execution_count": 32,
   "metadata": {
    "vscode": {
     "languageId": "r"
    }
   },
   "outputs": [
    {
     "data": {
      "text/html": [
       "0.4619140625"
      ],
      "text/latex": [
       "0.4619140625"
      ],
      "text/markdown": [
       "0.4619140625"
      ],
      "text/plain": [
       "[1] 0.4619141"
      ]
     },
     "metadata": {},
     "output_type": "display_data"
    }
   ],
   "source": [
    "Prob(union(B, C))"
   ]
  },
  {
   "cell_type": "markdown",
   "metadata": {},
   "source": [
    "pr-stwo zdarzenia łącznego:\n",
    "`Prob(intersect(B, C))`\n"
   ]
  },
  {
   "cell_type": "code",
   "execution_count": 33,
   "metadata": {
    "vscode": {
     "languageId": "r"
    }
   },
   "outputs": [
    {
     "data": {
      "text/html": [
       "0.0712890625"
      ],
      "text/latex": [
       "0.0712890625"
      ],
      "text/markdown": [
       "0.0712890625"
      ],
      "text/plain": [
       "[1] 0.07128906"
      ]
     },
     "metadata": {},
     "output_type": "display_data"
    }
   ],
   "source": [
    "Prob(intersect(B, C))"
   ]
  },
  {
   "cell_type": "markdown",
   "metadata": {},
   "source": [
    "oraz pr-stwo różnicy zdarzeń B i C:\n",
    "`Prob(setdiff(B, C))`.\n"
   ]
  },
  {
   "cell_type": "code",
   "execution_count": 34,
   "metadata": {
    "vscode": {
     "languageId": "r"
    }
   },
   "outputs": [
    {
     "data": {
      "text/html": [
       "0.224609375"
      ],
      "text/latex": [
       "0.224609375"
      ],
      "text/markdown": [
       "0.224609375"
      ],
      "text/plain": [
       "[1] 0.2246094"
      ]
     },
     "metadata": {},
     "output_type": "display_data"
    }
   ],
   "source": [
    "Prob(setdiff(B, C))"
   ]
  },
  {
   "cell_type": "markdown",
   "metadata": {},
   "source": [
    "## WYKRESY – CIĄG DALSZY, DYSTRYBUANTA EMPIRYCZNA\n",
    "### Zad. 3\n",
    "Wygenerujemy wykres dystrybuanty zmiennej losowej o rozkładzie normalnym ze średnią 0 i\n",
    "odchyleniem standardowym 4, zadając przedział argumentów [-20, 20] oraz przedział wartości od 0\n",
    "do 1.\n",
    "Użyjemy w tym celu funkcji curve(...) przyjmującej jako I argument funkcję pnorm(x, 0, 4).\n"
   ]
  },
  {
   "cell_type": "code",
   "execution_count": 35,
   "metadata": {
    "vscode": {
     "languageId": "r"
    }
   },
   "outputs": [
    {
     "data": {
      "image/png": "[encoded data removed]",
      "text/plain": [
       "plot without title"
      ]
     },
     "metadata": {
      "image/png": {
       "height": 420,
       "width": 420
      }
     },
     "output_type": "display_data"
    }
   ],
   "source": [
    "curve(pnorm(x, 0, 4))"
   ]
  },
  {
   "cell_type": "markdown",
   "metadata": {},
   "source": [
    "Co zwraca polecenie pnorm(x, mean=..., sd=...)? Sprawdź jak zmienia się typ i grubość linii gdy\n",
    "atrybutom lty oraz lwd (line type i line width, odpowiednio) nadawać będziesz kolejne wartości\n",
    "naturalne.\n"
   ]
  },
  {
   "cell_type": "code",
   "execution_count": 36,
   "metadata": {
    "vscode": {
     "languageId": "r"
    }
   },
   "outputs": [
    {
     "data": {
      "image/png": "[encoded data removed]",
      "text/plain": [
       "plot without title"
      ]
     },
     "metadata": {
      "image/png": {
       "height": 420,
       "width": 420
      }
     },
     "output_type": "display_data"
    }
   ],
   "source": [
    "curve(pnorm(x, mean = 1, sd = 1), lty = 3, lwd = 2)"
   ]
  },
  {
   "cell_type": "markdown",
   "metadata": {},
   "source": [
    "Innym kolorem, w tym samym układzie współrzędnych, narysuj dystrybuantę empiryczną\n",
    "(empirical cumulative distribution function => ecdf( ...wektor danych..)) dla 25 – elementowej\n",
    "próby losowej wygenerowanej z w/w rozkładu => sample = rnorm(liczebność próby, parametr I,\n",
    "parametr II).\n",
    "Co to jest dystrybuanta empiryczna?\n",
    "Uwaga: aby nanieść na istniejący wykres inny wykres należy użyć polecenia lines() z I argumentem\n",
    "będącym zmienną przechowującą drugi wykres i pozostałymi pożądanymi atrybutami– np. col=2…\n"
   ]
  },
  {
   "cell_type": "code",
   "execution_count": 37,
   "metadata": {
    "vscode": {
     "languageId": "r"
    }
   },
   "outputs": [
    {
     "data": {
      "image/png": "[encoded data removed]",
      "text/plain": [
       "plot without title"
      ]
     },
     "metadata": {
      "image/png": {
       "height": 420,
       "width": 420
      }
     },
     "output_type": "display_data"
    }
   ],
   "source": [
    "curve(pnorm(x, mean = 1, sd = 1), lty = 1, lwd = 2, xlim = c(-3, 3.5))\n",
    "x <- ecdf(rnorm(25))\n",
    "lines(x, col = 2, lty = 1, lwd = 2)"
   ]
  },
  {
   "cell_type": "markdown",
   "metadata": {},
   "source": [
    "## KORELACJA\n",
    "### Zad. 4\n",
    "Ze strony internetowej Bayern Monachium odczytujemy wzrost i wagę zawodników z I składu\n",
    "drużyny męskiej i żeńskiej.\n",
    "Mężczyźni:\n",
    "wzrost:\n",
    "1.93, 1.86, 1.92, 1.82, 1.80, 1.76, 1.89, 1.74, 1.92, 1.72, 1.81, 1.89, 1.81, 1.81, 1.84, 1.86, 1.84,\n",
    "1.75, 1.86, 1.79;\n",
    "waga: 92, 76, 90, 76, 78, 73, 84, 70, 86, 68, 74, 76, 72, 81, 80, 80, 78, 75, 75, 75\n",
    "Kobiety:\n",
    "wzrost:\n",
    "1.75, 1.79, 1.75, 1.78, 1.75, 1.69, 1.64, 1.78, 1.73, 1.79, 1.74, 1.71, 1.75, 161, 1.72, 1.71, 1.73, 1.64,\n",
    "1.63, 1.58, 1.83, 1.70, 1.59, 1.59, 1.64\n",
    "waga: 73, 76, 70, 70, 63, 63, 59, 67, 60, 66, 60, 60, 64, 62, 62, 61, 63, 58, 60, 52, 68, 64, 55, 58, 59.\n",
    "Utwórz wektory: menHeight, menWeight, womenHeight, womenWeight.\n",
    "Narysuj wykresy (punktowe) zestawiające wysokość i wagę:\n",
    "```\n",
    "plot(menHeight, menWeight, type=’p’)\n",
    "plot(womenHeight, womenWeight, type=’o’)\n",
    "```\n",
    "aby zauważyć korelację między wzrostem i wagą tak w przypadku drużyny męskiej jak i drużyny\n",
    "żeńskiej. Czym jest współczynnik współczynnik korelacji i co możemy nim zmierzyć?\n",
    "Policz – używając funkcji cor(..I zestaw danych.., ..II zestaw danych..) korelację między wzrostem i\n",
    "wagą dla każdej płci z osobna.\n",
    "Skonkatenuj wektory wysokości dla obu drużyn i zapisz pod zmienną height, podobnie utwórz\n",
    "wektor łączny weight.\n",
    "Narysuj znów wykres punktowy ilustrujący zależność między wzrostem i wagą. Zobacz co się\n",
    "zmieni jeśli parametrowi type nadasz wartość ‘h’, ‘o’, ‘s’, ... "
   ]
  },
  {
   "cell_type": "code",
   "execution_count": 38,
   "metadata": {
    "vscode": {
     "languageId": "r"
    }
   },
   "outputs": [
    {
     "data": {
      "image/png": "[encoded data removed]",
      "text/plain": [
       "plot without title"
      ]
     },
     "metadata": {
      "image/png": {
       "height": 420,
       "width": 420
      }
     },
     "output_type": "display_data"
    },
    {
     "data": {
      "text/html": [
       "0.834505926665198"
      ],
      "text/latex": [
       "0.834505926665198"
      ],
      "text/markdown": [
       "0.834505926665198"
      ],
      "text/plain": [
       "[1] 0.8345059"
      ]
     },
     "metadata": {},
     "output_type": "display_data"
    },
    {
     "data": {
      "text/html": [
       "0.789007343332997"
      ],
      "text/latex": [
       "0.789007343332997"
      ],
      "text/markdown": [
       "0.789007343332997"
      ],
      "text/plain": [
       "[1] 0.7890073"
      ]
     },
     "metadata": {},
     "output_type": "display_data"
    },
    {
     "data": {
      "image/png": "[encoded data removed]",
      "text/plain": [
       "plot without title"
      ]
     },
     "metadata": {
      "image/png": {
       "height": 420,
       "width": 420
      }
     },
     "output_type": "display_data"
    },
    {
     "data": {
      "image/png": "[encoded data removed]",
      "text/plain": [
       "plot without title"
      ]
     },
     "metadata": {
      "image/png": {
       "height": 420,
       "width": 420
      }
     },
     "output_type": "display_data"
    }
   ],
   "source": [
    "men_height <- c(1.93, 1.86, 1.92, 1.82, 1.80, 1.76, 1.89, 1.74, 1.92, 1.72,\n",
    "1.81, 1.89, 1.81, 1.81, 1.84, 1.86, 1.84, 1.75, 1.86, 1.79)\n",
    "men_weight <- c(92, 76, 90, 76, 78, 73, 84, 70, 86, 68, 74, 76, 72, 81, 80,\n",
    "80, 78, 75, 75, 75)\n",
    "women_height <- c(1.75, 1.79, 1.75, 1.78, 1.75, 1.69, 1.64, 1.78, 1.73, 1.79,\n",
    "1.74, 1.71, 1.75, 1.61, 1.72, 1.71, 1.73, 1.64, 1.63, 1.58, 1.83, 1.70, 1.59,\n",
    "1.59, 1.64)\n",
    "women_weight <- c(73, 76, 70, 70, 63, 63, 59, 67, 60, 66, 60, 60, 64, 62, 62,\n",
    "61, 63, 58, 60, 52, 68, 64, 55, 58, 59)\n",
    "\n",
    "plot(men_height, men_weight, type = 'p')\n",
    "plot(women_height, women_weight, type = 'p')\n",
    "\n",
    "cor(men_height, men_weight)\n",
    "cor(women_height, women_weight)\n",
    "\n",
    "height <- c(men_height, women_height)\n",
    "weight <- c(men_weight, women_weight)\n",
    "plot(height, weight, type = 'h', col = 2, lwd = 2)"
   ]
  }
 ],
 "metadata": {
  "kernelspec": {
   "display_name": "R",
   "language": "R",
   "name": "ir"
  },
  "language_info": {
   "codemirror_mode": "r",
   "file_extension": ".r",
   "mimetype": "text/x-r-source",
   "name": "R",
   "pygments_lexer": "r",
   "version": "4.1.2"
  },
  "orig_nbformat": 4
 },
 "nbformat": 4,
 "nbformat_minor": 2
}
