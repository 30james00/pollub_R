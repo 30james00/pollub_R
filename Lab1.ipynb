{
 "cells": [
  {
   "cell_type": "markdown",
   "metadata": {},
   "source": [
    "# PEiAR - Laboratorium 1\n",
    "## Zad.1 (R jako kalkulator)\n",
    "Oblicz\n",
    "a) log2 1024 //komenda log(..., ...)// ln(2.718); log5 625; log10 1000 //komenda log10(...)//"
   ]
  },
  {
   "cell_type": "code",
   "execution_count": 1,
   "metadata": {
    "vscode": {
     "languageId": "r"
    }
   },
   "outputs": [
    {
     "data": {
      "text/html": [
       "0.1"
      ],
      "text/latex": [
       "0.1"
      ],
      "text/markdown": [
       "0.1"
      ],
      "text/plain": [
       "[1] 0.1"
      ]
     },
     "metadata": {},
     "output_type": "display_data"
    },
    {
     "data": {
      "text/html": [
       "0.434249452396475"
      ],
      "text/latex": [
       "0.434249452396475"
      ],
      "text/markdown": [
       "0.434249452396475"
      ],
      "text/plain": [
       "[1] 0.4342495"
      ]
     },
     "metadata": {},
     "output_type": "display_data"
    },
    {
     "data": {
      "text/html": [
       "0.999896315728952"
      ],
      "text/latex": [
       "0.999896315728952"
      ],
      "text/markdown": [
       "0.999896315728952"
      ],
      "text/plain": [
       "[1] 0.9998963"
      ]
     },
     "metadata": {},
     "output_type": "display_data"
    }
   ],
   "source": [
    "log(2, 1024)\n",
    "log10(2.718)\n",
    "log(2.718)"
   ]
  },
  {
   "cell_type": "markdown",
   "metadata": {},
   "source": [
    "b) sin(30°); cos(Π/4); e //komenda exp(...)//; e7; √e; arctg(1) //komenda atan(...)//;"
   ]
  },
  {
   "cell_type": "code",
   "execution_count": 2,
   "metadata": {
    "vscode": {
     "languageId": "r"
    }
   },
   "outputs": [
    {
     "data": {
      "text/html": [
       "-0.988031624092862"
      ],
      "text/latex": [
       "-0.988031624092862"
      ],
      "text/markdown": [
       "-0.988031624092862"
      ],
      "text/plain": [
       "[1] -0.9880316"
      ]
     },
     "metadata": {},
     "output_type": "display_data"
    },
    {
     "data": {
      "text/html": [
       "0.707106781186548"
      ],
      "text/latex": [
       "0.707106781186548"
      ],
      "text/markdown": [
       "0.707106781186548"
      ],
      "text/plain": [
       "[1] 0.7071068"
      ]
     },
     "metadata": {},
     "output_type": "display_data"
    },
    {
     "data": {
      "text/html": [
       "1096.63315842846"
      ],
      "text/latex": [
       "1096.63315842846"
      ],
      "text/markdown": [
       "1096.63315842846"
      ],
      "text/plain": [
       "[1] 1096.633"
      ]
     },
     "metadata": {},
     "output_type": "display_data"
    },
    {
     "data": {
      "text/html": [
       "1.64872127070013"
      ],
      "text/latex": [
       "1.64872127070013"
      ],
      "text/markdown": [
       "1.64872127070013"
      ],
      "text/plain": [
       "[1] 1.648721"
      ]
     },
     "metadata": {},
     "output_type": "display_data"
    },
    {
     "data": {
      "text/html": [
       "0.785398163397448"
      ],
      "text/latex": [
       "0.785398163397448"
      ],
      "text/markdown": [
       "0.785398163397448"
      ],
      "text/plain": [
       "[1] 0.7853982"
      ]
     },
     "metadata": {},
     "output_type": "display_data"
    }
   ],
   "source": [
    "sin(30)\n",
    "cos(pi / 4)\n",
    "exp(7)\n",
    "exp(0.5)\n",
    "atan(1)"
   ]
  },
  {
   "cell_type": "markdown",
   "metadata": {},
   "source": [
    "c) 4! //komenda factorial(...)//; 8 nad 2 – czyli symbol Newtona //komenda choose(..., ...)//\n"
   ]
  },
  {
   "cell_type": "code",
   "execution_count": 3,
   "metadata": {
    "vscode": {
     "languageId": "r"
    }
   },
   "outputs": [
    {
     "data": {
      "text/html": [
       "24"
      ],
      "text/latex": [
       "24"
      ],
      "text/markdown": [
       "24"
      ],
      "text/plain": [
       "[1] 24"
      ]
     },
     "metadata": {},
     "output_type": "display_data"
    },
    {
     "data": {
      "text/html": [
       "28"
      ],
      "text/latex": [
       "28"
      ],
      "text/markdown": [
       "28"
      ],
      "text/plain": [
       "[1] 28"
      ]
     },
     "metadata": {},
     "output_type": "display_data"
    }
   ],
   "source": [
    "factorial(4)\n",
    "choose(8, 2)"
   ]
  },
  {
   "cell_type": "markdown",
   "metadata": {},
   "source": [
    "d) zaokrąglij liczbę Π do 4 miejsc po przecinku tj. do 5 tzw. miejsc ‘znaczących’ //komenda\n",
    "signif(..., ...); wyznacz podłogę i sufit liczby e; wyznacz wartość bezwzględną liczby (e2· Π – 27)\n"
   ]
  },
  {
   "cell_type": "code",
   "execution_count": 4,
   "metadata": {
    "vscode": {
     "languageId": "r"
    }
   },
   "outputs": [
    {
     "data": {
      "text/html": [
       "3.1416"
      ],
      "text/latex": [
       "3.1416"
      ],
      "text/markdown": [
       "3.1416"
      ],
      "text/plain": [
       "[1] 3.1416"
      ]
     },
     "metadata": {},
     "output_type": "display_data"
    },
    {
     "data": {
      "text/html": [
       "2"
      ],
      "text/latex": [
       "2"
      ],
      "text/markdown": [
       "2"
      ],
      "text/plain": [
       "[1] 2"
      ]
     },
     "metadata": {},
     "output_type": "display_data"
    },
    {
     "data": {
      "text/html": [
       "3"
      ],
      "text/latex": [
       "3"
      ],
      "text/markdown": [
       "3"
      ],
      "text/plain": [
       "[1] 3"
      ]
     },
     "metadata": {},
     "output_type": "display_data"
    },
    {
     "data": {
      "text/html": [
       "3.78659564263661"
      ],
      "text/latex": [
       "3.78659564263661"
      ],
      "text/markdown": [
       "3.78659564263661"
      ],
      "text/plain": [
       "[1] 3.786596"
      ]
     },
     "metadata": {},
     "output_type": "display_data"
    }
   ],
   "source": [
    "signif(pi, 5)\n",
    "floor(exp(1))\n",
    "ceiling(exp(1))\n",
    "abs(exp(2) * pi - 27)"
   ]
  },
  {
   "cell_type": "markdown",
   "metadata": {},
   "source": [
    "e) wyznacz resztę z dzielenia 1286 przez 7 //komenda ... %% ...//; wyznacz część całkowitą z\n",
    "dzielenia liczby 1286 przez 7 //komenda ... %/% ...//\n"
   ]
  },
  {
   "cell_type": "code",
   "execution_count": 5,
   "metadata": {
    "vscode": {
     "languageId": "r"
    }
   },
   "outputs": [
    {
     "data": {
      "text/html": [
       "5"
      ],
      "text/latex": [
       "5"
      ],
      "text/markdown": [
       "5"
      ],
      "text/plain": [
       "[1] 5"
      ]
     },
     "metadata": {},
     "output_type": "display_data"
    },
    {
     "data": {
      "text/html": [
       "183"
      ],
      "text/latex": [
       "183"
      ],
      "text/markdown": [
       "183"
      ],
      "text/plain": [
       "[1] 183"
      ]
     },
     "metadata": {},
     "output_type": "display_data"
    }
   ],
   "source": [
    "1286 %% 7\n",
    "1286 %/% 7"
   ]
  },
  {
   "cell_type": "markdown",
   "metadata": {},
   "source": [
    "f) wyznacz część rzeczywistą i urojoną liczby zespolonej o module 4 i argumencie 3/2Π //komenda\n",
    "Re(...) oraz Im(...) użyta dla liczby zespolonej wyznaczonej przy użyciu polecenia\n",
    "complex(modulus = ..., argument = ...) //; wyznacz moduł i argument liczb zespolonej -2 + 4i\n",
    "//komenda Mod(...) i Arg(...) //\n"
   ]
  },
  {
   "cell_type": "code",
   "execution_count": 6,
   "metadata": {
    "vscode": {
     "languageId": "r"
    }
   },
   "outputs": [
    {
     "data": {
      "text/html": [
       "-7.34788079488412e-16"
      ],
      "text/latex": [
       "-7.34788079488412e-16"
      ],
      "text/markdown": [
       "-7.34788079488412e-16"
      ],
      "text/plain": [
       "[1] -7.347881e-16"
      ]
     },
     "metadata": {},
     "output_type": "display_data"
    },
    {
     "data": {
      "text/html": [
       "-4"
      ],
      "text/latex": [
       "-4"
      ],
      "text/markdown": [
       "-4"
      ],
      "text/plain": [
       "[1] -4"
      ]
     },
     "metadata": {},
     "output_type": "display_data"
    },
    {
     "data": {
      "text/html": [
       "4.47213595499958"
      ],
      "text/latex": [
       "4.47213595499958"
      ],
      "text/markdown": [
       "4.47213595499958"
      ],
      "text/plain": [
       "[1] 4.472136"
      ]
     },
     "metadata": {},
     "output_type": "display_data"
    },
    {
     "data": {
      "text/html": [
       "2.0344439357957"
      ],
      "text/latex": [
       "2.0344439357957"
      ],
      "text/markdown": [
       "2.0344439357957"
      ],
      "text/plain": [
       "[1] 2.034444"
      ]
     },
     "metadata": {},
     "output_type": "display_data"
    }
   ],
   "source": [
    "z <- complex(modulus = 4, argument = 3 / 2 * pi)\n",
    "Re(z)\n",
    "Im(z)\n",
    "z1 <- -2 + 4i\n",
    "Mod(z1)\n",
    "Arg(z1)"
   ]
  },
  {
   "cell_type": "markdown",
   "metadata": {},
   "source": [
    "## Zad.2 (wektory)\n",
    "a) wygeneruj wektor, którego współrzędnymi są liczby naturalne 91, ..., 110 przy użyciu:\n",
    "i) c(..., ..., ...)\n",
    "ii) znaku dwukropka\n",
    "iii) seq(..., ..., by = ... )\n"
   ]
  },
  {
   "cell_type": "code",
   "execution_count": 7,
   "metadata": {
    "vscode": {
     "languageId": "r"
    }
   },
   "outputs": [
    {
     "data": {
      "text/html": [
       "<style>\n",
       ".list-inline {list-style: none; margin:0; padding: 0}\n",
       ".list-inline>li {display: inline-block}\n",
       ".list-inline>li:not(:last-child)::after {content: \"\\00b7\"; padding: 0 .5ex}\n",
       "</style>\n",
       "<ol class=list-inline><li>91</li><li>92</li><li>93</li><li>94</li><li>95</li><li>96</li></ol>\n"
      ],
      "text/latex": [
       "\\begin{enumerate*}\n",
       "\\item 91\n",
       "\\item 92\n",
       "\\item 93\n",
       "\\item 94\n",
       "\\item 95\n",
       "\\item 96\n",
       "\\end{enumerate*}\n"
      ],
      "text/markdown": [
       "1. 91\n",
       "2. 92\n",
       "3. 93\n",
       "4. 94\n",
       "5. 95\n",
       "6. 96\n",
       "\n",
       "\n"
      ],
      "text/plain": [
       "[1] 91 92 93 94 95 96"
      ]
     },
     "metadata": {},
     "output_type": "display_data"
    },
    {
     "data": {
      "text/html": [
       "<style>\n",
       ".list-inline {list-style: none; margin:0; padding: 0}\n",
       ".list-inline>li {display: inline-block}\n",
       ".list-inline>li:not(:last-child)::after {content: \"\\00b7\"; padding: 0 .5ex}\n",
       "</style>\n",
       "<ol class=list-inline><li>91</li><li>92</li><li>93</li><li>94</li><li>95</li><li>96</li><li>97</li><li>98</li><li>99</li><li>100</li><li>101</li><li>102</li><li>103</li><li>104</li><li>105</li><li>106</li><li>107</li><li>108</li><li>109</li><li>110</li></ol>\n"
      ],
      "text/latex": [
       "\\begin{enumerate*}\n",
       "\\item 91\n",
       "\\item 92\n",
       "\\item 93\n",
       "\\item 94\n",
       "\\item 95\n",
       "\\item 96\n",
       "\\item 97\n",
       "\\item 98\n",
       "\\item 99\n",
       "\\item 100\n",
       "\\item 101\n",
       "\\item 102\n",
       "\\item 103\n",
       "\\item 104\n",
       "\\item 105\n",
       "\\item 106\n",
       "\\item 107\n",
       "\\item 108\n",
       "\\item 109\n",
       "\\item 110\n",
       "\\end{enumerate*}\n"
      ],
      "text/markdown": [
       "1. 91\n",
       "2. 92\n",
       "3. 93\n",
       "4. 94\n",
       "5. 95\n",
       "6. 96\n",
       "7. 97\n",
       "8. 98\n",
       "9. 99\n",
       "10. 100\n",
       "11. 101\n",
       "12. 102\n",
       "13. 103\n",
       "14. 104\n",
       "15. 105\n",
       "16. 106\n",
       "17. 107\n",
       "18. 108\n",
       "19. 109\n",
       "20. 110\n",
       "\n",
       "\n"
      ],
      "text/plain": [
       " [1]  91  92  93  94  95  96  97  98  99 100 101 102 103 104 105 106 107 108 109\n",
       "[20] 110"
      ]
     },
     "metadata": {},
     "output_type": "display_data"
    },
    {
     "data": {
      "text/html": [
       "<style>\n",
       ".list-inline {list-style: none; margin:0; padding: 0}\n",
       ".list-inline>li {display: inline-block}\n",
       ".list-inline>li:not(:last-child)::after {content: \"\\00b7\"; padding: 0 .5ex}\n",
       "</style>\n",
       "<ol class=list-inline><li>91</li><li>92</li><li>93</li><li>94</li><li>95</li><li>96</li><li>97</li><li>98</li><li>99</li><li>100</li><li>101</li><li>102</li><li>103</li><li>104</li><li>105</li><li>106</li><li>107</li><li>108</li><li>109</li><li>110</li></ol>\n"
      ],
      "text/latex": [
       "\\begin{enumerate*}\n",
       "\\item 91\n",
       "\\item 92\n",
       "\\item 93\n",
       "\\item 94\n",
       "\\item 95\n",
       "\\item 96\n",
       "\\item 97\n",
       "\\item 98\n",
       "\\item 99\n",
       "\\item 100\n",
       "\\item 101\n",
       "\\item 102\n",
       "\\item 103\n",
       "\\item 104\n",
       "\\item 105\n",
       "\\item 106\n",
       "\\item 107\n",
       "\\item 108\n",
       "\\item 109\n",
       "\\item 110\n",
       "\\end{enumerate*}\n"
      ],
      "text/markdown": [
       "1. 91\n",
       "2. 92\n",
       "3. 93\n",
       "4. 94\n",
       "5. 95\n",
       "6. 96\n",
       "7. 97\n",
       "8. 98\n",
       "9. 99\n",
       "10. 100\n",
       "11. 101\n",
       "12. 102\n",
       "13. 103\n",
       "14. 104\n",
       "15. 105\n",
       "16. 106\n",
       "17. 107\n",
       "18. 108\n",
       "19. 109\n",
       "20. 110\n",
       "\n",
       "\n"
      ],
      "text/plain": [
       " [1]  91  92  93  94  95  96  97  98  99 100 101 102 103 104 105 106 107 108 109\n",
       "[20] 110"
      ]
     },
     "metadata": {},
     "output_type": "display_data"
    }
   ],
   "source": [
    "c(91, 92, 93, 94, 95, 96)\n",
    "91:110\n",
    "seq(91, 110)"
   ]
  },
  {
   "cell_type": "markdown",
   "metadata": {},
   "source": [
    "b) wygeneruj wektor, którego współrzędne stanowią ciąg arytmetyczny liczb od 12 do 104\n",
    "zawierający 20 wyrazow //seq(..., ..., length = ... )//\n"
   ]
  },
  {
   "cell_type": "code",
   "execution_count": 8,
   "metadata": {
    "vscode": {
     "languageId": "r"
    }
   },
   "outputs": [
    {
     "data": {
      "text/html": [
       "<style>\n",
       ".list-inline {list-style: none; margin:0; padding: 0}\n",
       ".list-inline>li {display: inline-block}\n",
       ".list-inline>li:not(:last-child)::after {content: \"\\00b7\"; padding: 0 .5ex}\n",
       "</style>\n",
       "<ol class=list-inline><li>12</li><li>16.8421052631579</li><li>21.6842105263158</li><li>26.5263157894737</li><li>31.3684210526316</li><li>36.2105263157895</li><li>41.0526315789474</li><li>45.8947368421053</li><li>50.7368421052632</li><li>55.5789473684211</li><li>60.4210526315789</li><li>65.2631578947368</li><li>70.1052631578947</li><li>74.9473684210526</li><li>79.7894736842105</li><li>84.6315789473684</li><li>89.4736842105263</li><li>94.3157894736842</li><li>99.1578947368421</li><li>104</li></ol>\n"
      ],
      "text/latex": [
       "\\begin{enumerate*}\n",
       "\\item 12\n",
       "\\item 16.8421052631579\n",
       "\\item 21.6842105263158\n",
       "\\item 26.5263157894737\n",
       "\\item 31.3684210526316\n",
       "\\item 36.2105263157895\n",
       "\\item 41.0526315789474\n",
       "\\item 45.8947368421053\n",
       "\\item 50.7368421052632\n",
       "\\item 55.5789473684211\n",
       "\\item 60.4210526315789\n",
       "\\item 65.2631578947368\n",
       "\\item 70.1052631578947\n",
       "\\item 74.9473684210526\n",
       "\\item 79.7894736842105\n",
       "\\item 84.6315789473684\n",
       "\\item 89.4736842105263\n",
       "\\item 94.3157894736842\n",
       "\\item 99.1578947368421\n",
       "\\item 104\n",
       "\\end{enumerate*}\n"
      ],
      "text/markdown": [
       "1. 12\n",
       "2. 16.8421052631579\n",
       "3. 21.6842105263158\n",
       "4. 26.5263157894737\n",
       "5. 31.3684210526316\n",
       "6. 36.2105263157895\n",
       "7. 41.0526315789474\n",
       "8. 45.8947368421053\n",
       "9. 50.7368421052632\n",
       "10. 55.5789473684211\n",
       "11. 60.4210526315789\n",
       "12. 65.2631578947368\n",
       "13. 70.1052631578947\n",
       "14. 74.9473684210526\n",
       "15. 79.7894736842105\n",
       "16. 84.6315789473684\n",
       "17. 89.4736842105263\n",
       "18. 94.3157894736842\n",
       "19. 99.1578947368421\n",
       "20. 104\n",
       "\n",
       "\n"
      ],
      "text/plain": [
       " [1]  12.00000  16.84211  21.68421  26.52632  31.36842  36.21053  41.05263\n",
       " [8]  45.89474  50.73684  55.57895  60.42105  65.26316  70.10526  74.94737\n",
       "[15]  79.78947  84.63158  89.47368  94.31579  99.15789 104.00000"
      ]
     },
     "metadata": {},
     "output_type": "display_data"
    }
   ],
   "source": [
    "seq(12, 104, length = 20)"
   ]
  },
  {
   "cell_type": "markdown",
   "metadata": {},
   "source": [
    "c) wygeneruj wektor, którego współrzędne stanowią czterokrotnie powtarzający się ciąg liczb\n",
    "parzystych od 2 do 8 //rep(..., 4)//\n"
   ]
  },
  {
   "cell_type": "code",
   "execution_count": 9,
   "metadata": {
    "vscode": {
     "languageId": "r"
    }
   },
   "outputs": [
    {
     "data": {
      "text/html": [
       "<style>\n",
       ".list-inline {list-style: none; margin:0; padding: 0}\n",
       ".list-inline>li {display: inline-block}\n",
       ".list-inline>li:not(:last-child)::after {content: \"\\00b7\"; padding: 0 .5ex}\n",
       "</style>\n",
       "<ol class=list-inline><li>2</li><li>3</li><li>4</li><li>5</li><li>6</li><li>7</li><li>8</li><li>2</li><li>3</li><li>4</li><li>5</li><li>6</li><li>7</li><li>8</li><li>2</li><li>3</li><li>4</li><li>5</li><li>6</li><li>7</li><li>8</li><li>2</li><li>3</li><li>4</li><li>5</li><li>6</li><li>7</li><li>8</li></ol>\n"
      ],
      "text/latex": [
       "\\begin{enumerate*}\n",
       "\\item 2\n",
       "\\item 3\n",
       "\\item 4\n",
       "\\item 5\n",
       "\\item 6\n",
       "\\item 7\n",
       "\\item 8\n",
       "\\item 2\n",
       "\\item 3\n",
       "\\item 4\n",
       "\\item 5\n",
       "\\item 6\n",
       "\\item 7\n",
       "\\item 8\n",
       "\\item 2\n",
       "\\item 3\n",
       "\\item 4\n",
       "\\item 5\n",
       "\\item 6\n",
       "\\item 7\n",
       "\\item 8\n",
       "\\item 2\n",
       "\\item 3\n",
       "\\item 4\n",
       "\\item 5\n",
       "\\item 6\n",
       "\\item 7\n",
       "\\item 8\n",
       "\\end{enumerate*}\n"
      ],
      "text/markdown": [
       "1. 2\n",
       "2. 3\n",
       "3. 4\n",
       "4. 5\n",
       "5. 6\n",
       "6. 7\n",
       "7. 8\n",
       "8. 2\n",
       "9. 3\n",
       "10. 4\n",
       "11. 5\n",
       "12. 6\n",
       "13. 7\n",
       "14. 8\n",
       "15. 2\n",
       "16. 3\n",
       "17. 4\n",
       "18. 5\n",
       "19. 6\n",
       "20. 7\n",
       "21. 8\n",
       "22. 2\n",
       "23. 3\n",
       "24. 4\n",
       "25. 5\n",
       "26. 6\n",
       "27. 7\n",
       "28. 8\n",
       "\n",
       "\n"
      ],
      "text/plain": [
       " [1] 2 3 4 5 6 7 8 2 3 4 5 6 7 8 2 3 4 5 6 7 8 2 3 4 5 6 7 8"
      ]
     },
     "metadata": {},
     "output_type": "display_data"
    }
   ],
   "source": [
    "rep(2:8, 4)"
   ]
  },
  {
   "cell_type": "markdown",
   "metadata": {},
   "source": [
    "d) wygeneruj wektor o współrzędnych 1 1 1 1 1 2 2 2 2 2 3 3 3 3 3 4 4 4 4 4 5 5 5 5 5\n",
    "//rep(..., each = 5)//\n"
   ]
  },
  {
   "cell_type": "code",
   "execution_count": 10,
   "metadata": {
    "vscode": {
     "languageId": "r"
    }
   },
   "outputs": [
    {
     "data": {
      "text/html": [
       "<style>\n",
       ".list-inline {list-style: none; margin:0; padding: 0}\n",
       ".list-inline>li {display: inline-block}\n",
       ".list-inline>li:not(:last-child)::after {content: \"\\00b7\"; padding: 0 .5ex}\n",
       "</style>\n",
       "<ol class=list-inline><li>2</li><li>2</li><li>2</li><li>2</li><li>2</li><li>3</li><li>3</li><li>3</li><li>3</li><li>3</li><li>4</li><li>4</li><li>4</li><li>4</li><li>4</li><li>5</li><li>5</li><li>5</li><li>5</li><li>5</li><li>6</li><li>6</li><li>6</li><li>6</li><li>6</li><li>7</li><li>7</li><li>7</li><li>7</li><li>7</li><li>8</li><li>8</li><li>8</li><li>8</li><li>8</li></ol>\n"
      ],
      "text/latex": [
       "\\begin{enumerate*}\n",
       "\\item 2\n",
       "\\item 2\n",
       "\\item 2\n",
       "\\item 2\n",
       "\\item 2\n",
       "\\item 3\n",
       "\\item 3\n",
       "\\item 3\n",
       "\\item 3\n",
       "\\item 3\n",
       "\\item 4\n",
       "\\item 4\n",
       "\\item 4\n",
       "\\item 4\n",
       "\\item 4\n",
       "\\item 5\n",
       "\\item 5\n",
       "\\item 5\n",
       "\\item 5\n",
       "\\item 5\n",
       "\\item 6\n",
       "\\item 6\n",
       "\\item 6\n",
       "\\item 6\n",
       "\\item 6\n",
       "\\item 7\n",
       "\\item 7\n",
       "\\item 7\n",
       "\\item 7\n",
       "\\item 7\n",
       "\\item 8\n",
       "\\item 8\n",
       "\\item 8\n",
       "\\item 8\n",
       "\\item 8\n",
       "\\end{enumerate*}\n"
      ],
      "text/markdown": [
       "1. 2\n",
       "2. 2\n",
       "3. 2\n",
       "4. 2\n",
       "5. 2\n",
       "6. 3\n",
       "7. 3\n",
       "8. 3\n",
       "9. 3\n",
       "10. 3\n",
       "11. 4\n",
       "12. 4\n",
       "13. 4\n",
       "14. 4\n",
       "15. 4\n",
       "16. 5\n",
       "17. 5\n",
       "18. 5\n",
       "19. 5\n",
       "20. 5\n",
       "21. 6\n",
       "22. 6\n",
       "23. 6\n",
       "24. 6\n",
       "25. 6\n",
       "26. 7\n",
       "27. 7\n",
       "28. 7\n",
       "29. 7\n",
       "30. 7\n",
       "31. 8\n",
       "32. 8\n",
       "33. 8\n",
       "34. 8\n",
       "35. 8\n",
       "\n",
       "\n"
      ],
      "text/plain": [
       " [1] 2 2 2 2 2 3 3 3 3 3 4 4 4 4 4 5 5 5 5 5 6 6 6 6 6 7 7 7 7 7 8 8 8 8 8"
      ]
     },
     "metadata": {},
     "output_type": "display_data"
    }
   ],
   "source": [
    "rep(2:8, each = 5)"
   ]
  },
  {
   "cell_type": "markdown",
   "metadata": {},
   "source": [
    "## Zad.3 (indeksowanie wektorów)\n",
    "a) wygeneruj i przechowaj pod zmienną a wektor, którego współrzędne stanowią ciąg liczb arytm. o\n",
    "wyrazie pierwszym 1, ostatnim 37 i różnicy r = 4; zwróć:\n",
    "i) jego drugą współrzędną //a[ ... ]\n",
    "ii) wszystkie jego współrzędne oprócz trzeciej // a[- ... ]\n",
    "iii) wszystkie współrzędne oprócz pierwszej i dziesiątej\n",
    "iv) tylko te współrzędne, których wartość jest większa niż 18 //a[...warunek...]\n",
    "v) liczbę współrzędnych, które spełniają warunek z ppkt. (iv) // length( ... )\n",
    "vi) współrzędne, których kwadrat jest liczbą parzystą\n",
    "Uwaga: numeric(0) – oznacza wektor o współrzędnych numerycznych (liczbowych) mający\n",
    "zerową długość\n",
    "vii) Co zwróci polecenie a > 18 ?\n"
   ]
  },
  {
   "cell_type": "code",
   "execution_count": 11,
   "metadata": {
    "vscode": {
     "languageId": "r"
    }
   },
   "outputs": [
    {
     "data": {
      "text/html": [
       "5"
      ],
      "text/latex": [
       "5"
      ],
      "text/markdown": [
       "5"
      ],
      "text/plain": [
       "[1] 5"
      ]
     },
     "metadata": {},
     "output_type": "display_data"
    },
    {
     "data": {
      "text/html": [
       "<style>\n",
       ".list-inline {list-style: none; margin:0; padding: 0}\n",
       ".list-inline>li {display: inline-block}\n",
       ".list-inline>li:not(:last-child)::after {content: \"\\00b7\"; padding: 0 .5ex}\n",
       "</style>\n",
       "<ol class=list-inline><li>1</li><li>5</li><li>13</li><li>17</li><li>21</li><li>25</li><li>29</li><li>33</li><li>37</li></ol>\n"
      ],
      "text/latex": [
       "\\begin{enumerate*}\n",
       "\\item 1\n",
       "\\item 5\n",
       "\\item 13\n",
       "\\item 17\n",
       "\\item 21\n",
       "\\item 25\n",
       "\\item 29\n",
       "\\item 33\n",
       "\\item 37\n",
       "\\end{enumerate*}\n"
      ],
      "text/markdown": [
       "1. 1\n",
       "2. 5\n",
       "3. 13\n",
       "4. 17\n",
       "5. 21\n",
       "6. 25\n",
       "7. 29\n",
       "8. 33\n",
       "9. 37\n",
       "\n",
       "\n"
      ],
      "text/plain": [
       "[1]  1  5 13 17 21 25 29 33 37"
      ]
     },
     "metadata": {},
     "output_type": "display_data"
    },
    {
     "data": {
      "text/html": [
       "<style>\n",
       ".list-inline {list-style: none; margin:0; padding: 0}\n",
       ".list-inline>li {display: inline-block}\n",
       ".list-inline>li:not(:last-child)::after {content: \"\\00b7\"; padding: 0 .5ex}\n",
       "</style>\n",
       "<ol class=list-inline><li>5</li><li>9</li><li>13</li><li>17</li><li>21</li><li>25</li><li>29</li><li>33</li></ol>\n"
      ],
      "text/latex": [
       "\\begin{enumerate*}\n",
       "\\item 5\n",
       "\\item 9\n",
       "\\item 13\n",
       "\\item 17\n",
       "\\item 21\n",
       "\\item 25\n",
       "\\item 29\n",
       "\\item 33\n",
       "\\end{enumerate*}\n"
      ],
      "text/markdown": [
       "1. 5\n",
       "2. 9\n",
       "3. 13\n",
       "4. 17\n",
       "5. 21\n",
       "6. 25\n",
       "7. 29\n",
       "8. 33\n",
       "\n",
       "\n"
      ],
      "text/plain": [
       "[1]  5  9 13 17 21 25 29 33"
      ]
     },
     "metadata": {},
     "output_type": "display_data"
    },
    {
     "data": {
      "text/html": [
       "<style>\n",
       ".list-inline {list-style: none; margin:0; padding: 0}\n",
       ".list-inline>li {display: inline-block}\n",
       ".list-inline>li:not(:last-child)::after {content: \"\\00b7\"; padding: 0 .5ex}\n",
       "</style>\n",
       "<ol class=list-inline><li>21</li><li>25</li><li>29</li><li>33</li><li>37</li></ol>\n"
      ],
      "text/latex": [
       "\\begin{enumerate*}\n",
       "\\item 21\n",
       "\\item 25\n",
       "\\item 29\n",
       "\\item 33\n",
       "\\item 37\n",
       "\\end{enumerate*}\n"
      ],
      "text/markdown": [
       "1. 21\n",
       "2. 25\n",
       "3. 29\n",
       "4. 33\n",
       "5. 37\n",
       "\n",
       "\n"
      ],
      "text/plain": [
       "[1] 21 25 29 33 37"
      ]
     },
     "metadata": {},
     "output_type": "display_data"
    },
    {
     "data": {
      "text/html": [
       "5"
      ],
      "text/latex": [
       "5"
      ],
      "text/markdown": [
       "5"
      ],
      "text/plain": [
       "[1] 5"
      ]
     },
     "metadata": {},
     "output_type": "display_data"
    },
    {
     "data": {
      "text/html": [],
      "text/latex": [],
      "text/markdown": [],
      "text/plain": [
       "numeric(0)"
      ]
     },
     "metadata": {},
     "output_type": "display_data"
    },
    {
     "data": {
      "text/html": [
       "<style>\n",
       ".list-inline {list-style: none; margin:0; padding: 0}\n",
       ".list-inline>li {display: inline-block}\n",
       ".list-inline>li:not(:last-child)::after {content: \"\\00b7\"; padding: 0 .5ex}\n",
       "</style>\n",
       "<ol class=list-inline><li>FALSE</li><li>FALSE</li><li>FALSE</li><li>FALSE</li><li>FALSE</li><li>TRUE</li><li>TRUE</li><li>TRUE</li><li>TRUE</li><li>TRUE</li></ol>\n"
      ],
      "text/latex": [
       "\\begin{enumerate*}\n",
       "\\item FALSE\n",
       "\\item FALSE\n",
       "\\item FALSE\n",
       "\\item FALSE\n",
       "\\item FALSE\n",
       "\\item TRUE\n",
       "\\item TRUE\n",
       "\\item TRUE\n",
       "\\item TRUE\n",
       "\\item TRUE\n",
       "\\end{enumerate*}\n"
      ],
      "text/markdown": [
       "1. FALSE\n",
       "2. FALSE\n",
       "3. FALSE\n",
       "4. FALSE\n",
       "5. FALSE\n",
       "6. TRUE\n",
       "7. TRUE\n",
       "8. TRUE\n",
       "9. TRUE\n",
       "10. TRUE\n",
       "\n",
       "\n"
      ],
      "text/plain": [
       " [1] FALSE FALSE FALSE FALSE FALSE  TRUE  TRUE  TRUE  TRUE  TRUE"
      ]
     },
     "metadata": {},
     "output_type": "display_data"
    }
   ],
   "source": [
    "a <- seq(1, 37, by = 4)\n",
    "a[2]\n",
    "a[-3]\n",
    "a[-c(1, 10)]\n",
    "a[a > 18]\n",
    "length(a[a > 18])\n",
    "a[a * a %% 2 == 0]\n",
    "a > 18"
   ]
  },
  {
   "cell_type": "markdown",
   "metadata": {},
   "source": [
    "b) wygeneruj wektor a, którego współrzędne stanowią 6 pierwszych wyrazów ciągu\n",
    "geometrycznego o wyrazie pierwszym 3 i ilorazie q = 9 // komenda 3^(seq( ... ))//; dla uzyskanego\n",
    "zestawu danych:\n",
    "i) policz średnią // mean( ... )\n",
    "ii) co drugiej współrzędnej wygenerowanego wektora zmień znak na przeciwny, po czym co trzecią\n",
    "współrzędną zmniejsz 100 krotnie (nowy wektor b)\n",
    "Uwaga: Gdy mnożymy przez siebie wektory o rożnych długościach, to po dojściu do końca\n",
    "krótszego z wektorów, obliczenia rozpoczynają się ponownie dla pozostałych\n",
    "współrzędnych wektora dłuższego => np. mnożąc wektor a = 1:7 przez wektor b = c(1, 1, 3)\n",
    "otrzymamy wektor: [1, 2, 9, 4, 5, 18, 7] //\n",
    "iii) pierwszą, czwartą i ostatnią współrzędną wektora otrzymanego w (ii) zastąp liczbami 0,\n",
    "Π oraz e, odpowiednio. (niech to będzie nowy wektor d)\n",
    "iv) wygeneruj wektor e, którego współrzędne są odwrotnościami współrzędnych wektora d\n",
    "Zad. 4 (ciąg Fibonacciego)\n",
    "Wygeneruj wektor fib_, którego współrzędne są 12-toma pierwszymi wyrazami ciągu Fibonacciego\n",
    "a 0 = 0, a1 = 1, an = an-1 + an-2 dla n ≥ 2.\n",
    "Wsk. możesz użyć np. pętli for ( ... in ...) {...}\n"
   ]
  },
  {
   "cell_type": "code",
   "execution_count": 12,
   "metadata": {
    "vscode": {
     "languageId": "r"
    }
   },
   "outputs": [
    {
     "data": {
      "text/html": [
       "33215"
      ],
      "text/latex": [
       "33215"
      ],
      "text/markdown": [
       "33215"
      ],
      "text/plain": [
       "[1] 33215"
      ]
     },
     "metadata": {},
     "output_type": "display_data"
    },
    {
     "data": {
      "text/html": [
       "<style>\n",
       ".list-inline {list-style: none; margin:0; padding: 0}\n",
       ".list-inline>li {display: inline-block}\n",
       ".list-inline>li:not(:last-child)::after {content: \"\\00b7\"; padding: 0 .5ex}\n",
       "</style>\n",
       "<ol class=list-inline><li>3</li><li>-27</li><li>2.43</li><li>-2187</li><li>19683</li><li>-1771.47</li></ol>\n"
      ],
      "text/latex": [
       "\\begin{enumerate*}\n",
       "\\item 3\n",
       "\\item -27\n",
       "\\item 2.43\n",
       "\\item -2187\n",
       "\\item 19683\n",
       "\\item -1771.47\n",
       "\\end{enumerate*}\n"
      ],
      "text/markdown": [
       "1. 3\n",
       "2. -27\n",
       "3. 2.43\n",
       "4. -2187\n",
       "5. 19683\n",
       "6. -1771.47\n",
       "\n",
       "\n"
      ],
      "text/plain": [
       "[1]     3.00   -27.00     2.43 -2187.00 19683.00 -1771.47"
      ]
     },
     "metadata": {},
     "output_type": "display_data"
    },
    {
     "data": {
      "text/html": [
       "<style>\n",
       ".list-inline {list-style: none; margin:0; padding: 0}\n",
       ".list-inline>li {display: inline-block}\n",
       ".list-inline>li:not(:last-child)::after {content: \"\\00b7\"; padding: 0 .5ex}\n",
       "</style>\n",
       "<ol class=list-inline><li>0</li><li>-27</li><li>2.43</li><li>3.14159265358979</li><li>19683</li><li>2.71828182845905</li></ol>\n"
      ],
      "text/latex": [
       "\\begin{enumerate*}\n",
       "\\item 0\n",
       "\\item -27\n",
       "\\item 2.43\n",
       "\\item 3.14159265358979\n",
       "\\item 19683\n",
       "\\item 2.71828182845905\n",
       "\\end{enumerate*}\n"
      ],
      "text/markdown": [
       "1. 0\n",
       "2. -27\n",
       "3. 2.43\n",
       "4. 3.14159265358979\n",
       "5. 19683\n",
       "6. 2.71828182845905\n",
       "\n",
       "\n"
      ],
      "text/plain": [
       "[1]     0.000000   -27.000000     2.430000     3.141593 19683.000000\n",
       "[6]     2.718282"
      ]
     },
     "metadata": {},
     "output_type": "display_data"
    },
    {
     "data": {
      "text/html": [
       "<style>\n",
       ".list-inline {list-style: none; margin:0; padding: 0}\n",
       ".list-inline>li {display: inline-block}\n",
       ".list-inline>li:not(:last-child)::after {content: \"\\00b7\"; padding: 0 .5ex}\n",
       "</style>\n",
       "<ol class=list-inline><li>0</li><li>1</li><li>1</li><li>2</li><li>3</li><li>5</li><li>8</li><li>13</li><li>21</li><li>34</li><li>55</li><li>89</li></ol>\n"
      ],
      "text/latex": [
       "\\begin{enumerate*}\n",
       "\\item 0\n",
       "\\item 1\n",
       "\\item 1\n",
       "\\item 2\n",
       "\\item 3\n",
       "\\item 5\n",
       "\\item 8\n",
       "\\item 13\n",
       "\\item 21\n",
       "\\item 34\n",
       "\\item 55\n",
       "\\item 89\n",
       "\\end{enumerate*}\n"
      ],
      "text/markdown": [
       "1. 0\n",
       "2. 1\n",
       "3. 1\n",
       "4. 2\n",
       "5. 3\n",
       "6. 5\n",
       "7. 8\n",
       "8. 13\n",
       "9. 21\n",
       "10. 34\n",
       "11. 55\n",
       "12. 89\n",
       "\n",
       "\n"
      ],
      "text/plain": [
       " [1]  0  1  1  2  3  5  8 13 21 34 55 89"
      ]
     },
     "metadata": {},
     "output_type": "display_data"
    }
   ],
   "source": [
    "a <- 3 ^ seq(1, 12, by = 2)\n",
    "mean(a)\n",
    "b <- a * c(1, -1) * c(1, 1, 0.01)\n",
    "b\n",
    "d <- b\n",
    "d[1] <- 0\n",
    "d[4] <- pi\n",
    "d[length(d)] <- exp(1)\n",
    "d\n",
    "fib_ <- c(0, 1)\n",
    "for (i in 3:12) {\n",
    "  fib_[i] <- fib_[i - 2] + fib_[i - 1]\n",
    "}\n",
    "fib_"
   ]
  },
  {
   "cell_type": "markdown",
   "metadata": {},
   "source": [
    "## Zad. 5 (pętla while i kilka przydatnych funkcji...)\n",
    "Wykorzystując pętlę while (...) {...} chcemy powtarzać losowanie 10 (docelowo dowolną – zadaną\n",
    "ilość) liczb naturalnych (nie większych niż 100) tak długo, aż najmniejsza różnica między\n",
    "dowolnymi wylosowanymi (w danej iteracji) liczbami będzie równa 2. Czyli jeśli np. w pewnej\n",
    "iteracji pętli, wylosowany zostanie zestaw:\n",
    "3, 6, 10, 54, 76, 72, 98, 46, 91, 33,\n",
    "to losowanie musi zostać powtórzone ponieważ najmniejszą różnicą jest teraz 3 (pomiędzy liczbą 3\n",
    "i 6) .\n",
    "Wsk. użyj pomocniczych funkcji:\n",
    "sample( górne ograniczenie dla losowanych liczb, liczebność losowanego zbioru ) //losuje liczby\n",
    "naturalne nie większe od pierwszego argumentu//\n",
    "diff(...) //zwraca wektor różnic między kolejnymi współrzędnymi wektora zadanego w\n",
    "argumencie//\n",
    "sort(...) //porządkuje (domyślnie rosnąco); sort(..., decreasing = TRUE) → pozwala ustawić\n",
    "porządek malejący//\n",
    "min(...) // komentarz chyba nie jest potrzebnyHey. I have the deluxe version yet still have to pay for this.. really shocking\n",
    "Uwaga: funkcje w R definiujemy klasycznie: nazwaFunkcji = function(...) { ... }\n",
    "Co ważne – ciało funkcji kończy się metodą kluczową return(...)\n"
   ]
  },
  {
   "cell_type": "code",
   "execution_count": 13,
   "metadata": {
    "vscode": {
     "languageId": "r"
    }
   },
   "outputs": [
    {
     "data": {
      "text/html": [
       "<style>\n",
       ".list-inline {list-style: none; margin:0; padding: 0}\n",
       ".list-inline>li {display: inline-block}\n",
       ".list-inline>li:not(:last-child)::after {content: \"\\00b7\"; padding: 0 .5ex}\n",
       "</style>\n",
       "<ol class=list-inline><li>99</li><li>47</li><li>40</li><li>69</li><li>16</li><li>56</li><li>80</li><li>14</li><li>85</li><li>43</li></ol>\n"
      ],
      "text/latex": [
       "\\begin{enumerate*}\n",
       "\\item 99\n",
       "\\item 47\n",
       "\\item 40\n",
       "\\item 69\n",
       "\\item 16\n",
       "\\item 56\n",
       "\\item 80\n",
       "\\item 14\n",
       "\\item 85\n",
       "\\item 43\n",
       "\\end{enumerate*}\n"
      ],
      "text/markdown": [
       "1. 99\n",
       "2. 47\n",
       "3. 40\n",
       "4. 69\n",
       "5. 16\n",
       "6. 56\n",
       "7. 80\n",
       "8. 14\n",
       "9. 85\n",
       "10. 43\n",
       "\n",
       "\n"
      ],
      "text/plain": [
       " [1] 99 47 40 69 16 56 80 14 85 43"
      ]
     },
     "metadata": {},
     "output_type": "display_data"
    }
   ],
   "source": [
    "resample <- function() {\n",
    "  a <- sample(100, 10)\n",
    "  while (min(diff(sort(a))) != 2) {\n",
    "      a <- sample(100, 10)\n",
    "  }\n",
    "  return(a)\n",
    "}\n",
    "resample()"
   ]
  },
  {
   "cell_type": "markdown",
   "metadata": {},
   "source": [
    "## Zad. 6\n",
    "Napisz funkcję weryfikującą, czy w zadanym zbiorze liczb (wektorze stanowiącym I\n",
    "argument funkcji) znajduje się poszukiwany element (II argument funkcji).\n",
    "Najpierw wykorzystaj podejście liniowe (z pętlą ‘for.. in..’). Za drugim razem zaproponuj\n",
    "algorytm, gwarantujący mniejszą złożoność obliczeniową przy założeniu, że wektor liczb jest\n",
    "uporządkowany (rosnąco).\n",
    "Wsk. Np. pętelka ‘while’ + podejście ‘dziel i zwyciężaj’.\n",
    "Porównaj pracochłonność w obu przypadkach."
   ]
  },
  {
   "cell_type": "code",
   "execution_count": 17,
   "metadata": {
    "vscode": {
     "languageId": "r"
    }
   },
   "outputs": [
    {
     "data": {
      "text/html": [
       "TRUE"
      ],
      "text/latex": [
       "TRUE"
      ],
      "text/markdown": [
       "TRUE"
      ],
      "text/plain": [
       "[1] TRUE"
      ]
     },
     "metadata": {},
     "output_type": "display_data"
    },
    {
     "data": {
      "text/html": [
       "FALSE"
      ],
      "text/latex": [
       "FALSE"
      ],
      "text/markdown": [
       "FALSE"
      ],
      "text/plain": [
       "[1] FALSE"
      ]
     },
     "metadata": {},
     "output_type": "display_data"
    },
    {
     "data": {
      "text/html": [
       "TRUE"
      ],
      "text/latex": [
       "TRUE"
      ],
      "text/markdown": [
       "TRUE"
      ],
      "text/plain": [
       "[1] TRUE"
      ]
     },
     "metadata": {},
     "output_type": "display_data"
    },
    {
     "data": {
      "text/html": [
       "FALSE"
      ],
      "text/latex": [
       "FALSE"
      ],
      "text/markdown": [
       "FALSE"
      ],
      "text/plain": [
       "[1] FALSE"
      ]
     },
     "metadata": {},
     "output_type": "display_data"
    }
   ],
   "source": [
    "ver1 <- function(a, b) {\n",
    "  for (i in a) {\n",
    "    if (i == b) return(TRUE)\n",
    "  }\n",
    "  return(FALSE)\n",
    "}\n",
    "ver1(1:10, 2)\n",
    "ver1(1:10, 20)\n",
    "\n",
    "ver2 <- function(a, b) {\n",
    "  l <- 1\n",
    "  r <- length(a)\n",
    "  while (l <= r) {\n",
    "    m <- l + (r - l) %/% 2\n",
    "    if (a[m] == b) return (TRUE)\n",
    "    else if (a[m] < b) l <- m + 1\n",
    "    else r <- m - 1\n",
    "  }\n",
    "  return (FALSE)\n",
    "}\n",
    "ver2(1:10, 2)\n",
    "ver2(1:10, 20)"
   ]
  }
 ],
 "metadata": {
  "kernelspec": {
   "display_name": "R",
   "language": "R",
   "name": "ir"
  },
  "language_info": {
   "codemirror_mode": "r",
   "file_extension": ".r",
   "mimetype": "text/x-r-source",
   "name": "R",
   "pygments_lexer": "r",
   "version": "4.2.0"
  },
  "orig_nbformat": 4
 },
 "nbformat": 4,
 "nbformat_minor": 2
}
